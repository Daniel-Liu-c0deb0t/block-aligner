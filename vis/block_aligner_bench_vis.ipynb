{
 "cells": [
  {
   "cell_type": "markdown",
   "metadata": {},
   "source": [
    "# Block Aligner Benchmark Analysis and Visualizations"
   ]
  },
  {
   "cell_type": "markdown",
   "metadata": {},
   "source": [
    "This notebook contains code for collecting, cleaning, and analyzing data produced by block aligner's experiments.\n",
    "\n",
    "To run this, you will need to install all the libraries imported below, along with [altair-saver](https://github.com/altair-viz/altair_saver) and [altair-data-server](https://github.com/altair-viz/altair_data_server), which has some extra dependencies for PDF saving.\n",
    "\n",
    "Run each cell one by one to reproduce the experiments. This may take a while. For accurate benchmarking, it is recommended to run the entire notebook in the command line with `nbconvert`."
   ]
  },
  {
   "cell_type": "code",
   "execution_count": 1,
   "metadata": {
    "execution": {
     "iopub.execute_input": "2022-07-06T07:27:23.726554Z",
     "iopub.status.busy": "2022-07-06T07:27:23.725934Z",
     "iopub.status.idle": "2022-07-06T07:27:25.142830Z",
     "shell.execute_reply": "2022-07-06T07:27:25.143281Z"
    }
   },
   "outputs": [
    {
     "data": {
      "text/plain": [
       "DataTransformerRegistry.enable('data_server')"
      ]
     },
     "execution_count": 1,
     "metadata": {},
     "output_type": "execute_result"
    }
   ],
   "source": [
    "import altair as alt\n",
    "from altair_saver import save\n",
    "from altair import datum\n",
    "import pandas as pd\n",
    "from io import StringIO\n",
    "\n",
    "alt.data_transformers.enable(\"data_server\")"
   ]
  },
  {
   "cell_type": "code",
   "execution_count": 2,
   "metadata": {
    "execution": {
     "iopub.execute_input": "2022-07-06T07:27:25.146324Z",
     "iopub.status.busy": "2022-07-06T07:27:25.145883Z",
     "iopub.status.idle": "2022-07-06T07:27:25.147982Z",
     "shell.execute_reply": "2022-07-06T07:27:25.147528Z"
    }
   },
   "outputs": [],
   "source": [
    "def csv_to_pandas(csv, d = \"\\\\s*,\\\\s*\", t = None):\n",
    "    s = StringIO(\"\\n\".join(csv))\n",
    "    data = pd.read_csv(s, sep = d, thousands = t, comment = \"#\", engine = \"python\")\n",
    "    return data"
   ]
  },
  {
   "cell_type": "markdown",
   "metadata": {},
   "source": [
    "## Prefix Scan Benchmark"
   ]
  },
  {
   "cell_type": "code",
   "execution_count": 3,
   "metadata": {
    "execution": {
     "iopub.execute_input": "2022-07-06T07:27:25.150915Z",
     "iopub.status.busy": "2022-07-06T07:27:25.150479Z",
     "iopub.status.idle": "2022-07-06T07:27:37.727273Z",
     "shell.execute_reply": "2022-07-06T07:27:37.727824Z"
    }
   },
   "outputs": [
    {
     "data": {
      "text/plain": [
       "['algorithm\\ttime', 'bench_naive_prefix_scan\\t33', 'bench_opt_prefix_scan\\t17']"
      ]
     },
     "execution_count": 1,
     "metadata": {},
     "output_type": "execute_result"
    }
   ],
   "source": [
    "output = !cd .. && cargo bench --features simd_avx2 --quiet -- prefix_scan | grep 'bench:' | awk '{print $2\"\\t\"$5}'\n",
    "output.insert(0, \"algorithm\\ttime\")\n",
    "output"
   ]
  },
  {
   "cell_type": "code",
   "execution_count": 4,
   "metadata": {
    "execution": {
     "iopub.execute_input": "2022-07-06T07:27:37.731264Z",
     "iopub.status.busy": "2022-07-06T07:27:37.730766Z",
     "iopub.status.idle": "2022-07-06T07:27:37.740551Z",
     "shell.execute_reply": "2022-07-06T07:27:37.741050Z"
    },
    "scrolled": false
   },
   "outputs": [
    {
     "data": {
      "text/html": [
       "<div>\n",
       "<style scoped>\n",
       "    .dataframe tbody tr th:only-of-type {\n",
       "        vertical-align: middle;\n",
       "    }\n",
       "\n",
       "    .dataframe tbody tr th {\n",
       "        vertical-align: top;\n",
       "    }\n",
       "\n",
       "    .dataframe thead th {\n",
       "        text-align: right;\n",
       "    }\n",
       "</style>\n",
       "<table border=\"1\" class=\"dataframe\">\n",
       "  <thead>\n",
       "    <tr style=\"text-align: right;\">\n",
       "      <th></th>\n",
       "      <th>algorithm</th>\n",
       "      <th>time</th>\n",
       "    </tr>\n",
       "  </thead>\n",
       "  <tbody>\n",
       "    <tr>\n",
       "      <th>0</th>\n",
       "      <td>bench_naive_prefix_scan</td>\n",
       "      <td>33</td>\n",
       "    </tr>\n",
       "    <tr>\n",
       "      <th>1</th>\n",
       "      <td>bench_opt_prefix_scan</td>\n",
       "      <td>17</td>\n",
       "    </tr>\n",
       "  </tbody>\n",
       "</table>\n",
       "</div>"
      ],
      "text/plain": [
       "                 algorithm  time\n",
       "0  bench_naive_prefix_scan    33\n",
       "1    bench_opt_prefix_scan    17"
      ]
     },
     "execution_count": 1,
     "metadata": {},
     "output_type": "execute_result"
    }
   ],
   "source": [
    "data = csv_to_pandas(output, d = \"\\t\", t = \",\")\n",
    "data"
   ]
  },
  {
   "cell_type": "code",
   "execution_count": 5,
   "metadata": {
    "execution": {
     "iopub.execute_input": "2022-07-06T07:27:37.746619Z",
     "iopub.status.busy": "2022-07-06T07:27:37.746015Z",
     "iopub.status.idle": "2022-07-06T07:27:37.748222Z",
     "shell.execute_reply": "2022-07-06T07:27:37.748663Z"
    }
   },
   "outputs": [
    {
     "data": {
      "text/html": [
       "<div>\n",
       "<style scoped>\n",
       "    .dataframe tbody tr th:only-of-type {\n",
       "        vertical-align: middle;\n",
       "    }\n",
       "\n",
       "    .dataframe tbody tr th {\n",
       "        vertical-align: top;\n",
       "    }\n",
       "\n",
       "    .dataframe thead th {\n",
       "        text-align: right;\n",
       "    }\n",
       "</style>\n",
       "<table border=\"1\" class=\"dataframe\">\n",
       "  <thead>\n",
       "    <tr style=\"text-align: right;\">\n",
       "      <th></th>\n",
       "      <th>algorithm</th>\n",
       "      <th>time</th>\n",
       "    </tr>\n",
       "  </thead>\n",
       "  <tbody>\n",
       "    <tr>\n",
       "      <th>0</th>\n",
       "      <td>naive</td>\n",
       "      <td>33</td>\n",
       "    </tr>\n",
       "    <tr>\n",
       "      <th>1</th>\n",
       "      <td>ours</td>\n",
       "      <td>17</td>\n",
       "    </tr>\n",
       "  </tbody>\n",
       "</table>\n",
       "</div>"
      ],
      "text/plain": [
       "  algorithm  time\n",
       "0     naive    33\n",
       "1      ours    17"
      ]
     },
     "execution_count": 1,
     "metadata": {},
     "output_type": "execute_result"
    }
   ],
   "source": [
    "data[\"algorithm\"] = data[\"algorithm\"].map({\n",
    "    \"bench_naive_prefix_scan\": \"naive\",\n",
    "    \"bench_opt_prefix_scan\": \"ours\"\n",
    "})\n",
    "data"
   ]
  },
  {
   "cell_type": "markdown",
   "metadata": {},
   "source": [
    "Prefix Scan Benchmark (AVX2)"
   ]
  },
  {
   "cell_type": "code",
   "execution_count": 6,
   "metadata": {
    "execution": {
     "iopub.execute_input": "2022-07-06T07:27:37.756759Z",
     "iopub.status.busy": "2022-07-06T07:27:37.755978Z",
     "iopub.status.idle": "2022-07-06T07:27:39.761315Z",
     "shell.execute_reply": "2022-07-06T07:27:39.761786Z"
    }
   },
   "outputs": [
    {
     "data": {
      "text/html": [
       "\n",
       "<div id=\"altair-viz-7056e2cb12fd44d689c7ee51bc57bd42\"></div>\n",
       "<script type=\"text/javascript\">\n",
       "  (function(spec, embedOpt){\n",
       "    let outputDiv = document.currentScript.previousElementSibling;\n",
       "    if (outputDiv.id !== \"altair-viz-7056e2cb12fd44d689c7ee51bc57bd42\") {\n",
       "      outputDiv = document.getElementById(\"altair-viz-7056e2cb12fd44d689c7ee51bc57bd42\");\n",
       "    }\n",
       "    const paths = {\n",
       "      \"vega\": \"https://cdn.jsdelivr.net/npm//vega@5?noext\",\n",
       "      \"vega-lib\": \"https://cdn.jsdelivr.net/npm//vega-lib?noext\",\n",
       "      \"vega-lite\": \"https://cdn.jsdelivr.net/npm//vega-lite@4.8.1?noext\",\n",
       "      \"vega-embed\": \"https://cdn.jsdelivr.net/npm//vega-embed@6?noext\",\n",
       "    };\n",
       "\n",
       "    function loadScript(lib) {\n",
       "      return new Promise(function(resolve, reject) {\n",
       "        var s = document.createElement('script');\n",
       "        s.src = paths[lib];\n",
       "        s.async = true;\n",
       "        s.onload = () => resolve(paths[lib]);\n",
       "        s.onerror = () => reject(`Error loading script: ${paths[lib]}`);\n",
       "        document.getElementsByTagName(\"head\")[0].appendChild(s);\n",
       "      });\n",
       "    }\n",
       "\n",
       "    function showError(err) {\n",
       "      outputDiv.innerHTML = `<div class=\"error\" style=\"color:red;\">${err}</div>`;\n",
       "      throw err;\n",
       "    }\n",
       "\n",
       "    function displayChart(vegaEmbed) {\n",
       "      vegaEmbed(outputDiv, spec, embedOpt)\n",
       "        .catch(err => showError(`Javascript Error: ${err.message}<br>This usually means there's a typo in your chart specification. See the javascript console for the full traceback.`));\n",
       "    }\n",
       "\n",
       "    if(typeof define === \"function\" && define.amd) {\n",
       "      requirejs.config({paths});\n",
       "      require([\"vega-embed\"], displayChart, err => showError(`Error loading script: ${err.message}`));\n",
       "    } else if (typeof vegaEmbed === \"function\") {\n",
       "      displayChart(vegaEmbed);\n",
       "    } else {\n",
       "      loadScript(\"vega\")\n",
       "        .then(() => loadScript(\"vega-lite\"))\n",
       "        .then(() => loadScript(\"vega-embed\"))\n",
       "        .catch(showError)\n",
       "        .then(() => displayChart(vegaEmbed));\n",
       "    }\n",
       "  })({\"config\": {\"view\": {\"continuousWidth\": 400, \"continuousHeight\": 300}}, \"data\": {\"url\": \"http://localhost:21324/7a744754036306cf5ffee95ba16f7f3e.json\"}, \"mark\": \"bar\", \"encoding\": {\"color\": {\"type\": \"nominal\", \"field\": \"algorithm\", \"legend\": null}, \"x\": {\"type\": \"quantitative\", \"axis\": {\"title\": \"time (ns)\"}, \"field\": \"time\"}, \"y\": {\"type\": \"nominal\", \"field\": \"algorithm\"}}, \"width\": 150, \"$schema\": \"https://vega.github.io/schema/vega-lite/v4.8.1.json\"}, {\"mode\": \"vega-lite\"});\n",
       "</script>"
      ],
      "text/plain": [
       "alt.Chart(...)"
      ]
     },
     "execution_count": 1,
     "metadata": {},
     "output_type": "execute_result"
    }
   ],
   "source": [
    "c = alt.Chart(data).mark_bar().encode(\n",
    "    x = alt.X(\"time\", axis = alt.Axis(title = \"time (ns)\")),\n",
    "    y = \"algorithm\",\n",
    "    color = alt.Color(\"algorithm\", legend = None)\n",
    ").properties(\n",
    "    width = 150\n",
    ")\n",
    "save(c, \"prefix_scan_bench.pdf\")\n",
    "c"
   ]
  },
  {
   "cell_type": "markdown",
   "metadata": {},
   "source": [
    "## Random Data Benchmark"
   ]
  },
  {
   "cell_type": "code",
   "execution_count": 7,
   "metadata": {
    "execution": {
     "iopub.execute_input": "2022-07-06T07:27:39.765315Z",
     "iopub.status.busy": "2022-07-06T07:27:39.764820Z",
     "iopub.status.idle": "2022-07-06T07:28:14.297327Z",
     "shell.execute_reply": "2022-07-06T07:28:14.297790Z"
    }
   },
   "outputs": [
    {
     "data": {
      "text/plain": [
       "['bench_parasailors_aa_1000_10000\\t44,982,764',\n",
       " 'bench_parasailors_aa_100_1000\\t476,651',\n",
       " 'bench_parasailors_aa_10_100\\t17,258',\n",
       " 'bench_rustbio_aa_100_1000\\t15,359,585',\n",
       " 'bench_rustbio_aa_10_100\\t160,203',\n",
       " 'bench_scan_aa_1000_10000\\t234,717',\n",
       " 'bench_scan_aa_1000_10000_insert\\t8,685,719',\n",
       " 'bench_scan_aa_1000_10000_small\\t220,743',\n",
       " 'bench_scan_aa_1000_10000_trace\\t1,850,610',\n",
       " 'bench_scan_aa_100_1000\\t24,079',\n",
       " 'bench_scan_aa_100_1000_insert\\t52,457',\n",
       " 'bench_scan_aa_100_1000_small\\t22,769',\n",
       " 'bench_scan_aa_100_1000_trace\\t507,608',\n",
       " 'bench_scan_aa_10_100\\t3,823',\n",
       " 'bench_scan_aa_10_100_insert\\t3,919',\n",
       " 'bench_scan_aa_10_100_small\\t3,428',\n",
       " 'bench_scan_aa_10_100_trace\\t361,683',\n",
       " 'bench_scan_nuc_1000_10000\\t213,811',\n",
       " 'bench_scan_nuc_100_1000\\t23,643',\n",
       " 'bench_triple_accel_1000_10000\\t7,512,349',\n",
       " 'bench_triple_accel_100_1000\\t24,088']"
      ]
     },
     "execution_count": 1,
     "metadata": {},
     "output_type": "execute_result"
    }
   ],
   "source": [
    "output = !cd .. && cargo bench --features simd_avx2 --quiet -- bench_ | grep 'bench:' | grep -v 'prefix_scan' | awk '{print $2\"\\t\"$5}'\n",
    "output"
   ]
  },
  {
   "cell_type": "code",
   "execution_count": 8,
   "metadata": {
    "execution": {
     "iopub.execute_input": "2022-07-06T07:28:14.303326Z",
     "iopub.status.busy": "2022-07-06T07:28:14.302545Z",
     "iopub.status.idle": "2022-07-06T07:28:14.305389Z",
     "shell.execute_reply": "2022-07-06T07:28:14.305799Z"
    }
   },
   "outputs": [
    {
     "data": {
      "text/plain": [
       "['algorithm\\talphabet\\tk\\tlength\\tproperty\\ttime',\n",
       " 'parasailors\\tprotein\\t1000\\t10000\\tdefault\\t44,982,764',\n",
       " 'parasailors\\tprotein\\t100\\t1000\\tdefault\\t476,651',\n",
       " 'parasailors\\tprotein\\t10\\t100\\tdefault\\t17,258',\n",
       " 'rust bio\\tprotein\\t100\\t1000\\tdefault\\t15,359,585',\n",
       " 'rust bio\\tprotein\\t10\\t100\\tdefault\\t160,203',\n",
       " 'ours\\tprotein\\t1000\\t10000\\tdefault\\t234,717',\n",
       " 'ours\\tprotein\\t1000\\t10000\\tinsert\\t8,685,719',\n",
       " 'ours\\tprotein\\t1000\\t10000\\tsmall\\t220,743',\n",
       " 'ours\\tprotein\\t1000\\t10000\\ttrace\\t1,850,610',\n",
       " 'ours\\tprotein\\t100\\t1000\\tdefault\\t24,079',\n",
       " 'ours\\tprotein\\t100\\t1000\\tinsert\\t52,457',\n",
       " 'ours\\tprotein\\t100\\t1000\\tsmall\\t22,769',\n",
       " 'ours\\tprotein\\t100\\t1000\\ttrace\\t507,608',\n",
       " 'ours\\tprotein\\t10\\t100\\tdefault\\t3,823',\n",
       " 'ours\\tprotein\\t10\\t100\\tinsert\\t3,919',\n",
       " 'ours\\tprotein\\t10\\t100\\tsmall\\t3,428',\n",
       " 'ours\\tprotein\\t10\\t100\\ttrace\\t361,683',\n",
       " 'ours\\tnucleotide\\t1000\\t10000\\tdefault\\t213,811',\n",
       " 'ours\\tnucleotide\\t100\\t1000\\tdefault\\t23,643',\n",
       " 'triple accel\\tnucleotide\\t1000\\t10000\\tdefault\\t7,512,349',\n",
       " 'triple accel\\tnucleotide\\t100\\t1000\\tdefault\\t24,088']"
      ]
     },
     "execution_count": 1,
     "metadata": {},
     "output_type": "execute_result"
    }
   ],
   "source": [
    "cleaned = [\"algorithm\\talphabet\\tk\\tlength\\tproperty\\ttime\"]\n",
    "names = [\"parasailors_aa\", \"rustbio_aa\", \"scan_aa\", \"scan_nuc\", \"triple_accel\"]\n",
    "new_names = [\"parasailors\\tprotein\", \"rust bio\\tprotein\", \"ours\\tprotein\", \"ours\\tnucleotide\", \"triple accel\\tnucleotide\"]\n",
    "\n",
    "for o in output:\n",
    "    o = o[len(\"bench_\"):]\n",
    "    for n, nn in zip(names, new_names):\n",
    "        if o.startswith(n):\n",
    "            suffix = o[len(n):].replace(\"_\", \"\\t\")\n",
    "            o = nn + suffix\n",
    "            break\n",
    "    if len(o.split(\"\\t\")) < len(cleaned[0].split(\"\\t\")):\n",
    "        insert_idx = o.rindex(\"\\t\")\n",
    "        o = o[:insert_idx] + \"\\tdefault\" + o[insert_idx:]\n",
    "    cleaned.append(o)\n",
    "\n",
    "cleaned"
   ]
  },
  {
   "cell_type": "code",
   "execution_count": 9,
   "metadata": {
    "execution": {
     "iopub.execute_input": "2022-07-06T07:28:14.308721Z",
     "iopub.status.busy": "2022-07-06T07:28:14.308323Z",
     "iopub.status.idle": "2022-07-06T07:28:14.318450Z",
     "shell.execute_reply": "2022-07-06T07:28:14.318853Z"
    }
   },
   "outputs": [
    {
     "data": {
      "text/html": [
       "<div>\n",
       "<style scoped>\n",
       "    .dataframe tbody tr th:only-of-type {\n",
       "        vertical-align: middle;\n",
       "    }\n",
       "\n",
       "    .dataframe tbody tr th {\n",
       "        vertical-align: top;\n",
       "    }\n",
       "\n",
       "    .dataframe thead th {\n",
       "        text-align: right;\n",
       "    }\n",
       "</style>\n",
       "<table border=\"1\" class=\"dataframe\">\n",
       "  <thead>\n",
       "    <tr style=\"text-align: right;\">\n",
       "      <th></th>\n",
       "      <th>algorithm</th>\n",
       "      <th>alphabet</th>\n",
       "      <th>k</th>\n",
       "      <th>length</th>\n",
       "      <th>property</th>\n",
       "      <th>time</th>\n",
       "    </tr>\n",
       "  </thead>\n",
       "  <tbody>\n",
       "    <tr>\n",
       "      <th>0</th>\n",
       "      <td>parasailors</td>\n",
       "      <td>protein</td>\n",
       "      <td>1000</td>\n",
       "      <td>10000</td>\n",
       "      <td>default</td>\n",
       "      <td>44982764</td>\n",
       "    </tr>\n",
       "    <tr>\n",
       "      <th>1</th>\n",
       "      <td>parasailors</td>\n",
       "      <td>protein</td>\n",
       "      <td>100</td>\n",
       "      <td>1000</td>\n",
       "      <td>default</td>\n",
       "      <td>476651</td>\n",
       "    </tr>\n",
       "    <tr>\n",
       "      <th>2</th>\n",
       "      <td>parasailors</td>\n",
       "      <td>protein</td>\n",
       "      <td>10</td>\n",
       "      <td>100</td>\n",
       "      <td>default</td>\n",
       "      <td>17258</td>\n",
       "    </tr>\n",
       "    <tr>\n",
       "      <th>3</th>\n",
       "      <td>rust bio</td>\n",
       "      <td>protein</td>\n",
       "      <td>100</td>\n",
       "      <td>1000</td>\n",
       "      <td>default</td>\n",
       "      <td>15359585</td>\n",
       "    </tr>\n",
       "    <tr>\n",
       "      <th>4</th>\n",
       "      <td>rust bio</td>\n",
       "      <td>protein</td>\n",
       "      <td>10</td>\n",
       "      <td>100</td>\n",
       "      <td>default</td>\n",
       "      <td>160203</td>\n",
       "    </tr>\n",
       "    <tr>\n",
       "      <th>5</th>\n",
       "      <td>ours</td>\n",
       "      <td>protein</td>\n",
       "      <td>1000</td>\n",
       "      <td>10000</td>\n",
       "      <td>default</td>\n",
       "      <td>234717</td>\n",
       "    </tr>\n",
       "    <tr>\n",
       "      <th>6</th>\n",
       "      <td>ours</td>\n",
       "      <td>protein</td>\n",
       "      <td>1000</td>\n",
       "      <td>10000</td>\n",
       "      <td>insert</td>\n",
       "      <td>8685719</td>\n",
       "    </tr>\n",
       "    <tr>\n",
       "      <th>7</th>\n",
       "      <td>ours</td>\n",
       "      <td>protein</td>\n",
       "      <td>1000</td>\n",
       "      <td>10000</td>\n",
       "      <td>small</td>\n",
       "      <td>220743</td>\n",
       "    </tr>\n",
       "    <tr>\n",
       "      <th>8</th>\n",
       "      <td>ours</td>\n",
       "      <td>protein</td>\n",
       "      <td>1000</td>\n",
       "      <td>10000</td>\n",
       "      <td>trace</td>\n",
       "      <td>1850610</td>\n",
       "    </tr>\n",
       "    <tr>\n",
       "      <th>9</th>\n",
       "      <td>ours</td>\n",
       "      <td>protein</td>\n",
       "      <td>100</td>\n",
       "      <td>1000</td>\n",
       "      <td>default</td>\n",
       "      <td>24079</td>\n",
       "    </tr>\n",
       "    <tr>\n",
       "      <th>10</th>\n",
       "      <td>ours</td>\n",
       "      <td>protein</td>\n",
       "      <td>100</td>\n",
       "      <td>1000</td>\n",
       "      <td>insert</td>\n",
       "      <td>52457</td>\n",
       "    </tr>\n",
       "    <tr>\n",
       "      <th>11</th>\n",
       "      <td>ours</td>\n",
       "      <td>protein</td>\n",
       "      <td>100</td>\n",
       "      <td>1000</td>\n",
       "      <td>small</td>\n",
       "      <td>22769</td>\n",
       "    </tr>\n",
       "    <tr>\n",
       "      <th>12</th>\n",
       "      <td>ours</td>\n",
       "      <td>protein</td>\n",
       "      <td>100</td>\n",
       "      <td>1000</td>\n",
       "      <td>trace</td>\n",
       "      <td>507608</td>\n",
       "    </tr>\n",
       "    <tr>\n",
       "      <th>13</th>\n",
       "      <td>ours</td>\n",
       "      <td>protein</td>\n",
       "      <td>10</td>\n",
       "      <td>100</td>\n",
       "      <td>default</td>\n",
       "      <td>3823</td>\n",
       "    </tr>\n",
       "    <tr>\n",
       "      <th>14</th>\n",
       "      <td>ours</td>\n",
       "      <td>protein</td>\n",
       "      <td>10</td>\n",
       "      <td>100</td>\n",
       "      <td>insert</td>\n",
       "      <td>3919</td>\n",
       "    </tr>\n",
       "    <tr>\n",
       "      <th>15</th>\n",
       "      <td>ours</td>\n",
       "      <td>protein</td>\n",
       "      <td>10</td>\n",
       "      <td>100</td>\n",
       "      <td>small</td>\n",
       "      <td>3428</td>\n",
       "    </tr>\n",
       "    <tr>\n",
       "      <th>16</th>\n",
       "      <td>ours</td>\n",
       "      <td>protein</td>\n",
       "      <td>10</td>\n",
       "      <td>100</td>\n",
       "      <td>trace</td>\n",
       "      <td>361683</td>\n",
       "    </tr>\n",
       "    <tr>\n",
       "      <th>17</th>\n",
       "      <td>ours</td>\n",
       "      <td>nucleotide</td>\n",
       "      <td>1000</td>\n",
       "      <td>10000</td>\n",
       "      <td>default</td>\n",
       "      <td>213811</td>\n",
       "    </tr>\n",
       "    <tr>\n",
       "      <th>18</th>\n",
       "      <td>ours</td>\n",
       "      <td>nucleotide</td>\n",
       "      <td>100</td>\n",
       "      <td>1000</td>\n",
       "      <td>default</td>\n",
       "      <td>23643</td>\n",
       "    </tr>\n",
       "    <tr>\n",
       "      <th>19</th>\n",
       "      <td>triple accel</td>\n",
       "      <td>nucleotide</td>\n",
       "      <td>1000</td>\n",
       "      <td>10000</td>\n",
       "      <td>default</td>\n",
       "      <td>7512349</td>\n",
       "    </tr>\n",
       "    <tr>\n",
       "      <th>20</th>\n",
       "      <td>triple accel</td>\n",
       "      <td>nucleotide</td>\n",
       "      <td>100</td>\n",
       "      <td>1000</td>\n",
       "      <td>default</td>\n",
       "      <td>24088</td>\n",
       "    </tr>\n",
       "  </tbody>\n",
       "</table>\n",
       "</div>"
      ],
      "text/plain": [
       "       algorithm    alphabet     k  length property      time\n",
       "0    parasailors     protein  1000   10000  default  44982764\n",
       "1    parasailors     protein   100    1000  default    476651\n",
       "2    parasailors     protein    10     100  default     17258\n",
       "3       rust bio     protein   100    1000  default  15359585\n",
       "4       rust bio     protein    10     100  default    160203\n",
       "5           ours     protein  1000   10000  default    234717\n",
       "6           ours     protein  1000   10000   insert   8685719\n",
       "7           ours     protein  1000   10000    small    220743\n",
       "8           ours     protein  1000   10000    trace   1850610\n",
       "9           ours     protein   100    1000  default     24079\n",
       "10          ours     protein   100    1000   insert     52457\n",
       "11          ours     protein   100    1000    small     22769\n",
       "12          ours     protein   100    1000    trace    507608\n",
       "13          ours     protein    10     100  default      3823\n",
       "14          ours     protein    10     100   insert      3919\n",
       "15          ours     protein    10     100    small      3428\n",
       "16          ours     protein    10     100    trace    361683\n",
       "17          ours  nucleotide  1000   10000  default    213811\n",
       "18          ours  nucleotide   100    1000  default     23643\n",
       "19  triple accel  nucleotide  1000   10000  default   7512349\n",
       "20  triple accel  nucleotide   100    1000  default     24088"
      ]
     },
     "execution_count": 1,
     "metadata": {},
     "output_type": "execute_result"
    }
   ],
   "source": [
    "data = csv_to_pandas(cleaned, d = \"\\t\", t = \",\")\n",
    "data"
   ]
  },
  {
   "cell_type": "code",
   "execution_count": 10,
   "metadata": {
    "execution": {
     "iopub.execute_input": "2022-07-06T07:28:14.323070Z",
     "iopub.status.busy": "2022-07-06T07:28:14.322640Z",
     "iopub.status.idle": "2022-07-06T07:28:14.324169Z",
     "shell.execute_reply": "2022-07-06T07:28:14.325183Z"
    }
   },
   "outputs": [],
   "source": [
    "data[\"algorithm property\"] = data[\"algorithm\"] + \" \" + data[\"property\"]\n",
    "data[\"time\"] /= 1000"
   ]
  },
  {
   "cell_type": "markdown",
   "metadata": {},
   "source": [
    "Random Protein Sequences Benchmark (AVX2)"
   ]
  },
  {
   "cell_type": "code",
   "execution_count": 11,
   "metadata": {
    "execution": {
     "iopub.execute_input": "2022-07-06T07:28:14.349218Z",
     "iopub.status.busy": "2022-07-06T07:28:14.348757Z",
     "iopub.status.idle": "2022-07-06T07:28:15.097550Z",
     "shell.execute_reply": "2022-07-06T07:28:15.098098Z"
    }
   },
   "outputs": [
    {
     "data": {
      "text/html": [
       "\n",
       "<div id=\"altair-viz-9280087c472f477d9c548163078cefbf\"></div>\n",
       "<script type=\"text/javascript\">\n",
       "  (function(spec, embedOpt){\n",
       "    let outputDiv = document.currentScript.previousElementSibling;\n",
       "    if (outputDiv.id !== \"altair-viz-9280087c472f477d9c548163078cefbf\") {\n",
       "      outputDiv = document.getElementById(\"altair-viz-9280087c472f477d9c548163078cefbf\");\n",
       "    }\n",
       "    const paths = {\n",
       "      \"vega\": \"https://cdn.jsdelivr.net/npm//vega@5?noext\",\n",
       "      \"vega-lib\": \"https://cdn.jsdelivr.net/npm//vega-lib?noext\",\n",
       "      \"vega-lite\": \"https://cdn.jsdelivr.net/npm//vega-lite@4.8.1?noext\",\n",
       "      \"vega-embed\": \"https://cdn.jsdelivr.net/npm//vega-embed@6?noext\",\n",
       "    };\n",
       "\n",
       "    function loadScript(lib) {\n",
       "      return new Promise(function(resolve, reject) {\n",
       "        var s = document.createElement('script');\n",
       "        s.src = paths[lib];\n",
       "        s.async = true;\n",
       "        s.onload = () => resolve(paths[lib]);\n",
       "        s.onerror = () => reject(`Error loading script: ${paths[lib]}`);\n",
       "        document.getElementsByTagName(\"head\")[0].appendChild(s);\n",
       "      });\n",
       "    }\n",
       "\n",
       "    function showError(err) {\n",
       "      outputDiv.innerHTML = `<div class=\"error\" style=\"color:red;\">${err}</div>`;\n",
       "      throw err;\n",
       "    }\n",
       "\n",
       "    function displayChart(vegaEmbed) {\n",
       "      vegaEmbed(outputDiv, spec, embedOpt)\n",
       "        .catch(err => showError(`Javascript Error: ${err.message}<br>This usually means there's a typo in your chart specification. See the javascript console for the full traceback.`));\n",
       "    }\n",
       "\n",
       "    if(typeof define === \"function\" && define.amd) {\n",
       "      requirejs.config({paths});\n",
       "      require([\"vega-embed\"], displayChart, err => showError(`Error loading script: ${err.message}`));\n",
       "    } else if (typeof vegaEmbed === \"function\") {\n",
       "      displayChart(vegaEmbed);\n",
       "    } else {\n",
       "      loadScript(\"vega\")\n",
       "        .then(() => loadScript(\"vega-lite\"))\n",
       "        .then(() => loadScript(\"vega-embed\"))\n",
       "        .catch(showError)\n",
       "        .then(() => displayChart(vegaEmbed));\n",
       "    }\n",
       "  })({\"config\": {\"view\": {\"continuousWidth\": 400, \"continuousHeight\": 300}}, \"data\": {\"url\": \"http://localhost:21324/0ff9f13f515e0ac69e4b419436f3bea0.json\"}, \"mark\": {\"type\": \"point\", \"filled\": true, \"opacity\": 1}, \"encoding\": {\"color\": {\"type\": \"nominal\", \"field\": \"length\"}, \"shape\": {\"type\": \"nominal\", \"field\": \"length\"}, \"x\": {\"type\": \"quantitative\", \"axis\": {\"title\": \"time (us)\"}, \"field\": \"time\", \"scale\": {\"domain\": [1, 50000], \"type\": \"log\"}}, \"y\": {\"type\": \"nominal\", \"axis\": {\"grid\": true, \"title\": \"algorithm\"}, \"field\": \"algorithm property\", \"sort\": {\"field\": \"time\"}}}, \"height\": 150, \"transform\": [{\"filter\": \"(datum.alphabet === 'protein')\"}], \"width\": 200, \"$schema\": \"https://vega.github.io/schema/vega-lite/v4.8.1.json\"}, {\"mode\": \"vega-lite\"});\n",
       "</script>"
      ],
      "text/plain": [
       "alt.Chart(...)"
      ]
     },
     "execution_count": 1,
     "metadata": {},
     "output_type": "execute_result"
    }
   ],
   "source": [
    "c = alt.Chart(data).mark_point(opacity = 1, filled = True).encode(\n",
    "    x = alt.X(\"time\", axis = alt.Axis(title = \"time (us)\"), scale = alt.Scale(type = \"log\", domain = [1, 50000])),\n",
    "    y = alt.Y(\"algorithm property\", axis = alt.Axis(title = \"algorithm\", grid = True), sort = alt.EncodingSortField(field = \"time\")),\n",
    "    color = \"length:N\",\n",
    "    shape = \"length:N\"\n",
    ").transform_filter(\n",
    "    datum.alphabet == \"protein\"\n",
    ").properties(\n",
    "    width = 200,\n",
    "    height = 150\n",
    ")\n",
    "save(c, \"random_protein_bench.pdf\")\n",
    "c"
   ]
  },
  {
   "cell_type": "markdown",
   "metadata": {},
   "source": [
    "Random DNA Sequences Benchmark (AVX2)"
   ]
  },
  {
   "cell_type": "code",
   "execution_count": 12,
   "metadata": {
    "execution": {
     "iopub.execute_input": "2022-07-06T07:28:15.113465Z",
     "iopub.status.busy": "2022-07-06T07:28:15.113053Z",
     "iopub.status.idle": "2022-07-06T07:28:15.857831Z",
     "shell.execute_reply": "2022-07-06T07:28:15.858299Z"
    }
   },
   "outputs": [
    {
     "data": {
      "text/html": [
       "\n",
       "<div id=\"altair-viz-b0288e5120574086b48868df3589f6bf\"></div>\n",
       "<script type=\"text/javascript\">\n",
       "  (function(spec, embedOpt){\n",
       "    let outputDiv = document.currentScript.previousElementSibling;\n",
       "    if (outputDiv.id !== \"altair-viz-b0288e5120574086b48868df3589f6bf\") {\n",
       "      outputDiv = document.getElementById(\"altair-viz-b0288e5120574086b48868df3589f6bf\");\n",
       "    }\n",
       "    const paths = {\n",
       "      \"vega\": \"https://cdn.jsdelivr.net/npm//vega@5?noext\",\n",
       "      \"vega-lib\": \"https://cdn.jsdelivr.net/npm//vega-lib?noext\",\n",
       "      \"vega-lite\": \"https://cdn.jsdelivr.net/npm//vega-lite@4.8.1?noext\",\n",
       "      \"vega-embed\": \"https://cdn.jsdelivr.net/npm//vega-embed@6?noext\",\n",
       "    };\n",
       "\n",
       "    function loadScript(lib) {\n",
       "      return new Promise(function(resolve, reject) {\n",
       "        var s = document.createElement('script');\n",
       "        s.src = paths[lib];\n",
       "        s.async = true;\n",
       "        s.onload = () => resolve(paths[lib]);\n",
       "        s.onerror = () => reject(`Error loading script: ${paths[lib]}`);\n",
       "        document.getElementsByTagName(\"head\")[0].appendChild(s);\n",
       "      });\n",
       "    }\n",
       "\n",
       "    function showError(err) {\n",
       "      outputDiv.innerHTML = `<div class=\"error\" style=\"color:red;\">${err}</div>`;\n",
       "      throw err;\n",
       "    }\n",
       "\n",
       "    function displayChart(vegaEmbed) {\n",
       "      vegaEmbed(outputDiv, spec, embedOpt)\n",
       "        .catch(err => showError(`Javascript Error: ${err.message}<br>This usually means there's a typo in your chart specification. See the javascript console for the full traceback.`));\n",
       "    }\n",
       "\n",
       "    if(typeof define === \"function\" && define.amd) {\n",
       "      requirejs.config({paths});\n",
       "      require([\"vega-embed\"], displayChart, err => showError(`Error loading script: ${err.message}`));\n",
       "    } else if (typeof vegaEmbed === \"function\") {\n",
       "      displayChart(vegaEmbed);\n",
       "    } else {\n",
       "      loadScript(\"vega\")\n",
       "        .then(() => loadScript(\"vega-lite\"))\n",
       "        .then(() => loadScript(\"vega-embed\"))\n",
       "        .catch(showError)\n",
       "        .then(() => displayChart(vegaEmbed));\n",
       "    }\n",
       "  })({\"config\": {\"view\": {\"continuousWidth\": 400, \"continuousHeight\": 300}}, \"data\": {\"url\": \"http://localhost:21324/0ff9f13f515e0ac69e4b419436f3bea0.json\"}, \"mark\": {\"type\": \"point\", \"filled\": true, \"opacity\": 1}, \"encoding\": {\"color\": {\"type\": \"nominal\", \"field\": \"length\", \"scale\": {\"domain\": [100, 1000, 10000]}}, \"shape\": {\"type\": \"nominal\", \"field\": \"length\", \"scale\": {\"domain\": [100, 1000, 10000]}}, \"x\": {\"type\": \"quantitative\", \"axis\": {\"title\": \"time (us)\"}, \"field\": \"time\", \"scale\": {\"domain\": [1, 50000], \"type\": \"log\"}}, \"y\": {\"type\": \"nominal\", \"axis\": {\"grid\": true, \"title\": \"algorithm\"}, \"field\": \"algorithm property\", \"sort\": {\"field\": \"time\"}}}, \"height\": 50, \"transform\": [{\"filter\": \"(datum.alphabet === 'nucleotide')\"}], \"width\": 200, \"$schema\": \"https://vega.github.io/schema/vega-lite/v4.8.1.json\"}, {\"mode\": \"vega-lite\"});\n",
       "</script>"
      ],
      "text/plain": [
       "alt.Chart(...)"
      ]
     },
     "execution_count": 1,
     "metadata": {},
     "output_type": "execute_result"
    }
   ],
   "source": [
    "c = alt.Chart(data).mark_point(opacity = 1, filled = True).encode(\n",
    "    x = alt.X(\"time\", axis = alt.Axis(title = \"time (us)\"), scale = alt.Scale(type = \"log\", domain = [1, 50000])),\n",
    "    y = alt.Y(\"algorithm property\", axis = alt.Axis(title = \"algorithm\", grid = True), sort = alt.EncodingSortField(field = \"time\")),\n",
    "    color = alt.Color(\"length:N\", scale = alt.Scale(domain = [100, 1000, 10000])),\n",
    "    shape = alt.Color(\"length:N\", scale = alt.Scale(domain = [100, 1000, 10000]))\n",
    ").transform_filter(\n",
    "    datum.alphabet == \"nucleotide\"\n",
    ").properties(\n",
    "    width = 200,\n",
    "    height = 50\n",
    ")\n",
    "save(c, \"random_dna_bench.pdf\")\n",
    "c"
   ]
  },
  {
   "cell_type": "markdown",
   "metadata": {},
   "source": [
    "## Uniclust 30 Data Benchmark"
   ]
  },
  {
   "cell_type": "code",
   "execution_count": 13,
   "metadata": {
    "execution": {
     "iopub.execute_input": "2022-07-06T07:28:15.861627Z",
     "iopub.status.busy": "2022-07-06T07:28:15.861189Z",
     "iopub.status.idle": "2022-07-06T07:28:26.161560Z",
     "shell.execute_reply": "2022-07-06T07:28:26.162060Z"
    }
   },
   "outputs": [
    {
     "data": {
      "text/plain": [
       "['# time (s)',\n",
       " 'algorithm, dataset, size, time',\n",
       " 'ours (no trace), uc30, 32-32, 0.055945224',\n",
       " 'ours (no trace), uc30 0.95, 32-32, 0.06045113',\n",
       " 'ours (no trace), uc30, 32-256, 0.088573443',\n",
       " 'ours (no trace), uc30 0.95, 32-256, 0.077502856',\n",
       " 'ours (no trace), uc30, 256-256, 0.201014255',\n",
       " 'ours (no trace), uc30 0.95, 256-256, 0.220710363',\n",
       " 'ours (trace), uc30, 32-256, 0.18067667',\n",
       " 'ours (trace), uc30 0.95, 32-256, 0.159931929',\n",
       " 'parasail, uc30, full, 0.788206077',\n",
       " 'parasail, uc30 0.95, full, 0.915880307']"
      ]
     },
     "execution_count": 1,
     "metadata": {},
     "output_type": "execute_result"
    }
   ],
   "source": [
    "output = !cd .. && cargo run --example uc_bench --release --features simd_avx2 --quiet\n",
    "output"
   ]
  },
  {
   "cell_type": "code",
   "execution_count": 14,
   "metadata": {
    "execution": {
     "iopub.execute_input": "2022-07-06T07:28:26.165407Z",
     "iopub.status.busy": "2022-07-06T07:28:26.164925Z",
     "iopub.status.idle": "2022-07-06T07:28:26.174616Z",
     "shell.execute_reply": "2022-07-06T07:28:26.175117Z"
    }
   },
   "outputs": [
    {
     "data": {
      "text/html": [
       "<div>\n",
       "<style scoped>\n",
       "    .dataframe tbody tr th:only-of-type {\n",
       "        vertical-align: middle;\n",
       "    }\n",
       "\n",
       "    .dataframe tbody tr th {\n",
       "        vertical-align: top;\n",
       "    }\n",
       "\n",
       "    .dataframe thead th {\n",
       "        text-align: right;\n",
       "    }\n",
       "</style>\n",
       "<table border=\"1\" class=\"dataframe\">\n",
       "  <thead>\n",
       "    <tr style=\"text-align: right;\">\n",
       "      <th></th>\n",
       "      <th>algorithm</th>\n",
       "      <th>dataset</th>\n",
       "      <th>size</th>\n",
       "      <th>time</th>\n",
       "    </tr>\n",
       "  </thead>\n",
       "  <tbody>\n",
       "    <tr>\n",
       "      <th>0</th>\n",
       "      <td>ours (no trace)</td>\n",
       "      <td>uc30</td>\n",
       "      <td>32-32</td>\n",
       "      <td>0.055945</td>\n",
       "    </tr>\n",
       "    <tr>\n",
       "      <th>1</th>\n",
       "      <td>ours (no trace)</td>\n",
       "      <td>uc30 0.95</td>\n",
       "      <td>32-32</td>\n",
       "      <td>0.060451</td>\n",
       "    </tr>\n",
       "    <tr>\n",
       "      <th>2</th>\n",
       "      <td>ours (no trace)</td>\n",
       "      <td>uc30</td>\n",
       "      <td>32-256</td>\n",
       "      <td>0.088573</td>\n",
       "    </tr>\n",
       "    <tr>\n",
       "      <th>3</th>\n",
       "      <td>ours (no trace)</td>\n",
       "      <td>uc30 0.95</td>\n",
       "      <td>32-256</td>\n",
       "      <td>0.077503</td>\n",
       "    </tr>\n",
       "    <tr>\n",
       "      <th>4</th>\n",
       "      <td>ours (no trace)</td>\n",
       "      <td>uc30</td>\n",
       "      <td>256-256</td>\n",
       "      <td>0.201014</td>\n",
       "    </tr>\n",
       "    <tr>\n",
       "      <th>5</th>\n",
       "      <td>ours (no trace)</td>\n",
       "      <td>uc30 0.95</td>\n",
       "      <td>256-256</td>\n",
       "      <td>0.220710</td>\n",
       "    </tr>\n",
       "    <tr>\n",
       "      <th>6</th>\n",
       "      <td>ours (trace)</td>\n",
       "      <td>uc30</td>\n",
       "      <td>32-256</td>\n",
       "      <td>0.180677</td>\n",
       "    </tr>\n",
       "    <tr>\n",
       "      <th>7</th>\n",
       "      <td>ours (trace)</td>\n",
       "      <td>uc30 0.95</td>\n",
       "      <td>32-256</td>\n",
       "      <td>0.159932</td>\n",
       "    </tr>\n",
       "    <tr>\n",
       "      <th>8</th>\n",
       "      <td>parasail</td>\n",
       "      <td>uc30</td>\n",
       "      <td>full</td>\n",
       "      <td>0.788206</td>\n",
       "    </tr>\n",
       "    <tr>\n",
       "      <th>9</th>\n",
       "      <td>parasail</td>\n",
       "      <td>uc30 0.95</td>\n",
       "      <td>full</td>\n",
       "      <td>0.915880</td>\n",
       "    </tr>\n",
       "  </tbody>\n",
       "</table>\n",
       "</div>"
      ],
      "text/plain": [
       "         algorithm    dataset     size      time\n",
       "0  ours (no trace)       uc30    32-32  0.055945\n",
       "1  ours (no trace)  uc30 0.95    32-32  0.060451\n",
       "2  ours (no trace)       uc30   32-256  0.088573\n",
       "3  ours (no trace)  uc30 0.95   32-256  0.077503\n",
       "4  ours (no trace)       uc30  256-256  0.201014\n",
       "5  ours (no trace)  uc30 0.95  256-256  0.220710\n",
       "6     ours (trace)       uc30   32-256  0.180677\n",
       "7     ours (trace)  uc30 0.95   32-256  0.159932\n",
       "8         parasail       uc30     full  0.788206\n",
       "9         parasail  uc30 0.95     full  0.915880"
      ]
     },
     "execution_count": 1,
     "metadata": {},
     "output_type": "execute_result"
    }
   ],
   "source": [
    "data = csv_to_pandas(output)\n",
    "data"
   ]
  },
  {
   "cell_type": "markdown",
   "metadata": {},
   "source": [
    "Uniclust30 Benchmark (AVX2)"
   ]
  },
  {
   "cell_type": "code",
   "execution_count": 15,
   "metadata": {
    "execution": {
     "iopub.execute_input": "2022-07-06T07:28:26.191851Z",
     "iopub.status.busy": "2022-07-06T07:28:26.191458Z",
     "iopub.status.idle": "2022-07-06T07:28:26.936193Z",
     "shell.execute_reply": "2022-07-06T07:28:26.935691Z"
    }
   },
   "outputs": [
    {
     "data": {
      "text/html": [
       "\n",
       "<div id=\"altair-viz-d6ed7f3eb4874ef19b9ae1e62cc2afc8\"></div>\n",
       "<script type=\"text/javascript\">\n",
       "  (function(spec, embedOpt){\n",
       "    let outputDiv = document.currentScript.previousElementSibling;\n",
       "    if (outputDiv.id !== \"altair-viz-d6ed7f3eb4874ef19b9ae1e62cc2afc8\") {\n",
       "      outputDiv = document.getElementById(\"altair-viz-d6ed7f3eb4874ef19b9ae1e62cc2afc8\");\n",
       "    }\n",
       "    const paths = {\n",
       "      \"vega\": \"https://cdn.jsdelivr.net/npm//vega@5?noext\",\n",
       "      \"vega-lib\": \"https://cdn.jsdelivr.net/npm//vega-lib?noext\",\n",
       "      \"vega-lite\": \"https://cdn.jsdelivr.net/npm//vega-lite@4.8.1?noext\",\n",
       "      \"vega-embed\": \"https://cdn.jsdelivr.net/npm//vega-embed@6?noext\",\n",
       "    };\n",
       "\n",
       "    function loadScript(lib) {\n",
       "      return new Promise(function(resolve, reject) {\n",
       "        var s = document.createElement('script');\n",
       "        s.src = paths[lib];\n",
       "        s.async = true;\n",
       "        s.onload = () => resolve(paths[lib]);\n",
       "        s.onerror = () => reject(`Error loading script: ${paths[lib]}`);\n",
       "        document.getElementsByTagName(\"head\")[0].appendChild(s);\n",
       "      });\n",
       "    }\n",
       "\n",
       "    function showError(err) {\n",
       "      outputDiv.innerHTML = `<div class=\"error\" style=\"color:red;\">${err}</div>`;\n",
       "      throw err;\n",
       "    }\n",
       "\n",
       "    function displayChart(vegaEmbed) {\n",
       "      vegaEmbed(outputDiv, spec, embedOpt)\n",
       "        .catch(err => showError(`Javascript Error: ${err.message}<br>This usually means there's a typo in your chart specification. See the javascript console for the full traceback.`));\n",
       "    }\n",
       "\n",
       "    if(typeof define === \"function\" && define.amd) {\n",
       "      requirejs.config({paths});\n",
       "      require([\"vega-embed\"], displayChart, err => showError(`Error loading script: ${err.message}`));\n",
       "    } else if (typeof vegaEmbed === \"function\") {\n",
       "      displayChart(vegaEmbed);\n",
       "    } else {\n",
       "      loadScript(\"vega\")\n",
       "        .then(() => loadScript(\"vega-lite\"))\n",
       "        .then(() => loadScript(\"vega-embed\"))\n",
       "        .catch(showError)\n",
       "        .then(() => displayChart(vegaEmbed));\n",
       "    }\n",
       "  })({\"config\": {\"view\": {\"continuousWidth\": 400, \"continuousHeight\": 300}, \"range\": {\"category\": {\"scheme\": \"dark2\"}}}, \"data\": {\"url\": \"http://localhost:21324/7748b8d6725856c8d862e584d73c7957.json\"}, \"mark\": \"bar\", \"encoding\": {\"color\": {\"type\": \"nominal\", \"field\": \"algorithm\"}, \"column\": {\"type\": \"nominal\", \"field\": \"dataset\", \"header\": {\"orient\": \"bottom\"}}, \"x\": {\"type\": \"nominal\", \"axis\": null, \"field\": \"algorithm\"}, \"y\": {\"type\": \"quantitative\", \"axis\": {\"title\": \"time (s)\"}, \"field\": \"time\", \"scale\": {\"domain\": [0.0, 1.0]}}}, \"height\": 100, \"transform\": [{\"filter\": \"((datum.size === '32-256') || (datum.algorithm === 'parasail'))\"}], \"width\": 50, \"$schema\": \"https://vega.github.io/schema/vega-lite/v4.8.1.json\"}, {\"mode\": \"vega-lite\"});\n",
       "</script>"
      ],
      "text/plain": [
       "alt.Chart(...)"
      ]
     },
     "execution_count": 1,
     "metadata": {},
     "output_type": "execute_result"
    }
   ],
   "source": [
    "c = alt.Chart(data).mark_bar().encode(\n",
    "    x = alt.X(\"algorithm\", axis = None),\n",
    "    y = alt.Y(\"time\", axis = alt.Axis(title = \"time (s)\"), scale = alt.Scale(domain = [0.0, 1.0])),\n",
    "    column = alt.Column(\"dataset\", header = alt.Header(orient = \"bottom\")),\n",
    "    color = \"algorithm\"\n",
    ").transform_filter(\n",
    "    (datum.size == \"32-256\") | (datum.algorithm == \"parasail\")\n",
    ").properties(\n",
    "    width = 50,\n",
    "    height = 100\n",
    ").configure_range(\n",
    "    category = {\"scheme\": \"dark2\"}\n",
    ")\n",
    "save(c, \"uniclust30_bench.pdf\")\n",
    "c"
   ]
  },
  {
   "cell_type": "markdown",
   "metadata": {},
   "source": [
    "Uniclust30 Block Size Benchmark (AVX2)"
   ]
  },
  {
   "cell_type": "code",
   "execution_count": 16,
   "metadata": {
    "execution": {
     "iopub.execute_input": "2022-07-06T07:28:26.951233Z",
     "iopub.status.busy": "2022-07-06T07:28:26.948976Z",
     "iopub.status.idle": "2022-07-06T07:28:27.700804Z",
     "shell.execute_reply": "2022-07-06T07:28:27.701390Z"
    }
   },
   "outputs": [
    {
     "data": {
      "text/html": [
       "\n",
       "<div id=\"altair-viz-4b2acd409da743f7987c2da43ce44cd3\"></div>\n",
       "<script type=\"text/javascript\">\n",
       "  (function(spec, embedOpt){\n",
       "    let outputDiv = document.currentScript.previousElementSibling;\n",
       "    if (outputDiv.id !== \"altair-viz-4b2acd409da743f7987c2da43ce44cd3\") {\n",
       "      outputDiv = document.getElementById(\"altair-viz-4b2acd409da743f7987c2da43ce44cd3\");\n",
       "    }\n",
       "    const paths = {\n",
       "      \"vega\": \"https://cdn.jsdelivr.net/npm//vega@5?noext\",\n",
       "      \"vega-lib\": \"https://cdn.jsdelivr.net/npm//vega-lib?noext\",\n",
       "      \"vega-lite\": \"https://cdn.jsdelivr.net/npm//vega-lite@4.8.1?noext\",\n",
       "      \"vega-embed\": \"https://cdn.jsdelivr.net/npm//vega-embed@6?noext\",\n",
       "    };\n",
       "\n",
       "    function loadScript(lib) {\n",
       "      return new Promise(function(resolve, reject) {\n",
       "        var s = document.createElement('script');\n",
       "        s.src = paths[lib];\n",
       "        s.async = true;\n",
       "        s.onload = () => resolve(paths[lib]);\n",
       "        s.onerror = () => reject(`Error loading script: ${paths[lib]}`);\n",
       "        document.getElementsByTagName(\"head\")[0].appendChild(s);\n",
       "      });\n",
       "    }\n",
       "\n",
       "    function showError(err) {\n",
       "      outputDiv.innerHTML = `<div class=\"error\" style=\"color:red;\">${err}</div>`;\n",
       "      throw err;\n",
       "    }\n",
       "\n",
       "    function displayChart(vegaEmbed) {\n",
       "      vegaEmbed(outputDiv, spec, embedOpt)\n",
       "        .catch(err => showError(`Javascript Error: ${err.message}<br>This usually means there's a typo in your chart specification. See the javascript console for the full traceback.`));\n",
       "    }\n",
       "\n",
       "    if(typeof define === \"function\" && define.amd) {\n",
       "      requirejs.config({paths});\n",
       "      require([\"vega-embed\"], displayChart, err => showError(`Error loading script: ${err.message}`));\n",
       "    } else if (typeof vegaEmbed === \"function\") {\n",
       "      displayChart(vegaEmbed);\n",
       "    } else {\n",
       "      loadScript(\"vega\")\n",
       "        .then(() => loadScript(\"vega-lite\"))\n",
       "        .then(() => loadScript(\"vega-embed\"))\n",
       "        .catch(showError)\n",
       "        .then(() => displayChart(vegaEmbed));\n",
       "    }\n",
       "  })({\"config\": {\"view\": {\"continuousWidth\": 400, \"continuousHeight\": 300}}, \"data\": {\"url\": \"http://localhost:21324/7748b8d6725856c8d862e584d73c7957.json\"}, \"mark\": \"bar\", \"encoding\": {\"color\": {\"type\": \"nominal\", \"field\": \"size\", \"sort\": [\"32-32\", \"32-256\", \"256-256\"]}, \"column\": {\"type\": \"nominal\", \"field\": \"dataset\", \"header\": {\"orient\": \"bottom\"}}, \"x\": {\"type\": \"nominal\", \"axis\": null, \"field\": \"size\", \"sort\": [\"32-32\", \"32-256\", \"256-256\"]}, \"y\": {\"type\": \"quantitative\", \"axis\": {\"title\": \"time (s)\"}, \"field\": \"time\", \"scale\": {\"domain\": [0.0, 1.0]}}}, \"height\": 100, \"transform\": [{\"filter\": \"(datum.algorithm === 'ours (no trace)')\"}], \"width\": 50, \"$schema\": \"https://vega.github.io/schema/vega-lite/v4.8.1.json\"}, {\"mode\": \"vega-lite\"});\n",
       "</script>"
      ],
      "text/plain": [
       "alt.Chart(...)"
      ]
     },
     "execution_count": 1,
     "metadata": {},
     "output_type": "execute_result"
    }
   ],
   "source": [
    "c = alt.Chart(data).mark_bar().encode(\n",
    "    x = alt.X(\"size\", axis = None, sort = [\"32-32\", \"32-256\", \"256-256\"]),\n",
    "    y = alt.Y(\"time\", axis = alt.Axis(title = \"time (s)\"), scale = alt.Scale(domain = [0.0, 1.0])),\n",
    "    column = alt.Column(\"dataset\", header = alt.Header(orient = \"bottom\")),\n",
    "    color = alt.Color(\"size\", sort = [\"32-32\", \"32-256\", \"256-256\"])\n",
    ").transform_filter(\n",
    "    datum.algorithm == \"ours (no trace)\"\n",
    ").properties(\n",
    "    width = 50,\n",
    "    height = 100\n",
    ")\n",
    "save(c, \"uniclust30_size_bench.pdf\")\n",
    "c"
   ]
  },
  {
   "cell_type": "markdown",
   "metadata": {},
   "source": [
    "## Nanopore Data Benchmark Setup\n",
    "\n",
    "To run the benchmarks below, you need to clone the following repos, place them in the same directory where this repo (block aligner) is located, and follow their setup instructions:\n",
    "* [diff-bench-paper](https://github.com/Daniel-Liu-c0deb0t/diff-bench-paper)\n",
    "* [adaptivebandbench](https://github.com/Daniel-Liu-c0deb0t/adaptivebandbench)"
   ]
  },
  {
   "cell_type": "markdown",
   "metadata": {},
   "source": [
    "## Nanopore Data Benchmark"
   ]
  },
  {
   "cell_type": "code",
   "execution_count": 17,
   "metadata": {
    "execution": {
     "iopub.execute_input": "2022-07-06T07:28:27.704804Z",
     "iopub.status.busy": "2022-07-06T07:28:27.704284Z",
     "iopub.status.idle": "2022-07-06T07:28:50.316454Z",
     "shell.execute_reply": "2022-07-06T07:28:50.316862Z"
    }
   },
   "outputs": [
    {
     "data": {
      "text/plain": [
       "['# time (s)',\n",
       " 'algorithm, dataset, time',\n",
       " 'ours (no trace 32-32), nanopore 25kbp, 0.963649697',\n",
       " 'ours (no trace 32-32), random, 2.376020548',\n",
       " 'ours (trace 32-32), nanopore 25kbp, 1.315417409',\n",
       " 'ours (trace 32-32), random, 3.294219892',\n",
       " 'ours (trace 32-64), nanopore 25kbp, 1.6175370980000001',\n",
       " 'ours (trace 32-64), random, 3.418951881']"
      ]
     },
     "execution_count": 1,
     "metadata": {},
     "output_type": "execute_result"
    }
   ],
   "source": [
    "output = !cd .. && cargo run --example nanopore_bench --release --features simd_avx2 --quiet\n",
    "output"
   ]
  },
  {
   "cell_type": "code",
   "execution_count": 18,
   "metadata": {
    "execution": {
     "iopub.execute_input": "2022-07-06T07:28:50.320014Z",
     "iopub.status.busy": "2022-07-06T07:28:50.319611Z",
     "iopub.status.idle": "2022-07-06T07:28:50.327155Z",
     "shell.execute_reply": "2022-07-06T07:28:50.327567Z"
    }
   },
   "outputs": [
    {
     "data": {
      "text/html": [
       "<div>\n",
       "<style scoped>\n",
       "    .dataframe tbody tr th:only-of-type {\n",
       "        vertical-align: middle;\n",
       "    }\n",
       "\n",
       "    .dataframe tbody tr th {\n",
       "        vertical-align: top;\n",
       "    }\n",
       "\n",
       "    .dataframe thead th {\n",
       "        text-align: right;\n",
       "    }\n",
       "</style>\n",
       "<table border=\"1\" class=\"dataframe\">\n",
       "  <thead>\n",
       "    <tr style=\"text-align: right;\">\n",
       "      <th></th>\n",
       "      <th>algorithm</th>\n",
       "      <th>dataset</th>\n",
       "      <th>time</th>\n",
       "    </tr>\n",
       "  </thead>\n",
       "  <tbody>\n",
       "    <tr>\n",
       "      <th>0</th>\n",
       "      <td>ours (no trace 32-32)</td>\n",
       "      <td>nanopore 25kbp</td>\n",
       "      <td>0.963650</td>\n",
       "    </tr>\n",
       "    <tr>\n",
       "      <th>1</th>\n",
       "      <td>ours (no trace 32-32)</td>\n",
       "      <td>random</td>\n",
       "      <td>2.376021</td>\n",
       "    </tr>\n",
       "    <tr>\n",
       "      <th>2</th>\n",
       "      <td>ours (trace 32-32)</td>\n",
       "      <td>nanopore 25kbp</td>\n",
       "      <td>1.315417</td>\n",
       "    </tr>\n",
       "    <tr>\n",
       "      <th>3</th>\n",
       "      <td>ours (trace 32-32)</td>\n",
       "      <td>random</td>\n",
       "      <td>3.294220</td>\n",
       "    </tr>\n",
       "    <tr>\n",
       "      <th>4</th>\n",
       "      <td>ours (trace 32-64)</td>\n",
       "      <td>nanopore 25kbp</td>\n",
       "      <td>1.617537</td>\n",
       "    </tr>\n",
       "    <tr>\n",
       "      <th>5</th>\n",
       "      <td>ours (trace 32-64)</td>\n",
       "      <td>random</td>\n",
       "      <td>3.418952</td>\n",
       "    </tr>\n",
       "  </tbody>\n",
       "</table>\n",
       "</div>"
      ],
      "text/plain": [
       "               algorithm         dataset      time\n",
       "0  ours (no trace 32-32)  nanopore 25kbp  0.963650\n",
       "1  ours (no trace 32-32)          random  2.376021\n",
       "2     ours (trace 32-32)  nanopore 25kbp  1.315417\n",
       "3     ours (trace 32-32)          random  3.294220\n",
       "4     ours (trace 32-64)  nanopore 25kbp  1.617537\n",
       "5     ours (trace 32-64)          random  3.418952"
      ]
     },
     "execution_count": 1,
     "metadata": {},
     "output_type": "execute_result"
    }
   ],
   "source": [
    "data = csv_to_pandas(output)\n",
    "data"
   ]
  },
  {
   "cell_type": "code",
   "execution_count": 19,
   "metadata": {
    "execution": {
     "iopub.execute_input": "2022-07-06T07:28:50.331159Z",
     "iopub.status.busy": "2022-07-06T07:28:50.330740Z",
     "iopub.status.idle": "2022-07-06T07:31:58.786407Z",
     "shell.execute_reply": "2022-07-06T07:31:58.786857Z"
    }
   },
   "outputs": [
    {
     "data": {
      "text/plain": [
       "['algorithm\\tfill time\\ttrace time\\tconvert time\\ttotal time\\tscore\\tfail',\n",
       " 'editdist\\t467660000\\t167184000\\t65830000\\t700674000\\t6880489\\t0',\n",
       " 'non-diff\\t688273000\\t261696000\\t59112000\\t1009081000\\t27124786\\t52',\n",
       " 'diff-raw\\t609221000\\t205256000\\t62630000\\t877107000\\t27291141\\t32',\n",
       " 'libgaba\\t434103000\\t150617000\\t31617000\\t616337000\\t27121546\\t53',\n",
       " 'edlib\\t28126247000\\t19417377000\\t106316000\\t47649940000\\t37\\t0',\n",
       " 'seqan\\t90358733000\\t0\\t0\\t90358733000\\t0\\t0']"
      ]
     },
     "execution_count": 1,
     "metadata": {},
     "output_type": "execute_result"
    }
   ],
   "source": [
    "output2 = !cd ../../diff-bench-paper/supplementary_data/benchmark_codes && ./custom_bench.sh\n",
    "\n",
    "for i, o in enumerate(output2):\n",
    "    if o.startswith(\"cells(\"):\n",
    "        break\n",
    "output2 = output2[i + 1:]\n",
    "\n",
    "output2.insert(0, \"algorithm\\tfill time\\ttrace time\\tconvert time\\ttotal time\\tscore\\tfail\")\n",
    "output2"
   ]
  },
  {
   "cell_type": "code",
   "execution_count": 20,
   "metadata": {
    "execution": {
     "iopub.execute_input": "2022-07-06T07:31:58.789956Z",
     "iopub.status.busy": "2022-07-06T07:31:58.789527Z",
     "iopub.status.idle": "2022-07-06T07:31:58.797436Z",
     "shell.execute_reply": "2022-07-06T07:31:58.797878Z"
    }
   },
   "outputs": [
    {
     "data": {
      "text/html": [
       "<div>\n",
       "<style scoped>\n",
       "    .dataframe tbody tr th:only-of-type {\n",
       "        vertical-align: middle;\n",
       "    }\n",
       "\n",
       "    .dataframe tbody tr th {\n",
       "        vertical-align: top;\n",
       "    }\n",
       "\n",
       "    .dataframe thead th {\n",
       "        text-align: right;\n",
       "    }\n",
       "</style>\n",
       "<table border=\"1\" class=\"dataframe\">\n",
       "  <thead>\n",
       "    <tr style=\"text-align: right;\">\n",
       "      <th></th>\n",
       "      <th>algorithm</th>\n",
       "      <th>fill time</th>\n",
       "      <th>trace time</th>\n",
       "      <th>convert time</th>\n",
       "      <th>total time</th>\n",
       "      <th>score</th>\n",
       "      <th>fail</th>\n",
       "    </tr>\n",
       "  </thead>\n",
       "  <tbody>\n",
       "    <tr>\n",
       "      <th>0</th>\n",
       "      <td>editdist</td>\n",
       "      <td>467660000</td>\n",
       "      <td>167184000</td>\n",
       "      <td>65830000</td>\n",
       "      <td>700674000</td>\n",
       "      <td>6880489</td>\n",
       "      <td>0</td>\n",
       "    </tr>\n",
       "    <tr>\n",
       "      <th>1</th>\n",
       "      <td>non-diff</td>\n",
       "      <td>688273000</td>\n",
       "      <td>261696000</td>\n",
       "      <td>59112000</td>\n",
       "      <td>1009081000</td>\n",
       "      <td>27124786</td>\n",
       "      <td>52</td>\n",
       "    </tr>\n",
       "    <tr>\n",
       "      <th>2</th>\n",
       "      <td>diff-raw</td>\n",
       "      <td>609221000</td>\n",
       "      <td>205256000</td>\n",
       "      <td>62630000</td>\n",
       "      <td>877107000</td>\n",
       "      <td>27291141</td>\n",
       "      <td>32</td>\n",
       "    </tr>\n",
       "    <tr>\n",
       "      <th>3</th>\n",
       "      <td>libgaba</td>\n",
       "      <td>434103000</td>\n",
       "      <td>150617000</td>\n",
       "      <td>31617000</td>\n",
       "      <td>616337000</td>\n",
       "      <td>27121546</td>\n",
       "      <td>53</td>\n",
       "    </tr>\n",
       "    <tr>\n",
       "      <th>4</th>\n",
       "      <td>edlib</td>\n",
       "      <td>28126247000</td>\n",
       "      <td>19417377000</td>\n",
       "      <td>106316000</td>\n",
       "      <td>47649940000</td>\n",
       "      <td>37</td>\n",
       "      <td>0</td>\n",
       "    </tr>\n",
       "    <tr>\n",
       "      <th>5</th>\n",
       "      <td>seqan</td>\n",
       "      <td>90358733000</td>\n",
       "      <td>0</td>\n",
       "      <td>0</td>\n",
       "      <td>90358733000</td>\n",
       "      <td>0</td>\n",
       "      <td>0</td>\n",
       "    </tr>\n",
       "  </tbody>\n",
       "</table>\n",
       "</div>"
      ],
      "text/plain": [
       "  algorithm    fill time   trace time  convert time   total time     score  \\\n",
       "0  editdist    467660000    167184000      65830000    700674000   6880489   \n",
       "1  non-diff    688273000    261696000      59112000   1009081000  27124786   \n",
       "2  diff-raw    609221000    205256000      62630000    877107000  27291141   \n",
       "3   libgaba    434103000    150617000      31617000    616337000  27121546   \n",
       "4     edlib  28126247000  19417377000     106316000  47649940000        37   \n",
       "5     seqan  90358733000            0             0  90358733000         0   \n",
       "\n",
       "   fail  \n",
       "0     0  \n",
       "1    52  \n",
       "2    32  \n",
       "3    53  \n",
       "4     0  \n",
       "5     0  "
      ]
     },
     "execution_count": 1,
     "metadata": {},
     "output_type": "execute_result"
    }
   ],
   "source": [
    "data2 = csv_to_pandas(output2, d = \"\\t\")\n",
    "data2"
   ]
  },
  {
   "cell_type": "code",
   "execution_count": 21,
   "metadata": {
    "execution": {
     "iopub.execute_input": "2022-07-06T07:31:58.804470Z",
     "iopub.status.busy": "2022-07-06T07:31:58.803669Z",
     "iopub.status.idle": "2022-07-06T07:31:58.806743Z",
     "shell.execute_reply": "2022-07-06T07:31:58.807145Z"
    }
   },
   "outputs": [
    {
     "data": {
      "text/html": [
       "<div>\n",
       "<style scoped>\n",
       "    .dataframe tbody tr th:only-of-type {\n",
       "        vertical-align: middle;\n",
       "    }\n",
       "\n",
       "    .dataframe tbody tr th {\n",
       "        vertical-align: top;\n",
       "    }\n",
       "\n",
       "    .dataframe thead th {\n",
       "        text-align: right;\n",
       "    }\n",
       "</style>\n",
       "<table border=\"1\" class=\"dataframe\">\n",
       "  <thead>\n",
       "    <tr style=\"text-align: right;\">\n",
       "      <th></th>\n",
       "      <th>algorithm</th>\n",
       "      <th>time</th>\n",
       "    </tr>\n",
       "  </thead>\n",
       "  <tbody>\n",
       "    <tr>\n",
       "      <th>0</th>\n",
       "      <td>editdist</td>\n",
       "      <td>0.467660</td>\n",
       "    </tr>\n",
       "    <tr>\n",
       "      <th>1</th>\n",
       "      <td>non-diff</td>\n",
       "      <td>0.688273</td>\n",
       "    </tr>\n",
       "    <tr>\n",
       "      <th>2</th>\n",
       "      <td>diff-raw</td>\n",
       "      <td>0.609221</td>\n",
       "    </tr>\n",
       "    <tr>\n",
       "      <th>3</th>\n",
       "      <td>libgaba</td>\n",
       "      <td>0.434103</td>\n",
       "    </tr>\n",
       "    <tr>\n",
       "      <th>4</th>\n",
       "      <td>edlib</td>\n",
       "      <td>28.126247</td>\n",
       "    </tr>\n",
       "    <tr>\n",
       "      <th>5</th>\n",
       "      <td>seqan</td>\n",
       "      <td>90.358733</td>\n",
       "    </tr>\n",
       "  </tbody>\n",
       "</table>\n",
       "</div>"
      ],
      "text/plain": [
       "  algorithm       time\n",
       "0  editdist   0.467660\n",
       "1  non-diff   0.688273\n",
       "2  diff-raw   0.609221\n",
       "3   libgaba   0.434103\n",
       "4     edlib  28.126247\n",
       "5     seqan  90.358733"
      ]
     },
     "execution_count": 1,
     "metadata": {},
     "output_type": "execute_result"
    }
   ],
   "source": [
    "cleaned2 = data2.drop(columns = [\"trace time\", \"convert time\", \"total time\", \"score\", \"fail\"])\n",
    "cleaned2 = cleaned2.rename(columns = {\"fill time\": \"time\"})\n",
    "cleaned2[\"time\"] /= 1e9\n",
    "cleaned2"
   ]
  },
  {
   "cell_type": "code",
   "execution_count": 22,
   "metadata": {
    "execution": {
     "iopub.execute_input": "2022-07-06T07:31:58.813574Z",
     "iopub.status.busy": "2022-07-06T07:31:58.812994Z",
     "iopub.status.idle": "2022-07-06T07:31:58.815270Z",
     "shell.execute_reply": "2022-07-06T07:31:58.815715Z"
    }
   },
   "outputs": [
    {
     "data": {
      "text/html": [
       "<div>\n",
       "<style scoped>\n",
       "    .dataframe tbody tr th:only-of-type {\n",
       "        vertical-align: middle;\n",
       "    }\n",
       "\n",
       "    .dataframe tbody tr th {\n",
       "        vertical-align: top;\n",
       "    }\n",
       "\n",
       "    .dataframe thead th {\n",
       "        text-align: right;\n",
       "    }\n",
       "</style>\n",
       "<table border=\"1\" class=\"dataframe\">\n",
       "  <thead>\n",
       "    <tr style=\"text-align: right;\">\n",
       "      <th></th>\n",
       "      <th>algorithm</th>\n",
       "      <th>time</th>\n",
       "    </tr>\n",
       "  </thead>\n",
       "  <tbody>\n",
       "    <tr>\n",
       "      <th>0</th>\n",
       "      <td>ours (no trace 32-32)</td>\n",
       "      <td>0.963650</td>\n",
       "    </tr>\n",
       "    <tr>\n",
       "      <th>1</th>\n",
       "      <td>ours (trace 32-32)</td>\n",
       "      <td>1.315417</td>\n",
       "    </tr>\n",
       "    <tr>\n",
       "      <th>2</th>\n",
       "      <td>ours (trace 32-64)</td>\n",
       "      <td>1.617537</td>\n",
       "    </tr>\n",
       "    <tr>\n",
       "      <th>3</th>\n",
       "      <td>editdist</td>\n",
       "      <td>0.467660</td>\n",
       "    </tr>\n",
       "    <tr>\n",
       "      <th>4</th>\n",
       "      <td>non-diff</td>\n",
       "      <td>0.688273</td>\n",
       "    </tr>\n",
       "    <tr>\n",
       "      <th>5</th>\n",
       "      <td>diff-raw</td>\n",
       "      <td>0.609221</td>\n",
       "    </tr>\n",
       "    <tr>\n",
       "      <th>6</th>\n",
       "      <td>libgaba</td>\n",
       "      <td>0.434103</td>\n",
       "    </tr>\n",
       "    <tr>\n",
       "      <th>7</th>\n",
       "      <td>edlib</td>\n",
       "      <td>28.126247</td>\n",
       "    </tr>\n",
       "    <tr>\n",
       "      <th>8</th>\n",
       "      <td>seqan</td>\n",
       "      <td>90.358733</td>\n",
       "    </tr>\n",
       "  </tbody>\n",
       "</table>\n",
       "</div>"
      ],
      "text/plain": [
       "               algorithm       time\n",
       "0  ours (no trace 32-32)   0.963650\n",
       "1     ours (trace 32-32)   1.315417\n",
       "2     ours (trace 32-64)   1.617537\n",
       "3               editdist   0.467660\n",
       "4               non-diff   0.688273\n",
       "5               diff-raw   0.609221\n",
       "6                libgaba   0.434103\n",
       "7                  edlib  28.126247\n",
       "8                  seqan  90.358733"
      ]
     },
     "execution_count": 1,
     "metadata": {},
     "output_type": "execute_result"
    }
   ],
   "source": [
    "cleaned = data.drop(index = [1, 3, 5])\n",
    "cleaned = cleaned.drop(columns = [\"dataset\"])\n",
    "cleaned = cleaned.append(cleaned2, ignore_index = True)\n",
    "cleaned"
   ]
  },
  {
   "cell_type": "markdown",
   "metadata": {},
   "source": [
    "25kbp Nanopore Reads Benchmark (AVX2)"
   ]
  },
  {
   "cell_type": "code",
   "execution_count": 23,
   "metadata": {
    "execution": {
     "iopub.execute_input": "2022-07-06T07:31:58.835150Z",
     "iopub.status.busy": "2022-07-06T07:31:58.832611Z",
     "iopub.status.idle": "2022-07-06T07:31:59.579883Z",
     "shell.execute_reply": "2022-07-06T07:31:59.580857Z"
    }
   },
   "outputs": [
    {
     "data": {
      "text/html": [
       "\n",
       "<div id=\"altair-viz-3cc80cf6c1974fdca89dd19318199caf\"></div>\n",
       "<script type=\"text/javascript\">\n",
       "  (function(spec, embedOpt){\n",
       "    let outputDiv = document.currentScript.previousElementSibling;\n",
       "    if (outputDiv.id !== \"altair-viz-3cc80cf6c1974fdca89dd19318199caf\") {\n",
       "      outputDiv = document.getElementById(\"altair-viz-3cc80cf6c1974fdca89dd19318199caf\");\n",
       "    }\n",
       "    const paths = {\n",
       "      \"vega\": \"https://cdn.jsdelivr.net/npm//vega@5?noext\",\n",
       "      \"vega-lib\": \"https://cdn.jsdelivr.net/npm//vega-lib?noext\",\n",
       "      \"vega-lite\": \"https://cdn.jsdelivr.net/npm//vega-lite@4.8.1?noext\",\n",
       "      \"vega-embed\": \"https://cdn.jsdelivr.net/npm//vega-embed@6?noext\",\n",
       "    };\n",
       "\n",
       "    function loadScript(lib) {\n",
       "      return new Promise(function(resolve, reject) {\n",
       "        var s = document.createElement('script');\n",
       "        s.src = paths[lib];\n",
       "        s.async = true;\n",
       "        s.onload = () => resolve(paths[lib]);\n",
       "        s.onerror = () => reject(`Error loading script: ${paths[lib]}`);\n",
       "        document.getElementsByTagName(\"head\")[0].appendChild(s);\n",
       "      });\n",
       "    }\n",
       "\n",
       "    function showError(err) {\n",
       "      outputDiv.innerHTML = `<div class=\"error\" style=\"color:red;\">${err}</div>`;\n",
       "      throw err;\n",
       "    }\n",
       "\n",
       "    function displayChart(vegaEmbed) {\n",
       "      vegaEmbed(outputDiv, spec, embedOpt)\n",
       "        .catch(err => showError(`Javascript Error: ${err.message}<br>This usually means there's a typo in your chart specification. See the javascript console for the full traceback.`));\n",
       "    }\n",
       "\n",
       "    if(typeof define === \"function\" && define.amd) {\n",
       "      requirejs.config({paths});\n",
       "      require([\"vega-embed\"], displayChart, err => showError(`Error loading script: ${err.message}`));\n",
       "    } else if (typeof vegaEmbed === \"function\") {\n",
       "      displayChart(vegaEmbed);\n",
       "    } else {\n",
       "      loadScript(\"vega\")\n",
       "        .then(() => loadScript(\"vega-lite\"))\n",
       "        .then(() => loadScript(\"vega-embed\"))\n",
       "        .catch(showError)\n",
       "        .then(() => displayChart(vegaEmbed));\n",
       "    }\n",
       "  })({\"config\": {\"view\": {\"continuousWidth\": 400, \"continuousHeight\": 300}}, \"layer\": [{\"mark\": {\"type\": \"point\", \"filled\": true, \"opacity\": 1}, \"encoding\": {\"x\": {\"type\": \"quantitative\", \"axis\": {\"grid\": true, \"title\": \"time (s)\"}, \"field\": \"time\", \"scale\": {\"type\": \"log\"}}, \"y\": {\"type\": \"nominal\", \"axis\": {\"grid\": true}, \"field\": \"algorithm\", \"sort\": {\"field\": \"time\"}}}, \"transform\": [{\"filter\": \"(((datum.algorithm !== 'ours (trace 32-32)') && (datum.algorithm !== 'ours (no trace 32-32)')) && (datum.algorithm !== 'ours (trace 32-64)'))\"}]}, {\"mark\": {\"type\": \"point\", \"color\": \"red\", \"filled\": true}, \"encoding\": {\"x\": {\"type\": \"quantitative\", \"axis\": {\"grid\": true, \"title\": \"time (s)\"}, \"field\": \"time\", \"scale\": {\"type\": \"log\"}}, \"y\": {\"type\": \"nominal\", \"axis\": {\"grid\": true}, \"field\": \"algorithm\", \"sort\": {\"field\": \"time\"}}}, \"transform\": [{\"filter\": \"(((datum.algorithm === 'ours (trace 32-32)') || (datum.algorithm === 'ours (no trace 32-32)')) || (datum.algorithm === 'ours (trace 32-64)'))\"}]}], \"data\": {\"url\": \"http://localhost:21324/59930c32cc6a67151989959dc565dc30.json\"}, \"height\": 150, \"width\": 150, \"$schema\": \"https://vega.github.io/schema/vega-lite/v4.8.1.json\"}, {\"mode\": \"vega-lite\"});\n",
       "</script>"
      ],
      "text/plain": [
       "alt.LayerChart(...)"
      ]
     },
     "execution_count": 1,
     "metadata": {},
     "output_type": "execute_result"
    }
   ],
   "source": [
    "chart1 = alt.Chart(cleaned).mark_point(opacity = 1, filled = True).encode(\n",
    "    x = alt.X(\"time\", axis = alt.Axis(title = \"time (s)\", grid = True), scale = alt.Scale(type = \"log\")),\n",
    "    y = alt.Y(\"algorithm\", axis = alt.Axis(grid = True), sort = alt.EncodingSortField(field = \"time\"))\n",
    ").transform_filter((datum.algorithm != \"ours (trace 32-32)\") & (datum.algorithm != \"ours (no trace 32-32)\") & (datum.algorithm != \"ours (trace 32-64)\"))\n",
    "\n",
    "chart2 = alt.Chart(cleaned).mark_point(color = \"red\", filled = True).encode(\n",
    "    x = alt.X(\"time\", axis = alt.Axis(title = \"time (s)\", grid = True), scale = alt.Scale(type = \"log\")),\n",
    "    y = alt.Y(\"algorithm\", axis = alt.Axis(grid = True), sort = alt.EncodingSortField(field = \"time\"))\n",
    ").transform_filter((datum.algorithm == \"ours (trace 32-32)\") | (datum.algorithm == \"ours (no trace 32-32)\") | (datum.algorithm == \"ours (trace 32-64)\"))\n",
    "\n",
    "c = (chart1 + chart2).properties(\n",
    "    width = 150,\n",
    "    height = 150\n",
    ")\n",
    "save(c, \"nanopore_bench.pdf\")\n",
    "c"
   ]
  },
  {
   "cell_type": "markdown",
   "metadata": {},
   "source": [
    "## Sequence-to-Profile Alignment Benchmark"
   ]
  },
  {
   "cell_type": "code",
   "execution_count": 24,
   "metadata": {
    "execution": {
     "iopub.execute_input": "2022-07-06T07:31:59.584501Z",
     "iopub.status.busy": "2022-07-06T07:31:59.584027Z",
     "iopub.status.idle": "2022-07-06T07:32:11.472473Z",
     "shell.execute_reply": "2022-07-06T07:32:11.472973Z"
    }
   },
   "outputs": [
    {
     "data": {
      "text/plain": [
       "['size, time',\n",
       " '32-32, 0.153963937',\n",
       " '32-64, 0.178911012',\n",
       " '32-128, 0.211135543',\n",
       " '2048-2048, 4.163908914',\n",
       " '# Done!']"
      ]
     },
     "execution_count": 1,
     "metadata": {},
     "output_type": "execute_result"
    }
   ],
   "source": [
    "output = !cd .. && cargo run --example pssm_bench --release --features simd_avx2 --quiet\n",
    "output"
   ]
  },
  {
   "cell_type": "code",
   "execution_count": 25,
   "metadata": {
    "execution": {
     "iopub.execute_input": "2022-07-06T07:32:11.476315Z",
     "iopub.status.busy": "2022-07-06T07:32:11.475826Z",
     "iopub.status.idle": "2022-07-06T07:32:11.482997Z",
     "shell.execute_reply": "2022-07-06T07:32:11.483493Z"
    }
   },
   "outputs": [
    {
     "data": {
      "text/html": [
       "<div>\n",
       "<style scoped>\n",
       "    .dataframe tbody tr th:only-of-type {\n",
       "        vertical-align: middle;\n",
       "    }\n",
       "\n",
       "    .dataframe tbody tr th {\n",
       "        vertical-align: top;\n",
       "    }\n",
       "\n",
       "    .dataframe thead th {\n",
       "        text-align: right;\n",
       "    }\n",
       "</style>\n",
       "<table border=\"1\" class=\"dataframe\">\n",
       "  <thead>\n",
       "    <tr style=\"text-align: right;\">\n",
       "      <th></th>\n",
       "      <th>size</th>\n",
       "      <th>time</th>\n",
       "    </tr>\n",
       "  </thead>\n",
       "  <tbody>\n",
       "    <tr>\n",
       "      <th>0</th>\n",
       "      <td>32-32</td>\n",
       "      <td>0.153964</td>\n",
       "    </tr>\n",
       "    <tr>\n",
       "      <th>1</th>\n",
       "      <td>32-64</td>\n",
       "      <td>0.178911</td>\n",
       "    </tr>\n",
       "    <tr>\n",
       "      <th>2</th>\n",
       "      <td>32-128</td>\n",
       "      <td>0.211136</td>\n",
       "    </tr>\n",
       "    <tr>\n",
       "      <th>3</th>\n",
       "      <td>2048-2048</td>\n",
       "      <td>4.163909</td>\n",
       "    </tr>\n",
       "  </tbody>\n",
       "</table>\n",
       "</div>"
      ],
      "text/plain": [
       "        size      time\n",
       "0      32-32  0.153964\n",
       "1      32-64  0.178911\n",
       "2     32-128  0.211136\n",
       "3  2048-2048  4.163909"
      ]
     },
     "execution_count": 1,
     "metadata": {},
     "output_type": "execute_result"
    }
   ],
   "source": [
    "data = csv_to_pandas(output)\n",
    "data"
   ]
  },
  {
   "cell_type": "markdown",
   "metadata": {},
   "source": [
    "SCOP Sequence-to-Profile Alignment Benchmark (AVX2)"
   ]
  },
  {
   "cell_type": "code",
   "execution_count": 26,
   "metadata": {
    "execution": {
     "iopub.execute_input": "2022-07-06T07:32:11.493280Z",
     "iopub.status.busy": "2022-07-06T07:32:11.492793Z",
     "iopub.status.idle": "2022-07-06T07:32:12.240416Z",
     "shell.execute_reply": "2022-07-06T07:32:12.240817Z"
    },
    "scrolled": false
   },
   "outputs": [
    {
     "data": {
      "text/html": [
       "\n",
       "<div id=\"altair-viz-57f34c9f8aa04b8cad02129865f4563a\"></div>\n",
       "<script type=\"text/javascript\">\n",
       "  (function(spec, embedOpt){\n",
       "    let outputDiv = document.currentScript.previousElementSibling;\n",
       "    if (outputDiv.id !== \"altair-viz-57f34c9f8aa04b8cad02129865f4563a\") {\n",
       "      outputDiv = document.getElementById(\"altair-viz-57f34c9f8aa04b8cad02129865f4563a\");\n",
       "    }\n",
       "    const paths = {\n",
       "      \"vega\": \"https://cdn.jsdelivr.net/npm//vega@5?noext\",\n",
       "      \"vega-lib\": \"https://cdn.jsdelivr.net/npm//vega-lib?noext\",\n",
       "      \"vega-lite\": \"https://cdn.jsdelivr.net/npm//vega-lite@4.8.1?noext\",\n",
       "      \"vega-embed\": \"https://cdn.jsdelivr.net/npm//vega-embed@6?noext\",\n",
       "    };\n",
       "\n",
       "    function loadScript(lib) {\n",
       "      return new Promise(function(resolve, reject) {\n",
       "        var s = document.createElement('script');\n",
       "        s.src = paths[lib];\n",
       "        s.async = true;\n",
       "        s.onload = () => resolve(paths[lib]);\n",
       "        s.onerror = () => reject(`Error loading script: ${paths[lib]}`);\n",
       "        document.getElementsByTagName(\"head\")[0].appendChild(s);\n",
       "      });\n",
       "    }\n",
       "\n",
       "    function showError(err) {\n",
       "      outputDiv.innerHTML = `<div class=\"error\" style=\"color:red;\">${err}</div>`;\n",
       "      throw err;\n",
       "    }\n",
       "\n",
       "    function displayChart(vegaEmbed) {\n",
       "      vegaEmbed(outputDiv, spec, embedOpt)\n",
       "        .catch(err => showError(`Javascript Error: ${err.message}<br>This usually means there's a typo in your chart specification. See the javascript console for the full traceback.`));\n",
       "    }\n",
       "\n",
       "    if(typeof define === \"function\" && define.amd) {\n",
       "      requirejs.config({paths});\n",
       "      require([\"vega-embed\"], displayChart, err => showError(`Error loading script: ${err.message}`));\n",
       "    } else if (typeof vegaEmbed === \"function\") {\n",
       "      displayChart(vegaEmbed);\n",
       "    } else {\n",
       "      loadScript(\"vega\")\n",
       "        .then(() => loadScript(\"vega-lite\"))\n",
       "        .then(() => loadScript(\"vega-embed\"))\n",
       "        .catch(showError)\n",
       "        .then(() => displayChart(vegaEmbed));\n",
       "    }\n",
       "  })({\"config\": {\"view\": {\"continuousWidth\": 400, \"continuousHeight\": 300}}, \"data\": {\"url\": \"http://localhost:21324/4145852b2db8e99243b4d639bcacc449.json\"}, \"mark\": \"bar\", \"encoding\": {\"color\": {\"type\": \"nominal\", \"field\": \"size\", \"legend\": null, \"sort\": [\"32-32\", \"32-64\", \"32-128\", \"2048-2048\"]}, \"x\": {\"type\": \"nominal\", \"field\": \"size\", \"sort\": [\"32-32\", \"32-64\", \"32-128\", \"2048-2048\"]}, \"y\": {\"type\": \"quantitative\", \"axis\": {\"title\": \"time (s)\"}, \"field\": \"time\"}}, \"height\": 100, \"width\": 60, \"$schema\": \"https://vega.github.io/schema/vega-lite/v4.8.1.json\"}, {\"mode\": \"vega-lite\"});\n",
       "</script>"
      ],
      "text/plain": [
       "alt.Chart(...)"
      ]
     },
     "execution_count": 1,
     "metadata": {},
     "output_type": "execute_result"
    }
   ],
   "source": [
    "c = alt.Chart(data).mark_bar().encode(\n",
    "    x = alt.X(\"size\", sort = [\"32-32\", \"32-64\", \"32-128\", \"2048-2048\"]),\n",
    "    y = alt.Y(\"time\", axis = alt.Axis(title = \"time (s)\")),\n",
    "    color = alt.Color(\"size\", sort = [\"32-32\", \"32-64\", \"32-128\", \"2048-2048\"], legend = None)\n",
    ").properties(\n",
    "    width = 60,\n",
    "    height = 100\n",
    ")\n",
    "save(c, \"pssm_size_bench.pdf\")\n",
    "c"
   ]
  },
  {
   "cell_type": "markdown",
   "metadata": {},
   "source": [
    "## WASM SIMD\n",
    "\n",
    "[Wasmtime](https://wasmtime.dev/) is needed to run the webassembly code."
   ]
  },
  {
   "cell_type": "code",
   "execution_count": 27,
   "metadata": {
    "execution": {
     "iopub.execute_input": "2022-07-06T07:32:12.244657Z",
     "iopub.status.busy": "2022-07-06T07:32:12.244197Z",
     "iopub.status.idle": "2022-07-06T07:32:52.042478Z",
     "shell.execute_reply": "2022-07-06T07:32:52.042987Z"
    }
   },
   "outputs": [
    {
     "data": {
      "text/plain": [
       "['bench_rustbio_aa_100_1000\\t23,381,030',\n",
       " 'bench_rustbio_aa_10_100\\t242,949',\n",
       " 'bench_scan_aa_1000_10000\\t999,211',\n",
       " 'bench_scan_aa_1000_10000_insert\\t11,895,694',\n",
       " 'bench_scan_aa_1000_10000_small\\t660,273',\n",
       " 'bench_scan_aa_1000_10000_trace\\t2,713,454',\n",
       " 'bench_scan_aa_100_1000\\t90,206',\n",
       " 'bench_scan_aa_100_1000_insert\\t173,977',\n",
       " 'bench_scan_aa_100_1000_small\\t63,632',\n",
       " 'bench_scan_aa_100_1000_trace\\t395,953',\n",
       " 'bench_scan_aa_10_100\\t8,109',\n",
       " 'bench_scan_aa_10_100_insert\\t12,253',\n",
       " 'bench_scan_aa_10_100_small\\t5,849',\n",
       " 'bench_scan_aa_10_100_trace\\t192,409',\n",
       " 'bench_scan_nuc_1000_10000\\t667,550',\n",
       " 'bench_scan_nuc_100_1000\\t65,636']"
      ]
     },
     "execution_count": 1,
     "metadata": {},
     "output_type": "execute_result"
    }
   ],
   "source": [
    "output = !CARGO_TARGET_WASM32_WASI_RUNNER=\"wasmtime --wasm-features simd --\" cargo bench --target=wasm32-wasi --features simd_wasm --quiet -- --nocapture | grep 'bench:' | awk '{print $2\"\\t\"$5}'\n",
    "output"
   ]
  },
  {
   "cell_type": "code",
   "execution_count": 28,
   "metadata": {
    "execution": {
     "iopub.execute_input": "2022-07-06T07:32:52.048265Z",
     "iopub.status.busy": "2022-07-06T07:32:52.047735Z",
     "iopub.status.idle": "2022-07-06T07:32:52.050156Z",
     "shell.execute_reply": "2022-07-06T07:32:52.050644Z"
    }
   },
   "outputs": [
    {
     "data": {
      "text/plain": [
       "['algorithm\\talphabet\\tk\\tlength\\tproperty\\ttime',\n",
       " 'rust bio\\tprotein\\t100\\t1000\\tdefault\\t23,381,030',\n",
       " 'rust bio\\tprotein\\t10\\t100\\tdefault\\t242,949',\n",
       " 'ours\\tprotein\\t1000\\t10000\\tdefault\\t999,211',\n",
       " 'ours\\tprotein\\t1000\\t10000\\tinsert\\t11,895,694',\n",
       " 'ours\\tprotein\\t1000\\t10000\\tsmall\\t660,273',\n",
       " 'ours\\tprotein\\t1000\\t10000\\ttrace\\t2,713,454',\n",
       " 'ours\\tprotein\\t100\\t1000\\tdefault\\t90,206',\n",
       " 'ours\\tprotein\\t100\\t1000\\tinsert\\t173,977',\n",
       " 'ours\\tprotein\\t100\\t1000\\tsmall\\t63,632',\n",
       " 'ours\\tprotein\\t100\\t1000\\ttrace\\t395,953',\n",
       " 'ours\\tprotein\\t10\\t100\\tdefault\\t8,109',\n",
       " 'ours\\tprotein\\t10\\t100\\tinsert\\t12,253',\n",
       " 'ours\\tprotein\\t10\\t100\\tsmall\\t5,849',\n",
       " 'ours\\tprotein\\t10\\t100\\ttrace\\t192,409',\n",
       " 'ours\\tnucleotide\\t1000\\t10000\\tdefault\\t667,550',\n",
       " 'ours\\tnucleotide\\t100\\t1000\\tdefault\\t65,636']"
      ]
     },
     "execution_count": 1,
     "metadata": {},
     "output_type": "execute_result"
    }
   ],
   "source": [
    "cleaned = [\"algorithm\\talphabet\\tk\\tlength\\tproperty\\ttime\"]\n",
    "names = [\"rustbio_aa\", \"scan_aa\", \"scan_nuc\"]\n",
    "new_names = [\"rust bio\\tprotein\", \"ours\\tprotein\", \"ours\\tnucleotide\"]\n",
    "\n",
    "for o in output:\n",
    "    o = o[len(\"bench_\"):]\n",
    "    for n, nn in zip(names, new_names):\n",
    "        if o.startswith(n):\n",
    "            suffix = o[len(n):].replace(\"_\", \"\\t\")\n",
    "            o = nn + suffix\n",
    "            break\n",
    "    if len(o.split(\"\\t\")) < len(cleaned[0].split(\"\\t\")):\n",
    "        insert_idx = o.rindex(\"\\t\")\n",
    "        o = o[:insert_idx] + \"\\tdefault\" + o[insert_idx:]\n",
    "    cleaned.append(o)\n",
    "\n",
    "cleaned"
   ]
  },
  {
   "cell_type": "code",
   "execution_count": 29,
   "metadata": {
    "execution": {
     "iopub.execute_input": "2022-07-06T07:32:52.061429Z",
     "iopub.status.busy": "2022-07-06T07:32:52.060867Z",
     "iopub.status.idle": "2022-07-06T07:32:52.063252Z",
     "shell.execute_reply": "2022-07-06T07:32:52.063747Z"
    }
   },
   "outputs": [
    {
     "data": {
      "text/html": [
       "<div>\n",
       "<style scoped>\n",
       "    .dataframe tbody tr th:only-of-type {\n",
       "        vertical-align: middle;\n",
       "    }\n",
       "\n",
       "    .dataframe tbody tr th {\n",
       "        vertical-align: top;\n",
       "    }\n",
       "\n",
       "    .dataframe thead th {\n",
       "        text-align: right;\n",
       "    }\n",
       "</style>\n",
       "<table border=\"1\" class=\"dataframe\">\n",
       "  <thead>\n",
       "    <tr style=\"text-align: right;\">\n",
       "      <th></th>\n",
       "      <th>algorithm</th>\n",
       "      <th>alphabet</th>\n",
       "      <th>k</th>\n",
       "      <th>length</th>\n",
       "      <th>property</th>\n",
       "      <th>time</th>\n",
       "    </tr>\n",
       "  </thead>\n",
       "  <tbody>\n",
       "    <tr>\n",
       "      <th>0</th>\n",
       "      <td>rust bio</td>\n",
       "      <td>protein</td>\n",
       "      <td>100</td>\n",
       "      <td>1000</td>\n",
       "      <td>default</td>\n",
       "      <td>23381030</td>\n",
       "    </tr>\n",
       "    <tr>\n",
       "      <th>1</th>\n",
       "      <td>rust bio</td>\n",
       "      <td>protein</td>\n",
       "      <td>10</td>\n",
       "      <td>100</td>\n",
       "      <td>default</td>\n",
       "      <td>242949</td>\n",
       "    </tr>\n",
       "    <tr>\n",
       "      <th>2</th>\n",
       "      <td>ours</td>\n",
       "      <td>protein</td>\n",
       "      <td>1000</td>\n",
       "      <td>10000</td>\n",
       "      <td>default</td>\n",
       "      <td>999211</td>\n",
       "    </tr>\n",
       "    <tr>\n",
       "      <th>3</th>\n",
       "      <td>ours</td>\n",
       "      <td>protein</td>\n",
       "      <td>1000</td>\n",
       "      <td>10000</td>\n",
       "      <td>insert</td>\n",
       "      <td>11895694</td>\n",
       "    </tr>\n",
       "    <tr>\n",
       "      <th>4</th>\n",
       "      <td>ours</td>\n",
       "      <td>protein</td>\n",
       "      <td>1000</td>\n",
       "      <td>10000</td>\n",
       "      <td>small</td>\n",
       "      <td>660273</td>\n",
       "    </tr>\n",
       "    <tr>\n",
       "      <th>5</th>\n",
       "      <td>ours</td>\n",
       "      <td>protein</td>\n",
       "      <td>1000</td>\n",
       "      <td>10000</td>\n",
       "      <td>trace</td>\n",
       "      <td>2713454</td>\n",
       "    </tr>\n",
       "    <tr>\n",
       "      <th>6</th>\n",
       "      <td>ours</td>\n",
       "      <td>protein</td>\n",
       "      <td>100</td>\n",
       "      <td>1000</td>\n",
       "      <td>default</td>\n",
       "      <td>90206</td>\n",
       "    </tr>\n",
       "    <tr>\n",
       "      <th>7</th>\n",
       "      <td>ours</td>\n",
       "      <td>protein</td>\n",
       "      <td>100</td>\n",
       "      <td>1000</td>\n",
       "      <td>insert</td>\n",
       "      <td>173977</td>\n",
       "    </tr>\n",
       "    <tr>\n",
       "      <th>8</th>\n",
       "      <td>ours</td>\n",
       "      <td>protein</td>\n",
       "      <td>100</td>\n",
       "      <td>1000</td>\n",
       "      <td>small</td>\n",
       "      <td>63632</td>\n",
       "    </tr>\n",
       "    <tr>\n",
       "      <th>9</th>\n",
       "      <td>ours</td>\n",
       "      <td>protein</td>\n",
       "      <td>100</td>\n",
       "      <td>1000</td>\n",
       "      <td>trace</td>\n",
       "      <td>395953</td>\n",
       "    </tr>\n",
       "    <tr>\n",
       "      <th>10</th>\n",
       "      <td>ours</td>\n",
       "      <td>protein</td>\n",
       "      <td>10</td>\n",
       "      <td>100</td>\n",
       "      <td>default</td>\n",
       "      <td>8109</td>\n",
       "    </tr>\n",
       "    <tr>\n",
       "      <th>11</th>\n",
       "      <td>ours</td>\n",
       "      <td>protein</td>\n",
       "      <td>10</td>\n",
       "      <td>100</td>\n",
       "      <td>insert</td>\n",
       "      <td>12253</td>\n",
       "    </tr>\n",
       "    <tr>\n",
       "      <th>12</th>\n",
       "      <td>ours</td>\n",
       "      <td>protein</td>\n",
       "      <td>10</td>\n",
       "      <td>100</td>\n",
       "      <td>small</td>\n",
       "      <td>5849</td>\n",
       "    </tr>\n",
       "    <tr>\n",
       "      <th>13</th>\n",
       "      <td>ours</td>\n",
       "      <td>protein</td>\n",
       "      <td>10</td>\n",
       "      <td>100</td>\n",
       "      <td>trace</td>\n",
       "      <td>192409</td>\n",
       "    </tr>\n",
       "    <tr>\n",
       "      <th>14</th>\n",
       "      <td>ours</td>\n",
       "      <td>nucleotide</td>\n",
       "      <td>1000</td>\n",
       "      <td>10000</td>\n",
       "      <td>default</td>\n",
       "      <td>667550</td>\n",
       "    </tr>\n",
       "    <tr>\n",
       "      <th>15</th>\n",
       "      <td>ours</td>\n",
       "      <td>nucleotide</td>\n",
       "      <td>100</td>\n",
       "      <td>1000</td>\n",
       "      <td>default</td>\n",
       "      <td>65636</td>\n",
       "    </tr>\n",
       "  </tbody>\n",
       "</table>\n",
       "</div>"
      ],
      "text/plain": [
       "   algorithm    alphabet     k  length property      time\n",
       "0   rust bio     protein   100    1000  default  23381030\n",
       "1   rust bio     protein    10     100  default    242949\n",
       "2       ours     protein  1000   10000  default    999211\n",
       "3       ours     protein  1000   10000   insert  11895694\n",
       "4       ours     protein  1000   10000    small    660273\n",
       "5       ours     protein  1000   10000    trace   2713454\n",
       "6       ours     protein   100    1000  default     90206\n",
       "7       ours     protein   100    1000   insert    173977\n",
       "8       ours     protein   100    1000    small     63632\n",
       "9       ours     protein   100    1000    trace    395953\n",
       "10      ours     protein    10     100  default      8109\n",
       "11      ours     protein    10     100   insert     12253\n",
       "12      ours     protein    10     100    small      5849\n",
       "13      ours     protein    10     100    trace    192409\n",
       "14      ours  nucleotide  1000   10000  default    667550\n",
       "15      ours  nucleotide   100    1000  default     65636"
      ]
     },
     "execution_count": 1,
     "metadata": {},
     "output_type": "execute_result"
    }
   ],
   "source": [
    "data = csv_to_pandas(cleaned, d = \"\\t\", t = \",\")\n",
    "data"
   ]
  },
  {
   "cell_type": "code",
   "execution_count": 30,
   "metadata": {
    "execution": {
     "iopub.execute_input": "2022-07-06T07:32:52.067603Z",
     "iopub.status.busy": "2022-07-06T07:32:52.067178Z",
     "iopub.status.idle": "2022-07-06T07:32:52.068908Z",
     "shell.execute_reply": "2022-07-06T07:32:52.069325Z"
    }
   },
   "outputs": [],
   "source": [
    "data[\"algorithm property\"] = data[\"algorithm\"] + \" \" + data[\"property\"]\n",
    "data[\"time\"] /= 1000"
   ]
  },
  {
   "cell_type": "markdown",
   "metadata": {},
   "source": [
    "Random Protein Sequences Benchmark (WASM SIMD)"
   ]
  },
  {
   "cell_type": "code",
   "execution_count": 31,
   "metadata": {
    "execution": {
     "iopub.execute_input": "2022-07-06T07:32:52.086936Z",
     "iopub.status.busy": "2022-07-06T07:32:52.086537Z",
     "iopub.status.idle": "2022-07-06T07:32:52.836197Z",
     "shell.execute_reply": "2022-07-06T07:32:52.836623Z"
    }
   },
   "outputs": [
    {
     "data": {
      "text/html": [
       "\n",
       "<div id=\"altair-viz-69f04e653aec417bb6dddcc77f295cde\"></div>\n",
       "<script type=\"text/javascript\">\n",
       "  (function(spec, embedOpt){\n",
       "    let outputDiv = document.currentScript.previousElementSibling;\n",
       "    if (outputDiv.id !== \"altair-viz-69f04e653aec417bb6dddcc77f295cde\") {\n",
       "      outputDiv = document.getElementById(\"altair-viz-69f04e653aec417bb6dddcc77f295cde\");\n",
       "    }\n",
       "    const paths = {\n",
       "      \"vega\": \"https://cdn.jsdelivr.net/npm//vega@5?noext\",\n",
       "      \"vega-lib\": \"https://cdn.jsdelivr.net/npm//vega-lib?noext\",\n",
       "      \"vega-lite\": \"https://cdn.jsdelivr.net/npm//vega-lite@4.8.1?noext\",\n",
       "      \"vega-embed\": \"https://cdn.jsdelivr.net/npm//vega-embed@6?noext\",\n",
       "    };\n",
       "\n",
       "    function loadScript(lib) {\n",
       "      return new Promise(function(resolve, reject) {\n",
       "        var s = document.createElement('script');\n",
       "        s.src = paths[lib];\n",
       "        s.async = true;\n",
       "        s.onload = () => resolve(paths[lib]);\n",
       "        s.onerror = () => reject(`Error loading script: ${paths[lib]}`);\n",
       "        document.getElementsByTagName(\"head\")[0].appendChild(s);\n",
       "      });\n",
       "    }\n",
       "\n",
       "    function showError(err) {\n",
       "      outputDiv.innerHTML = `<div class=\"error\" style=\"color:red;\">${err}</div>`;\n",
       "      throw err;\n",
       "    }\n",
       "\n",
       "    function displayChart(vegaEmbed) {\n",
       "      vegaEmbed(outputDiv, spec, embedOpt)\n",
       "        .catch(err => showError(`Javascript Error: ${err.message}<br>This usually means there's a typo in your chart specification. See the javascript console for the full traceback.`));\n",
       "    }\n",
       "\n",
       "    if(typeof define === \"function\" && define.amd) {\n",
       "      requirejs.config({paths});\n",
       "      require([\"vega-embed\"], displayChart, err => showError(`Error loading script: ${err.message}`));\n",
       "    } else if (typeof vegaEmbed === \"function\") {\n",
       "      displayChart(vegaEmbed);\n",
       "    } else {\n",
       "      loadScript(\"vega\")\n",
       "        .then(() => loadScript(\"vega-lite\"))\n",
       "        .then(() => loadScript(\"vega-embed\"))\n",
       "        .catch(showError)\n",
       "        .then(() => displayChart(vegaEmbed));\n",
       "    }\n",
       "  })({\"config\": {\"view\": {\"continuousWidth\": 400, \"continuousHeight\": 300}}, \"data\": {\"url\": \"http://localhost:21324/6da6c3f908e431a1f98d82b7bf3a7f73.json\"}, \"mark\": {\"type\": \"point\", \"filled\": true, \"opacity\": 1}, \"encoding\": {\"color\": {\"type\": \"nominal\", \"field\": \"length\"}, \"shape\": {\"type\": \"nominal\", \"field\": \"length\"}, \"x\": {\"type\": \"quantitative\", \"axis\": {\"title\": \"time (us)\"}, \"field\": \"time\", \"scale\": {\"type\": \"log\"}}, \"y\": {\"type\": \"nominal\", \"axis\": {\"grid\": true, \"title\": \"algorithm\"}, \"field\": \"algorithm property\", \"sort\": {\"field\": \"time\"}}}, \"height\": 150, \"transform\": [{\"filter\": \"(datum.alphabet === 'protein')\"}], \"width\": 200, \"$schema\": \"https://vega.github.io/schema/vega-lite/v4.8.1.json\"}, {\"mode\": \"vega-lite\"});\n",
       "</script>"
      ],
      "text/plain": [
       "alt.Chart(...)"
      ]
     },
     "execution_count": 1,
     "metadata": {},
     "output_type": "execute_result"
    }
   ],
   "source": [
    "c = alt.Chart(data).mark_point(opacity = 1, filled = True).encode(\n",
    "    x = alt.X(\"time\", axis = alt.Axis(title = \"time (us)\"), scale = alt.Scale(type = \"log\")),\n",
    "    y = alt.Y(\"algorithm property\", axis = alt.Axis(title = \"algorithm\", grid = True), sort = alt.EncodingSortField(field = \"time\")),\n",
    "    color = \"length:N\",\n",
    "    shape = \"length:N\"\n",
    ").transform_filter(\n",
    "    datum.alphabet == \"protein\"\n",
    ").properties(\n",
    "    width = 200,\n",
    "    height = 150\n",
    ")\n",
    "save(c, \"random_protein_bench_wasm.pdf\")\n",
    "c"
   ]
  }
 ],
 "metadata": {
  "kernelspec": {
   "display_name": "Python 3",
   "language": "python",
   "name": "python3"
  },
  "language_info": {
   "codemirror_mode": {
    "name": "ipython",
    "version": 3
   },
   "file_extension": ".py",
   "mimetype": "text/x-python",
   "name": "python",
   "nbconvert_exporter": "python",
   "pygments_lexer": "ipython3",
   "version": "3.8.5"
  }
 },
 "nbformat": 4,
 "nbformat_minor": 4
}
