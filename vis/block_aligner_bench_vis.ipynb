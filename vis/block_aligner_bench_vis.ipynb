{
 "cells": [
  {
   "cell_type": "markdown",
   "metadata": {},
   "source": [
    "# Block Aligner Benchmark Analysis and Visualizations"
   ]
  },
  {
   "cell_type": "markdown",
   "metadata": {},
   "source": [
    "This notebook contains code for collecting, cleaning, and analyzing data produced by block aligner's experiments.\n",
    "\n",
    "To run this, you will need to install all the libraries imported below, along with [altair-saver](https://github.com/altair-viz/altair_saver) and [altair-data-server](https://github.com/altair-viz/altair_data_server), which has some extra dependencies for PDF saving.\n",
    "\n",
    "Run each cell one by one to reproduce the experiments. This may take a while. For accurate benchmarking, it is recommended to run the entire notebook in the command line with `nbconvert`."
   ]
  },
  {
   "cell_type": "code",
   "execution_count": 1,
   "metadata": {
    "execution": {
     "iopub.execute_input": "2022-10-11T06:41:27.615835Z",
     "iopub.status.busy": "2022-10-11T06:41:27.615216Z",
     "iopub.status.idle": "2022-10-11T06:41:33.228255Z",
     "shell.execute_reply": "2022-10-11T06:41:33.228759Z"
    }
   },
   "outputs": [
    {
     "data": {
      "text/plain": [
       "DataTransformerRegistry.enable('data_server')"
      ]
     },
     "execution_count": 1,
     "metadata": {},
     "output_type": "execute_result"
    }
   ],
   "source": [
    "import altair as alt\n",
    "from altair_saver import save\n",
    "from altair import datum\n",
    "import pandas as pd\n",
    "from io import StringIO\n",
    "\n",
    "alt.data_transformers.enable(\"data_server\")"
   ]
  },
  {
   "cell_type": "code",
   "execution_count": 2,
   "metadata": {
    "execution": {
     "iopub.execute_input": "2022-10-11T06:41:33.232174Z",
     "iopub.status.busy": "2022-10-11T06:41:33.231689Z",
     "iopub.status.idle": "2022-10-11T06:41:33.233222Z",
     "shell.execute_reply": "2022-10-11T06:41:33.233736Z"
    }
   },
   "outputs": [],
   "source": [
    "def csv_to_pandas(csv, d = \"\\\\s*,\\\\s*\", t = None):\n",
    "    s = StringIO(\"\\n\".join(csv))\n",
    "    data = pd.read_csv(s, sep = d, thousands = t, comment = \"#\", engine = \"python\")\n",
    "    return data"
   ]
  },
  {
   "cell_type": "markdown",
   "metadata": {},
   "source": [
    "## Prefix Scan Benchmark"
   ]
  },
  {
   "cell_type": "code",
   "execution_count": 3,
   "metadata": {
    "execution": {
     "iopub.execute_input": "2022-10-11T06:41:33.237005Z",
     "iopub.status.busy": "2022-10-11T06:41:33.236516Z",
     "iopub.status.idle": "2022-10-11T06:41:50.504451Z",
     "shell.execute_reply": "2022-10-11T06:41:50.505454Z"
    }
   },
   "outputs": [
    {
     "data": {
      "text/plain": [
       "['algorithm\\ttime', 'bench_naive_prefix_scan\\t34', 'bench_opt_prefix_scan\\t17']"
      ]
     },
     "execution_count": 1,
     "metadata": {},
     "output_type": "execute_result"
    }
   ],
   "source": [
    "output = !cd .. && cargo bench --features simd_avx2 --quiet -- prefix_scan | grep 'bench:' | awk '{print $2\"\\t\"$5}'\n",
    "output.insert(0, \"algorithm\\ttime\")\n",
    "output"
   ]
  },
  {
   "cell_type": "code",
   "execution_count": 4,
   "metadata": {
    "execution": {
     "iopub.execute_input": "2022-10-11T06:41:50.509908Z",
     "iopub.status.busy": "2022-10-11T06:41:50.509365Z",
     "iopub.status.idle": "2022-10-11T06:41:50.524270Z",
     "shell.execute_reply": "2022-10-11T06:41:50.524950Z"
    },
    "scrolled": false
   },
   "outputs": [
    {
     "data": {
      "text/html": [
       "<div>\n",
       "<style scoped>\n",
       "    .dataframe tbody tr th:only-of-type {\n",
       "        vertical-align: middle;\n",
       "    }\n",
       "\n",
       "    .dataframe tbody tr th {\n",
       "        vertical-align: top;\n",
       "    }\n",
       "\n",
       "    .dataframe thead th {\n",
       "        text-align: right;\n",
       "    }\n",
       "</style>\n",
       "<table border=\"1\" class=\"dataframe\">\n",
       "  <thead>\n",
       "    <tr style=\"text-align: right;\">\n",
       "      <th></th>\n",
       "      <th>algorithm</th>\n",
       "      <th>time</th>\n",
       "    </tr>\n",
       "  </thead>\n",
       "  <tbody>\n",
       "    <tr>\n",
       "      <th>0</th>\n",
       "      <td>bench_naive_prefix_scan</td>\n",
       "      <td>34</td>\n",
       "    </tr>\n",
       "    <tr>\n",
       "      <th>1</th>\n",
       "      <td>bench_opt_prefix_scan</td>\n",
       "      <td>17</td>\n",
       "    </tr>\n",
       "  </tbody>\n",
       "</table>\n",
       "</div>"
      ],
      "text/plain": [
       "                 algorithm  time\n",
       "0  bench_naive_prefix_scan    34\n",
       "1    bench_opt_prefix_scan    17"
      ]
     },
     "execution_count": 1,
     "metadata": {},
     "output_type": "execute_result"
    }
   ],
   "source": [
    "data = csv_to_pandas(output, d = \"\\t\", t = \",\")\n",
    "data"
   ]
  },
  {
   "cell_type": "code",
   "execution_count": 5,
   "metadata": {
    "execution": {
     "iopub.execute_input": "2022-10-11T06:41:50.531707Z",
     "iopub.status.busy": "2022-10-11T06:41:50.531116Z",
     "iopub.status.idle": "2022-10-11T06:41:50.533214Z",
     "shell.execute_reply": "2022-10-11T06:41:50.533711Z"
    }
   },
   "outputs": [
    {
     "data": {
      "text/html": [
       "<div>\n",
       "<style scoped>\n",
       "    .dataframe tbody tr th:only-of-type {\n",
       "        vertical-align: middle;\n",
       "    }\n",
       "\n",
       "    .dataframe tbody tr th {\n",
       "        vertical-align: top;\n",
       "    }\n",
       "\n",
       "    .dataframe thead th {\n",
       "        text-align: right;\n",
       "    }\n",
       "</style>\n",
       "<table border=\"1\" class=\"dataframe\">\n",
       "  <thead>\n",
       "    <tr style=\"text-align: right;\">\n",
       "      <th></th>\n",
       "      <th>algorithm</th>\n",
       "      <th>time</th>\n",
       "    </tr>\n",
       "  </thead>\n",
       "  <tbody>\n",
       "    <tr>\n",
       "      <th>0</th>\n",
       "      <td>naive</td>\n",
       "      <td>34</td>\n",
       "    </tr>\n",
       "    <tr>\n",
       "      <th>1</th>\n",
       "      <td>ours</td>\n",
       "      <td>17</td>\n",
       "    </tr>\n",
       "  </tbody>\n",
       "</table>\n",
       "</div>"
      ],
      "text/plain": [
       "  algorithm  time\n",
       "0     naive    34\n",
       "1      ours    17"
      ]
     },
     "execution_count": 1,
     "metadata": {},
     "output_type": "execute_result"
    }
   ],
   "source": [
    "data[\"algorithm\"] = data[\"algorithm\"].map({\n",
    "    \"bench_naive_prefix_scan\": \"naive\",\n",
    "    \"bench_opt_prefix_scan\": \"ours\"\n",
    "})\n",
    "data"
   ]
  },
  {
   "cell_type": "markdown",
   "metadata": {},
   "source": [
    "Prefix Scan Benchmark (AVX2)"
   ]
  },
  {
   "cell_type": "code",
   "execution_count": 6,
   "metadata": {
    "execution": {
     "iopub.execute_input": "2022-10-11T06:41:50.542004Z",
     "iopub.status.busy": "2022-10-11T06:41:50.541441Z",
     "iopub.status.idle": "2022-10-11T06:41:54.671939Z",
     "shell.execute_reply": "2022-10-11T06:41:54.672436Z"
    }
   },
   "outputs": [
    {
     "data": {
      "text/html": [
       "\n",
       "<div id=\"altair-viz-a873620ac9f74166bb9682c2059572e8\"></div>\n",
       "<script type=\"text/javascript\">\n",
       "  (function(spec, embedOpt){\n",
       "    let outputDiv = document.currentScript.previousElementSibling;\n",
       "    if (outputDiv.id !== \"altair-viz-a873620ac9f74166bb9682c2059572e8\") {\n",
       "      outputDiv = document.getElementById(\"altair-viz-a873620ac9f74166bb9682c2059572e8\");\n",
       "    }\n",
       "    const paths = {\n",
       "      \"vega\": \"https://cdn.jsdelivr.net/npm//vega@5?noext\",\n",
       "      \"vega-lib\": \"https://cdn.jsdelivr.net/npm//vega-lib?noext\",\n",
       "      \"vega-lite\": \"https://cdn.jsdelivr.net/npm//vega-lite@4.8.1?noext\",\n",
       "      \"vega-embed\": \"https://cdn.jsdelivr.net/npm//vega-embed@6?noext\",\n",
       "    };\n",
       "\n",
       "    function loadScript(lib) {\n",
       "      return new Promise(function(resolve, reject) {\n",
       "        var s = document.createElement('script');\n",
       "        s.src = paths[lib];\n",
       "        s.async = true;\n",
       "        s.onload = () => resolve(paths[lib]);\n",
       "        s.onerror = () => reject(`Error loading script: ${paths[lib]}`);\n",
       "        document.getElementsByTagName(\"head\")[0].appendChild(s);\n",
       "      });\n",
       "    }\n",
       "\n",
       "    function showError(err) {\n",
       "      outputDiv.innerHTML = `<div class=\"error\" style=\"color:red;\">${err}</div>`;\n",
       "      throw err;\n",
       "    }\n",
       "\n",
       "    function displayChart(vegaEmbed) {\n",
       "      vegaEmbed(outputDiv, spec, embedOpt)\n",
       "        .catch(err => showError(`Javascript Error: ${err.message}<br>This usually means there's a typo in your chart specification. See the javascript console for the full traceback.`));\n",
       "    }\n",
       "\n",
       "    if(typeof define === \"function\" && define.amd) {\n",
       "      requirejs.config({paths});\n",
       "      require([\"vega-embed\"], displayChart, err => showError(`Error loading script: ${err.message}`));\n",
       "    } else if (typeof vegaEmbed === \"function\") {\n",
       "      displayChart(vegaEmbed);\n",
       "    } else {\n",
       "      loadScript(\"vega\")\n",
       "        .then(() => loadScript(\"vega-lite\"))\n",
       "        .then(() => loadScript(\"vega-embed\"))\n",
       "        .catch(showError)\n",
       "        .then(() => displayChart(vegaEmbed));\n",
       "    }\n",
       "  })({\"config\": {\"view\": {\"continuousWidth\": 400, \"continuousHeight\": 300}}, \"data\": {\"url\": \"http://localhost:24160/b363b1400c57eb437f24aa928bd0f5a5.json\"}, \"mark\": \"bar\", \"encoding\": {\"color\": {\"type\": \"nominal\", \"field\": \"algorithm\", \"legend\": null}, \"x\": {\"type\": \"quantitative\", \"axis\": {\"title\": \"time (ns)\"}, \"field\": \"time\"}, \"y\": {\"type\": \"nominal\", \"field\": \"algorithm\"}}, \"width\": 150, \"$schema\": \"https://vega.github.io/schema/vega-lite/v4.8.1.json\"}, {\"mode\": \"vega-lite\"});\n",
       "</script>"
      ],
      "text/plain": [
       "alt.Chart(...)"
      ]
     },
     "execution_count": 1,
     "metadata": {},
     "output_type": "execute_result"
    }
   ],
   "source": [
    "c = alt.Chart(data).mark_bar().encode(\n",
    "    x = alt.X(\"time\", axis = alt.Axis(title = \"time (ns)\")),\n",
    "    y = \"algorithm\",\n",
    "    color = alt.Color(\"algorithm\", legend = None)\n",
    ").properties(\n",
    "    width = 150\n",
    ")\n",
    "save(c, \"prefix_scan_bench.pdf\")\n",
    "c"
   ]
  },
  {
   "cell_type": "markdown",
   "metadata": {},
   "source": [
    "## Random Data Benchmark"
   ]
  },
  {
   "cell_type": "code",
   "execution_count": 7,
   "metadata": {
    "execution": {
     "iopub.execute_input": "2022-10-11T06:41:54.675869Z",
     "iopub.status.busy": "2022-10-11T06:41:54.675374Z",
     "iopub.status.idle": "2022-10-11T06:42:45.384935Z",
     "shell.execute_reply": "2022-10-11T06:42:45.385391Z"
    }
   },
   "outputs": [
    {
     "data": {
      "text/plain": [
       "['bench_parasailors_aa_1000_10000\\t48,155,857',\n",
       " 'bench_parasailors_aa_100_1000\\t504,507',\n",
       " 'bench_parasailors_aa_10_100\\t18,084',\n",
       " 'bench_rustbio_aa_100_1000\\t14,432,734',\n",
       " 'bench_rustbio_aa_10_100\\t158,834',\n",
       " 'bench_scan_aa_1000_10000\\t232,365',\n",
       " 'bench_scan_aa_1000_10000_insert\\t8,819,136',\n",
       " 'bench_scan_aa_1000_10000_small\\t215,387',\n",
       " 'bench_scan_aa_1000_10000_trace\\t1,884,197',\n",
       " 'bench_scan_aa_100_1000\\t23,840',\n",
       " 'bench_scan_aa_100_1000_insert\\t50,314',\n",
       " 'bench_scan_aa_100_1000_small\\t23,744',\n",
       " 'bench_scan_aa_100_1000_trace\\t517,001',\n",
       " 'bench_scan_aa_10_100\\t3,881',\n",
       " 'bench_scan_aa_10_100_insert\\t4,054',\n",
       " 'bench_scan_aa_10_100_small\\t3,544',\n",
       " 'bench_scan_aa_10_100_trace\\t356,228',\n",
       " 'bench_scan_nuc_1000_10000\\t231,542',\n",
       " 'bench_scan_nuc_100_1000\\t23,299',\n",
       " 'bench_triple_accel_1000_10000\\t8,386,151',\n",
       " 'bench_triple_accel_100_1000\\t25,679']"
      ]
     },
     "execution_count": 1,
     "metadata": {},
     "output_type": "execute_result"
    }
   ],
   "source": [
    "output = !cd .. && cargo bench --features simd_avx2 --quiet -- bench_ | grep 'bench:' | grep -v 'prefix_scan' | awk '{print $2\"\\t\"$5}'\n",
    "output"
   ]
  },
  {
   "cell_type": "code",
   "execution_count": 8,
   "metadata": {
    "execution": {
     "iopub.execute_input": "2022-10-11T06:42:45.391047Z",
     "iopub.status.busy": "2022-10-11T06:42:45.390214Z",
     "iopub.status.idle": "2022-10-11T06:42:45.393246Z",
     "shell.execute_reply": "2022-10-11T06:42:45.393647Z"
    }
   },
   "outputs": [
    {
     "data": {
      "text/plain": [
       "['algorithm\\talphabet\\tk\\tlength\\tproperty\\ttime',\n",
       " 'parasailors\\tprotein\\t1000\\t10000\\tdefault\\t48,155,857',\n",
       " 'parasailors\\tprotein\\t100\\t1000\\tdefault\\t504,507',\n",
       " 'parasailors\\tprotein\\t10\\t100\\tdefault\\t18,084',\n",
       " 'rust bio\\tprotein\\t100\\t1000\\tdefault\\t14,432,734',\n",
       " 'rust bio\\tprotein\\t10\\t100\\tdefault\\t158,834',\n",
       " 'ours\\tprotein\\t1000\\t10000\\tdefault\\t232,365',\n",
       " 'ours\\tprotein\\t1000\\t10000\\tinsert\\t8,819,136',\n",
       " 'ours\\tprotein\\t1000\\t10000\\tsmall\\t215,387',\n",
       " 'ours\\tprotein\\t1000\\t10000\\ttrace\\t1,884,197',\n",
       " 'ours\\tprotein\\t100\\t1000\\tdefault\\t23,840',\n",
       " 'ours\\tprotein\\t100\\t1000\\tinsert\\t50,314',\n",
       " 'ours\\tprotein\\t100\\t1000\\tsmall\\t23,744',\n",
       " 'ours\\tprotein\\t100\\t1000\\ttrace\\t517,001',\n",
       " 'ours\\tprotein\\t10\\t100\\tdefault\\t3,881',\n",
       " 'ours\\tprotein\\t10\\t100\\tinsert\\t4,054',\n",
       " 'ours\\tprotein\\t10\\t100\\tsmall\\t3,544',\n",
       " 'ours\\tprotein\\t10\\t100\\ttrace\\t356,228',\n",
       " 'ours\\tnucleotide\\t1000\\t10000\\tdefault\\t231,542',\n",
       " 'ours\\tnucleotide\\t100\\t1000\\tdefault\\t23,299',\n",
       " 'triple accel\\tnucleotide\\t1000\\t10000\\tdefault\\t8,386,151',\n",
       " 'triple accel\\tnucleotide\\t100\\t1000\\tdefault\\t25,679']"
      ]
     },
     "execution_count": 1,
     "metadata": {},
     "output_type": "execute_result"
    }
   ],
   "source": [
    "cleaned = [\"algorithm\\talphabet\\tk\\tlength\\tproperty\\ttime\"]\n",
    "names = [\"parasailors_aa\", \"rustbio_aa\", \"scan_aa\", \"scan_nuc\", \"triple_accel\"]\n",
    "new_names = [\"parasailors\\tprotein\", \"rust bio\\tprotein\", \"ours\\tprotein\", \"ours\\tnucleotide\", \"triple accel\\tnucleotide\"]\n",
    "\n",
    "for o in output:\n",
    "    o = o[len(\"bench_\"):]\n",
    "    for n, nn in zip(names, new_names):\n",
    "        if o.startswith(n):\n",
    "            suffix = o[len(n):].replace(\"_\", \"\\t\")\n",
    "            o = nn + suffix\n",
    "            break\n",
    "    if len(o.split(\"\\t\")) < len(cleaned[0].split(\"\\t\")):\n",
    "        insert_idx = o.rindex(\"\\t\")\n",
    "        o = o[:insert_idx] + \"\\tdefault\" + o[insert_idx:]\n",
    "    cleaned.append(o)\n",
    "\n",
    "cleaned"
   ]
  },
  {
   "cell_type": "code",
   "execution_count": 9,
   "metadata": {
    "execution": {
     "iopub.execute_input": "2022-10-11T06:42:45.396815Z",
     "iopub.status.busy": "2022-10-11T06:42:45.396419Z",
     "iopub.status.idle": "2022-10-11T06:42:45.406383Z",
     "shell.execute_reply": "2022-10-11T06:42:45.406802Z"
    }
   },
   "outputs": [
    {
     "data": {
      "text/html": [
       "<div>\n",
       "<style scoped>\n",
       "    .dataframe tbody tr th:only-of-type {\n",
       "        vertical-align: middle;\n",
       "    }\n",
       "\n",
       "    .dataframe tbody tr th {\n",
       "        vertical-align: top;\n",
       "    }\n",
       "\n",
       "    .dataframe thead th {\n",
       "        text-align: right;\n",
       "    }\n",
       "</style>\n",
       "<table border=\"1\" class=\"dataframe\">\n",
       "  <thead>\n",
       "    <tr style=\"text-align: right;\">\n",
       "      <th></th>\n",
       "      <th>algorithm</th>\n",
       "      <th>alphabet</th>\n",
       "      <th>k</th>\n",
       "      <th>length</th>\n",
       "      <th>property</th>\n",
       "      <th>time</th>\n",
       "    </tr>\n",
       "  </thead>\n",
       "  <tbody>\n",
       "    <tr>\n",
       "      <th>0</th>\n",
       "      <td>parasailors</td>\n",
       "      <td>protein</td>\n",
       "      <td>1000</td>\n",
       "      <td>10000</td>\n",
       "      <td>default</td>\n",
       "      <td>48155857</td>\n",
       "    </tr>\n",
       "    <tr>\n",
       "      <th>1</th>\n",
       "      <td>parasailors</td>\n",
       "      <td>protein</td>\n",
       "      <td>100</td>\n",
       "      <td>1000</td>\n",
       "      <td>default</td>\n",
       "      <td>504507</td>\n",
       "    </tr>\n",
       "    <tr>\n",
       "      <th>2</th>\n",
       "      <td>parasailors</td>\n",
       "      <td>protein</td>\n",
       "      <td>10</td>\n",
       "      <td>100</td>\n",
       "      <td>default</td>\n",
       "      <td>18084</td>\n",
       "    </tr>\n",
       "    <tr>\n",
       "      <th>3</th>\n",
       "      <td>rust bio</td>\n",
       "      <td>protein</td>\n",
       "      <td>100</td>\n",
       "      <td>1000</td>\n",
       "      <td>default</td>\n",
       "      <td>14432734</td>\n",
       "    </tr>\n",
       "    <tr>\n",
       "      <th>4</th>\n",
       "      <td>rust bio</td>\n",
       "      <td>protein</td>\n",
       "      <td>10</td>\n",
       "      <td>100</td>\n",
       "      <td>default</td>\n",
       "      <td>158834</td>\n",
       "    </tr>\n",
       "    <tr>\n",
       "      <th>5</th>\n",
       "      <td>ours</td>\n",
       "      <td>protein</td>\n",
       "      <td>1000</td>\n",
       "      <td>10000</td>\n",
       "      <td>default</td>\n",
       "      <td>232365</td>\n",
       "    </tr>\n",
       "    <tr>\n",
       "      <th>6</th>\n",
       "      <td>ours</td>\n",
       "      <td>protein</td>\n",
       "      <td>1000</td>\n",
       "      <td>10000</td>\n",
       "      <td>insert</td>\n",
       "      <td>8819136</td>\n",
       "    </tr>\n",
       "    <tr>\n",
       "      <th>7</th>\n",
       "      <td>ours</td>\n",
       "      <td>protein</td>\n",
       "      <td>1000</td>\n",
       "      <td>10000</td>\n",
       "      <td>small</td>\n",
       "      <td>215387</td>\n",
       "    </tr>\n",
       "    <tr>\n",
       "      <th>8</th>\n",
       "      <td>ours</td>\n",
       "      <td>protein</td>\n",
       "      <td>1000</td>\n",
       "      <td>10000</td>\n",
       "      <td>trace</td>\n",
       "      <td>1884197</td>\n",
       "    </tr>\n",
       "    <tr>\n",
       "      <th>9</th>\n",
       "      <td>ours</td>\n",
       "      <td>protein</td>\n",
       "      <td>100</td>\n",
       "      <td>1000</td>\n",
       "      <td>default</td>\n",
       "      <td>23840</td>\n",
       "    </tr>\n",
       "    <tr>\n",
       "      <th>10</th>\n",
       "      <td>ours</td>\n",
       "      <td>protein</td>\n",
       "      <td>100</td>\n",
       "      <td>1000</td>\n",
       "      <td>insert</td>\n",
       "      <td>50314</td>\n",
       "    </tr>\n",
       "    <tr>\n",
       "      <th>11</th>\n",
       "      <td>ours</td>\n",
       "      <td>protein</td>\n",
       "      <td>100</td>\n",
       "      <td>1000</td>\n",
       "      <td>small</td>\n",
       "      <td>23744</td>\n",
       "    </tr>\n",
       "    <tr>\n",
       "      <th>12</th>\n",
       "      <td>ours</td>\n",
       "      <td>protein</td>\n",
       "      <td>100</td>\n",
       "      <td>1000</td>\n",
       "      <td>trace</td>\n",
       "      <td>517001</td>\n",
       "    </tr>\n",
       "    <tr>\n",
       "      <th>13</th>\n",
       "      <td>ours</td>\n",
       "      <td>protein</td>\n",
       "      <td>10</td>\n",
       "      <td>100</td>\n",
       "      <td>default</td>\n",
       "      <td>3881</td>\n",
       "    </tr>\n",
       "    <tr>\n",
       "      <th>14</th>\n",
       "      <td>ours</td>\n",
       "      <td>protein</td>\n",
       "      <td>10</td>\n",
       "      <td>100</td>\n",
       "      <td>insert</td>\n",
       "      <td>4054</td>\n",
       "    </tr>\n",
       "    <tr>\n",
       "      <th>15</th>\n",
       "      <td>ours</td>\n",
       "      <td>protein</td>\n",
       "      <td>10</td>\n",
       "      <td>100</td>\n",
       "      <td>small</td>\n",
       "      <td>3544</td>\n",
       "    </tr>\n",
       "    <tr>\n",
       "      <th>16</th>\n",
       "      <td>ours</td>\n",
       "      <td>protein</td>\n",
       "      <td>10</td>\n",
       "      <td>100</td>\n",
       "      <td>trace</td>\n",
       "      <td>356228</td>\n",
       "    </tr>\n",
       "    <tr>\n",
       "      <th>17</th>\n",
       "      <td>ours</td>\n",
       "      <td>nucleotide</td>\n",
       "      <td>1000</td>\n",
       "      <td>10000</td>\n",
       "      <td>default</td>\n",
       "      <td>231542</td>\n",
       "    </tr>\n",
       "    <tr>\n",
       "      <th>18</th>\n",
       "      <td>ours</td>\n",
       "      <td>nucleotide</td>\n",
       "      <td>100</td>\n",
       "      <td>1000</td>\n",
       "      <td>default</td>\n",
       "      <td>23299</td>\n",
       "    </tr>\n",
       "    <tr>\n",
       "      <th>19</th>\n",
       "      <td>triple accel</td>\n",
       "      <td>nucleotide</td>\n",
       "      <td>1000</td>\n",
       "      <td>10000</td>\n",
       "      <td>default</td>\n",
       "      <td>8386151</td>\n",
       "    </tr>\n",
       "    <tr>\n",
       "      <th>20</th>\n",
       "      <td>triple accel</td>\n",
       "      <td>nucleotide</td>\n",
       "      <td>100</td>\n",
       "      <td>1000</td>\n",
       "      <td>default</td>\n",
       "      <td>25679</td>\n",
       "    </tr>\n",
       "  </tbody>\n",
       "</table>\n",
       "</div>"
      ],
      "text/plain": [
       "       algorithm    alphabet     k  length property      time\n",
       "0    parasailors     protein  1000   10000  default  48155857\n",
       "1    parasailors     protein   100    1000  default    504507\n",
       "2    parasailors     protein    10     100  default     18084\n",
       "3       rust bio     protein   100    1000  default  14432734\n",
       "4       rust bio     protein    10     100  default    158834\n",
       "5           ours     protein  1000   10000  default    232365\n",
       "6           ours     protein  1000   10000   insert   8819136\n",
       "7           ours     protein  1000   10000    small    215387\n",
       "8           ours     protein  1000   10000    trace   1884197\n",
       "9           ours     protein   100    1000  default     23840\n",
       "10          ours     protein   100    1000   insert     50314\n",
       "11          ours     protein   100    1000    small     23744\n",
       "12          ours     protein   100    1000    trace    517001\n",
       "13          ours     protein    10     100  default      3881\n",
       "14          ours     protein    10     100   insert      4054\n",
       "15          ours     protein    10     100    small      3544\n",
       "16          ours     protein    10     100    trace    356228\n",
       "17          ours  nucleotide  1000   10000  default    231542\n",
       "18          ours  nucleotide   100    1000  default     23299\n",
       "19  triple accel  nucleotide  1000   10000  default   8386151\n",
       "20  triple accel  nucleotide   100    1000  default     25679"
      ]
     },
     "execution_count": 1,
     "metadata": {},
     "output_type": "execute_result"
    }
   ],
   "source": [
    "data = csv_to_pandas(cleaned, d = \"\\t\", t = \",\")\n",
    "data"
   ]
  },
  {
   "cell_type": "code",
   "execution_count": 10,
   "metadata": {
    "execution": {
     "iopub.execute_input": "2022-10-11T06:42:45.410268Z",
     "iopub.status.busy": "2022-10-11T06:42:45.409865Z",
     "iopub.status.idle": "2022-10-11T06:42:45.411427Z",
     "shell.execute_reply": "2022-10-11T06:42:45.411877Z"
    }
   },
   "outputs": [],
   "source": [
    "data[\"algorithm property\"] = data[\"algorithm\"] + \" \" + data[\"property\"]\n",
    "data[\"time\"] /= 1000"
   ]
  },
  {
   "cell_type": "markdown",
   "metadata": {},
   "source": [
    "Random Protein Sequences Benchmark (AVX2)"
   ]
  },
  {
   "cell_type": "code",
   "execution_count": 11,
   "metadata": {
    "execution": {
     "iopub.execute_input": "2022-10-11T06:42:45.429940Z",
     "iopub.status.busy": "2022-10-11T06:42:45.426524Z",
     "iopub.status.idle": "2022-10-11T06:42:46.179058Z",
     "shell.execute_reply": "2022-10-11T06:42:46.179338Z"
    }
   },
   "outputs": [
    {
     "data": {
      "text/html": [
       "\n",
       "<div id=\"altair-viz-a3982dc4bb1f4511be8bd50b87eba9f4\"></div>\n",
       "<script type=\"text/javascript\">\n",
       "  (function(spec, embedOpt){\n",
       "    let outputDiv = document.currentScript.previousElementSibling;\n",
       "    if (outputDiv.id !== \"altair-viz-a3982dc4bb1f4511be8bd50b87eba9f4\") {\n",
       "      outputDiv = document.getElementById(\"altair-viz-a3982dc4bb1f4511be8bd50b87eba9f4\");\n",
       "    }\n",
       "    const paths = {\n",
       "      \"vega\": \"https://cdn.jsdelivr.net/npm//vega@5?noext\",\n",
       "      \"vega-lib\": \"https://cdn.jsdelivr.net/npm//vega-lib?noext\",\n",
       "      \"vega-lite\": \"https://cdn.jsdelivr.net/npm//vega-lite@4.8.1?noext\",\n",
       "      \"vega-embed\": \"https://cdn.jsdelivr.net/npm//vega-embed@6?noext\",\n",
       "    };\n",
       "\n",
       "    function loadScript(lib) {\n",
       "      return new Promise(function(resolve, reject) {\n",
       "        var s = document.createElement('script');\n",
       "        s.src = paths[lib];\n",
       "        s.async = true;\n",
       "        s.onload = () => resolve(paths[lib]);\n",
       "        s.onerror = () => reject(`Error loading script: ${paths[lib]}`);\n",
       "        document.getElementsByTagName(\"head\")[0].appendChild(s);\n",
       "      });\n",
       "    }\n",
       "\n",
       "    function showError(err) {\n",
       "      outputDiv.innerHTML = `<div class=\"error\" style=\"color:red;\">${err}</div>`;\n",
       "      throw err;\n",
       "    }\n",
       "\n",
       "    function displayChart(vegaEmbed) {\n",
       "      vegaEmbed(outputDiv, spec, embedOpt)\n",
       "        .catch(err => showError(`Javascript Error: ${err.message}<br>This usually means there's a typo in your chart specification. See the javascript console for the full traceback.`));\n",
       "    }\n",
       "\n",
       "    if(typeof define === \"function\" && define.amd) {\n",
       "      requirejs.config({paths});\n",
       "      require([\"vega-embed\"], displayChart, err => showError(`Error loading script: ${err.message}`));\n",
       "    } else if (typeof vegaEmbed === \"function\") {\n",
       "      displayChart(vegaEmbed);\n",
       "    } else {\n",
       "      loadScript(\"vega\")\n",
       "        .then(() => loadScript(\"vega-lite\"))\n",
       "        .then(() => loadScript(\"vega-embed\"))\n",
       "        .catch(showError)\n",
       "        .then(() => displayChart(vegaEmbed));\n",
       "    }\n",
       "  })({\"config\": {\"view\": {\"continuousWidth\": 400, \"continuousHeight\": 300}}, \"data\": {\"url\": \"http://localhost:24160/792142925ca08cdb606baad935a25559.json\"}, \"mark\": {\"type\": \"point\", \"filled\": true, \"opacity\": 1}, \"encoding\": {\"color\": {\"type\": \"nominal\", \"field\": \"length\"}, \"shape\": {\"type\": \"nominal\", \"field\": \"length\"}, \"x\": {\"type\": \"quantitative\", \"axis\": {\"title\": \"time (us)\"}, \"field\": \"time\", \"scale\": {\"domain\": [1, 50000], \"type\": \"log\"}}, \"y\": {\"type\": \"nominal\", \"axis\": {\"grid\": true, \"title\": \"algorithm\"}, \"field\": \"algorithm property\", \"sort\": {\"field\": \"time\"}}}, \"height\": 150, \"transform\": [{\"filter\": \"(datum.alphabet === 'protein')\"}], \"width\": 200, \"$schema\": \"https://vega.github.io/schema/vega-lite/v4.8.1.json\"}, {\"mode\": \"vega-lite\"});\n",
       "</script>"
      ],
      "text/plain": [
       "alt.Chart(...)"
      ]
     },
     "execution_count": 1,
     "metadata": {},
     "output_type": "execute_result"
    }
   ],
   "source": [
    "c = alt.Chart(data).mark_point(opacity = 1, filled = True).encode(\n",
    "    x = alt.X(\"time\", axis = alt.Axis(title = \"time (us)\"), scale = alt.Scale(type = \"log\", domain = [1, 50000])),\n",
    "    y = alt.Y(\"algorithm property\", axis = alt.Axis(title = \"algorithm\", grid = True), sort = alt.EncodingSortField(field = \"time\")),\n",
    "    color = \"length:N\",\n",
    "    shape = \"length:N\"\n",
    ").transform_filter(\n",
    "    datum.alphabet == \"protein\"\n",
    ").properties(\n",
    "    width = 200,\n",
    "    height = 150\n",
    ")\n",
    "save(c, \"random_protein_bench.pdf\")\n",
    "c"
   ]
  },
  {
   "cell_type": "markdown",
   "metadata": {},
   "source": [
    "Random DNA Sequences Benchmark (AVX2)"
   ]
  },
  {
   "cell_type": "code",
   "execution_count": 12,
   "metadata": {
    "execution": {
     "iopub.execute_input": "2022-10-11T06:42:46.193594Z",
     "iopub.status.busy": "2022-10-11T06:42:46.193198Z",
     "iopub.status.idle": "2022-10-11T06:42:46.933477Z",
     "shell.execute_reply": "2022-10-11T06:42:46.933977Z"
    }
   },
   "outputs": [
    {
     "data": {
      "text/html": [
       "\n",
       "<div id=\"altair-viz-e0931b708ea645d083b14e0761553dc6\"></div>\n",
       "<script type=\"text/javascript\">\n",
       "  (function(spec, embedOpt){\n",
       "    let outputDiv = document.currentScript.previousElementSibling;\n",
       "    if (outputDiv.id !== \"altair-viz-e0931b708ea645d083b14e0761553dc6\") {\n",
       "      outputDiv = document.getElementById(\"altair-viz-e0931b708ea645d083b14e0761553dc6\");\n",
       "    }\n",
       "    const paths = {\n",
       "      \"vega\": \"https://cdn.jsdelivr.net/npm//vega@5?noext\",\n",
       "      \"vega-lib\": \"https://cdn.jsdelivr.net/npm//vega-lib?noext\",\n",
       "      \"vega-lite\": \"https://cdn.jsdelivr.net/npm//vega-lite@4.8.1?noext\",\n",
       "      \"vega-embed\": \"https://cdn.jsdelivr.net/npm//vega-embed@6?noext\",\n",
       "    };\n",
       "\n",
       "    function loadScript(lib) {\n",
       "      return new Promise(function(resolve, reject) {\n",
       "        var s = document.createElement('script');\n",
       "        s.src = paths[lib];\n",
       "        s.async = true;\n",
       "        s.onload = () => resolve(paths[lib]);\n",
       "        s.onerror = () => reject(`Error loading script: ${paths[lib]}`);\n",
       "        document.getElementsByTagName(\"head\")[0].appendChild(s);\n",
       "      });\n",
       "    }\n",
       "\n",
       "    function showError(err) {\n",
       "      outputDiv.innerHTML = `<div class=\"error\" style=\"color:red;\">${err}</div>`;\n",
       "      throw err;\n",
       "    }\n",
       "\n",
       "    function displayChart(vegaEmbed) {\n",
       "      vegaEmbed(outputDiv, spec, embedOpt)\n",
       "        .catch(err => showError(`Javascript Error: ${err.message}<br>This usually means there's a typo in your chart specification. See the javascript console for the full traceback.`));\n",
       "    }\n",
       "\n",
       "    if(typeof define === \"function\" && define.amd) {\n",
       "      requirejs.config({paths});\n",
       "      require([\"vega-embed\"], displayChart, err => showError(`Error loading script: ${err.message}`));\n",
       "    } else if (typeof vegaEmbed === \"function\") {\n",
       "      displayChart(vegaEmbed);\n",
       "    } else {\n",
       "      loadScript(\"vega\")\n",
       "        .then(() => loadScript(\"vega-lite\"))\n",
       "        .then(() => loadScript(\"vega-embed\"))\n",
       "        .catch(showError)\n",
       "        .then(() => displayChart(vegaEmbed));\n",
       "    }\n",
       "  })({\"config\": {\"view\": {\"continuousWidth\": 400, \"continuousHeight\": 300}}, \"data\": {\"url\": \"http://localhost:24160/792142925ca08cdb606baad935a25559.json\"}, \"mark\": {\"type\": \"point\", \"filled\": true, \"opacity\": 1}, \"encoding\": {\"color\": {\"type\": \"nominal\", \"field\": \"length\", \"scale\": {\"domain\": [100, 1000, 10000]}}, \"shape\": {\"type\": \"nominal\", \"field\": \"length\", \"scale\": {\"domain\": [100, 1000, 10000]}}, \"x\": {\"type\": \"quantitative\", \"axis\": {\"title\": \"time (us)\"}, \"field\": \"time\", \"scale\": {\"domain\": [1, 50000], \"type\": \"log\"}}, \"y\": {\"type\": \"nominal\", \"axis\": {\"grid\": true, \"title\": \"algorithm\"}, \"field\": \"algorithm property\", \"sort\": {\"field\": \"time\"}}}, \"height\": 50, \"transform\": [{\"filter\": \"(datum.alphabet === 'nucleotide')\"}], \"width\": 200, \"$schema\": \"https://vega.github.io/schema/vega-lite/v4.8.1.json\"}, {\"mode\": \"vega-lite\"});\n",
       "</script>"
      ],
      "text/plain": [
       "alt.Chart(...)"
      ]
     },
     "execution_count": 1,
     "metadata": {},
     "output_type": "execute_result"
    }
   ],
   "source": [
    "c = alt.Chart(data).mark_point(opacity = 1, filled = True).encode(\n",
    "    x = alt.X(\"time\", axis = alt.Axis(title = \"time (us)\"), scale = alt.Scale(type = \"log\", domain = [1, 50000])),\n",
    "    y = alt.Y(\"algorithm property\", axis = alt.Axis(title = \"algorithm\", grid = True), sort = alt.EncodingSortField(field = \"time\")),\n",
    "    color = alt.Color(\"length:N\", scale = alt.Scale(domain = [100, 1000, 10000])),\n",
    "    shape = alt.Color(\"length:N\", scale = alt.Scale(domain = [100, 1000, 10000]))\n",
    ").transform_filter(\n",
    "    datum.alphabet == \"nucleotide\"\n",
    ").properties(\n",
    "    width = 200,\n",
    "    height = 50\n",
    ")\n",
    "save(c, \"random_dna_bench.pdf\")\n",
    "c"
   ]
  },
  {
   "cell_type": "markdown",
   "metadata": {},
   "source": [
    "## Uniclust 30 Data Benchmark"
   ]
  },
  {
   "cell_type": "code",
   "execution_count": 13,
   "metadata": {
    "execution": {
     "iopub.execute_input": "2022-10-11T06:42:46.937094Z",
     "iopub.status.busy": "2022-10-11T06:42:46.936707Z",
     "iopub.status.idle": "2022-10-11T06:42:57.406000Z",
     "shell.execute_reply": "2022-10-11T06:42:57.406356Z"
    }
   },
   "outputs": [
    {
     "data": {
      "text/plain": [
       "['# time (s)',\n",
       " 'algorithm, dataset, size, time',\n",
       " 'ours (no trace), uc30, 32-32, 0.056172268',\n",
       " 'ours (no trace), uc30 0.95, 32-32, 0.060529935',\n",
       " 'ours (no trace), uc30, 32-256, 0.088333406',\n",
       " 'ours (no trace), uc30 0.95, 32-256, 0.076304708',\n",
       " 'ours (no trace), uc30, 256-256, 0.198884566',\n",
       " 'ours (no trace), uc30 0.95, 256-256, 0.216352655',\n",
       " 'ours (trace), uc30, 32-256, 0.184920397',\n",
       " 'ours (trace), uc30 0.95, 32-256, 0.160019013',\n",
       " 'parasail, uc30, full, 0.81885358',\n",
       " 'parasail, uc30 0.95, full, 0.952500321']"
      ]
     },
     "execution_count": 1,
     "metadata": {},
     "output_type": "execute_result"
    }
   ],
   "source": [
    "output = !cd .. && cargo run --example uc_bench --release --features simd_avx2 --quiet\n",
    "output"
   ]
  },
  {
   "cell_type": "code",
   "execution_count": 14,
   "metadata": {
    "execution": {
     "iopub.execute_input": "2022-10-11T06:42:57.409493Z",
     "iopub.status.busy": "2022-10-11T06:42:57.409017Z",
     "iopub.status.idle": "2022-10-11T06:42:57.418315Z",
     "shell.execute_reply": "2022-10-11T06:42:57.418807Z"
    }
   },
   "outputs": [
    {
     "data": {
      "text/html": [
       "<div>\n",
       "<style scoped>\n",
       "    .dataframe tbody tr th:only-of-type {\n",
       "        vertical-align: middle;\n",
       "    }\n",
       "\n",
       "    .dataframe tbody tr th {\n",
       "        vertical-align: top;\n",
       "    }\n",
       "\n",
       "    .dataframe thead th {\n",
       "        text-align: right;\n",
       "    }\n",
       "</style>\n",
       "<table border=\"1\" class=\"dataframe\">\n",
       "  <thead>\n",
       "    <tr style=\"text-align: right;\">\n",
       "      <th></th>\n",
       "      <th>algorithm</th>\n",
       "      <th>dataset</th>\n",
       "      <th>size</th>\n",
       "      <th>time</th>\n",
       "    </tr>\n",
       "  </thead>\n",
       "  <tbody>\n",
       "    <tr>\n",
       "      <th>0</th>\n",
       "      <td>ours (no trace)</td>\n",
       "      <td>uc30</td>\n",
       "      <td>32-32</td>\n",
       "      <td>0.056172</td>\n",
       "    </tr>\n",
       "    <tr>\n",
       "      <th>1</th>\n",
       "      <td>ours (no trace)</td>\n",
       "      <td>uc30 0.95</td>\n",
       "      <td>32-32</td>\n",
       "      <td>0.060530</td>\n",
       "    </tr>\n",
       "    <tr>\n",
       "      <th>2</th>\n",
       "      <td>ours (no trace)</td>\n",
       "      <td>uc30</td>\n",
       "      <td>32-256</td>\n",
       "      <td>0.088333</td>\n",
       "    </tr>\n",
       "    <tr>\n",
       "      <th>3</th>\n",
       "      <td>ours (no trace)</td>\n",
       "      <td>uc30 0.95</td>\n",
       "      <td>32-256</td>\n",
       "      <td>0.076305</td>\n",
       "    </tr>\n",
       "    <tr>\n",
       "      <th>4</th>\n",
       "      <td>ours (no trace)</td>\n",
       "      <td>uc30</td>\n",
       "      <td>256-256</td>\n",
       "      <td>0.198885</td>\n",
       "    </tr>\n",
       "    <tr>\n",
       "      <th>5</th>\n",
       "      <td>ours (no trace)</td>\n",
       "      <td>uc30 0.95</td>\n",
       "      <td>256-256</td>\n",
       "      <td>0.216353</td>\n",
       "    </tr>\n",
       "    <tr>\n",
       "      <th>6</th>\n",
       "      <td>ours (trace)</td>\n",
       "      <td>uc30</td>\n",
       "      <td>32-256</td>\n",
       "      <td>0.184920</td>\n",
       "    </tr>\n",
       "    <tr>\n",
       "      <th>7</th>\n",
       "      <td>ours (trace)</td>\n",
       "      <td>uc30 0.95</td>\n",
       "      <td>32-256</td>\n",
       "      <td>0.160019</td>\n",
       "    </tr>\n",
       "    <tr>\n",
       "      <th>8</th>\n",
       "      <td>parasail</td>\n",
       "      <td>uc30</td>\n",
       "      <td>full</td>\n",
       "      <td>0.818854</td>\n",
       "    </tr>\n",
       "    <tr>\n",
       "      <th>9</th>\n",
       "      <td>parasail</td>\n",
       "      <td>uc30 0.95</td>\n",
       "      <td>full</td>\n",
       "      <td>0.952500</td>\n",
       "    </tr>\n",
       "  </tbody>\n",
       "</table>\n",
       "</div>"
      ],
      "text/plain": [
       "         algorithm    dataset     size      time\n",
       "0  ours (no trace)       uc30    32-32  0.056172\n",
       "1  ours (no trace)  uc30 0.95    32-32  0.060530\n",
       "2  ours (no trace)       uc30   32-256  0.088333\n",
       "3  ours (no trace)  uc30 0.95   32-256  0.076305\n",
       "4  ours (no trace)       uc30  256-256  0.198885\n",
       "5  ours (no trace)  uc30 0.95  256-256  0.216353\n",
       "6     ours (trace)       uc30   32-256  0.184920\n",
       "7     ours (trace)  uc30 0.95   32-256  0.160019\n",
       "8         parasail       uc30     full  0.818854\n",
       "9         parasail  uc30 0.95     full  0.952500"
      ]
     },
     "execution_count": 1,
     "metadata": {},
     "output_type": "execute_result"
    }
   ],
   "source": [
    "data = csv_to_pandas(output)\n",
    "data"
   ]
  },
  {
   "cell_type": "markdown",
   "metadata": {},
   "source": [
    "Uniclust30 Benchmark (AVX2)"
   ]
  },
  {
   "cell_type": "code",
   "execution_count": 15,
   "metadata": {
    "execution": {
     "iopub.execute_input": "2022-10-11T06:42:57.440962Z",
     "iopub.status.busy": "2022-10-11T06:42:57.440499Z",
     "iopub.status.idle": "2022-10-11T06:42:58.194276Z",
     "shell.execute_reply": "2022-10-11T06:42:58.194708Z"
    }
   },
   "outputs": [
    {
     "data": {
      "text/html": [
       "\n",
       "<div id=\"altair-viz-8d5128dd19ec496b82fcb60f6c3cb064\"></div>\n",
       "<script type=\"text/javascript\">\n",
       "  (function(spec, embedOpt){\n",
       "    let outputDiv = document.currentScript.previousElementSibling;\n",
       "    if (outputDiv.id !== \"altair-viz-8d5128dd19ec496b82fcb60f6c3cb064\") {\n",
       "      outputDiv = document.getElementById(\"altair-viz-8d5128dd19ec496b82fcb60f6c3cb064\");\n",
       "    }\n",
       "    const paths = {\n",
       "      \"vega\": \"https://cdn.jsdelivr.net/npm//vega@5?noext\",\n",
       "      \"vega-lib\": \"https://cdn.jsdelivr.net/npm//vega-lib?noext\",\n",
       "      \"vega-lite\": \"https://cdn.jsdelivr.net/npm//vega-lite@4.8.1?noext\",\n",
       "      \"vega-embed\": \"https://cdn.jsdelivr.net/npm//vega-embed@6?noext\",\n",
       "    };\n",
       "\n",
       "    function loadScript(lib) {\n",
       "      return new Promise(function(resolve, reject) {\n",
       "        var s = document.createElement('script');\n",
       "        s.src = paths[lib];\n",
       "        s.async = true;\n",
       "        s.onload = () => resolve(paths[lib]);\n",
       "        s.onerror = () => reject(`Error loading script: ${paths[lib]}`);\n",
       "        document.getElementsByTagName(\"head\")[0].appendChild(s);\n",
       "      });\n",
       "    }\n",
       "\n",
       "    function showError(err) {\n",
       "      outputDiv.innerHTML = `<div class=\"error\" style=\"color:red;\">${err}</div>`;\n",
       "      throw err;\n",
       "    }\n",
       "\n",
       "    function displayChart(vegaEmbed) {\n",
       "      vegaEmbed(outputDiv, spec, embedOpt)\n",
       "        .catch(err => showError(`Javascript Error: ${err.message}<br>This usually means there's a typo in your chart specification. See the javascript console for the full traceback.`));\n",
       "    }\n",
       "\n",
       "    if(typeof define === \"function\" && define.amd) {\n",
       "      requirejs.config({paths});\n",
       "      require([\"vega-embed\"], displayChart, err => showError(`Error loading script: ${err.message}`));\n",
       "    } else if (typeof vegaEmbed === \"function\") {\n",
       "      displayChart(vegaEmbed);\n",
       "    } else {\n",
       "      loadScript(\"vega\")\n",
       "        .then(() => loadScript(\"vega-lite\"))\n",
       "        .then(() => loadScript(\"vega-embed\"))\n",
       "        .catch(showError)\n",
       "        .then(() => displayChart(vegaEmbed));\n",
       "    }\n",
       "  })({\"config\": {\"view\": {\"continuousWidth\": 400, \"continuousHeight\": 300}, \"range\": {\"category\": {\"scheme\": \"dark2\"}}}, \"data\": {\"url\": \"http://localhost:24160/dae856669271772906c3023e09ebbaa3.json\"}, \"facet\": {\"column\": {\"type\": \"nominal\", \"field\": \"dataset\", \"header\": {\"orient\": \"bottom\"}}}, \"spec\": {\"layer\": [{\"mark\": \"bar\", \"encoding\": {\"color\": {\"type\": \"nominal\", \"field\": \"algorithm\"}, \"x\": {\"type\": \"nominal\", \"axis\": null, \"field\": \"algorithm\"}, \"y\": {\"type\": \"quantitative\", \"axis\": {\"title\": \"time (s)\"}, \"field\": \"time\", \"scale\": {\"domain\": [0.0, 1.0]}}}, \"transform\": [{\"filter\": \"((datum.size === '32-256') || (datum.algorithm === 'parasail'))\"}]}, {\"mark\": {\"type\": \"text\", \"dy\": -4, \"size\": 7}, \"encoding\": {\"color\": {\"type\": \"nominal\", \"field\": \"algorithm\"}, \"text\": {\"type\": \"quantitative\", \"field\": \"time\", \"format\": \".2\"}, \"x\": {\"type\": \"nominal\", \"axis\": null, \"field\": \"algorithm\"}, \"y\": {\"type\": \"quantitative\", \"axis\": {\"title\": \"time (s)\"}, \"field\": \"time\", \"scale\": {\"domain\": [0.0, 1.0]}}}, \"transform\": [{\"filter\": \"((datum.size === '32-256') || (datum.algorithm === 'parasail'))\"}]}], \"height\": 100, \"width\": 50}, \"$schema\": \"https://vega.github.io/schema/vega-lite/v4.8.1.json\"}, {\"mode\": \"vega-lite\"});\n",
       "</script>"
      ],
      "text/plain": [
       "alt.FacetChart(...)"
      ]
     },
     "execution_count": 1,
     "metadata": {},
     "output_type": "execute_result"
    }
   ],
   "source": [
    "c = alt.Chart(data).mark_bar().encode(\n",
    "    x = alt.X(\"algorithm\", axis = None),\n",
    "    y = alt.Y(\"time\", axis = alt.Axis(title = \"time (s)\"), scale = alt.Scale(domain = [0.0, 1.0])),\n",
    "    color = \"algorithm\"\n",
    ").transform_filter(\n",
    "    (datum.size == \"32-256\") | (datum.algorithm == \"parasail\")\n",
    ")\n",
    "t = c.mark_text(dy = -4, size = 7).encode(text = alt.Text(\"time\", format = \".2\"))\n",
    "c = (c + t).properties(\n",
    "    width = 50,\n",
    "    height = 100\n",
    ").facet(\n",
    "    column = alt.Column(\"dataset\", header = alt.Header(orient = \"bottom\")),\n",
    ").configure_range(\n",
    "    category = {\"scheme\": \"dark2\"}\n",
    ")\n",
    "save(c, \"uniclust30_bench.pdf\")\n",
    "c"
   ]
  },
  {
   "cell_type": "markdown",
   "metadata": {},
   "source": [
    "Uniclust30 Block Size Benchmark (AVX2)"
   ]
  },
  {
   "cell_type": "code",
   "execution_count": 16,
   "metadata": {
    "execution": {
     "iopub.execute_input": "2022-10-11T06:42:58.211011Z",
     "iopub.status.busy": "2022-10-11T06:42:58.210614Z",
     "iopub.status.idle": "2022-10-11T06:42:58.983325Z",
     "shell.execute_reply": "2022-10-11T06:42:58.983772Z"
    }
   },
   "outputs": [
    {
     "data": {
      "text/html": [
       "\n",
       "<div id=\"altair-viz-8c16e551175540638182863f8b7ec939\"></div>\n",
       "<script type=\"text/javascript\">\n",
       "  (function(spec, embedOpt){\n",
       "    let outputDiv = document.currentScript.previousElementSibling;\n",
       "    if (outputDiv.id !== \"altair-viz-8c16e551175540638182863f8b7ec939\") {\n",
       "      outputDiv = document.getElementById(\"altair-viz-8c16e551175540638182863f8b7ec939\");\n",
       "    }\n",
       "    const paths = {\n",
       "      \"vega\": \"https://cdn.jsdelivr.net/npm//vega@5?noext\",\n",
       "      \"vega-lib\": \"https://cdn.jsdelivr.net/npm//vega-lib?noext\",\n",
       "      \"vega-lite\": \"https://cdn.jsdelivr.net/npm//vega-lite@4.8.1?noext\",\n",
       "      \"vega-embed\": \"https://cdn.jsdelivr.net/npm//vega-embed@6?noext\",\n",
       "    };\n",
       "\n",
       "    function loadScript(lib) {\n",
       "      return new Promise(function(resolve, reject) {\n",
       "        var s = document.createElement('script');\n",
       "        s.src = paths[lib];\n",
       "        s.async = true;\n",
       "        s.onload = () => resolve(paths[lib]);\n",
       "        s.onerror = () => reject(`Error loading script: ${paths[lib]}`);\n",
       "        document.getElementsByTagName(\"head\")[0].appendChild(s);\n",
       "      });\n",
       "    }\n",
       "\n",
       "    function showError(err) {\n",
       "      outputDiv.innerHTML = `<div class=\"error\" style=\"color:red;\">${err}</div>`;\n",
       "      throw err;\n",
       "    }\n",
       "\n",
       "    function displayChart(vegaEmbed) {\n",
       "      vegaEmbed(outputDiv, spec, embedOpt)\n",
       "        .catch(err => showError(`Javascript Error: ${err.message}<br>This usually means there's a typo in your chart specification. See the javascript console for the full traceback.`));\n",
       "    }\n",
       "\n",
       "    if(typeof define === \"function\" && define.amd) {\n",
       "      requirejs.config({paths});\n",
       "      require([\"vega-embed\"], displayChart, err => showError(`Error loading script: ${err.message}`));\n",
       "    } else if (typeof vegaEmbed === \"function\") {\n",
       "      displayChart(vegaEmbed);\n",
       "    } else {\n",
       "      loadScript(\"vega\")\n",
       "        .then(() => loadScript(\"vega-lite\"))\n",
       "        .then(() => loadScript(\"vega-embed\"))\n",
       "        .catch(showError)\n",
       "        .then(() => displayChart(vegaEmbed));\n",
       "    }\n",
       "  })({\"config\": {\"view\": {\"continuousWidth\": 400, \"continuousHeight\": 300}}, \"data\": {\"url\": \"http://localhost:24160/dae856669271772906c3023e09ebbaa3.json\"}, \"facet\": {\"column\": {\"type\": \"nominal\", \"field\": \"dataset\", \"header\": {\"orient\": \"bottom\"}}}, \"spec\": {\"layer\": [{\"mark\": \"bar\", \"encoding\": {\"color\": {\"type\": \"nominal\", \"field\": \"size\", \"sort\": [\"32-32\", \"32-256\", \"256-256\"]}, \"x\": {\"type\": \"nominal\", \"axis\": null, \"field\": \"size\", \"sort\": [\"32-32\", \"32-256\", \"256-256\"]}, \"y\": {\"type\": \"quantitative\", \"axis\": {\"title\": \"time (s)\"}, \"field\": \"time\", \"scale\": {\"domain\": [0.0, 1.0]}}}, \"transform\": [{\"filter\": \"(datum.algorithm === 'ours (no trace)')\"}]}, {\"mark\": {\"type\": \"text\", \"dy\": -4, \"size\": 7}, \"encoding\": {\"color\": {\"type\": \"nominal\", \"field\": \"size\", \"sort\": [\"32-32\", \"32-256\", \"256-256\"]}, \"text\": {\"type\": \"quantitative\", \"field\": \"time\", \"format\": \".2\"}, \"x\": {\"type\": \"nominal\", \"axis\": null, \"field\": \"size\", \"sort\": [\"32-32\", \"32-256\", \"256-256\"]}, \"y\": {\"type\": \"quantitative\", \"axis\": {\"title\": \"time (s)\"}, \"field\": \"time\", \"scale\": {\"domain\": [0.0, 1.0]}}}, \"transform\": [{\"filter\": \"(datum.algorithm === 'ours (no trace)')\"}]}], \"height\": 100, \"width\": 50}, \"$schema\": \"https://vega.github.io/schema/vega-lite/v4.8.1.json\"}, {\"mode\": \"vega-lite\"});\n",
       "</script>"
      ],
      "text/plain": [
       "alt.FacetChart(...)"
      ]
     },
     "execution_count": 1,
     "metadata": {},
     "output_type": "execute_result"
    }
   ],
   "source": [
    "c = alt.Chart(data).mark_bar().encode(\n",
    "    x = alt.X(\"size\", axis = None, sort = [\"32-32\", \"32-256\", \"256-256\"]),\n",
    "    y = alt.Y(\"time\", axis = alt.Axis(title = \"time (s)\"), scale = alt.Scale(domain = [0.0, 1.0])),\n",
    "    color = alt.Color(\"size\", sort = [\"32-32\", \"32-256\", \"256-256\"])\n",
    ").transform_filter(\n",
    "    datum.algorithm == \"ours (no trace)\"\n",
    ")\n",
    "t = c.mark_text(dy = -4, size = 7).encode(text = alt.Text(\"time\", format = \".2\"))\n",
    "c = (c + t).properties(\n",
    "    width = 50,\n",
    "    height = 100\n",
    ").facet(\n",
    "    column = alt.Column(\"dataset\", header = alt.Header(orient = \"bottom\")),\n",
    ")\n",
    "save(c, \"uniclust30_size_bench.pdf\")\n",
    "c"
   ]
  },
  {
   "cell_type": "markdown",
   "metadata": {},
   "source": [
    "## Nanopore Data Benchmark Setup\n",
    "\n",
    "To run the benchmarks below, you need to clone the following repos, place them in the same directory where this repo (block aligner) is located, and follow their setup instructions:\n",
    "* [diff-bench-paper](https://github.com/Daniel-Liu-c0deb0t/diff-bench-paper)\n",
    "* [adaptivebandbench](https://github.com/Daniel-Liu-c0deb0t/adaptivebandbench)"
   ]
  },
  {
   "cell_type": "markdown",
   "metadata": {},
   "source": [
    "## Nanopore Data Benchmark"
   ]
  },
  {
   "cell_type": "code",
   "execution_count": 17,
   "metadata": {
    "execution": {
     "iopub.execute_input": "2022-10-11T06:42:58.986905Z",
     "iopub.status.busy": "2022-10-11T06:42:58.986512Z",
     "iopub.status.idle": "2022-10-11T06:43:21.580982Z",
     "shell.execute_reply": "2022-10-11T06:43:21.581399Z"
    }
   },
   "outputs": [
    {
     "data": {
      "text/plain": [
       "['# time (s)',\n",
       " 'algorithm, dataset, time',\n",
       " 'ours (no trace 32-32), nanopore 25kbp, 0.945440575',\n",
       " 'ours (no trace 32-32), random, 2.334440348',\n",
       " 'ours (trace 32-32), nanopore 25kbp, 1.3234968710000001',\n",
       " 'ours (trace 32-32), random, 3.236023942',\n",
       " 'ours (trace 32-64), nanopore 25kbp, 1.669813312',\n",
       " 'ours (trace 32-64), random, 3.545986289']"
      ]
     },
     "execution_count": 1,
     "metadata": {},
     "output_type": "execute_result"
    }
   ],
   "source": [
    "output = !cd .. && cargo run --example nanopore_bench --release --features simd_avx2 --quiet\n",
    "output"
   ]
  },
  {
   "cell_type": "code",
   "execution_count": 18,
   "metadata": {
    "execution": {
     "iopub.execute_input": "2022-10-11T06:43:21.584537Z",
     "iopub.status.busy": "2022-10-11T06:43:21.584093Z",
     "iopub.status.idle": "2022-10-11T06:43:21.591433Z",
     "shell.execute_reply": "2022-10-11T06:43:21.591903Z"
    }
   },
   "outputs": [
    {
     "data": {
      "text/html": [
       "<div>\n",
       "<style scoped>\n",
       "    .dataframe tbody tr th:only-of-type {\n",
       "        vertical-align: middle;\n",
       "    }\n",
       "\n",
       "    .dataframe tbody tr th {\n",
       "        vertical-align: top;\n",
       "    }\n",
       "\n",
       "    .dataframe thead th {\n",
       "        text-align: right;\n",
       "    }\n",
       "</style>\n",
       "<table border=\"1\" class=\"dataframe\">\n",
       "  <thead>\n",
       "    <tr style=\"text-align: right;\">\n",
       "      <th></th>\n",
       "      <th>algorithm</th>\n",
       "      <th>dataset</th>\n",
       "      <th>time</th>\n",
       "    </tr>\n",
       "  </thead>\n",
       "  <tbody>\n",
       "    <tr>\n",
       "      <th>0</th>\n",
       "      <td>ours (no trace 32-32)</td>\n",
       "      <td>nanopore 25kbp</td>\n",
       "      <td>0.945441</td>\n",
       "    </tr>\n",
       "    <tr>\n",
       "      <th>1</th>\n",
       "      <td>ours (no trace 32-32)</td>\n",
       "      <td>random</td>\n",
       "      <td>2.334440</td>\n",
       "    </tr>\n",
       "    <tr>\n",
       "      <th>2</th>\n",
       "      <td>ours (trace 32-32)</td>\n",
       "      <td>nanopore 25kbp</td>\n",
       "      <td>1.323497</td>\n",
       "    </tr>\n",
       "    <tr>\n",
       "      <th>3</th>\n",
       "      <td>ours (trace 32-32)</td>\n",
       "      <td>random</td>\n",
       "      <td>3.236024</td>\n",
       "    </tr>\n",
       "    <tr>\n",
       "      <th>4</th>\n",
       "      <td>ours (trace 32-64)</td>\n",
       "      <td>nanopore 25kbp</td>\n",
       "      <td>1.669813</td>\n",
       "    </tr>\n",
       "    <tr>\n",
       "      <th>5</th>\n",
       "      <td>ours (trace 32-64)</td>\n",
       "      <td>random</td>\n",
       "      <td>3.545986</td>\n",
       "    </tr>\n",
       "  </tbody>\n",
       "</table>\n",
       "</div>"
      ],
      "text/plain": [
       "               algorithm         dataset      time\n",
       "0  ours (no trace 32-32)  nanopore 25kbp  0.945441\n",
       "1  ours (no trace 32-32)          random  2.334440\n",
       "2     ours (trace 32-32)  nanopore 25kbp  1.323497\n",
       "3     ours (trace 32-32)          random  3.236024\n",
       "4     ours (trace 32-64)  nanopore 25kbp  1.669813\n",
       "5     ours (trace 32-64)          random  3.545986"
      ]
     },
     "execution_count": 1,
     "metadata": {},
     "output_type": "execute_result"
    }
   ],
   "source": [
    "data = csv_to_pandas(output)\n",
    "data"
   ]
  },
  {
   "cell_type": "code",
   "execution_count": 19,
   "metadata": {
    "execution": {
     "iopub.execute_input": "2022-10-11T06:43:21.595561Z",
     "iopub.status.busy": "2022-10-11T06:43:21.595097Z",
     "iopub.status.idle": "2022-10-11T06:46:30.712845Z",
     "shell.execute_reply": "2022-10-11T06:46:30.713294Z"
    }
   },
   "outputs": [
    {
     "data": {
      "text/plain": [
       "['algorithm\\tfill time\\ttrace time\\tconvert time\\ttotal time\\tscore\\tfail',\n",
       " 'editdist\\t467377000\\t168255000\\t66259000\\t701891000\\t6880489\\t0',\n",
       " 'non-diff\\t665058000\\t273896000\\t59740000\\t998694000\\t27124786\\t52',\n",
       " 'diff-raw\\t618038000\\t215400000\\t62934000\\t896372000\\t27291141\\t32',\n",
       " 'libgaba\\t435779000\\t150753000\\t31633000\\t618165000\\t27121546\\t53',\n",
       " 'edlib\\t28112512000\\t19433150000\\t107151000\\t47652813000\\t37\\t0',\n",
       " 'seqan\\t90359835000\\t0\\t0\\t90359835000\\t0\\t0']"
      ]
     },
     "execution_count": 1,
     "metadata": {},
     "output_type": "execute_result"
    }
   ],
   "source": [
    "output2 = !cd ../../diff-bench-paper/supplementary_data/benchmark_codes && ./custom_bench.sh\n",
    "\n",
    "for i, o in enumerate(output2):\n",
    "    if o.startswith(\"cells(\"):\n",
    "        break\n",
    "output2 = output2[i + 1:]\n",
    "\n",
    "output2.insert(0, \"algorithm\\tfill time\\ttrace time\\tconvert time\\ttotal time\\tscore\\tfail\")\n",
    "output2"
   ]
  },
  {
   "cell_type": "code",
   "execution_count": 20,
   "metadata": {
    "execution": {
     "iopub.execute_input": "2022-10-11T06:46:30.722141Z",
     "iopub.status.busy": "2022-10-11T06:46:30.721417Z",
     "iopub.status.idle": "2022-10-11T06:46:30.724124Z",
     "shell.execute_reply": "2022-10-11T06:46:30.724557Z"
    }
   },
   "outputs": [
    {
     "data": {
      "text/html": [
       "<div>\n",
       "<style scoped>\n",
       "    .dataframe tbody tr th:only-of-type {\n",
       "        vertical-align: middle;\n",
       "    }\n",
       "\n",
       "    .dataframe tbody tr th {\n",
       "        vertical-align: top;\n",
       "    }\n",
       "\n",
       "    .dataframe thead th {\n",
       "        text-align: right;\n",
       "    }\n",
       "</style>\n",
       "<table border=\"1\" class=\"dataframe\">\n",
       "  <thead>\n",
       "    <tr style=\"text-align: right;\">\n",
       "      <th></th>\n",
       "      <th>algorithm</th>\n",
       "      <th>fill time</th>\n",
       "      <th>trace time</th>\n",
       "      <th>convert time</th>\n",
       "      <th>total time</th>\n",
       "      <th>score</th>\n",
       "      <th>fail</th>\n",
       "    </tr>\n",
       "  </thead>\n",
       "  <tbody>\n",
       "    <tr>\n",
       "      <th>0</th>\n",
       "      <td>editdist</td>\n",
       "      <td>467377000</td>\n",
       "      <td>168255000</td>\n",
       "      <td>66259000</td>\n",
       "      <td>701891000</td>\n",
       "      <td>6880489</td>\n",
       "      <td>0</td>\n",
       "    </tr>\n",
       "    <tr>\n",
       "      <th>1</th>\n",
       "      <td>non-diff</td>\n",
       "      <td>665058000</td>\n",
       "      <td>273896000</td>\n",
       "      <td>59740000</td>\n",
       "      <td>998694000</td>\n",
       "      <td>27124786</td>\n",
       "      <td>52</td>\n",
       "    </tr>\n",
       "    <tr>\n",
       "      <th>2</th>\n",
       "      <td>diff-raw</td>\n",
       "      <td>618038000</td>\n",
       "      <td>215400000</td>\n",
       "      <td>62934000</td>\n",
       "      <td>896372000</td>\n",
       "      <td>27291141</td>\n",
       "      <td>32</td>\n",
       "    </tr>\n",
       "    <tr>\n",
       "      <th>3</th>\n",
       "      <td>libgaba</td>\n",
       "      <td>435779000</td>\n",
       "      <td>150753000</td>\n",
       "      <td>31633000</td>\n",
       "      <td>618165000</td>\n",
       "      <td>27121546</td>\n",
       "      <td>53</td>\n",
       "    </tr>\n",
       "    <tr>\n",
       "      <th>4</th>\n",
       "      <td>edlib</td>\n",
       "      <td>28112512000</td>\n",
       "      <td>19433150000</td>\n",
       "      <td>107151000</td>\n",
       "      <td>47652813000</td>\n",
       "      <td>37</td>\n",
       "      <td>0</td>\n",
       "    </tr>\n",
       "    <tr>\n",
       "      <th>5</th>\n",
       "      <td>seqan</td>\n",
       "      <td>90359835000</td>\n",
       "      <td>0</td>\n",
       "      <td>0</td>\n",
       "      <td>90359835000</td>\n",
       "      <td>0</td>\n",
       "      <td>0</td>\n",
       "    </tr>\n",
       "  </tbody>\n",
       "</table>\n",
       "</div>"
      ],
      "text/plain": [
       "  algorithm    fill time   trace time  convert time   total time     score  \\\n",
       "0  editdist    467377000    168255000      66259000    701891000   6880489   \n",
       "1  non-diff    665058000    273896000      59740000    998694000  27124786   \n",
       "2  diff-raw    618038000    215400000      62934000    896372000  27291141   \n",
       "3   libgaba    435779000    150753000      31633000    618165000  27121546   \n",
       "4     edlib  28112512000  19433150000     107151000  47652813000        37   \n",
       "5     seqan  90359835000            0             0  90359835000         0   \n",
       "\n",
       "   fail  \n",
       "0     0  \n",
       "1    52  \n",
       "2    32  \n",
       "3    53  \n",
       "4     0  \n",
       "5     0  "
      ]
     },
     "execution_count": 1,
     "metadata": {},
     "output_type": "execute_result"
    }
   ],
   "source": [
    "data2 = csv_to_pandas(output2, d = \"\\t\")\n",
    "data2"
   ]
  },
  {
   "cell_type": "code",
   "execution_count": 21,
   "metadata": {
    "execution": {
     "iopub.execute_input": "2022-10-11T06:46:30.731004Z",
     "iopub.status.busy": "2022-10-11T06:46:30.730442Z",
     "iopub.status.idle": "2022-10-11T06:46:30.732951Z",
     "shell.execute_reply": "2022-10-11T06:46:30.733234Z"
    }
   },
   "outputs": [
    {
     "data": {
      "text/html": [
       "<div>\n",
       "<style scoped>\n",
       "    .dataframe tbody tr th:only-of-type {\n",
       "        vertical-align: middle;\n",
       "    }\n",
       "\n",
       "    .dataframe tbody tr th {\n",
       "        vertical-align: top;\n",
       "    }\n",
       "\n",
       "    .dataframe thead th {\n",
       "        text-align: right;\n",
       "    }\n",
       "</style>\n",
       "<table border=\"1\" class=\"dataframe\">\n",
       "  <thead>\n",
       "    <tr style=\"text-align: right;\">\n",
       "      <th></th>\n",
       "      <th>algorithm</th>\n",
       "      <th>time</th>\n",
       "    </tr>\n",
       "  </thead>\n",
       "  <tbody>\n",
       "    <tr>\n",
       "      <th>0</th>\n",
       "      <td>editdist</td>\n",
       "      <td>0.467377</td>\n",
       "    </tr>\n",
       "    <tr>\n",
       "      <th>1</th>\n",
       "      <td>non-diff</td>\n",
       "      <td>0.665058</td>\n",
       "    </tr>\n",
       "    <tr>\n",
       "      <th>2</th>\n",
       "      <td>diff-raw</td>\n",
       "      <td>0.618038</td>\n",
       "    </tr>\n",
       "    <tr>\n",
       "      <th>3</th>\n",
       "      <td>libgaba</td>\n",
       "      <td>0.435779</td>\n",
       "    </tr>\n",
       "    <tr>\n",
       "      <th>4</th>\n",
       "      <td>edlib</td>\n",
       "      <td>28.112512</td>\n",
       "    </tr>\n",
       "    <tr>\n",
       "      <th>5</th>\n",
       "      <td>seqan</td>\n",
       "      <td>90.359835</td>\n",
       "    </tr>\n",
       "  </tbody>\n",
       "</table>\n",
       "</div>"
      ],
      "text/plain": [
       "  algorithm       time\n",
       "0  editdist   0.467377\n",
       "1  non-diff   0.665058\n",
       "2  diff-raw   0.618038\n",
       "3   libgaba   0.435779\n",
       "4     edlib  28.112512\n",
       "5     seqan  90.359835"
      ]
     },
     "execution_count": 1,
     "metadata": {},
     "output_type": "execute_result"
    }
   ],
   "source": [
    "cleaned2 = data2.drop(columns = [\"trace time\", \"convert time\", \"total time\", \"score\", \"fail\"])\n",
    "cleaned2 = cleaned2.rename(columns = {\"fill time\": \"time\"})\n",
    "cleaned2[\"time\"] /= 1e9\n",
    "cleaned2"
   ]
  },
  {
   "cell_type": "code",
   "execution_count": 22,
   "metadata": {
    "execution": {
     "iopub.execute_input": "2022-10-11T06:46:30.739555Z",
     "iopub.status.busy": "2022-10-11T06:46:30.738922Z",
     "iopub.status.idle": "2022-10-11T06:46:30.741349Z",
     "shell.execute_reply": "2022-10-11T06:46:30.741766Z"
    }
   },
   "outputs": [
    {
     "data": {
      "text/html": [
       "<div>\n",
       "<style scoped>\n",
       "    .dataframe tbody tr th:only-of-type {\n",
       "        vertical-align: middle;\n",
       "    }\n",
       "\n",
       "    .dataframe tbody tr th {\n",
       "        vertical-align: top;\n",
       "    }\n",
       "\n",
       "    .dataframe thead th {\n",
       "        text-align: right;\n",
       "    }\n",
       "</style>\n",
       "<table border=\"1\" class=\"dataframe\">\n",
       "  <thead>\n",
       "    <tr style=\"text-align: right;\">\n",
       "      <th></th>\n",
       "      <th>algorithm</th>\n",
       "      <th>time</th>\n",
       "    </tr>\n",
       "  </thead>\n",
       "  <tbody>\n",
       "    <tr>\n",
       "      <th>0</th>\n",
       "      <td>ours (no trace 32-32)</td>\n",
       "      <td>0.945441</td>\n",
       "    </tr>\n",
       "    <tr>\n",
       "      <th>1</th>\n",
       "      <td>ours (trace 32-32)</td>\n",
       "      <td>1.323497</td>\n",
       "    </tr>\n",
       "    <tr>\n",
       "      <th>2</th>\n",
       "      <td>ours (trace 32-64)</td>\n",
       "      <td>1.669813</td>\n",
       "    </tr>\n",
       "    <tr>\n",
       "      <th>3</th>\n",
       "      <td>editdist</td>\n",
       "      <td>0.467377</td>\n",
       "    </tr>\n",
       "    <tr>\n",
       "      <th>4</th>\n",
       "      <td>non-diff</td>\n",
       "      <td>0.665058</td>\n",
       "    </tr>\n",
       "    <tr>\n",
       "      <th>5</th>\n",
       "      <td>diff-raw</td>\n",
       "      <td>0.618038</td>\n",
       "    </tr>\n",
       "    <tr>\n",
       "      <th>6</th>\n",
       "      <td>libgaba</td>\n",
       "      <td>0.435779</td>\n",
       "    </tr>\n",
       "    <tr>\n",
       "      <th>7</th>\n",
       "      <td>edlib</td>\n",
       "      <td>28.112512</td>\n",
       "    </tr>\n",
       "    <tr>\n",
       "      <th>8</th>\n",
       "      <td>seqan</td>\n",
       "      <td>90.359835</td>\n",
       "    </tr>\n",
       "  </tbody>\n",
       "</table>\n",
       "</div>"
      ],
      "text/plain": [
       "               algorithm       time\n",
       "0  ours (no trace 32-32)   0.945441\n",
       "1     ours (trace 32-32)   1.323497\n",
       "2     ours (trace 32-64)   1.669813\n",
       "3               editdist   0.467377\n",
       "4               non-diff   0.665058\n",
       "5               diff-raw   0.618038\n",
       "6                libgaba   0.435779\n",
       "7                  edlib  28.112512\n",
       "8                  seqan  90.359835"
      ]
     },
     "execution_count": 1,
     "metadata": {},
     "output_type": "execute_result"
    }
   ],
   "source": [
    "cleaned = data.drop(index = [1, 3, 5])\n",
    "cleaned = cleaned.drop(columns = [\"dataset\"])\n",
    "cleaned = cleaned.append(cleaned2, ignore_index = True)\n",
    "cleaned"
   ]
  },
  {
   "cell_type": "markdown",
   "metadata": {},
   "source": [
    "25kbp Nanopore Reads Benchmark (AVX2)"
   ]
  },
  {
   "cell_type": "code",
   "execution_count": 23,
   "metadata": {
    "execution": {
     "iopub.execute_input": "2022-10-11T06:46:30.760876Z",
     "iopub.status.busy": "2022-10-11T06:46:30.758384Z",
     "iopub.status.idle": "2022-10-11T06:46:31.526248Z",
     "shell.execute_reply": "2022-10-11T06:46:31.526722Z"
    }
   },
   "outputs": [
    {
     "data": {
      "text/html": [
       "\n",
       "<div id=\"altair-viz-7fe54580df8a40f6ac532cae80dbe38a\"></div>\n",
       "<script type=\"text/javascript\">\n",
       "  (function(spec, embedOpt){\n",
       "    let outputDiv = document.currentScript.previousElementSibling;\n",
       "    if (outputDiv.id !== \"altair-viz-7fe54580df8a40f6ac532cae80dbe38a\") {\n",
       "      outputDiv = document.getElementById(\"altair-viz-7fe54580df8a40f6ac532cae80dbe38a\");\n",
       "    }\n",
       "    const paths = {\n",
       "      \"vega\": \"https://cdn.jsdelivr.net/npm//vega@5?noext\",\n",
       "      \"vega-lib\": \"https://cdn.jsdelivr.net/npm//vega-lib?noext\",\n",
       "      \"vega-lite\": \"https://cdn.jsdelivr.net/npm//vega-lite@4.8.1?noext\",\n",
       "      \"vega-embed\": \"https://cdn.jsdelivr.net/npm//vega-embed@6?noext\",\n",
       "    };\n",
       "\n",
       "    function loadScript(lib) {\n",
       "      return new Promise(function(resolve, reject) {\n",
       "        var s = document.createElement('script');\n",
       "        s.src = paths[lib];\n",
       "        s.async = true;\n",
       "        s.onload = () => resolve(paths[lib]);\n",
       "        s.onerror = () => reject(`Error loading script: ${paths[lib]}`);\n",
       "        document.getElementsByTagName(\"head\")[0].appendChild(s);\n",
       "      });\n",
       "    }\n",
       "\n",
       "    function showError(err) {\n",
       "      outputDiv.innerHTML = `<div class=\"error\" style=\"color:red;\">${err}</div>`;\n",
       "      throw err;\n",
       "    }\n",
       "\n",
       "    function displayChart(vegaEmbed) {\n",
       "      vegaEmbed(outputDiv, spec, embedOpt)\n",
       "        .catch(err => showError(`Javascript Error: ${err.message}<br>This usually means there's a typo in your chart specification. See the javascript console for the full traceback.`));\n",
       "    }\n",
       "\n",
       "    if(typeof define === \"function\" && define.amd) {\n",
       "      requirejs.config({paths});\n",
       "      require([\"vega-embed\"], displayChart, err => showError(`Error loading script: ${err.message}`));\n",
       "    } else if (typeof vegaEmbed === \"function\") {\n",
       "      displayChart(vegaEmbed);\n",
       "    } else {\n",
       "      loadScript(\"vega\")\n",
       "        .then(() => loadScript(\"vega-lite\"))\n",
       "        .then(() => loadScript(\"vega-embed\"))\n",
       "        .catch(showError)\n",
       "        .then(() => displayChart(vegaEmbed));\n",
       "    }\n",
       "  })({\"config\": {\"view\": {\"continuousWidth\": 400, \"continuousHeight\": 300}}, \"layer\": [{\"mark\": {\"type\": \"point\", \"filled\": true, \"opacity\": 1}, \"encoding\": {\"x\": {\"type\": \"quantitative\", \"axis\": {\"grid\": true, \"title\": \"time (s)\"}, \"field\": \"time\", \"scale\": {\"type\": \"log\"}}, \"y\": {\"type\": \"nominal\", \"axis\": {\"grid\": true}, \"field\": \"algorithm\", \"sort\": {\"field\": \"time\"}}}, \"transform\": [{\"filter\": \"(((datum.algorithm !== 'ours (trace 32-32)') && (datum.algorithm !== 'ours (no trace 32-32)')) && (datum.algorithm !== 'ours (trace 32-64)'))\"}]}, {\"mark\": {\"type\": \"point\", \"color\": \"red\", \"filled\": true}, \"encoding\": {\"x\": {\"type\": \"quantitative\", \"axis\": {\"grid\": true, \"title\": \"time (s)\"}, \"field\": \"time\", \"scale\": {\"type\": \"log\"}}, \"y\": {\"type\": \"nominal\", \"axis\": {\"grid\": true}, \"field\": \"algorithm\", \"sort\": {\"field\": \"time\"}}}, \"transform\": [{\"filter\": \"(((datum.algorithm === 'ours (trace 32-32)') || (datum.algorithm === 'ours (no trace 32-32)')) || (datum.algorithm === 'ours (trace 32-64)'))\"}]}], \"data\": {\"url\": \"http://localhost:24160/d9433d50cca1f74a41dfd8943f44539d.json\"}, \"height\": 150, \"width\": 150, \"$schema\": \"https://vega.github.io/schema/vega-lite/v4.8.1.json\"}, {\"mode\": \"vega-lite\"});\n",
       "</script>"
      ],
      "text/plain": [
       "alt.LayerChart(...)"
      ]
     },
     "execution_count": 1,
     "metadata": {},
     "output_type": "execute_result"
    }
   ],
   "source": [
    "chart1 = alt.Chart(cleaned).mark_point(opacity = 1, filled = True).encode(\n",
    "    x = alt.X(\"time\", axis = alt.Axis(title = \"time (s)\", grid = True), scale = alt.Scale(type = \"log\")),\n",
    "    y = alt.Y(\"algorithm\", axis = alt.Axis(grid = True), sort = alt.EncodingSortField(field = \"time\"))\n",
    ").transform_filter((datum.algorithm != \"ours (trace 32-32)\") & (datum.algorithm != \"ours (no trace 32-32)\") & (datum.algorithm != \"ours (trace 32-64)\"))\n",
    "\n",
    "chart2 = alt.Chart(cleaned).mark_point(color = \"red\", filled = True).encode(\n",
    "    x = alt.X(\"time\", axis = alt.Axis(title = \"time (s)\", grid = True), scale = alt.Scale(type = \"log\")),\n",
    "    y = alt.Y(\"algorithm\", axis = alt.Axis(grid = True), sort = alt.EncodingSortField(field = \"time\"))\n",
    ").transform_filter((datum.algorithm == \"ours (trace 32-32)\") | (datum.algorithm == \"ours (no trace 32-32)\") | (datum.algorithm == \"ours (trace 32-64)\"))\n",
    "\n",
    "c = (chart1 + chart2).properties(\n",
    "    width = 150,\n",
    "    height = 150\n",
    ")\n",
    "save(c, \"nanopore_bench.pdf\")\n",
    "c"
   ]
  },
  {
   "cell_type": "markdown",
   "metadata": {},
   "source": [
    "## Sequence-to-Profile Alignment Benchmark"
   ]
  },
  {
   "cell_type": "code",
   "execution_count": 24,
   "metadata": {
    "execution": {
     "iopub.execute_input": "2022-10-11T06:46:31.529844Z",
     "iopub.status.busy": "2022-10-11T06:46:31.529442Z",
     "iopub.status.idle": "2022-10-11T06:46:39.560642Z",
     "shell.execute_reply": "2022-10-11T06:46:39.561141Z"
    }
   },
   "outputs": [
    {
     "data": {
      "text/plain": [
       "['size, time',\n",
       " '32-32, 0.155743695',\n",
       " '32-64, 0.181100085',\n",
       " '32-128, 0.214255002',\n",
       " '128-128, 0.216553961',\n",
       " '# Done!']"
      ]
     },
     "execution_count": 1,
     "metadata": {},
     "output_type": "execute_result"
    }
   ],
   "source": [
    "output = !cd .. && cargo run --example pssm_bench --release --features simd_avx2 --quiet\n",
    "output"
   ]
  },
  {
   "cell_type": "code",
   "execution_count": 25,
   "metadata": {
    "execution": {
     "iopub.execute_input": "2022-10-11T06:46:39.564490Z",
     "iopub.status.busy": "2022-10-11T06:46:39.564004Z",
     "iopub.status.idle": "2022-10-11T06:46:39.571026Z",
     "shell.execute_reply": "2022-10-11T06:46:39.571529Z"
    }
   },
   "outputs": [
    {
     "data": {
      "text/html": [
       "<div>\n",
       "<style scoped>\n",
       "    .dataframe tbody tr th:only-of-type {\n",
       "        vertical-align: middle;\n",
       "    }\n",
       "\n",
       "    .dataframe tbody tr th {\n",
       "        vertical-align: top;\n",
       "    }\n",
       "\n",
       "    .dataframe thead th {\n",
       "        text-align: right;\n",
       "    }\n",
       "</style>\n",
       "<table border=\"1\" class=\"dataframe\">\n",
       "  <thead>\n",
       "    <tr style=\"text-align: right;\">\n",
       "      <th></th>\n",
       "      <th>size</th>\n",
       "      <th>time</th>\n",
       "    </tr>\n",
       "  </thead>\n",
       "  <tbody>\n",
       "    <tr>\n",
       "      <th>0</th>\n",
       "      <td>32-32</td>\n",
       "      <td>0.155744</td>\n",
       "    </tr>\n",
       "    <tr>\n",
       "      <th>1</th>\n",
       "      <td>32-64</td>\n",
       "      <td>0.181100</td>\n",
       "    </tr>\n",
       "    <tr>\n",
       "      <th>2</th>\n",
       "      <td>32-128</td>\n",
       "      <td>0.214255</td>\n",
       "    </tr>\n",
       "    <tr>\n",
       "      <th>3</th>\n",
       "      <td>128-128</td>\n",
       "      <td>0.216554</td>\n",
       "    </tr>\n",
       "  </tbody>\n",
       "</table>\n",
       "</div>"
      ],
      "text/plain": [
       "      size      time\n",
       "0    32-32  0.155744\n",
       "1    32-64  0.181100\n",
       "2   32-128  0.214255\n",
       "3  128-128  0.216554"
      ]
     },
     "execution_count": 1,
     "metadata": {},
     "output_type": "execute_result"
    }
   ],
   "source": [
    "data = csv_to_pandas(output)\n",
    "data"
   ]
  },
  {
   "cell_type": "markdown",
   "metadata": {},
   "source": [
    "SCOP Sequence-to-Profile Alignment Benchmark (AVX2)"
   ]
  },
  {
   "cell_type": "code",
   "execution_count": 26,
   "metadata": {
    "execution": {
     "iopub.execute_input": "2022-10-11T06:46:39.588460Z",
     "iopub.status.busy": "2022-10-11T06:46:39.587975Z",
     "iopub.status.idle": "2022-10-11T06:46:40.349505Z",
     "shell.execute_reply": "2022-10-11T06:46:40.350010Z"
    },
    "scrolled": false
   },
   "outputs": [
    {
     "data": {
      "text/html": [
       "\n",
       "<div id=\"altair-viz-acd10bb625cc4776b21d00eaa37d49d4\"></div>\n",
       "<script type=\"text/javascript\">\n",
       "  (function(spec, embedOpt){\n",
       "    let outputDiv = document.currentScript.previousElementSibling;\n",
       "    if (outputDiv.id !== \"altair-viz-acd10bb625cc4776b21d00eaa37d49d4\") {\n",
       "      outputDiv = document.getElementById(\"altair-viz-acd10bb625cc4776b21d00eaa37d49d4\");\n",
       "    }\n",
       "    const paths = {\n",
       "      \"vega\": \"https://cdn.jsdelivr.net/npm//vega@5?noext\",\n",
       "      \"vega-lib\": \"https://cdn.jsdelivr.net/npm//vega-lib?noext\",\n",
       "      \"vega-lite\": \"https://cdn.jsdelivr.net/npm//vega-lite@4.8.1?noext\",\n",
       "      \"vega-embed\": \"https://cdn.jsdelivr.net/npm//vega-embed@6?noext\",\n",
       "    };\n",
       "\n",
       "    function loadScript(lib) {\n",
       "      return new Promise(function(resolve, reject) {\n",
       "        var s = document.createElement('script');\n",
       "        s.src = paths[lib];\n",
       "        s.async = true;\n",
       "        s.onload = () => resolve(paths[lib]);\n",
       "        s.onerror = () => reject(`Error loading script: ${paths[lib]}`);\n",
       "        document.getElementsByTagName(\"head\")[0].appendChild(s);\n",
       "      });\n",
       "    }\n",
       "\n",
       "    function showError(err) {\n",
       "      outputDiv.innerHTML = `<div class=\"error\" style=\"color:red;\">${err}</div>`;\n",
       "      throw err;\n",
       "    }\n",
       "\n",
       "    function displayChart(vegaEmbed) {\n",
       "      vegaEmbed(outputDiv, spec, embedOpt)\n",
       "        .catch(err => showError(`Javascript Error: ${err.message}<br>This usually means there's a typo in your chart specification. See the javascript console for the full traceback.`));\n",
       "    }\n",
       "\n",
       "    if(typeof define === \"function\" && define.amd) {\n",
       "      requirejs.config({paths});\n",
       "      require([\"vega-embed\"], displayChart, err => showError(`Error loading script: ${err.message}`));\n",
       "    } else if (typeof vegaEmbed === \"function\") {\n",
       "      displayChart(vegaEmbed);\n",
       "    } else {\n",
       "      loadScript(\"vega\")\n",
       "        .then(() => loadScript(\"vega-lite\"))\n",
       "        .then(() => loadScript(\"vega-embed\"))\n",
       "        .catch(showError)\n",
       "        .then(() => displayChart(vegaEmbed));\n",
       "    }\n",
       "  })({\"config\": {\"view\": {\"continuousWidth\": 400, \"continuousHeight\": 300}}, \"layer\": [{\"mark\": \"bar\", \"encoding\": {\"color\": {\"type\": \"nominal\", \"field\": \"size\", \"legend\": null, \"sort\": [\"32-32\", \"32-64\", \"32-128\", \"128-128\"]}, \"x\": {\"type\": \"nominal\", \"field\": \"size\", \"sort\": [\"32-32\", \"32-64\", \"32-128\", \"128-128\"]}, \"y\": {\"type\": \"quantitative\", \"axis\": {\"title\": \"time (s)\"}, \"field\": \"time\"}}, \"height\": 100, \"transform\": [{\"filter\": \"(datum.size !== '2048-2048')\"}], \"width\": 60}, {\"mark\": {\"type\": \"text\", \"dy\": -4, \"size\": 7}, \"encoding\": {\"color\": {\"type\": \"nominal\", \"field\": \"size\", \"legend\": null, \"sort\": [\"32-32\", \"32-64\", \"32-128\", \"128-128\"]}, \"text\": {\"type\": \"quantitative\", \"field\": \"time\", \"format\": \".2\"}, \"x\": {\"type\": \"nominal\", \"field\": \"size\", \"sort\": [\"32-32\", \"32-64\", \"32-128\", \"128-128\"]}, \"y\": {\"type\": \"quantitative\", \"axis\": {\"title\": \"time (s)\"}, \"field\": \"time\"}}, \"height\": 100, \"transform\": [{\"filter\": \"(datum.size !== '2048-2048')\"}], \"width\": 60}], \"data\": {\"url\": \"http://localhost:24160/11ca510bdc18c5c0fc2bcbf209787d22.json\"}, \"$schema\": \"https://vega.github.io/schema/vega-lite/v4.8.1.json\"}, {\"mode\": \"vega-lite\"});\n",
       "</script>"
      ],
      "text/plain": [
       "alt.LayerChart(...)"
      ]
     },
     "execution_count": 1,
     "metadata": {},
     "output_type": "execute_result"
    }
   ],
   "source": [
    "c = alt.Chart(data).mark_bar().encode(\n",
    "    x = alt.X(\"size\", sort = [\"32-32\", \"32-64\", \"32-128\", \"128-128\"]),\n",
    "    y = alt.Y(\"time\", axis = alt.Axis(title = \"time (s)\")),\n",
    "    color = alt.Color(\"size\", sort = [\"32-32\", \"32-64\", \"32-128\", \"128-128\"], legend = None)\n",
    ").transform_filter(\n",
    "    datum.size != \"2048-2048\"\n",
    ").properties(\n",
    "    width = 60,\n",
    "    height = 100\n",
    ")\n",
    "t = c.mark_text(dy = -4, size = 7).encode(text = alt.Text(\"time\", format = \".2\"))\n",
    "c = c + t\n",
    "save(c, \"pssm_size_bench.pdf\")\n",
    "c"
   ]
  },
  {
   "cell_type": "markdown",
   "metadata": {},
   "source": [
    "## WASM SIMD\n",
    "\n",
    "[Wasmtime](https://wasmtime.dev/) is needed to run the webassembly code."
   ]
  },
  {
   "cell_type": "code",
   "execution_count": 27,
   "metadata": {
    "execution": {
     "iopub.execute_input": "2022-10-11T06:46:40.353514Z",
     "iopub.status.busy": "2022-10-11T06:46:40.353073Z",
     "iopub.status.idle": "2022-10-11T06:47:40.585831Z",
     "shell.execute_reply": "2022-10-11T06:47:40.586334Z"
    }
   },
   "outputs": [
    {
     "data": {
      "text/plain": [
       "['bench_rustbio_aa_100_1000\\t24,199,903',\n",
       " 'bench_rustbio_aa_10_100\\t249,137',\n",
       " 'bench_scan_aa_1000_10000\\t1,029,175',\n",
       " 'bench_scan_aa_1000_10000_insert\\t11,719,417',\n",
       " 'bench_scan_aa_1000_10000_small\\t672,887',\n",
       " 'bench_scan_aa_1000_10000_trace\\t2,708,199',\n",
       " 'bench_scan_aa_100_1000\\t94,713',\n",
       " 'bench_scan_aa_100_1000_insert\\t181,724',\n",
       " 'bench_scan_aa_100_1000_small\\t67,035',\n",
       " 'bench_scan_aa_100_1000_trace\\t395,282',\n",
       " 'bench_scan_aa_10_100\\t8,390',\n",
       " 'bench_scan_aa_10_100_insert\\t11,960',\n",
       " 'bench_scan_aa_10_100_small\\t5,999',\n",
       " 'bench_scan_aa_10_100_trace\\t192,699',\n",
       " 'bench_scan_nuc_1000_10000\\t673,740',\n",
       " 'bench_scan_nuc_100_1000\\t67,624']"
      ]
     },
     "execution_count": 1,
     "metadata": {},
     "output_type": "execute_result"
    }
   ],
   "source": [
    "output = !CARGO_TARGET_WASM32_WASI_RUNNER=\"wasmtime --wasm-features simd --\" cargo bench --target=wasm32-wasi --features simd_wasm --quiet -- --nocapture | grep 'bench:' | awk '{print $2\"\\t\"$5}'\n",
    "output"
   ]
  },
  {
   "cell_type": "code",
   "execution_count": 28,
   "metadata": {
    "execution": {
     "iopub.execute_input": "2022-10-11T06:47:40.591319Z",
     "iopub.status.busy": "2022-10-11T06:47:40.590829Z",
     "iopub.status.idle": "2022-10-11T06:47:40.592946Z",
     "shell.execute_reply": "2022-10-11T06:47:40.593384Z"
    }
   },
   "outputs": [
    {
     "data": {
      "text/plain": [
       "['algorithm\\talphabet\\tk\\tlength\\tproperty\\ttime',\n",
       " 'rust bio\\tprotein\\t100\\t1000\\tdefault\\t24,199,903',\n",
       " 'rust bio\\tprotein\\t10\\t100\\tdefault\\t249,137',\n",
       " 'ours\\tprotein\\t1000\\t10000\\tdefault\\t1,029,175',\n",
       " 'ours\\tprotein\\t1000\\t10000\\tinsert\\t11,719,417',\n",
       " 'ours\\tprotein\\t1000\\t10000\\tsmall\\t672,887',\n",
       " 'ours\\tprotein\\t1000\\t10000\\ttrace\\t2,708,199',\n",
       " 'ours\\tprotein\\t100\\t1000\\tdefault\\t94,713',\n",
       " 'ours\\tprotein\\t100\\t1000\\tinsert\\t181,724',\n",
       " 'ours\\tprotein\\t100\\t1000\\tsmall\\t67,035',\n",
       " 'ours\\tprotein\\t100\\t1000\\ttrace\\t395,282',\n",
       " 'ours\\tprotein\\t10\\t100\\tdefault\\t8,390',\n",
       " 'ours\\tprotein\\t10\\t100\\tinsert\\t11,960',\n",
       " 'ours\\tprotein\\t10\\t100\\tsmall\\t5,999',\n",
       " 'ours\\tprotein\\t10\\t100\\ttrace\\t192,699',\n",
       " 'ours\\tnucleotide\\t1000\\t10000\\tdefault\\t673,740',\n",
       " 'ours\\tnucleotide\\t100\\t1000\\tdefault\\t67,624']"
      ]
     },
     "execution_count": 1,
     "metadata": {},
     "output_type": "execute_result"
    }
   ],
   "source": [
    "cleaned = [\"algorithm\\talphabet\\tk\\tlength\\tproperty\\ttime\"]\n",
    "names = [\"rustbio_aa\", \"scan_aa\", \"scan_nuc\"]\n",
    "new_names = [\"rust bio\\tprotein\", \"ours\\tprotein\", \"ours\\tnucleotide\"]\n",
    "\n",
    "for o in output:\n",
    "    o = o[len(\"bench_\"):]\n",
    "    for n, nn in zip(names, new_names):\n",
    "        if o.startswith(n):\n",
    "            suffix = o[len(n):].replace(\"_\", \"\\t\")\n",
    "            o = nn + suffix\n",
    "            break\n",
    "    if len(o.split(\"\\t\")) < len(cleaned[0].split(\"\\t\")):\n",
    "        insert_idx = o.rindex(\"\\t\")\n",
    "        o = o[:insert_idx] + \"\\tdefault\" + o[insert_idx:]\n",
    "    cleaned.append(o)\n",
    "\n",
    "cleaned"
   ]
  },
  {
   "cell_type": "code",
   "execution_count": 29,
   "metadata": {
    "execution": {
     "iopub.execute_input": "2022-10-11T06:47:40.596085Z",
     "iopub.status.busy": "2022-10-11T06:47:40.595690Z",
     "iopub.status.idle": "2022-10-11T06:47:40.605596Z",
     "shell.execute_reply": "2022-10-11T06:47:40.606007Z"
    }
   },
   "outputs": [
    {
     "data": {
      "text/html": [
       "<div>\n",
       "<style scoped>\n",
       "    .dataframe tbody tr th:only-of-type {\n",
       "        vertical-align: middle;\n",
       "    }\n",
       "\n",
       "    .dataframe tbody tr th {\n",
       "        vertical-align: top;\n",
       "    }\n",
       "\n",
       "    .dataframe thead th {\n",
       "        text-align: right;\n",
       "    }\n",
       "</style>\n",
       "<table border=\"1\" class=\"dataframe\">\n",
       "  <thead>\n",
       "    <tr style=\"text-align: right;\">\n",
       "      <th></th>\n",
       "      <th>algorithm</th>\n",
       "      <th>alphabet</th>\n",
       "      <th>k</th>\n",
       "      <th>length</th>\n",
       "      <th>property</th>\n",
       "      <th>time</th>\n",
       "    </tr>\n",
       "  </thead>\n",
       "  <tbody>\n",
       "    <tr>\n",
       "      <th>0</th>\n",
       "      <td>rust bio</td>\n",
       "      <td>protein</td>\n",
       "      <td>100</td>\n",
       "      <td>1000</td>\n",
       "      <td>default</td>\n",
       "      <td>24199903</td>\n",
       "    </tr>\n",
       "    <tr>\n",
       "      <th>1</th>\n",
       "      <td>rust bio</td>\n",
       "      <td>protein</td>\n",
       "      <td>10</td>\n",
       "      <td>100</td>\n",
       "      <td>default</td>\n",
       "      <td>249137</td>\n",
       "    </tr>\n",
       "    <tr>\n",
       "      <th>2</th>\n",
       "      <td>ours</td>\n",
       "      <td>protein</td>\n",
       "      <td>1000</td>\n",
       "      <td>10000</td>\n",
       "      <td>default</td>\n",
       "      <td>1029175</td>\n",
       "    </tr>\n",
       "    <tr>\n",
       "      <th>3</th>\n",
       "      <td>ours</td>\n",
       "      <td>protein</td>\n",
       "      <td>1000</td>\n",
       "      <td>10000</td>\n",
       "      <td>insert</td>\n",
       "      <td>11719417</td>\n",
       "    </tr>\n",
       "    <tr>\n",
       "      <th>4</th>\n",
       "      <td>ours</td>\n",
       "      <td>protein</td>\n",
       "      <td>1000</td>\n",
       "      <td>10000</td>\n",
       "      <td>small</td>\n",
       "      <td>672887</td>\n",
       "    </tr>\n",
       "    <tr>\n",
       "      <th>5</th>\n",
       "      <td>ours</td>\n",
       "      <td>protein</td>\n",
       "      <td>1000</td>\n",
       "      <td>10000</td>\n",
       "      <td>trace</td>\n",
       "      <td>2708199</td>\n",
       "    </tr>\n",
       "    <tr>\n",
       "      <th>6</th>\n",
       "      <td>ours</td>\n",
       "      <td>protein</td>\n",
       "      <td>100</td>\n",
       "      <td>1000</td>\n",
       "      <td>default</td>\n",
       "      <td>94713</td>\n",
       "    </tr>\n",
       "    <tr>\n",
       "      <th>7</th>\n",
       "      <td>ours</td>\n",
       "      <td>protein</td>\n",
       "      <td>100</td>\n",
       "      <td>1000</td>\n",
       "      <td>insert</td>\n",
       "      <td>181724</td>\n",
       "    </tr>\n",
       "    <tr>\n",
       "      <th>8</th>\n",
       "      <td>ours</td>\n",
       "      <td>protein</td>\n",
       "      <td>100</td>\n",
       "      <td>1000</td>\n",
       "      <td>small</td>\n",
       "      <td>67035</td>\n",
       "    </tr>\n",
       "    <tr>\n",
       "      <th>9</th>\n",
       "      <td>ours</td>\n",
       "      <td>protein</td>\n",
       "      <td>100</td>\n",
       "      <td>1000</td>\n",
       "      <td>trace</td>\n",
       "      <td>395282</td>\n",
       "    </tr>\n",
       "    <tr>\n",
       "      <th>10</th>\n",
       "      <td>ours</td>\n",
       "      <td>protein</td>\n",
       "      <td>10</td>\n",
       "      <td>100</td>\n",
       "      <td>default</td>\n",
       "      <td>8390</td>\n",
       "    </tr>\n",
       "    <tr>\n",
       "      <th>11</th>\n",
       "      <td>ours</td>\n",
       "      <td>protein</td>\n",
       "      <td>10</td>\n",
       "      <td>100</td>\n",
       "      <td>insert</td>\n",
       "      <td>11960</td>\n",
       "    </tr>\n",
       "    <tr>\n",
       "      <th>12</th>\n",
       "      <td>ours</td>\n",
       "      <td>protein</td>\n",
       "      <td>10</td>\n",
       "      <td>100</td>\n",
       "      <td>small</td>\n",
       "      <td>5999</td>\n",
       "    </tr>\n",
       "    <tr>\n",
       "      <th>13</th>\n",
       "      <td>ours</td>\n",
       "      <td>protein</td>\n",
       "      <td>10</td>\n",
       "      <td>100</td>\n",
       "      <td>trace</td>\n",
       "      <td>192699</td>\n",
       "    </tr>\n",
       "    <tr>\n",
       "      <th>14</th>\n",
       "      <td>ours</td>\n",
       "      <td>nucleotide</td>\n",
       "      <td>1000</td>\n",
       "      <td>10000</td>\n",
       "      <td>default</td>\n",
       "      <td>673740</td>\n",
       "    </tr>\n",
       "    <tr>\n",
       "      <th>15</th>\n",
       "      <td>ours</td>\n",
       "      <td>nucleotide</td>\n",
       "      <td>100</td>\n",
       "      <td>1000</td>\n",
       "      <td>default</td>\n",
       "      <td>67624</td>\n",
       "    </tr>\n",
       "  </tbody>\n",
       "</table>\n",
       "</div>"
      ],
      "text/plain": [
       "   algorithm    alphabet     k  length property      time\n",
       "0   rust bio     protein   100    1000  default  24199903\n",
       "1   rust bio     protein    10     100  default    249137\n",
       "2       ours     protein  1000   10000  default   1029175\n",
       "3       ours     protein  1000   10000   insert  11719417\n",
       "4       ours     protein  1000   10000    small    672887\n",
       "5       ours     protein  1000   10000    trace   2708199\n",
       "6       ours     protein   100    1000  default     94713\n",
       "7       ours     protein   100    1000   insert    181724\n",
       "8       ours     protein   100    1000    small     67035\n",
       "9       ours     protein   100    1000    trace    395282\n",
       "10      ours     protein    10     100  default      8390\n",
       "11      ours     protein    10     100   insert     11960\n",
       "12      ours     protein    10     100    small      5999\n",
       "13      ours     protein    10     100    trace    192699\n",
       "14      ours  nucleotide  1000   10000  default    673740\n",
       "15      ours  nucleotide   100    1000  default     67624"
      ]
     },
     "execution_count": 1,
     "metadata": {},
     "output_type": "execute_result"
    }
   ],
   "source": [
    "data = csv_to_pandas(cleaned, d = \"\\t\", t = \",\")\n",
    "data"
   ]
  },
  {
   "cell_type": "code",
   "execution_count": 30,
   "metadata": {
    "execution": {
     "iopub.execute_input": "2022-10-11T06:47:40.609937Z",
     "iopub.status.busy": "2022-10-11T06:47:40.609536Z",
     "iopub.status.idle": "2022-10-11T06:47:40.611315Z",
     "shell.execute_reply": "2022-10-11T06:47:40.611758Z"
    }
   },
   "outputs": [],
   "source": [
    "data[\"algorithm property\"] = data[\"algorithm\"] + \" \" + data[\"property\"]\n",
    "data[\"time\"] /= 1000"
   ]
  },
  {
   "cell_type": "markdown",
   "metadata": {},
   "source": [
    "Random Protein Sequences Benchmark (WASM SIMD)"
   ]
  },
  {
   "cell_type": "code",
   "execution_count": 31,
   "metadata": {
    "execution": {
     "iopub.execute_input": "2022-10-11T06:47:40.631333Z",
     "iopub.status.busy": "2022-10-11T06:47:40.628949Z",
     "iopub.status.idle": "2022-10-11T06:47:41.380849Z",
     "shell.execute_reply": "2022-10-11T06:47:41.381278Z"
    }
   },
   "outputs": [
    {
     "data": {
      "text/html": [
       "\n",
       "<div id=\"altair-viz-db2b81cd4aae400387e0a01f9bb6de74\"></div>\n",
       "<script type=\"text/javascript\">\n",
       "  (function(spec, embedOpt){\n",
       "    let outputDiv = document.currentScript.previousElementSibling;\n",
       "    if (outputDiv.id !== \"altair-viz-db2b81cd4aae400387e0a01f9bb6de74\") {\n",
       "      outputDiv = document.getElementById(\"altair-viz-db2b81cd4aae400387e0a01f9bb6de74\");\n",
       "    }\n",
       "    const paths = {\n",
       "      \"vega\": \"https://cdn.jsdelivr.net/npm//vega@5?noext\",\n",
       "      \"vega-lib\": \"https://cdn.jsdelivr.net/npm//vega-lib?noext\",\n",
       "      \"vega-lite\": \"https://cdn.jsdelivr.net/npm//vega-lite@4.8.1?noext\",\n",
       "      \"vega-embed\": \"https://cdn.jsdelivr.net/npm//vega-embed@6?noext\",\n",
       "    };\n",
       "\n",
       "    function loadScript(lib) {\n",
       "      return new Promise(function(resolve, reject) {\n",
       "        var s = document.createElement('script');\n",
       "        s.src = paths[lib];\n",
       "        s.async = true;\n",
       "        s.onload = () => resolve(paths[lib]);\n",
       "        s.onerror = () => reject(`Error loading script: ${paths[lib]}`);\n",
       "        document.getElementsByTagName(\"head\")[0].appendChild(s);\n",
       "      });\n",
       "    }\n",
       "\n",
       "    function showError(err) {\n",
       "      outputDiv.innerHTML = `<div class=\"error\" style=\"color:red;\">${err}</div>`;\n",
       "      throw err;\n",
       "    }\n",
       "\n",
       "    function displayChart(vegaEmbed) {\n",
       "      vegaEmbed(outputDiv, spec, embedOpt)\n",
       "        .catch(err => showError(`Javascript Error: ${err.message}<br>This usually means there's a typo in your chart specification. See the javascript console for the full traceback.`));\n",
       "    }\n",
       "\n",
       "    if(typeof define === \"function\" && define.amd) {\n",
       "      requirejs.config({paths});\n",
       "      require([\"vega-embed\"], displayChart, err => showError(`Error loading script: ${err.message}`));\n",
       "    } else if (typeof vegaEmbed === \"function\") {\n",
       "      displayChart(vegaEmbed);\n",
       "    } else {\n",
       "      loadScript(\"vega\")\n",
       "        .then(() => loadScript(\"vega-lite\"))\n",
       "        .then(() => loadScript(\"vega-embed\"))\n",
       "        .catch(showError)\n",
       "        .then(() => displayChart(vegaEmbed));\n",
       "    }\n",
       "  })({\"config\": {\"view\": {\"continuousWidth\": 400, \"continuousHeight\": 300}}, \"data\": {\"url\": \"http://localhost:24160/22b529c618b4f5526c52250684b2502a.json\"}, \"mark\": {\"type\": \"point\", \"filled\": true, \"opacity\": 1}, \"encoding\": {\"color\": {\"type\": \"nominal\", \"field\": \"length\"}, \"shape\": {\"type\": \"nominal\", \"field\": \"length\"}, \"x\": {\"type\": \"quantitative\", \"axis\": {\"title\": \"time (us)\"}, \"field\": \"time\", \"scale\": {\"type\": \"log\"}}, \"y\": {\"type\": \"nominal\", \"axis\": {\"grid\": true, \"title\": \"algorithm\"}, \"field\": \"algorithm property\", \"sort\": {\"field\": \"time\"}}}, \"height\": 150, \"transform\": [{\"filter\": \"(datum.alphabet === 'protein')\"}], \"width\": 200, \"$schema\": \"https://vega.github.io/schema/vega-lite/v4.8.1.json\"}, {\"mode\": \"vega-lite\"});\n",
       "</script>"
      ],
      "text/plain": [
       "alt.Chart(...)"
      ]
     },
     "execution_count": 1,
     "metadata": {},
     "output_type": "execute_result"
    }
   ],
   "source": [
    "c = alt.Chart(data).mark_point(opacity = 1, filled = True).encode(\n",
    "    x = alt.X(\"time\", axis = alt.Axis(title = \"time (us)\"), scale = alt.Scale(type = \"log\")),\n",
    "    y = alt.Y(\"algorithm property\", axis = alt.Axis(title = \"algorithm\", grid = True), sort = alt.EncodingSortField(field = \"time\")),\n",
    "    color = \"length:N\",\n",
    "    shape = \"length:N\"\n",
    ").transform_filter(\n",
    "    datum.alphabet == \"protein\"\n",
    ").properties(\n",
    "    width = 200,\n",
    "    height = 150\n",
    ")\n",
    "save(c, \"random_protein_bench_wasm.pdf\")\n",
    "c"
   ]
  }
 ],
 "metadata": {
  "kernelspec": {
   "display_name": "Python 3",
   "language": "python",
   "name": "python3"
  },
  "language_info": {
   "codemirror_mode": {
    "name": "ipython",
    "version": 3
   },
   "file_extension": ".py",
   "mimetype": "text/x-python",
   "name": "python",
   "nbconvert_exporter": "python",
   "pygments_lexer": "ipython3",
   "version": "3.8.5"
  }
 },
 "nbformat": 4,
 "nbformat_minor": 4
}
