{
 "cells": [
  {
   "cell_type": "markdown",
   "metadata": {},
   "source": [
    "# Block Aligner Benchmark Analysis and Visualizations"
   ]
  },
  {
   "cell_type": "markdown",
   "metadata": {},
   "source": [
    "This notebook contains code for collecting, cleaning, and analyzing data produced by block aligner's experiments.\n",
    "\n",
    "To run this, you will need to install all the libraries imported below, along with [altair-saver](https://github.com/altair-viz/altair_saver) and [altair-data-server](https://github.com/altair-viz/altair_data_server), which has some extra dependencies for PDF saving.\n",
    "\n",
    "Run each cell one by one to reproduce the experiments. This may take a while. For accurate benchmarking, it is recommended to run the entire notebook in the command line with `nbconvert`."
   ]
  },
  {
   "cell_type": "code",
   "execution_count": 1,
   "metadata": {
    "execution": {
     "iopub.execute_input": "2023-06-07T09:46:03.370809Z",
     "iopub.status.busy": "2023-06-07T09:46:03.370191Z",
     "iopub.status.idle": "2023-06-07T09:46:04.843120Z",
     "shell.execute_reply": "2023-06-07T09:46:04.843540Z"
    }
   },
   "outputs": [
    {
     "data": {
      "text/plain": [
       "DataTransformerRegistry.enable('data_server')"
      ]
     },
     "execution_count": 1,
     "metadata": {},
     "output_type": "execute_result"
    }
   ],
   "source": [
    "import altair as alt\n",
    "from altair_saver import save\n",
    "from altair import datum\n",
    "import pandas as pd\n",
    "from io import StringIO\n",
    "\n",
    "alt.data_transformers.enable(\"data_server\")"
   ]
  },
  {
   "cell_type": "code",
   "execution_count": 2,
   "metadata": {
    "execution": {
     "iopub.execute_input": "2023-06-07T09:46:04.846760Z",
     "iopub.status.busy": "2023-06-07T09:46:04.846376Z",
     "iopub.status.idle": "2023-06-07T09:46:04.848309Z",
     "shell.execute_reply": "2023-06-07T09:46:04.848707Z"
    }
   },
   "outputs": [],
   "source": [
    "def csv_to_pandas(csv, d = \"\\\\s*,\\\\s*\", t = None):\n",
    "    s = StringIO(\"\\n\".join(csv))\n",
    "    data = pd.read_csv(s, sep = d, thousands = t, comment = \"#\", engine = \"python\")\n",
    "    return data"
   ]
  },
  {
   "cell_type": "markdown",
   "metadata": {},
   "source": [
    "## Prefix Scan Benchmark"
   ]
  },
  {
   "cell_type": "code",
   "execution_count": 3,
   "metadata": {
    "execution": {
     "iopub.execute_input": "2023-06-07T09:46:04.851766Z",
     "iopub.status.busy": "2023-06-07T09:46:04.851376Z",
     "iopub.status.idle": "2023-06-07T09:46:35.385667Z",
     "shell.execute_reply": "2023-06-07T09:46:35.386090Z"
    }
   },
   "outputs": [
    {
     "data": {
      "text/plain": [
       "['algorithm\\ttime', 'bench_naive_prefix_scan\\t25', 'bench_opt_prefix_scan\\t17']"
      ]
     },
     "execution_count": 1,
     "metadata": {},
     "output_type": "execute_result"
    }
   ],
   "source": [
    "output = !cd .. && cargo bench --features simd_avx2 --quiet -- prefix_scan | grep 'bench:' | awk '{print $2\"\\t\"$5}'\n",
    "output.insert(0, \"algorithm\\ttime\")\n",
    "output"
   ]
  },
  {
   "cell_type": "code",
   "execution_count": 4,
   "metadata": {
    "execution": {
     "iopub.execute_input": "2023-06-07T09:46:35.389059Z",
     "iopub.status.busy": "2023-06-07T09:46:35.388662Z",
     "iopub.status.idle": "2023-06-07T09:46:35.397396Z",
     "shell.execute_reply": "2023-06-07T09:46:35.397837Z"
    },
    "scrolled": false
   },
   "outputs": [
    {
     "data": {
      "text/html": [
       "<div>\n",
       "<style scoped>\n",
       "    .dataframe tbody tr th:only-of-type {\n",
       "        vertical-align: middle;\n",
       "    }\n",
       "\n",
       "    .dataframe tbody tr th {\n",
       "        vertical-align: top;\n",
       "    }\n",
       "\n",
       "    .dataframe thead th {\n",
       "        text-align: right;\n",
       "    }\n",
       "</style>\n",
       "<table border=\"1\" class=\"dataframe\">\n",
       "  <thead>\n",
       "    <tr style=\"text-align: right;\">\n",
       "      <th></th>\n",
       "      <th>algorithm</th>\n",
       "      <th>time</th>\n",
       "    </tr>\n",
       "  </thead>\n",
       "  <tbody>\n",
       "    <tr>\n",
       "      <th>0</th>\n",
       "      <td>bench_naive_prefix_scan</td>\n",
       "      <td>25</td>\n",
       "    </tr>\n",
       "    <tr>\n",
       "      <th>1</th>\n",
       "      <td>bench_opt_prefix_scan</td>\n",
       "      <td>17</td>\n",
       "    </tr>\n",
       "  </tbody>\n",
       "</table>\n",
       "</div>"
      ],
      "text/plain": [
       "                 algorithm  time\n",
       "0  bench_naive_prefix_scan    25\n",
       "1    bench_opt_prefix_scan    17"
      ]
     },
     "execution_count": 1,
     "metadata": {},
     "output_type": "execute_result"
    }
   ],
   "source": [
    "data = csv_to_pandas(output, d = \"\\t\", t = \",\")\n",
    "data"
   ]
  },
  {
   "cell_type": "code",
   "execution_count": 5,
   "metadata": {
    "execution": {
     "iopub.execute_input": "2023-06-07T09:46:35.403188Z",
     "iopub.status.busy": "2023-06-07T09:46:35.402513Z",
     "iopub.status.idle": "2023-06-07T09:46:35.405276Z",
     "shell.execute_reply": "2023-06-07T09:46:35.405686Z"
    }
   },
   "outputs": [
    {
     "data": {
      "text/html": [
       "<div>\n",
       "<style scoped>\n",
       "    .dataframe tbody tr th:only-of-type {\n",
       "        vertical-align: middle;\n",
       "    }\n",
       "\n",
       "    .dataframe tbody tr th {\n",
       "        vertical-align: top;\n",
       "    }\n",
       "\n",
       "    .dataframe thead th {\n",
       "        text-align: right;\n",
       "    }\n",
       "</style>\n",
       "<table border=\"1\" class=\"dataframe\">\n",
       "  <thead>\n",
       "    <tr style=\"text-align: right;\">\n",
       "      <th></th>\n",
       "      <th>algorithm</th>\n",
       "      <th>time</th>\n",
       "    </tr>\n",
       "  </thead>\n",
       "  <tbody>\n",
       "    <tr>\n",
       "      <th>0</th>\n",
       "      <td>naive</td>\n",
       "      <td>25</td>\n",
       "    </tr>\n",
       "    <tr>\n",
       "      <th>1</th>\n",
       "      <td>ours</td>\n",
       "      <td>17</td>\n",
       "    </tr>\n",
       "  </tbody>\n",
       "</table>\n",
       "</div>"
      ],
      "text/plain": [
       "  algorithm  time\n",
       "0     naive    25\n",
       "1      ours    17"
      ]
     },
     "execution_count": 1,
     "metadata": {},
     "output_type": "execute_result"
    }
   ],
   "source": [
    "data[\"algorithm\"] = data[\"algorithm\"].map({\n",
    "    \"bench_naive_prefix_scan\": \"naive\",\n",
    "    \"bench_opt_prefix_scan\": \"ours\"\n",
    "})\n",
    "data"
   ]
  },
  {
   "cell_type": "markdown",
   "metadata": {},
   "source": [
    "Prefix Scan Benchmark (AVX2)"
   ]
  },
  {
   "cell_type": "code",
   "execution_count": 6,
   "metadata": {
    "execution": {
     "iopub.execute_input": "2023-06-07T09:46:35.413396Z",
     "iopub.status.busy": "2023-06-07T09:46:35.412679Z",
     "iopub.status.idle": "2023-06-07T09:46:37.482671Z",
     "shell.execute_reply": "2023-06-07T09:46:37.482181Z"
    }
   },
   "outputs": [
    {
     "data": {
      "text/html": [
       "\n",
       "<div id=\"altair-viz-9c46444e3bbf4f7eb2c35216b3582534\"></div>\n",
       "<script type=\"text/javascript\">\n",
       "  (function(spec, embedOpt){\n",
       "    let outputDiv = document.currentScript.previousElementSibling;\n",
       "    if (outputDiv.id !== \"altair-viz-9c46444e3bbf4f7eb2c35216b3582534\") {\n",
       "      outputDiv = document.getElementById(\"altair-viz-9c46444e3bbf4f7eb2c35216b3582534\");\n",
       "    }\n",
       "    const paths = {\n",
       "      \"vega\": \"https://cdn.jsdelivr.net/npm//vega@5?noext\",\n",
       "      \"vega-lib\": \"https://cdn.jsdelivr.net/npm//vega-lib?noext\",\n",
       "      \"vega-lite\": \"https://cdn.jsdelivr.net/npm//vega-lite@4.8.1?noext\",\n",
       "      \"vega-embed\": \"https://cdn.jsdelivr.net/npm//vega-embed@6?noext\",\n",
       "    };\n",
       "\n",
       "    function loadScript(lib) {\n",
       "      return new Promise(function(resolve, reject) {\n",
       "        var s = document.createElement('script');\n",
       "        s.src = paths[lib];\n",
       "        s.async = true;\n",
       "        s.onload = () => resolve(paths[lib]);\n",
       "        s.onerror = () => reject(`Error loading script: ${paths[lib]}`);\n",
       "        document.getElementsByTagName(\"head\")[0].appendChild(s);\n",
       "      });\n",
       "    }\n",
       "\n",
       "    function showError(err) {\n",
       "      outputDiv.innerHTML = `<div class=\"error\" style=\"color:red;\">${err}</div>`;\n",
       "      throw err;\n",
       "    }\n",
       "\n",
       "    function displayChart(vegaEmbed) {\n",
       "      vegaEmbed(outputDiv, spec, embedOpt)\n",
       "        .catch(err => showError(`Javascript Error: ${err.message}<br>This usually means there's a typo in your chart specification. See the javascript console for the full traceback.`));\n",
       "    }\n",
       "\n",
       "    if(typeof define === \"function\" && define.amd) {\n",
       "      requirejs.config({paths});\n",
       "      require([\"vega-embed\"], displayChart, err => showError(`Error loading script: ${err.message}`));\n",
       "    } else if (typeof vegaEmbed === \"function\") {\n",
       "      displayChart(vegaEmbed);\n",
       "    } else {\n",
       "      loadScript(\"vega\")\n",
       "        .then(() => loadScript(\"vega-lite\"))\n",
       "        .then(() => loadScript(\"vega-embed\"))\n",
       "        .catch(showError)\n",
       "        .then(() => displayChart(vegaEmbed));\n",
       "    }\n",
       "  })({\"config\": {\"view\": {\"continuousWidth\": 400, \"continuousHeight\": 300}}, \"data\": {\"url\": \"http://localhost:20562/bf7de9a8bb83dcda138447af7f42a0c2.json\"}, \"mark\": \"bar\", \"encoding\": {\"color\": {\"type\": \"nominal\", \"field\": \"algorithm\", \"legend\": null}, \"x\": {\"type\": \"quantitative\", \"axis\": {\"title\": \"time (ns)\"}, \"field\": \"time\"}, \"y\": {\"type\": \"nominal\", \"field\": \"algorithm\"}}, \"width\": 150, \"$schema\": \"https://vega.github.io/schema/vega-lite/v4.8.1.json\"}, {\"mode\": \"vega-lite\"});\n",
       "</script>"
      ],
      "text/plain": [
       "alt.Chart(...)"
      ]
     },
     "execution_count": 1,
     "metadata": {},
     "output_type": "execute_result"
    }
   ],
   "source": [
    "c = alt.Chart(data).mark_bar().encode(\n",
    "    x = alt.X(\"time\", axis = alt.Axis(title = \"time (ns)\")),\n",
    "    y = \"algorithm\",\n",
    "    color = alt.Color(\"algorithm\", legend = None)\n",
    ").properties(\n",
    "    width = 150\n",
    ")\n",
    "save(c, \"prefix_scan_bench.pdf\")\n",
    "c"
   ]
  },
  {
   "cell_type": "markdown",
   "metadata": {},
   "source": [
    "## Random Data Benchmark"
   ]
  },
  {
   "cell_type": "code",
   "execution_count": 7,
   "metadata": {
    "execution": {
     "iopub.execute_input": "2023-06-07T09:46:37.485972Z",
     "iopub.status.busy": "2023-06-07T09:46:37.485513Z",
     "iopub.status.idle": "2023-06-07T09:47:26.241264Z",
     "shell.execute_reply": "2023-06-07T09:47:26.241725Z"
    }
   },
   "outputs": [
    {
     "data": {
      "text/plain": [
       "['bench_parasailors_aa_1000_10000\\t46,116,339',\n",
       " 'bench_parasailors_aa_100_1000\\t575,601',\n",
       " 'bench_parasailors_aa_10_100\\t20,196',\n",
       " 'bench_rustbio_aa_100_1000\\t14,649,204',\n",
       " 'bench_rustbio_aa_10_100\\t155,004',\n",
       " 'bench_scan_aa_1000_10000\\t231,733',\n",
       " 'bench_scan_aa_1000_10000_insert\\t4,803,359',\n",
       " 'bench_scan_aa_1000_10000_small\\t221,973',\n",
       " 'bench_scan_aa_1000_10000_trace\\t1,845,369',\n",
       " 'bench_scan_aa_100_1000\\t24,075',\n",
       " 'bench_scan_aa_100_1000_insert\\t51,366',\n",
       " 'bench_scan_aa_100_1000_small\\t22,868',\n",
       " 'bench_scan_aa_100_1000_trace\\t506,968',\n",
       " 'bench_scan_aa_10_100\\t3,888',\n",
       " 'bench_scan_aa_10_100_insert\\t3,985',\n",
       " 'bench_scan_aa_10_100_small\\t3,412',\n",
       " 'bench_scan_aa_10_100_trace\\t355,171',\n",
       " 'bench_scan_nuc_1000_10000\\t226,318',\n",
       " 'bench_scan_nuc_100_1000\\t23,150',\n",
       " 'bench_triple_accel_1000_10000\\t7,809,720',\n",
       " 'bench_triple_accel_100_1000\\t23,337']"
      ]
     },
     "execution_count": 1,
     "metadata": {},
     "output_type": "execute_result"
    }
   ],
   "source": [
    "output = !cd .. && cargo bench --features simd_avx2 --quiet -- bench_ | grep 'bench:' | grep -v 'prefix_scan' | awk '{print $2\"\\t\"$5}'\n",
    "output"
   ]
  },
  {
   "cell_type": "code",
   "execution_count": 8,
   "metadata": {
    "execution": {
     "iopub.execute_input": "2023-06-07T09:47:26.247303Z",
     "iopub.status.busy": "2023-06-07T09:47:26.246471Z",
     "iopub.status.idle": "2023-06-07T09:47:26.249414Z",
     "shell.execute_reply": "2023-06-07T09:47:26.249819Z"
    }
   },
   "outputs": [
    {
     "data": {
      "text/plain": [
       "['algorithm\\talphabet\\tk\\tlength\\tproperty\\ttime',\n",
       " 'parasailors\\tprotein\\t1000\\t10000\\tdefault\\t46,116,339',\n",
       " 'parasailors\\tprotein\\t100\\t1000\\tdefault\\t575,601',\n",
       " 'parasailors\\tprotein\\t10\\t100\\tdefault\\t20,196',\n",
       " 'rust bio\\tprotein\\t100\\t1000\\tdefault\\t14,649,204',\n",
       " 'rust bio\\tprotein\\t10\\t100\\tdefault\\t155,004',\n",
       " 'ours\\tprotein\\t1000\\t10000\\tdefault\\t231,733',\n",
       " 'ours\\tprotein\\t1000\\t10000\\tinsert\\t4,803,359',\n",
       " 'ours\\tprotein\\t1000\\t10000\\tsmall\\t221,973',\n",
       " 'ours\\tprotein\\t1000\\t10000\\ttrace\\t1,845,369',\n",
       " 'ours\\tprotein\\t100\\t1000\\tdefault\\t24,075',\n",
       " 'ours\\tprotein\\t100\\t1000\\tinsert\\t51,366',\n",
       " 'ours\\tprotein\\t100\\t1000\\tsmall\\t22,868',\n",
       " 'ours\\tprotein\\t100\\t1000\\ttrace\\t506,968',\n",
       " 'ours\\tprotein\\t10\\t100\\tdefault\\t3,888',\n",
       " 'ours\\tprotein\\t10\\t100\\tinsert\\t3,985',\n",
       " 'ours\\tprotein\\t10\\t100\\tsmall\\t3,412',\n",
       " 'ours\\tprotein\\t10\\t100\\ttrace\\t355,171',\n",
       " 'ours\\tnucleotide\\t1000\\t10000\\tdefault\\t226,318',\n",
       " 'ours\\tnucleotide\\t100\\t1000\\tdefault\\t23,150',\n",
       " 'triple accel\\tnucleotide\\t1000\\t10000\\tdefault\\t7,809,720',\n",
       " 'triple accel\\tnucleotide\\t100\\t1000\\tdefault\\t23,337']"
      ]
     },
     "execution_count": 1,
     "metadata": {},
     "output_type": "execute_result"
    }
   ],
   "source": [
    "cleaned = [\"algorithm\\talphabet\\tk\\tlength\\tproperty\\ttime\"]\n",
    "names = [\"parasailors_aa\", \"rustbio_aa\", \"scan_aa\", \"scan_nuc\", \"triple_accel\"]\n",
    "new_names = [\"parasailors\\tprotein\", \"rust bio\\tprotein\", \"ours\\tprotein\", \"ours\\tnucleotide\", \"triple accel\\tnucleotide\"]\n",
    "\n",
    "for o in output:\n",
    "    o = o[len(\"bench_\"):]\n",
    "    for n, nn in zip(names, new_names):\n",
    "        if o.startswith(n):\n",
    "            suffix = o[len(n):].replace(\"_\", \"\\t\")\n",
    "            o = nn + suffix\n",
    "            break\n",
    "    if len(o.split(\"\\t\")) < len(cleaned[0].split(\"\\t\")):\n",
    "        insert_idx = o.rindex(\"\\t\")\n",
    "        o = o[:insert_idx] + \"\\tdefault\" + o[insert_idx:]\n",
    "    cleaned.append(o)\n",
    "\n",
    "cleaned"
   ]
  },
  {
   "cell_type": "code",
   "execution_count": 9,
   "metadata": {
    "execution": {
     "iopub.execute_input": "2023-06-07T09:47:26.252885Z",
     "iopub.status.busy": "2023-06-07T09:47:26.252440Z",
     "iopub.status.idle": "2023-06-07T09:47:26.262615Z",
     "shell.execute_reply": "2023-06-07T09:47:26.263015Z"
    }
   },
   "outputs": [
    {
     "data": {
      "text/html": [
       "<div>\n",
       "<style scoped>\n",
       "    .dataframe tbody tr th:only-of-type {\n",
       "        vertical-align: middle;\n",
       "    }\n",
       "\n",
       "    .dataframe tbody tr th {\n",
       "        vertical-align: top;\n",
       "    }\n",
       "\n",
       "    .dataframe thead th {\n",
       "        text-align: right;\n",
       "    }\n",
       "</style>\n",
       "<table border=\"1\" class=\"dataframe\">\n",
       "  <thead>\n",
       "    <tr style=\"text-align: right;\">\n",
       "      <th></th>\n",
       "      <th>algorithm</th>\n",
       "      <th>alphabet</th>\n",
       "      <th>k</th>\n",
       "      <th>length</th>\n",
       "      <th>property</th>\n",
       "      <th>time</th>\n",
       "    </tr>\n",
       "  </thead>\n",
       "  <tbody>\n",
       "    <tr>\n",
       "      <th>0</th>\n",
       "      <td>parasailors</td>\n",
       "      <td>protein</td>\n",
       "      <td>1000</td>\n",
       "      <td>10000</td>\n",
       "      <td>default</td>\n",
       "      <td>46116339</td>\n",
       "    </tr>\n",
       "    <tr>\n",
       "      <th>1</th>\n",
       "      <td>parasailors</td>\n",
       "      <td>protein</td>\n",
       "      <td>100</td>\n",
       "      <td>1000</td>\n",
       "      <td>default</td>\n",
       "      <td>575601</td>\n",
       "    </tr>\n",
       "    <tr>\n",
       "      <th>2</th>\n",
       "      <td>parasailors</td>\n",
       "      <td>protein</td>\n",
       "      <td>10</td>\n",
       "      <td>100</td>\n",
       "      <td>default</td>\n",
       "      <td>20196</td>\n",
       "    </tr>\n",
       "    <tr>\n",
       "      <th>3</th>\n",
       "      <td>rust bio</td>\n",
       "      <td>protein</td>\n",
       "      <td>100</td>\n",
       "      <td>1000</td>\n",
       "      <td>default</td>\n",
       "      <td>14649204</td>\n",
       "    </tr>\n",
       "    <tr>\n",
       "      <th>4</th>\n",
       "      <td>rust bio</td>\n",
       "      <td>protein</td>\n",
       "      <td>10</td>\n",
       "      <td>100</td>\n",
       "      <td>default</td>\n",
       "      <td>155004</td>\n",
       "    </tr>\n",
       "    <tr>\n",
       "      <th>5</th>\n",
       "      <td>ours</td>\n",
       "      <td>protein</td>\n",
       "      <td>1000</td>\n",
       "      <td>10000</td>\n",
       "      <td>default</td>\n",
       "      <td>231733</td>\n",
       "    </tr>\n",
       "    <tr>\n",
       "      <th>6</th>\n",
       "      <td>ours</td>\n",
       "      <td>protein</td>\n",
       "      <td>1000</td>\n",
       "      <td>10000</td>\n",
       "      <td>insert</td>\n",
       "      <td>4803359</td>\n",
       "    </tr>\n",
       "    <tr>\n",
       "      <th>7</th>\n",
       "      <td>ours</td>\n",
       "      <td>protein</td>\n",
       "      <td>1000</td>\n",
       "      <td>10000</td>\n",
       "      <td>small</td>\n",
       "      <td>221973</td>\n",
       "    </tr>\n",
       "    <tr>\n",
       "      <th>8</th>\n",
       "      <td>ours</td>\n",
       "      <td>protein</td>\n",
       "      <td>1000</td>\n",
       "      <td>10000</td>\n",
       "      <td>trace</td>\n",
       "      <td>1845369</td>\n",
       "    </tr>\n",
       "    <tr>\n",
       "      <th>9</th>\n",
       "      <td>ours</td>\n",
       "      <td>protein</td>\n",
       "      <td>100</td>\n",
       "      <td>1000</td>\n",
       "      <td>default</td>\n",
       "      <td>24075</td>\n",
       "    </tr>\n",
       "    <tr>\n",
       "      <th>10</th>\n",
       "      <td>ours</td>\n",
       "      <td>protein</td>\n",
       "      <td>100</td>\n",
       "      <td>1000</td>\n",
       "      <td>insert</td>\n",
       "      <td>51366</td>\n",
       "    </tr>\n",
       "    <tr>\n",
       "      <th>11</th>\n",
       "      <td>ours</td>\n",
       "      <td>protein</td>\n",
       "      <td>100</td>\n",
       "      <td>1000</td>\n",
       "      <td>small</td>\n",
       "      <td>22868</td>\n",
       "    </tr>\n",
       "    <tr>\n",
       "      <th>12</th>\n",
       "      <td>ours</td>\n",
       "      <td>protein</td>\n",
       "      <td>100</td>\n",
       "      <td>1000</td>\n",
       "      <td>trace</td>\n",
       "      <td>506968</td>\n",
       "    </tr>\n",
       "    <tr>\n",
       "      <th>13</th>\n",
       "      <td>ours</td>\n",
       "      <td>protein</td>\n",
       "      <td>10</td>\n",
       "      <td>100</td>\n",
       "      <td>default</td>\n",
       "      <td>3888</td>\n",
       "    </tr>\n",
       "    <tr>\n",
       "      <th>14</th>\n",
       "      <td>ours</td>\n",
       "      <td>protein</td>\n",
       "      <td>10</td>\n",
       "      <td>100</td>\n",
       "      <td>insert</td>\n",
       "      <td>3985</td>\n",
       "    </tr>\n",
       "    <tr>\n",
       "      <th>15</th>\n",
       "      <td>ours</td>\n",
       "      <td>protein</td>\n",
       "      <td>10</td>\n",
       "      <td>100</td>\n",
       "      <td>small</td>\n",
       "      <td>3412</td>\n",
       "    </tr>\n",
       "    <tr>\n",
       "      <th>16</th>\n",
       "      <td>ours</td>\n",
       "      <td>protein</td>\n",
       "      <td>10</td>\n",
       "      <td>100</td>\n",
       "      <td>trace</td>\n",
       "      <td>355171</td>\n",
       "    </tr>\n",
       "    <tr>\n",
       "      <th>17</th>\n",
       "      <td>ours</td>\n",
       "      <td>nucleotide</td>\n",
       "      <td>1000</td>\n",
       "      <td>10000</td>\n",
       "      <td>default</td>\n",
       "      <td>226318</td>\n",
       "    </tr>\n",
       "    <tr>\n",
       "      <th>18</th>\n",
       "      <td>ours</td>\n",
       "      <td>nucleotide</td>\n",
       "      <td>100</td>\n",
       "      <td>1000</td>\n",
       "      <td>default</td>\n",
       "      <td>23150</td>\n",
       "    </tr>\n",
       "    <tr>\n",
       "      <th>19</th>\n",
       "      <td>triple accel</td>\n",
       "      <td>nucleotide</td>\n",
       "      <td>1000</td>\n",
       "      <td>10000</td>\n",
       "      <td>default</td>\n",
       "      <td>7809720</td>\n",
       "    </tr>\n",
       "    <tr>\n",
       "      <th>20</th>\n",
       "      <td>triple accel</td>\n",
       "      <td>nucleotide</td>\n",
       "      <td>100</td>\n",
       "      <td>1000</td>\n",
       "      <td>default</td>\n",
       "      <td>23337</td>\n",
       "    </tr>\n",
       "  </tbody>\n",
       "</table>\n",
       "</div>"
      ],
      "text/plain": [
       "       algorithm    alphabet     k  length property      time\n",
       "0    parasailors     protein  1000   10000  default  46116339\n",
       "1    parasailors     protein   100    1000  default    575601\n",
       "2    parasailors     protein    10     100  default     20196\n",
       "3       rust bio     protein   100    1000  default  14649204\n",
       "4       rust bio     protein    10     100  default    155004\n",
       "5           ours     protein  1000   10000  default    231733\n",
       "6           ours     protein  1000   10000   insert   4803359\n",
       "7           ours     protein  1000   10000    small    221973\n",
       "8           ours     protein  1000   10000    trace   1845369\n",
       "9           ours     protein   100    1000  default     24075\n",
       "10          ours     protein   100    1000   insert     51366\n",
       "11          ours     protein   100    1000    small     22868\n",
       "12          ours     protein   100    1000    trace    506968\n",
       "13          ours     protein    10     100  default      3888\n",
       "14          ours     protein    10     100   insert      3985\n",
       "15          ours     protein    10     100    small      3412\n",
       "16          ours     protein    10     100    trace    355171\n",
       "17          ours  nucleotide  1000   10000  default    226318\n",
       "18          ours  nucleotide   100    1000  default     23150\n",
       "19  triple accel  nucleotide  1000   10000  default   7809720\n",
       "20  triple accel  nucleotide   100    1000  default     23337"
      ]
     },
     "execution_count": 1,
     "metadata": {},
     "output_type": "execute_result"
    }
   ],
   "source": [
    "data = csv_to_pandas(cleaned, d = \"\\t\", t = \",\")\n",
    "data"
   ]
  },
  {
   "cell_type": "code",
   "execution_count": 10,
   "metadata": {
    "execution": {
     "iopub.execute_input": "2023-06-07T09:47:26.267090Z",
     "iopub.status.busy": "2023-06-07T09:47:26.266690Z",
     "iopub.status.idle": "2023-06-07T09:47:26.268246Z",
     "shell.execute_reply": "2023-06-07T09:47:26.268696Z"
    }
   },
   "outputs": [],
   "source": [
    "data[\"algorithm property\"] = data[\"algorithm\"] + \" \" + data[\"property\"]\n",
    "data[\"time\"] /= 1000"
   ]
  },
  {
   "cell_type": "markdown",
   "metadata": {},
   "source": [
    "Random Protein Sequences Benchmark (AVX2)"
   ]
  },
  {
   "cell_type": "code",
   "execution_count": 11,
   "metadata": {
    "execution": {
     "iopub.execute_input": "2023-06-07T09:47:26.288891Z",
     "iopub.status.busy": "2023-06-07T09:47:26.286757Z",
     "iopub.status.idle": "2023-06-07T09:47:27.045456Z",
     "shell.execute_reply": "2023-06-07T09:47:27.045867Z"
    }
   },
   "outputs": [
    {
     "data": {
      "text/html": [
       "\n",
       "<div id=\"altair-viz-7b1c1ed3b31c4d528bc95cc82bf17424\"></div>\n",
       "<script type=\"text/javascript\">\n",
       "  (function(spec, embedOpt){\n",
       "    let outputDiv = document.currentScript.previousElementSibling;\n",
       "    if (outputDiv.id !== \"altair-viz-7b1c1ed3b31c4d528bc95cc82bf17424\") {\n",
       "      outputDiv = document.getElementById(\"altair-viz-7b1c1ed3b31c4d528bc95cc82bf17424\");\n",
       "    }\n",
       "    const paths = {\n",
       "      \"vega\": \"https://cdn.jsdelivr.net/npm//vega@5?noext\",\n",
       "      \"vega-lib\": \"https://cdn.jsdelivr.net/npm//vega-lib?noext\",\n",
       "      \"vega-lite\": \"https://cdn.jsdelivr.net/npm//vega-lite@4.8.1?noext\",\n",
       "      \"vega-embed\": \"https://cdn.jsdelivr.net/npm//vega-embed@6?noext\",\n",
       "    };\n",
       "\n",
       "    function loadScript(lib) {\n",
       "      return new Promise(function(resolve, reject) {\n",
       "        var s = document.createElement('script');\n",
       "        s.src = paths[lib];\n",
       "        s.async = true;\n",
       "        s.onload = () => resolve(paths[lib]);\n",
       "        s.onerror = () => reject(`Error loading script: ${paths[lib]}`);\n",
       "        document.getElementsByTagName(\"head\")[0].appendChild(s);\n",
       "      });\n",
       "    }\n",
       "\n",
       "    function showError(err) {\n",
       "      outputDiv.innerHTML = `<div class=\"error\" style=\"color:red;\">${err}</div>`;\n",
       "      throw err;\n",
       "    }\n",
       "\n",
       "    function displayChart(vegaEmbed) {\n",
       "      vegaEmbed(outputDiv, spec, embedOpt)\n",
       "        .catch(err => showError(`Javascript Error: ${err.message}<br>This usually means there's a typo in your chart specification. See the javascript console for the full traceback.`));\n",
       "    }\n",
       "\n",
       "    if(typeof define === \"function\" && define.amd) {\n",
       "      requirejs.config({paths});\n",
       "      require([\"vega-embed\"], displayChart, err => showError(`Error loading script: ${err.message}`));\n",
       "    } else if (typeof vegaEmbed === \"function\") {\n",
       "      displayChart(vegaEmbed);\n",
       "    } else {\n",
       "      loadScript(\"vega\")\n",
       "        .then(() => loadScript(\"vega-lite\"))\n",
       "        .then(() => loadScript(\"vega-embed\"))\n",
       "        .catch(showError)\n",
       "        .then(() => displayChart(vegaEmbed));\n",
       "    }\n",
       "  })({\"config\": {\"view\": {\"continuousWidth\": 400, \"continuousHeight\": 300}}, \"data\": {\"url\": \"http://localhost:20562/642112a8ae7dff856dc2b5b5295fba89.json\"}, \"mark\": {\"type\": \"point\", \"filled\": true, \"opacity\": 1}, \"encoding\": {\"color\": {\"type\": \"nominal\", \"field\": \"length\"}, \"shape\": {\"type\": \"nominal\", \"field\": \"length\"}, \"x\": {\"type\": \"quantitative\", \"axis\": {\"title\": \"time (us)\"}, \"field\": \"time\", \"scale\": {\"domain\": [1, 50000], \"type\": \"log\"}}, \"y\": {\"type\": \"nominal\", \"axis\": {\"grid\": true, \"title\": \"algorithm\"}, \"field\": \"algorithm property\", \"sort\": {\"field\": \"time\"}}}, \"height\": 150, \"transform\": [{\"filter\": \"(datum.alphabet === 'protein')\"}], \"width\": 200, \"$schema\": \"https://vega.github.io/schema/vega-lite/v4.8.1.json\"}, {\"mode\": \"vega-lite\"});\n",
       "</script>"
      ],
      "text/plain": [
       "alt.Chart(...)"
      ]
     },
     "execution_count": 1,
     "metadata": {},
     "output_type": "execute_result"
    }
   ],
   "source": [
    "c = alt.Chart(data).mark_point(opacity = 1, filled = True).encode(\n",
    "    x = alt.X(\"time\", axis = alt.Axis(title = \"time (us)\"), scale = alt.Scale(type = \"log\", domain = [1, 50000])),\n",
    "    y = alt.Y(\"algorithm property\", axis = alt.Axis(title = \"algorithm\", grid = True), sort = alt.EncodingSortField(field = \"time\")),\n",
    "    color = \"length:N\",\n",
    "    shape = \"length:N\"\n",
    ").transform_filter(\n",
    "    datum.alphabet == \"protein\"\n",
    ").properties(\n",
    "    width = 200,\n",
    "    height = 150\n",
    ")\n",
    "save(c, \"random_protein_bench.pdf\")\n",
    "c"
   ]
  },
  {
   "cell_type": "markdown",
   "metadata": {},
   "source": [
    "Random DNA Sequences Benchmark (AVX2)"
   ]
  },
  {
   "cell_type": "code",
   "execution_count": 12,
   "metadata": {
    "execution": {
     "iopub.execute_input": "2023-06-07T09:47:27.060387Z",
     "iopub.status.busy": "2023-06-07T09:47:27.059986Z",
     "iopub.status.idle": "2023-06-07T09:47:27.812860Z",
     "shell.execute_reply": "2023-06-07T09:47:27.813265Z"
    }
   },
   "outputs": [
    {
     "data": {
      "text/html": [
       "\n",
       "<div id=\"altair-viz-9233739a2c224034b1b3730de70a4c75\"></div>\n",
       "<script type=\"text/javascript\">\n",
       "  (function(spec, embedOpt){\n",
       "    let outputDiv = document.currentScript.previousElementSibling;\n",
       "    if (outputDiv.id !== \"altair-viz-9233739a2c224034b1b3730de70a4c75\") {\n",
       "      outputDiv = document.getElementById(\"altair-viz-9233739a2c224034b1b3730de70a4c75\");\n",
       "    }\n",
       "    const paths = {\n",
       "      \"vega\": \"https://cdn.jsdelivr.net/npm//vega@5?noext\",\n",
       "      \"vega-lib\": \"https://cdn.jsdelivr.net/npm//vega-lib?noext\",\n",
       "      \"vega-lite\": \"https://cdn.jsdelivr.net/npm//vega-lite@4.8.1?noext\",\n",
       "      \"vega-embed\": \"https://cdn.jsdelivr.net/npm//vega-embed@6?noext\",\n",
       "    };\n",
       "\n",
       "    function loadScript(lib) {\n",
       "      return new Promise(function(resolve, reject) {\n",
       "        var s = document.createElement('script');\n",
       "        s.src = paths[lib];\n",
       "        s.async = true;\n",
       "        s.onload = () => resolve(paths[lib]);\n",
       "        s.onerror = () => reject(`Error loading script: ${paths[lib]}`);\n",
       "        document.getElementsByTagName(\"head\")[0].appendChild(s);\n",
       "      });\n",
       "    }\n",
       "\n",
       "    function showError(err) {\n",
       "      outputDiv.innerHTML = `<div class=\"error\" style=\"color:red;\">${err}</div>`;\n",
       "      throw err;\n",
       "    }\n",
       "\n",
       "    function displayChart(vegaEmbed) {\n",
       "      vegaEmbed(outputDiv, spec, embedOpt)\n",
       "        .catch(err => showError(`Javascript Error: ${err.message}<br>This usually means there's a typo in your chart specification. See the javascript console for the full traceback.`));\n",
       "    }\n",
       "\n",
       "    if(typeof define === \"function\" && define.amd) {\n",
       "      requirejs.config({paths});\n",
       "      require([\"vega-embed\"], displayChart, err => showError(`Error loading script: ${err.message}`));\n",
       "    } else if (typeof vegaEmbed === \"function\") {\n",
       "      displayChart(vegaEmbed);\n",
       "    } else {\n",
       "      loadScript(\"vega\")\n",
       "        .then(() => loadScript(\"vega-lite\"))\n",
       "        .then(() => loadScript(\"vega-embed\"))\n",
       "        .catch(showError)\n",
       "        .then(() => displayChart(vegaEmbed));\n",
       "    }\n",
       "  })({\"config\": {\"view\": {\"continuousWidth\": 400, \"continuousHeight\": 300}}, \"data\": {\"url\": \"http://localhost:20562/642112a8ae7dff856dc2b5b5295fba89.json\"}, \"mark\": {\"type\": \"point\", \"filled\": true, \"opacity\": 1}, \"encoding\": {\"color\": {\"type\": \"nominal\", \"field\": \"length\", \"scale\": {\"domain\": [100, 1000, 10000]}}, \"shape\": {\"type\": \"nominal\", \"field\": \"length\", \"scale\": {\"domain\": [100, 1000, 10000]}}, \"x\": {\"type\": \"quantitative\", \"axis\": {\"title\": \"time (us)\"}, \"field\": \"time\", \"scale\": {\"domain\": [1, 50000], \"type\": \"log\"}}, \"y\": {\"type\": \"nominal\", \"axis\": {\"grid\": true, \"title\": \"algorithm\"}, \"field\": \"algorithm property\", \"sort\": {\"field\": \"time\"}}}, \"height\": 50, \"transform\": [{\"filter\": \"(datum.alphabet === 'nucleotide')\"}], \"width\": 200, \"$schema\": \"https://vega.github.io/schema/vega-lite/v4.8.1.json\"}, {\"mode\": \"vega-lite\"});\n",
       "</script>"
      ],
      "text/plain": [
       "alt.Chart(...)"
      ]
     },
     "execution_count": 1,
     "metadata": {},
     "output_type": "execute_result"
    }
   ],
   "source": [
    "c = alt.Chart(data).mark_point(opacity = 1, filled = True).encode(\n",
    "    x = alt.X(\"time\", axis = alt.Axis(title = \"time (us)\"), scale = alt.Scale(type = \"log\", domain = [1, 50000])),\n",
    "    y = alt.Y(\"algorithm property\", axis = alt.Axis(title = \"algorithm\", grid = True), sort = alt.EncodingSortField(field = \"time\")),\n",
    "    color = alt.Color(\"length:N\", scale = alt.Scale(domain = [100, 1000, 10000])),\n",
    "    shape = alt.Color(\"length:N\", scale = alt.Scale(domain = [100, 1000, 10000]))\n",
    ").transform_filter(\n",
    "    datum.alphabet == \"nucleotide\"\n",
    ").properties(\n",
    "    width = 200,\n",
    "    height = 50\n",
    ")\n",
    "save(c, \"random_dna_bench.pdf\")\n",
    "c"
   ]
  },
  {
   "cell_type": "markdown",
   "metadata": {},
   "source": [
    "## Uniclust 30 Data Benchmark"
   ]
  },
  {
   "cell_type": "code",
   "execution_count": 13,
   "metadata": {
    "execution": {
     "iopub.execute_input": "2023-06-07T09:47:27.817332Z",
     "iopub.status.busy": "2023-06-07T09:47:27.816941Z",
     "iopub.status.idle": "2023-06-07T09:47:38.925768Z",
     "shell.execute_reply": "2023-06-07T09:47:38.926323Z"
    }
   },
   "outputs": [
    {
     "data": {
      "text/plain": [
       "['# time (s)',\n",
       " 'algorithm, dataset, size, time',\n",
       " 'ours (no trace), uc30, 32-32, 0.056956084',\n",
       " 'ours (no trace), uc30 0.95, 32-32, 0.061715117',\n",
       " 'ours (no trace), uc30, 32-256, 0.088622874',\n",
       " 'ours (no trace), uc30 0.95, 32-256, 0.075699876',\n",
       " 'ours (no trace), uc30, 256-256, 0.199376034',\n",
       " 'ours (no trace), uc30 0.95, 256-256, 0.22471913',\n",
       " 'ours (trace), uc30, 32-256, 0.169768454',\n",
       " 'ours (trace), uc30 0.95, 32-256, 0.151968798',\n",
       " 'parasail, uc30, full, 0.824957594',\n",
       " 'parasail, uc30 0.95, full, 0.960366206']"
      ]
     },
     "execution_count": 1,
     "metadata": {},
     "output_type": "execute_result"
    }
   ],
   "source": [
    "output = !cd .. && cargo run --example uc_bench --release --features simd_avx2 --quiet\n",
    "output"
   ]
  },
  {
   "cell_type": "code",
   "execution_count": 14,
   "metadata": {
    "execution": {
     "iopub.execute_input": "2023-06-07T09:47:38.929706Z",
     "iopub.status.busy": "2023-06-07T09:47:38.929223Z",
     "iopub.status.idle": "2023-06-07T09:47:38.938440Z",
     "shell.execute_reply": "2023-06-07T09:47:38.938939Z"
    }
   },
   "outputs": [
    {
     "data": {
      "text/html": [
       "<div>\n",
       "<style scoped>\n",
       "    .dataframe tbody tr th:only-of-type {\n",
       "        vertical-align: middle;\n",
       "    }\n",
       "\n",
       "    .dataframe tbody tr th {\n",
       "        vertical-align: top;\n",
       "    }\n",
       "\n",
       "    .dataframe thead th {\n",
       "        text-align: right;\n",
       "    }\n",
       "</style>\n",
       "<table border=\"1\" class=\"dataframe\">\n",
       "  <thead>\n",
       "    <tr style=\"text-align: right;\">\n",
       "      <th></th>\n",
       "      <th>algorithm</th>\n",
       "      <th>dataset</th>\n",
       "      <th>size</th>\n",
       "      <th>time</th>\n",
       "    </tr>\n",
       "  </thead>\n",
       "  <tbody>\n",
       "    <tr>\n",
       "      <th>0</th>\n",
       "      <td>ours (no trace)</td>\n",
       "      <td>uc30</td>\n",
       "      <td>32-32</td>\n",
       "      <td>0.056956</td>\n",
       "    </tr>\n",
       "    <tr>\n",
       "      <th>1</th>\n",
       "      <td>ours (no trace)</td>\n",
       "      <td>uc30 0.95</td>\n",
       "      <td>32-32</td>\n",
       "      <td>0.061715</td>\n",
       "    </tr>\n",
       "    <tr>\n",
       "      <th>2</th>\n",
       "      <td>ours (no trace)</td>\n",
       "      <td>uc30</td>\n",
       "      <td>32-256</td>\n",
       "      <td>0.088623</td>\n",
       "    </tr>\n",
       "    <tr>\n",
       "      <th>3</th>\n",
       "      <td>ours (no trace)</td>\n",
       "      <td>uc30 0.95</td>\n",
       "      <td>32-256</td>\n",
       "      <td>0.075700</td>\n",
       "    </tr>\n",
       "    <tr>\n",
       "      <th>4</th>\n",
       "      <td>ours (no trace)</td>\n",
       "      <td>uc30</td>\n",
       "      <td>256-256</td>\n",
       "      <td>0.199376</td>\n",
       "    </tr>\n",
       "    <tr>\n",
       "      <th>5</th>\n",
       "      <td>ours (no trace)</td>\n",
       "      <td>uc30 0.95</td>\n",
       "      <td>256-256</td>\n",
       "      <td>0.224719</td>\n",
       "    </tr>\n",
       "    <tr>\n",
       "      <th>6</th>\n",
       "      <td>ours (trace)</td>\n",
       "      <td>uc30</td>\n",
       "      <td>32-256</td>\n",
       "      <td>0.169768</td>\n",
       "    </tr>\n",
       "    <tr>\n",
       "      <th>7</th>\n",
       "      <td>ours (trace)</td>\n",
       "      <td>uc30 0.95</td>\n",
       "      <td>32-256</td>\n",
       "      <td>0.151969</td>\n",
       "    </tr>\n",
       "    <tr>\n",
       "      <th>8</th>\n",
       "      <td>parasail</td>\n",
       "      <td>uc30</td>\n",
       "      <td>full</td>\n",
       "      <td>0.824958</td>\n",
       "    </tr>\n",
       "    <tr>\n",
       "      <th>9</th>\n",
       "      <td>parasail</td>\n",
       "      <td>uc30 0.95</td>\n",
       "      <td>full</td>\n",
       "      <td>0.960366</td>\n",
       "    </tr>\n",
       "  </tbody>\n",
       "</table>\n",
       "</div>"
      ],
      "text/plain": [
       "         algorithm    dataset     size      time\n",
       "0  ours (no trace)       uc30    32-32  0.056956\n",
       "1  ours (no trace)  uc30 0.95    32-32  0.061715\n",
       "2  ours (no trace)       uc30   32-256  0.088623\n",
       "3  ours (no trace)  uc30 0.95   32-256  0.075700\n",
       "4  ours (no trace)       uc30  256-256  0.199376\n",
       "5  ours (no trace)  uc30 0.95  256-256  0.224719\n",
       "6     ours (trace)       uc30   32-256  0.169768\n",
       "7     ours (trace)  uc30 0.95   32-256  0.151969\n",
       "8         parasail       uc30     full  0.824958\n",
       "9         parasail  uc30 0.95     full  0.960366"
      ]
     },
     "execution_count": 1,
     "metadata": {},
     "output_type": "execute_result"
    }
   ],
   "source": [
    "data = csv_to_pandas(output)\n",
    "data"
   ]
  },
  {
   "cell_type": "markdown",
   "metadata": {},
   "source": [
    "Uniclust30 Benchmark (AVX2)"
   ]
  },
  {
   "cell_type": "code",
   "execution_count": 15,
   "metadata": {
    "execution": {
     "iopub.execute_input": "2023-06-07T09:47:38.962086Z",
     "iopub.status.busy": "2023-06-07T09:47:38.961696Z",
     "iopub.status.idle": "2023-06-07T09:47:39.736427Z",
     "shell.execute_reply": "2023-06-07T09:47:39.736894Z"
    }
   },
   "outputs": [
    {
     "data": {
      "text/html": [
       "\n",
       "<div id=\"altair-viz-c9a4172e9c66466c81b50a82d7c9b99c\"></div>\n",
       "<script type=\"text/javascript\">\n",
       "  (function(spec, embedOpt){\n",
       "    let outputDiv = document.currentScript.previousElementSibling;\n",
       "    if (outputDiv.id !== \"altair-viz-c9a4172e9c66466c81b50a82d7c9b99c\") {\n",
       "      outputDiv = document.getElementById(\"altair-viz-c9a4172e9c66466c81b50a82d7c9b99c\");\n",
       "    }\n",
       "    const paths = {\n",
       "      \"vega\": \"https://cdn.jsdelivr.net/npm//vega@5?noext\",\n",
       "      \"vega-lib\": \"https://cdn.jsdelivr.net/npm//vega-lib?noext\",\n",
       "      \"vega-lite\": \"https://cdn.jsdelivr.net/npm//vega-lite@4.8.1?noext\",\n",
       "      \"vega-embed\": \"https://cdn.jsdelivr.net/npm//vega-embed@6?noext\",\n",
       "    };\n",
       "\n",
       "    function loadScript(lib) {\n",
       "      return new Promise(function(resolve, reject) {\n",
       "        var s = document.createElement('script');\n",
       "        s.src = paths[lib];\n",
       "        s.async = true;\n",
       "        s.onload = () => resolve(paths[lib]);\n",
       "        s.onerror = () => reject(`Error loading script: ${paths[lib]}`);\n",
       "        document.getElementsByTagName(\"head\")[0].appendChild(s);\n",
       "      });\n",
       "    }\n",
       "\n",
       "    function showError(err) {\n",
       "      outputDiv.innerHTML = `<div class=\"error\" style=\"color:red;\">${err}</div>`;\n",
       "      throw err;\n",
       "    }\n",
       "\n",
       "    function displayChart(vegaEmbed) {\n",
       "      vegaEmbed(outputDiv, spec, embedOpt)\n",
       "        .catch(err => showError(`Javascript Error: ${err.message}<br>This usually means there's a typo in your chart specification. See the javascript console for the full traceback.`));\n",
       "    }\n",
       "\n",
       "    if(typeof define === \"function\" && define.amd) {\n",
       "      requirejs.config({paths});\n",
       "      require([\"vega-embed\"], displayChart, err => showError(`Error loading script: ${err.message}`));\n",
       "    } else if (typeof vegaEmbed === \"function\") {\n",
       "      displayChart(vegaEmbed);\n",
       "    } else {\n",
       "      loadScript(\"vega\")\n",
       "        .then(() => loadScript(\"vega-lite\"))\n",
       "        .then(() => loadScript(\"vega-embed\"))\n",
       "        .catch(showError)\n",
       "        .then(() => displayChart(vegaEmbed));\n",
       "    }\n",
       "  })({\"config\": {\"view\": {\"continuousWidth\": 400, \"continuousHeight\": 300}, \"range\": {\"category\": {\"scheme\": \"dark2\"}}}, \"data\": {\"url\": \"http://localhost:20562/14ca33be2b0fb3873f74a2cc95102f29.json\"}, \"facet\": {\"column\": {\"type\": \"nominal\", \"field\": \"dataset\", \"header\": {\"orient\": \"bottom\"}}}, \"spec\": {\"layer\": [{\"mark\": \"bar\", \"encoding\": {\"color\": {\"type\": \"nominal\", \"field\": \"algorithm\"}, \"x\": {\"type\": \"nominal\", \"axis\": null, \"field\": \"algorithm\"}, \"y\": {\"type\": \"quantitative\", \"axis\": {\"title\": \"time (s)\"}, \"field\": \"time\", \"scale\": {\"domain\": [0.0, 1.0]}}}, \"transform\": [{\"filter\": \"((datum.size === '32-256') || (datum.algorithm === 'parasail'))\"}]}, {\"mark\": {\"type\": \"text\", \"dy\": -4, \"size\": 8}, \"encoding\": {\"color\": {\"value\": \"black\"}, \"text\": {\"type\": \"quantitative\", \"field\": \"time\", \"format\": \".2f\"}, \"x\": {\"type\": \"nominal\", \"axis\": null, \"field\": \"algorithm\"}, \"y\": {\"type\": \"quantitative\", \"axis\": {\"title\": \"time (s)\"}, \"field\": \"time\", \"scale\": {\"domain\": [0.0, 1.0]}}}, \"transform\": [{\"filter\": \"((datum.size === '32-256') || (datum.algorithm === 'parasail'))\"}]}], \"height\": 100, \"width\": 50}, \"$schema\": \"https://vega.github.io/schema/vega-lite/v4.8.1.json\"}, {\"mode\": \"vega-lite\"});\n",
       "</script>"
      ],
      "text/plain": [
       "alt.FacetChart(...)"
      ]
     },
     "execution_count": 1,
     "metadata": {},
     "output_type": "execute_result"
    }
   ],
   "source": [
    "c = alt.Chart(data).mark_bar().encode(\n",
    "    x = alt.X(\"algorithm\", axis = None),\n",
    "    y = alt.Y(\"time\", axis = alt.Axis(title = \"time (s)\"), scale = alt.Scale(domain = [0.0, 1.0])),\n",
    "    color = \"algorithm\"\n",
    ").transform_filter(\n",
    "    (datum.size == \"32-256\") | (datum.algorithm == \"parasail\")\n",
    ")\n",
    "t = c.mark_text(dy = -4, size = 8).encode(text = alt.Text(\"time\", format = \".2f\"), color = alt.value(\"black\"))\n",
    "c = (c + t).properties(\n",
    "    width = 50,\n",
    "    height = 100\n",
    ").facet(\n",
    "    column = alt.Column(\"dataset\", header = alt.Header(orient = \"bottom\")),\n",
    ").configure_range(\n",
    "    category = {\"scheme\": \"dark2\"}\n",
    ")\n",
    "save(c, \"uniclust30_bench.pdf\")\n",
    "c"
   ]
  },
  {
   "cell_type": "markdown",
   "metadata": {},
   "source": [
    "Uniclust30 Block Size Benchmark (AVX2)"
   ]
  },
  {
   "cell_type": "code",
   "execution_count": 16,
   "metadata": {
    "execution": {
     "iopub.execute_input": "2023-06-07T09:47:39.756151Z",
     "iopub.status.busy": "2023-06-07T09:47:39.755755Z",
     "iopub.status.idle": "2023-06-07T09:47:40.534398Z",
     "shell.execute_reply": "2023-06-07T09:47:40.534806Z"
    }
   },
   "outputs": [
    {
     "data": {
      "text/html": [
       "\n",
       "<div id=\"altair-viz-1a81b682fe5c4389a2ea8b59e4786a0f\"></div>\n",
       "<script type=\"text/javascript\">\n",
       "  (function(spec, embedOpt){\n",
       "    let outputDiv = document.currentScript.previousElementSibling;\n",
       "    if (outputDiv.id !== \"altair-viz-1a81b682fe5c4389a2ea8b59e4786a0f\") {\n",
       "      outputDiv = document.getElementById(\"altair-viz-1a81b682fe5c4389a2ea8b59e4786a0f\");\n",
       "    }\n",
       "    const paths = {\n",
       "      \"vega\": \"https://cdn.jsdelivr.net/npm//vega@5?noext\",\n",
       "      \"vega-lib\": \"https://cdn.jsdelivr.net/npm//vega-lib?noext\",\n",
       "      \"vega-lite\": \"https://cdn.jsdelivr.net/npm//vega-lite@4.8.1?noext\",\n",
       "      \"vega-embed\": \"https://cdn.jsdelivr.net/npm//vega-embed@6?noext\",\n",
       "    };\n",
       "\n",
       "    function loadScript(lib) {\n",
       "      return new Promise(function(resolve, reject) {\n",
       "        var s = document.createElement('script');\n",
       "        s.src = paths[lib];\n",
       "        s.async = true;\n",
       "        s.onload = () => resolve(paths[lib]);\n",
       "        s.onerror = () => reject(`Error loading script: ${paths[lib]}`);\n",
       "        document.getElementsByTagName(\"head\")[0].appendChild(s);\n",
       "      });\n",
       "    }\n",
       "\n",
       "    function showError(err) {\n",
       "      outputDiv.innerHTML = `<div class=\"error\" style=\"color:red;\">${err}</div>`;\n",
       "      throw err;\n",
       "    }\n",
       "\n",
       "    function displayChart(vegaEmbed) {\n",
       "      vegaEmbed(outputDiv, spec, embedOpt)\n",
       "        .catch(err => showError(`Javascript Error: ${err.message}<br>This usually means there's a typo in your chart specification. See the javascript console for the full traceback.`));\n",
       "    }\n",
       "\n",
       "    if(typeof define === \"function\" && define.amd) {\n",
       "      requirejs.config({paths});\n",
       "      require([\"vega-embed\"], displayChart, err => showError(`Error loading script: ${err.message}`));\n",
       "    } else if (typeof vegaEmbed === \"function\") {\n",
       "      displayChart(vegaEmbed);\n",
       "    } else {\n",
       "      loadScript(\"vega\")\n",
       "        .then(() => loadScript(\"vega-lite\"))\n",
       "        .then(() => loadScript(\"vega-embed\"))\n",
       "        .catch(showError)\n",
       "        .then(() => displayChart(vegaEmbed));\n",
       "    }\n",
       "  })({\"config\": {\"view\": {\"continuousWidth\": 400, \"continuousHeight\": 300}}, \"data\": {\"url\": \"http://localhost:20562/14ca33be2b0fb3873f74a2cc95102f29.json\"}, \"facet\": {\"column\": {\"type\": \"nominal\", \"field\": \"dataset\", \"header\": {\"orient\": \"bottom\"}}}, \"spec\": {\"layer\": [{\"mark\": \"bar\", \"encoding\": {\"color\": {\"type\": \"nominal\", \"field\": \"size\", \"sort\": [\"32-32\", \"32-256\", \"256-256\"], \"title\": \"block size\"}, \"x\": {\"type\": \"nominal\", \"axis\": null, \"field\": \"size\", \"sort\": [\"32-32\", \"32-256\", \"256-256\"]}, \"y\": {\"type\": \"quantitative\", \"axis\": {\"title\": \"time (s)\"}, \"field\": \"time\", \"scale\": {\"domain\": [0.0, 1.0]}}}, \"transform\": [{\"filter\": \"(datum.algorithm === 'ours (no trace)')\"}]}, {\"mark\": {\"type\": \"text\", \"dy\": -4, \"size\": 8}, \"encoding\": {\"color\": {\"value\": \"black\"}, \"text\": {\"type\": \"quantitative\", \"field\": \"time\", \"format\": \".2f\"}, \"x\": {\"type\": \"nominal\", \"axis\": null, \"field\": \"size\", \"sort\": [\"32-32\", \"32-256\", \"256-256\"]}, \"y\": {\"type\": \"quantitative\", \"axis\": {\"title\": \"time (s)\"}, \"field\": \"time\", \"scale\": {\"domain\": [0.0, 1.0]}}}, \"transform\": [{\"filter\": \"(datum.algorithm === 'ours (no trace)')\"}]}], \"height\": 100, \"width\": 50}, \"$schema\": \"https://vega.github.io/schema/vega-lite/v4.8.1.json\"}, {\"mode\": \"vega-lite\"});\n",
       "</script>"
      ],
      "text/plain": [
       "alt.FacetChart(...)"
      ]
     },
     "execution_count": 1,
     "metadata": {},
     "output_type": "execute_result"
    }
   ],
   "source": [
    "c = alt.Chart(data).mark_bar().encode(\n",
    "    x = alt.X(\"size\", axis = None, sort = [\"32-32\", \"32-256\", \"256-256\"]),\n",
    "    y = alt.Y(\"time\", axis = alt.Axis(title = \"time (s)\"), scale = alt.Scale(domain = [0.0, 1.0])),\n",
    "    color = alt.Color(\"size\", title = \"block size\", sort = [\"32-32\", \"32-256\", \"256-256\"])\n",
    ").transform_filter(\n",
    "    datum.algorithm == \"ours (no trace)\"\n",
    ")\n",
    "t = c.mark_text(dy = -4, size = 8).encode(text = alt.Text(\"time\", format = \".2f\"), color = alt.value(\"black\"))\n",
    "c = (c + t).properties(\n",
    "    width = 50,\n",
    "    height = 100\n",
    ").facet(\n",
    "    column = alt.Column(\"dataset\", header = alt.Header(orient = \"bottom\")),\n",
    ")\n",
    "save(c, \"uniclust30_size_bench.pdf\")\n",
    "c"
   ]
  },
  {
   "cell_type": "markdown",
   "metadata": {},
   "source": [
    "## DNA Global Alignment Benchmark"
   ]
  },
  {
   "cell_type": "code",
   "execution_count": 17,
   "metadata": {
    "execution": {
     "iopub.execute_input": "2023-06-07T09:47:40.537909Z",
     "iopub.status.busy": "2023-06-07T09:47:40.537508Z",
     "iopub.status.idle": "2023-06-07T10:10:43.870062Z",
     "shell.execute_reply": "2023-06-07T10:10:43.870559Z"
    },
    "scrolled": false
   },
   "outputs": [
    {
     "data": {
      "text/plain": [
       "['# time (s)',\n",
       " 'dataset, algorithm, time',\n",
       " 'illumina, ours (1%-1%), 0.33111815499998787',\n",
       " 'illumina, ours (1%-10%), 0.36067308799999676',\n",
       " 'illumina, edlib, 1.078242317999999',\n",
       " 'illumina, ksw_extz2_sse (1%), 0.7015643449999919',\n",
       " 'illumina, ksw_extz2_sse (10%), 0.6619977030000476',\n",
       " 'illumina, wfa2, 0.0395910699999757',\n",
       " 'illumina, wfa2 adaptive, 0.033794843000004564',\n",
       " 'illumina, parasail, 1.877281111000019',\n",
       " 'nanopore 1kbp, ours (1%-1%), 0.35523873000000045',\n",
       " 'nanopore 1kbp, ours (1%-10%), 0.4254908889999992',\n",
       " 'nanopore 1kbp, edlib, 0.9824836550000021',\n",
       " 'nanopore 1kbp, ksw_extz2_sse (1%), 0.6899555330000003',\n",
       " 'nanopore 1kbp, ksw_extz2_sse (10%), 1.4918466799999923',\n",
       " 'nanopore 1kbp, wfa2, 1.0744614449999976',\n",
       " 'nanopore 1kbp, wfa2 adaptive, 0.9676685919999983',\n",
       " 'nanopore 1kbp, parasail, 4.241416280000012',\n",
       " 'nanopore <10kbp, ours (1%-1%), 1.2327692310000036',\n",
       " 'nanopore <10kbp, ours (1%-10%), 1.745659388000004',\n",
       " 'nanopore <10kbp, edlib, 4.181581389000004',\n",
       " 'nanopore <10kbp, ksw_extz2_sse (1%), 2.041432744',\n",
       " 'nanopore <10kbp, ksw_extz2_sse (10%), 13.947968412999991',\n",
       " 'nanopore <10kbp, wfa2, 12.231730952999941',\n",
       " 'nanopore <10kbp, wfa2 adaptive, 2.636042093999999',\n",
       " 'nanopore <10kbp, parasail, 35.788786642000055',\n",
       " 'nanopore <50kbp, ours (1%-1%), 29.618716835999965',\n",
       " 'nanopore <50kbp, ours (1%-10%), 60.27074240599954',\n",
       " 'nanopore <50kbp, edlib, 63.19707531199999',\n",
       " 'nanopore <50kbp, ksw_extz2_sse (1%), 44.49251645799981',\n",
       " 'nanopore <50kbp, ksw_extz2_sse (10%), 571.0179278819996',\n",
       " 'nanopore <50kbp, wfa2, 331.4749689040016',\n",
       " 'nanopore <50kbp, wfa2 adaptive, 58.83003572500001']"
      ]
     },
     "execution_count": 1,
     "metadata": {},
     "output_type": "execute_result"
    }
   ],
   "source": [
    "output = !cd .. && cargo run --example nanopore_bench_global --release --features simd_avx2 --quiet\n",
    "output"
   ]
  },
  {
   "cell_type": "code",
   "execution_count": 18,
   "metadata": {
    "execution": {
     "iopub.execute_input": "2023-06-07T10:10:43.881324Z",
     "iopub.status.busy": "2023-06-07T10:10:43.873540Z",
     "iopub.status.idle": "2023-06-07T10:10:43.883604Z",
     "shell.execute_reply": "2023-06-07T10:10:43.884101Z"
    },
    "scrolled": false
   },
   "outputs": [
    {
     "data": {
      "text/html": [
       "<div>\n",
       "<style scoped>\n",
       "    .dataframe tbody tr th:only-of-type {\n",
       "        vertical-align: middle;\n",
       "    }\n",
       "\n",
       "    .dataframe tbody tr th {\n",
       "        vertical-align: top;\n",
       "    }\n",
       "\n",
       "    .dataframe thead th {\n",
       "        text-align: right;\n",
       "    }\n",
       "</style>\n",
       "<table border=\"1\" class=\"dataframe\">\n",
       "  <thead>\n",
       "    <tr style=\"text-align: right;\">\n",
       "      <th></th>\n",
       "      <th>dataset</th>\n",
       "      <th>algorithm</th>\n",
       "      <th>time</th>\n",
       "    </tr>\n",
       "  </thead>\n",
       "  <tbody>\n",
       "    <tr>\n",
       "      <th>0</th>\n",
       "      <td>illumina</td>\n",
       "      <td>ours (1%-1%)</td>\n",
       "      <td>0.331118</td>\n",
       "    </tr>\n",
       "    <tr>\n",
       "      <th>1</th>\n",
       "      <td>illumina</td>\n",
       "      <td>ours (1%-10%)</td>\n",
       "      <td>0.360673</td>\n",
       "    </tr>\n",
       "    <tr>\n",
       "      <th>2</th>\n",
       "      <td>illumina</td>\n",
       "      <td>edlib</td>\n",
       "      <td>1.078242</td>\n",
       "    </tr>\n",
       "    <tr>\n",
       "      <th>3</th>\n",
       "      <td>illumina</td>\n",
       "      <td>ksw_extz2_sse (1%)</td>\n",
       "      <td>0.701564</td>\n",
       "    </tr>\n",
       "    <tr>\n",
       "      <th>4</th>\n",
       "      <td>illumina</td>\n",
       "      <td>ksw_extz2_sse (10%)</td>\n",
       "      <td>0.661998</td>\n",
       "    </tr>\n",
       "    <tr>\n",
       "      <th>5</th>\n",
       "      <td>illumina</td>\n",
       "      <td>wfa2</td>\n",
       "      <td>0.039591</td>\n",
       "    </tr>\n",
       "    <tr>\n",
       "      <th>6</th>\n",
       "      <td>illumina</td>\n",
       "      <td>wfa2 adaptive</td>\n",
       "      <td>0.033795</td>\n",
       "    </tr>\n",
       "    <tr>\n",
       "      <th>7</th>\n",
       "      <td>illumina</td>\n",
       "      <td>parasail</td>\n",
       "      <td>1.877281</td>\n",
       "    </tr>\n",
       "    <tr>\n",
       "      <th>8</th>\n",
       "      <td>nanopore 1kbp</td>\n",
       "      <td>ours (1%-1%)</td>\n",
       "      <td>0.355239</td>\n",
       "    </tr>\n",
       "    <tr>\n",
       "      <th>9</th>\n",
       "      <td>nanopore 1kbp</td>\n",
       "      <td>ours (1%-10%)</td>\n",
       "      <td>0.425491</td>\n",
       "    </tr>\n",
       "    <tr>\n",
       "      <th>10</th>\n",
       "      <td>nanopore 1kbp</td>\n",
       "      <td>edlib</td>\n",
       "      <td>0.982484</td>\n",
       "    </tr>\n",
       "    <tr>\n",
       "      <th>11</th>\n",
       "      <td>nanopore 1kbp</td>\n",
       "      <td>ksw_extz2_sse (1%)</td>\n",
       "      <td>0.689956</td>\n",
       "    </tr>\n",
       "    <tr>\n",
       "      <th>12</th>\n",
       "      <td>nanopore 1kbp</td>\n",
       "      <td>ksw_extz2_sse (10%)</td>\n",
       "      <td>1.491847</td>\n",
       "    </tr>\n",
       "    <tr>\n",
       "      <th>13</th>\n",
       "      <td>nanopore 1kbp</td>\n",
       "      <td>wfa2</td>\n",
       "      <td>1.074461</td>\n",
       "    </tr>\n",
       "    <tr>\n",
       "      <th>14</th>\n",
       "      <td>nanopore 1kbp</td>\n",
       "      <td>wfa2 adaptive</td>\n",
       "      <td>0.967669</td>\n",
       "    </tr>\n",
       "    <tr>\n",
       "      <th>15</th>\n",
       "      <td>nanopore 1kbp</td>\n",
       "      <td>parasail</td>\n",
       "      <td>4.241416</td>\n",
       "    </tr>\n",
       "    <tr>\n",
       "      <th>16</th>\n",
       "      <td>nanopore &lt;10kbp</td>\n",
       "      <td>ours (1%-1%)</td>\n",
       "      <td>1.232769</td>\n",
       "    </tr>\n",
       "    <tr>\n",
       "      <th>17</th>\n",
       "      <td>nanopore &lt;10kbp</td>\n",
       "      <td>ours (1%-10%)</td>\n",
       "      <td>1.745659</td>\n",
       "    </tr>\n",
       "    <tr>\n",
       "      <th>18</th>\n",
       "      <td>nanopore &lt;10kbp</td>\n",
       "      <td>edlib</td>\n",
       "      <td>4.181581</td>\n",
       "    </tr>\n",
       "    <tr>\n",
       "      <th>19</th>\n",
       "      <td>nanopore &lt;10kbp</td>\n",
       "      <td>ksw_extz2_sse (1%)</td>\n",
       "      <td>2.041433</td>\n",
       "    </tr>\n",
       "    <tr>\n",
       "      <th>20</th>\n",
       "      <td>nanopore &lt;10kbp</td>\n",
       "      <td>ksw_extz2_sse (10%)</td>\n",
       "      <td>13.947968</td>\n",
       "    </tr>\n",
       "    <tr>\n",
       "      <th>21</th>\n",
       "      <td>nanopore &lt;10kbp</td>\n",
       "      <td>wfa2</td>\n",
       "      <td>12.231731</td>\n",
       "    </tr>\n",
       "    <tr>\n",
       "      <th>22</th>\n",
       "      <td>nanopore &lt;10kbp</td>\n",
       "      <td>wfa2 adaptive</td>\n",
       "      <td>2.636042</td>\n",
       "    </tr>\n",
       "    <tr>\n",
       "      <th>23</th>\n",
       "      <td>nanopore &lt;10kbp</td>\n",
       "      <td>parasail</td>\n",
       "      <td>35.788787</td>\n",
       "    </tr>\n",
       "    <tr>\n",
       "      <th>24</th>\n",
       "      <td>nanopore &lt;50kbp</td>\n",
       "      <td>ours (1%-1%)</td>\n",
       "      <td>29.618717</td>\n",
       "    </tr>\n",
       "    <tr>\n",
       "      <th>25</th>\n",
       "      <td>nanopore &lt;50kbp</td>\n",
       "      <td>ours (1%-10%)</td>\n",
       "      <td>60.270742</td>\n",
       "    </tr>\n",
       "    <tr>\n",
       "      <th>26</th>\n",
       "      <td>nanopore &lt;50kbp</td>\n",
       "      <td>edlib</td>\n",
       "      <td>63.197075</td>\n",
       "    </tr>\n",
       "    <tr>\n",
       "      <th>27</th>\n",
       "      <td>nanopore &lt;50kbp</td>\n",
       "      <td>ksw_extz2_sse (1%)</td>\n",
       "      <td>44.492516</td>\n",
       "    </tr>\n",
       "    <tr>\n",
       "      <th>28</th>\n",
       "      <td>nanopore &lt;50kbp</td>\n",
       "      <td>ksw_extz2_sse (10%)</td>\n",
       "      <td>571.017928</td>\n",
       "    </tr>\n",
       "    <tr>\n",
       "      <th>29</th>\n",
       "      <td>nanopore &lt;50kbp</td>\n",
       "      <td>wfa2</td>\n",
       "      <td>331.474969</td>\n",
       "    </tr>\n",
       "    <tr>\n",
       "      <th>30</th>\n",
       "      <td>nanopore &lt;50kbp</td>\n",
       "      <td>wfa2 adaptive</td>\n",
       "      <td>58.830036</td>\n",
       "    </tr>\n",
       "  </tbody>\n",
       "</table>\n",
       "</div>"
      ],
      "text/plain": [
       "            dataset            algorithm        time\n",
       "0          illumina         ours (1%-1%)    0.331118\n",
       "1          illumina        ours (1%-10%)    0.360673\n",
       "2          illumina                edlib    1.078242\n",
       "3          illumina   ksw_extz2_sse (1%)    0.701564\n",
       "4          illumina  ksw_extz2_sse (10%)    0.661998\n",
       "5          illumina                 wfa2    0.039591\n",
       "6          illumina        wfa2 adaptive    0.033795\n",
       "7          illumina             parasail    1.877281\n",
       "8     nanopore 1kbp         ours (1%-1%)    0.355239\n",
       "9     nanopore 1kbp        ours (1%-10%)    0.425491\n",
       "10    nanopore 1kbp                edlib    0.982484\n",
       "11    nanopore 1kbp   ksw_extz2_sse (1%)    0.689956\n",
       "12    nanopore 1kbp  ksw_extz2_sse (10%)    1.491847\n",
       "13    nanopore 1kbp                 wfa2    1.074461\n",
       "14    nanopore 1kbp        wfa2 adaptive    0.967669\n",
       "15    nanopore 1kbp             parasail    4.241416\n",
       "16  nanopore <10kbp         ours (1%-1%)    1.232769\n",
       "17  nanopore <10kbp        ours (1%-10%)    1.745659\n",
       "18  nanopore <10kbp                edlib    4.181581\n",
       "19  nanopore <10kbp   ksw_extz2_sse (1%)    2.041433\n",
       "20  nanopore <10kbp  ksw_extz2_sse (10%)   13.947968\n",
       "21  nanopore <10kbp                 wfa2   12.231731\n",
       "22  nanopore <10kbp        wfa2 adaptive    2.636042\n",
       "23  nanopore <10kbp             parasail   35.788787\n",
       "24  nanopore <50kbp         ours (1%-1%)   29.618717\n",
       "25  nanopore <50kbp        ours (1%-10%)   60.270742\n",
       "26  nanopore <50kbp                edlib   63.197075\n",
       "27  nanopore <50kbp   ksw_extz2_sse (1%)   44.492516\n",
       "28  nanopore <50kbp  ksw_extz2_sse (10%)  571.017928\n",
       "29  nanopore <50kbp                 wfa2  331.474969\n",
       "30  nanopore <50kbp        wfa2 adaptive   58.830036"
      ]
     },
     "execution_count": 1,
     "metadata": {},
     "output_type": "execute_result"
    }
   ],
   "source": [
    "data = csv_to_pandas(output)\n",
    "data"
   ]
  },
  {
   "cell_type": "markdown",
   "metadata": {},
   "source": [
    "DNA Global Alignment Benchmark (AVX2)"
   ]
  },
  {
   "cell_type": "code",
   "execution_count": 19,
   "metadata": {
    "execution": {
     "iopub.execute_input": "2023-06-07T10:10:43.903824Z",
     "iopub.status.busy": "2023-06-07T10:10:43.898668Z",
     "iopub.status.idle": "2023-06-07T10:10:44.709793Z",
     "shell.execute_reply": "2023-06-07T10:10:44.710211Z"
    }
   },
   "outputs": [
    {
     "data": {
      "text/html": [
       "\n",
       "<div id=\"altair-viz-7e59fa9a0cc5418f8017d682b5b367a7\"></div>\n",
       "<script type=\"text/javascript\">\n",
       "  (function(spec, embedOpt){\n",
       "    let outputDiv = document.currentScript.previousElementSibling;\n",
       "    if (outputDiv.id !== \"altair-viz-7e59fa9a0cc5418f8017d682b5b367a7\") {\n",
       "      outputDiv = document.getElementById(\"altair-viz-7e59fa9a0cc5418f8017d682b5b367a7\");\n",
       "    }\n",
       "    const paths = {\n",
       "      \"vega\": \"https://cdn.jsdelivr.net/npm//vega@5?noext\",\n",
       "      \"vega-lib\": \"https://cdn.jsdelivr.net/npm//vega-lib?noext\",\n",
       "      \"vega-lite\": \"https://cdn.jsdelivr.net/npm//vega-lite@4.8.1?noext\",\n",
       "      \"vega-embed\": \"https://cdn.jsdelivr.net/npm//vega-embed@6?noext\",\n",
       "    };\n",
       "\n",
       "    function loadScript(lib) {\n",
       "      return new Promise(function(resolve, reject) {\n",
       "        var s = document.createElement('script');\n",
       "        s.src = paths[lib];\n",
       "        s.async = true;\n",
       "        s.onload = () => resolve(paths[lib]);\n",
       "        s.onerror = () => reject(`Error loading script: ${paths[lib]}`);\n",
       "        document.getElementsByTagName(\"head\")[0].appendChild(s);\n",
       "      });\n",
       "    }\n",
       "\n",
       "    function showError(err) {\n",
       "      outputDiv.innerHTML = `<div class=\"error\" style=\"color:red;\">${err}</div>`;\n",
       "      throw err;\n",
       "    }\n",
       "\n",
       "    function displayChart(vegaEmbed) {\n",
       "      vegaEmbed(outputDiv, spec, embedOpt)\n",
       "        .catch(err => showError(`Javascript Error: ${err.message}<br>This usually means there's a typo in your chart specification. See the javascript console for the full traceback.`));\n",
       "    }\n",
       "\n",
       "    if(typeof define === \"function\" && define.amd) {\n",
       "      requirejs.config({paths});\n",
       "      require([\"vega-embed\"], displayChart, err => showError(`Error loading script: ${err.message}`));\n",
       "    } else if (typeof vegaEmbed === \"function\") {\n",
       "      displayChart(vegaEmbed);\n",
       "    } else {\n",
       "      loadScript(\"vega\")\n",
       "        .then(() => loadScript(\"vega-lite\"))\n",
       "        .then(() => loadScript(\"vega-embed\"))\n",
       "        .catch(showError)\n",
       "        .then(() => displayChart(vegaEmbed));\n",
       "    }\n",
       "  })({\"config\": {\"view\": {\"continuousWidth\": 400, \"continuousHeight\": 300}, \"axisY\": {\"labelAlign\": \"left\", \"labelPadding\": 18}}, \"data\": {\"url\": \"http://localhost:20562/a1073a5784a3bdbed01db418f9463ac9.json\"}, \"facet\": {\"type\": \"nominal\", \"field\": \"dataset\", \"header\": {\"orient\": \"top\"}, \"title\": null}, \"spec\": {\"layer\": [{\"mark\": \"bar\", \"encoding\": {\"color\": {\"type\": \"nominal\", \"field\": \"algorithm\", \"legend\": null}, \"x\": {\"type\": \"nominal\", \"field\": \"algorithm\", \"sort\": [\"ours (1%-1%)\", \"ours (1%-10%)\", \"edlib\", \"ksw_extz2_sse (1%)\", \"ksw_extz2_sse (10%)\", \"wfa2\", \"wfa2 adaptive\", \"parasail\"], \"title\": null}, \"y\": {\"type\": \"quantitative\", \"axis\": {\"title\": \"time (s)\"}, \"field\": \"time\"}}}, {\"mark\": {\"type\": \"text\", \"dy\": -4, \"size\": 8}, \"encoding\": {\"color\": {\"value\": \"black\"}, \"text\": {\"type\": \"quantitative\", \"field\": \"time\", \"format\": \".2f\"}, \"x\": {\"type\": \"nominal\", \"field\": \"algorithm\", \"sort\": [\"ours (1%-1%)\", \"ours (1%-10%)\", \"edlib\", \"ksw_extz2_sse (1%)\", \"ksw_extz2_sse (10%)\", \"wfa2\", \"wfa2 adaptive\", \"parasail\"], \"title\": null}, \"y\": {\"type\": \"quantitative\", \"axis\": {\"title\": \"time (s)\"}, \"field\": \"time\"}}}], \"height\": 140, \"width\": 140}, \"columns\": 2, \"resolve\": {\"scale\": {\"y\": \"independent\"}}, \"$schema\": \"https://vega.github.io/schema/vega-lite/v4.8.1.json\"}, {\"mode\": \"vega-lite\"});\n",
       "</script>"
      ],
      "text/plain": [
       "alt.FacetChart(...)"
      ]
     },
     "execution_count": 1,
     "metadata": {},
     "output_type": "execute_result"
    }
   ],
   "source": [
    "algos = [\"ours (1%-1%)\", \"ours (1%-10%)\", \"edlib\", \"ksw_extz2_sse (1%)\", \"ksw_extz2_sse (10%)\", \"wfa2\", \"wfa2 adaptive\", \"parasail\"]\n",
    "c = alt.Chart(data).mark_bar().encode(\n",
    "    x = alt.X(\"algorithm\", sort = algos, title = None),\n",
    "    y = alt.Y(\"time\", axis = alt.Axis(title = \"time (s)\")),\n",
    "    color = alt.Color(\"algorithm\", legend = None)\n",
    ")\n",
    "t = c.mark_text(dy = -4, size = 8).encode(text = alt.Text(\"time\", format = \".2f\"), color = alt.value(\"black\"))\n",
    "c = (c + t).properties(\n",
    "    width = 140,\n",
    "    height = 140\n",
    ").facet(\n",
    "    facet = alt.Facet(\"dataset\", title = None, header = alt.Header(orient = \"top\")),\n",
    "    columns = 2\n",
    ").resolve_scale(\n",
    "    y = \"independent\"\n",
    ").configure_axisY(\n",
    "    labelPadding = 18,\n",
    "    labelAlign = \"left\"\n",
    ")\n",
    "save(c, \"dna_global_bench.pdf\")\n",
    "c"
   ]
  },
  {
   "cell_type": "markdown",
   "metadata": {},
   "source": [
    "## Nanopore Data Benchmark Setup\n",
    "\n",
    "To run the benchmarks below, you need to clone the following repos, place them in the same directory where this repo (block aligner) is located, and follow their setup instructions:\n",
    "* [diff-bench-paper](https://github.com/Daniel-Liu-c0deb0t/diff-bench-paper)\n",
    "* [adaptivebandbench](https://github.com/Daniel-Liu-c0deb0t/adaptivebandbench)"
   ]
  },
  {
   "cell_type": "markdown",
   "metadata": {},
   "source": [
    "## Nanopore Data Benchmark"
   ]
  },
  {
   "cell_type": "code",
   "execution_count": 20,
   "metadata": {
    "execution": {
     "iopub.execute_input": "2023-06-07T10:10:44.713589Z",
     "iopub.status.busy": "2023-06-07T10:10:44.713197Z",
     "iopub.status.idle": "2023-06-07T10:11:10.618299Z",
     "shell.execute_reply": "2023-06-07T10:11:10.618727Z"
    }
   },
   "outputs": [
    {
     "data": {
      "text/plain": [
       "['# time (s)',\n",
       " 'algorithm, dataset, time',\n",
       " 'ours (no trace 32-32), nanopore 25kbp, 0.99076395',\n",
       " 'ours (no trace 32-32), random, 2.39669256',\n",
       " 'ours (trace 32-32), nanopore 25kbp, 1.378179032',\n",
       " 'ours (trace 32-32), random, 3.38678551',\n",
       " 'ours (trace 32-64), nanopore 25kbp, 1.6956111200000001',\n",
       " 'ours (trace 32-64), random, 3.548437374']"
      ]
     },
     "execution_count": 1,
     "metadata": {},
     "output_type": "execute_result"
    }
   ],
   "source": [
    "output = !cd .. && cargo run --example nanopore_bench --release --features simd_avx2 --quiet\n",
    "output"
   ]
  },
  {
   "cell_type": "code",
   "execution_count": 21,
   "metadata": {
    "execution": {
     "iopub.execute_input": "2023-06-07T10:11:10.621556Z",
     "iopub.status.busy": "2023-06-07T10:11:10.621163Z",
     "iopub.status.idle": "2023-06-07T10:11:10.628425Z",
     "shell.execute_reply": "2023-06-07T10:11:10.628862Z"
    }
   },
   "outputs": [
    {
     "data": {
      "text/html": [
       "<div>\n",
       "<style scoped>\n",
       "    .dataframe tbody tr th:only-of-type {\n",
       "        vertical-align: middle;\n",
       "    }\n",
       "\n",
       "    .dataframe tbody tr th {\n",
       "        vertical-align: top;\n",
       "    }\n",
       "\n",
       "    .dataframe thead th {\n",
       "        text-align: right;\n",
       "    }\n",
       "</style>\n",
       "<table border=\"1\" class=\"dataframe\">\n",
       "  <thead>\n",
       "    <tr style=\"text-align: right;\">\n",
       "      <th></th>\n",
       "      <th>algorithm</th>\n",
       "      <th>dataset</th>\n",
       "      <th>time</th>\n",
       "    </tr>\n",
       "  </thead>\n",
       "  <tbody>\n",
       "    <tr>\n",
       "      <th>0</th>\n",
       "      <td>ours (no trace 32-32)</td>\n",
       "      <td>nanopore 25kbp</td>\n",
       "      <td>0.990764</td>\n",
       "    </tr>\n",
       "    <tr>\n",
       "      <th>1</th>\n",
       "      <td>ours (no trace 32-32)</td>\n",
       "      <td>random</td>\n",
       "      <td>2.396693</td>\n",
       "    </tr>\n",
       "    <tr>\n",
       "      <th>2</th>\n",
       "      <td>ours (trace 32-32)</td>\n",
       "      <td>nanopore 25kbp</td>\n",
       "      <td>1.378179</td>\n",
       "    </tr>\n",
       "    <tr>\n",
       "      <th>3</th>\n",
       "      <td>ours (trace 32-32)</td>\n",
       "      <td>random</td>\n",
       "      <td>3.386786</td>\n",
       "    </tr>\n",
       "    <tr>\n",
       "      <th>4</th>\n",
       "      <td>ours (trace 32-64)</td>\n",
       "      <td>nanopore 25kbp</td>\n",
       "      <td>1.695611</td>\n",
       "    </tr>\n",
       "    <tr>\n",
       "      <th>5</th>\n",
       "      <td>ours (trace 32-64)</td>\n",
       "      <td>random</td>\n",
       "      <td>3.548437</td>\n",
       "    </tr>\n",
       "  </tbody>\n",
       "</table>\n",
       "</div>"
      ],
      "text/plain": [
       "               algorithm         dataset      time\n",
       "0  ours (no trace 32-32)  nanopore 25kbp  0.990764\n",
       "1  ours (no trace 32-32)          random  2.396693\n",
       "2     ours (trace 32-32)  nanopore 25kbp  1.378179\n",
       "3     ours (trace 32-32)          random  3.386786\n",
       "4     ours (trace 32-64)  nanopore 25kbp  1.695611\n",
       "5     ours (trace 32-64)          random  3.548437"
      ]
     },
     "execution_count": 1,
     "metadata": {},
     "output_type": "execute_result"
    }
   ],
   "source": [
    "data = csv_to_pandas(output)\n",
    "data"
   ]
  },
  {
   "cell_type": "code",
   "execution_count": 22,
   "metadata": {
    "execution": {
     "iopub.execute_input": "2023-06-07T10:11:10.632370Z",
     "iopub.status.busy": "2023-06-07T10:11:10.631977Z",
     "iopub.status.idle": "2023-06-07T10:14:17.805783Z",
     "shell.execute_reply": "2023-06-07T10:14:17.806225Z"
    }
   },
   "outputs": [
    {
     "data": {
      "text/plain": [
       "['algorithm\\tfill time\\ttrace time\\tconvert time\\ttotal time\\tscore\\tfail',\n",
       " 'editdist\\t479857000\\t171920000\\t68242000\\t720019000\\t6880489\\t0',\n",
       " 'non-diff\\t675709000\\t271923000\\t60448000\\t1008080000\\t27124786\\t52',\n",
       " 'diff-raw\\t611150000\\t205452000\\t62678000\\t879280000\\t27291141\\t32',\n",
       " 'libgaba\\t433122000\\t150108000\\t31507000\\t614737000\\t27121546\\t53',\n",
       " 'edlib\\t28014226000\\t19216508000\\t105996000\\t47336730000\\t37\\t0',\n",
       " 'seqan\\t90341741000\\t0\\t0\\t90341741000\\t0\\t0']"
      ]
     },
     "execution_count": 1,
     "metadata": {},
     "output_type": "execute_result"
    }
   ],
   "source": [
    "output2 = !cd ../../diff-bench-paper/supplementary_data/benchmark_codes && ./custom_bench.sh\n",
    "\n",
    "for i, o in enumerate(output2):\n",
    "    if o.startswith(\"cells(\"):\n",
    "        break\n",
    "output2 = output2[i + 1:]\n",
    "\n",
    "output2.insert(0, \"algorithm\\tfill time\\ttrace time\\tconvert time\\ttotal time\\tscore\\tfail\")\n",
    "output2"
   ]
  },
  {
   "cell_type": "code",
   "execution_count": 23,
   "metadata": {
    "execution": {
     "iopub.execute_input": "2023-06-07T10:14:17.815137Z",
     "iopub.status.busy": "2023-06-07T10:14:17.814289Z",
     "iopub.status.idle": "2023-06-07T10:14:17.816878Z",
     "shell.execute_reply": "2023-06-07T10:14:17.817291Z"
    }
   },
   "outputs": [
    {
     "data": {
      "text/html": [
       "<div>\n",
       "<style scoped>\n",
       "    .dataframe tbody tr th:only-of-type {\n",
       "        vertical-align: middle;\n",
       "    }\n",
       "\n",
       "    .dataframe tbody tr th {\n",
       "        vertical-align: top;\n",
       "    }\n",
       "\n",
       "    .dataframe thead th {\n",
       "        text-align: right;\n",
       "    }\n",
       "</style>\n",
       "<table border=\"1\" class=\"dataframe\">\n",
       "  <thead>\n",
       "    <tr style=\"text-align: right;\">\n",
       "      <th></th>\n",
       "      <th>algorithm</th>\n",
       "      <th>fill time</th>\n",
       "      <th>trace time</th>\n",
       "      <th>convert time</th>\n",
       "      <th>total time</th>\n",
       "      <th>score</th>\n",
       "      <th>fail</th>\n",
       "    </tr>\n",
       "  </thead>\n",
       "  <tbody>\n",
       "    <tr>\n",
       "      <th>0</th>\n",
       "      <td>editdist</td>\n",
       "      <td>479857000</td>\n",
       "      <td>171920000</td>\n",
       "      <td>68242000</td>\n",
       "      <td>720019000</td>\n",
       "      <td>6880489</td>\n",
       "      <td>0</td>\n",
       "    </tr>\n",
       "    <tr>\n",
       "      <th>1</th>\n",
       "      <td>non-diff</td>\n",
       "      <td>675709000</td>\n",
       "      <td>271923000</td>\n",
       "      <td>60448000</td>\n",
       "      <td>1008080000</td>\n",
       "      <td>27124786</td>\n",
       "      <td>52</td>\n",
       "    </tr>\n",
       "    <tr>\n",
       "      <th>2</th>\n",
       "      <td>diff-raw</td>\n",
       "      <td>611150000</td>\n",
       "      <td>205452000</td>\n",
       "      <td>62678000</td>\n",
       "      <td>879280000</td>\n",
       "      <td>27291141</td>\n",
       "      <td>32</td>\n",
       "    </tr>\n",
       "    <tr>\n",
       "      <th>3</th>\n",
       "      <td>libgaba</td>\n",
       "      <td>433122000</td>\n",
       "      <td>150108000</td>\n",
       "      <td>31507000</td>\n",
       "      <td>614737000</td>\n",
       "      <td>27121546</td>\n",
       "      <td>53</td>\n",
       "    </tr>\n",
       "    <tr>\n",
       "      <th>4</th>\n",
       "      <td>edlib</td>\n",
       "      <td>28014226000</td>\n",
       "      <td>19216508000</td>\n",
       "      <td>105996000</td>\n",
       "      <td>47336730000</td>\n",
       "      <td>37</td>\n",
       "      <td>0</td>\n",
       "    </tr>\n",
       "    <tr>\n",
       "      <th>5</th>\n",
       "      <td>seqan</td>\n",
       "      <td>90341741000</td>\n",
       "      <td>0</td>\n",
       "      <td>0</td>\n",
       "      <td>90341741000</td>\n",
       "      <td>0</td>\n",
       "      <td>0</td>\n",
       "    </tr>\n",
       "  </tbody>\n",
       "</table>\n",
       "</div>"
      ],
      "text/plain": [
       "  algorithm    fill time   trace time  convert time   total time     score  \\\n",
       "0  editdist    479857000    171920000      68242000    720019000   6880489   \n",
       "1  non-diff    675709000    271923000      60448000   1008080000  27124786   \n",
       "2  diff-raw    611150000    205452000      62678000    879280000  27291141   \n",
       "3   libgaba    433122000    150108000      31507000    614737000  27121546   \n",
       "4     edlib  28014226000  19216508000     105996000  47336730000        37   \n",
       "5     seqan  90341741000            0             0  90341741000         0   \n",
       "\n",
       "   fail  \n",
       "0     0  \n",
       "1    52  \n",
       "2    32  \n",
       "3    53  \n",
       "4     0  \n",
       "5     0  "
      ]
     },
     "execution_count": 1,
     "metadata": {},
     "output_type": "execute_result"
    }
   ],
   "source": [
    "data2 = csv_to_pandas(output2, d = \"\\t\")\n",
    "data2"
   ]
  },
  {
   "cell_type": "code",
   "execution_count": 24,
   "metadata": {
    "execution": {
     "iopub.execute_input": "2023-06-07T10:14:17.823448Z",
     "iopub.status.busy": "2023-06-07T10:14:17.822895Z",
     "iopub.status.idle": "2023-06-07T10:14:17.825266Z",
     "shell.execute_reply": "2023-06-07T10:14:17.825709Z"
    }
   },
   "outputs": [
    {
     "data": {
      "text/html": [
       "<div>\n",
       "<style scoped>\n",
       "    .dataframe tbody tr th:only-of-type {\n",
       "        vertical-align: middle;\n",
       "    }\n",
       "\n",
       "    .dataframe tbody tr th {\n",
       "        vertical-align: top;\n",
       "    }\n",
       "\n",
       "    .dataframe thead th {\n",
       "        text-align: right;\n",
       "    }\n",
       "</style>\n",
       "<table border=\"1\" class=\"dataframe\">\n",
       "  <thead>\n",
       "    <tr style=\"text-align: right;\">\n",
       "      <th></th>\n",
       "      <th>algorithm</th>\n",
       "      <th>time</th>\n",
       "    </tr>\n",
       "  </thead>\n",
       "  <tbody>\n",
       "    <tr>\n",
       "      <th>0</th>\n",
       "      <td>editdist</td>\n",
       "      <td>0.479857</td>\n",
       "    </tr>\n",
       "    <tr>\n",
       "      <th>1</th>\n",
       "      <td>non-diff</td>\n",
       "      <td>0.675709</td>\n",
       "    </tr>\n",
       "    <tr>\n",
       "      <th>2</th>\n",
       "      <td>diff-raw</td>\n",
       "      <td>0.611150</td>\n",
       "    </tr>\n",
       "    <tr>\n",
       "      <th>3</th>\n",
       "      <td>libgaba</td>\n",
       "      <td>0.433122</td>\n",
       "    </tr>\n",
       "    <tr>\n",
       "      <th>4</th>\n",
       "      <td>edlib</td>\n",
       "      <td>28.014226</td>\n",
       "    </tr>\n",
       "    <tr>\n",
       "      <th>5</th>\n",
       "      <td>seqan</td>\n",
       "      <td>90.341741</td>\n",
       "    </tr>\n",
       "  </tbody>\n",
       "</table>\n",
       "</div>"
      ],
      "text/plain": [
       "  algorithm       time\n",
       "0  editdist   0.479857\n",
       "1  non-diff   0.675709\n",
       "2  diff-raw   0.611150\n",
       "3   libgaba   0.433122\n",
       "4     edlib  28.014226\n",
       "5     seqan  90.341741"
      ]
     },
     "execution_count": 1,
     "metadata": {},
     "output_type": "execute_result"
    }
   ],
   "source": [
    "cleaned2 = data2.drop(columns = [\"trace time\", \"convert time\", \"total time\", \"score\", \"fail\"])\n",
    "cleaned2 = cleaned2.rename(columns = {\"fill time\": \"time\"})\n",
    "cleaned2[\"time\"] /= 1e9\n",
    "cleaned2"
   ]
  },
  {
   "cell_type": "code",
   "execution_count": 25,
   "metadata": {
    "execution": {
     "iopub.execute_input": "2023-06-07T10:14:17.832042Z",
     "iopub.status.busy": "2023-06-07T10:14:17.831505Z",
     "iopub.status.idle": "2023-06-07T10:14:17.833732Z",
     "shell.execute_reply": "2023-06-07T10:14:17.834146Z"
    }
   },
   "outputs": [
    {
     "data": {
      "text/html": [
       "<div>\n",
       "<style scoped>\n",
       "    .dataframe tbody tr th:only-of-type {\n",
       "        vertical-align: middle;\n",
       "    }\n",
       "\n",
       "    .dataframe tbody tr th {\n",
       "        vertical-align: top;\n",
       "    }\n",
       "\n",
       "    .dataframe thead th {\n",
       "        text-align: right;\n",
       "    }\n",
       "</style>\n",
       "<table border=\"1\" class=\"dataframe\">\n",
       "  <thead>\n",
       "    <tr style=\"text-align: right;\">\n",
       "      <th></th>\n",
       "      <th>algorithm</th>\n",
       "      <th>time</th>\n",
       "    </tr>\n",
       "  </thead>\n",
       "  <tbody>\n",
       "    <tr>\n",
       "      <th>0</th>\n",
       "      <td>ours (no trace 32-32)</td>\n",
       "      <td>0.990764</td>\n",
       "    </tr>\n",
       "    <tr>\n",
       "      <th>1</th>\n",
       "      <td>ours (trace 32-32)</td>\n",
       "      <td>1.378179</td>\n",
       "    </tr>\n",
       "    <tr>\n",
       "      <th>2</th>\n",
       "      <td>ours (trace 32-64)</td>\n",
       "      <td>1.695611</td>\n",
       "    </tr>\n",
       "    <tr>\n",
       "      <th>3</th>\n",
       "      <td>editdist</td>\n",
       "      <td>0.479857</td>\n",
       "    </tr>\n",
       "    <tr>\n",
       "      <th>4</th>\n",
       "      <td>non-diff</td>\n",
       "      <td>0.675709</td>\n",
       "    </tr>\n",
       "    <tr>\n",
       "      <th>5</th>\n",
       "      <td>diff-raw</td>\n",
       "      <td>0.611150</td>\n",
       "    </tr>\n",
       "    <tr>\n",
       "      <th>6</th>\n",
       "      <td>libgaba</td>\n",
       "      <td>0.433122</td>\n",
       "    </tr>\n",
       "    <tr>\n",
       "      <th>7</th>\n",
       "      <td>edlib</td>\n",
       "      <td>28.014226</td>\n",
       "    </tr>\n",
       "    <tr>\n",
       "      <th>8</th>\n",
       "      <td>seqan</td>\n",
       "      <td>90.341741</td>\n",
       "    </tr>\n",
       "  </tbody>\n",
       "</table>\n",
       "</div>"
      ],
      "text/plain": [
       "               algorithm       time\n",
       "0  ours (no trace 32-32)   0.990764\n",
       "1     ours (trace 32-32)   1.378179\n",
       "2     ours (trace 32-64)   1.695611\n",
       "3               editdist   0.479857\n",
       "4               non-diff   0.675709\n",
       "5               diff-raw   0.611150\n",
       "6                libgaba   0.433122\n",
       "7                  edlib  28.014226\n",
       "8                  seqan  90.341741"
      ]
     },
     "execution_count": 1,
     "metadata": {},
     "output_type": "execute_result"
    }
   ],
   "source": [
    "cleaned = data.drop(index = [1, 3, 5])\n",
    "cleaned = cleaned.drop(columns = [\"dataset\"])\n",
    "cleaned = cleaned.append(cleaned2, ignore_index = True)\n",
    "cleaned"
   ]
  },
  {
   "cell_type": "markdown",
   "metadata": {},
   "source": [
    "25kbp Nanopore Reads Benchmark (AVX2)"
   ]
  },
  {
   "cell_type": "code",
   "execution_count": 26,
   "metadata": {
    "execution": {
     "iopub.execute_input": "2023-06-07T10:14:17.851267Z",
     "iopub.status.busy": "2023-06-07T10:14:17.850869Z",
     "iopub.status.idle": "2023-06-07T10:14:18.612658Z",
     "shell.execute_reply": "2023-06-07T10:14:18.613069Z"
    }
   },
   "outputs": [
    {
     "data": {
      "text/html": [
       "\n",
       "<div id=\"altair-viz-7901313c02c84112be835f0bbe785097\"></div>\n",
       "<script type=\"text/javascript\">\n",
       "  (function(spec, embedOpt){\n",
       "    let outputDiv = document.currentScript.previousElementSibling;\n",
       "    if (outputDiv.id !== \"altair-viz-7901313c02c84112be835f0bbe785097\") {\n",
       "      outputDiv = document.getElementById(\"altair-viz-7901313c02c84112be835f0bbe785097\");\n",
       "    }\n",
       "    const paths = {\n",
       "      \"vega\": \"https://cdn.jsdelivr.net/npm//vega@5?noext\",\n",
       "      \"vega-lib\": \"https://cdn.jsdelivr.net/npm//vega-lib?noext\",\n",
       "      \"vega-lite\": \"https://cdn.jsdelivr.net/npm//vega-lite@4.8.1?noext\",\n",
       "      \"vega-embed\": \"https://cdn.jsdelivr.net/npm//vega-embed@6?noext\",\n",
       "    };\n",
       "\n",
       "    function loadScript(lib) {\n",
       "      return new Promise(function(resolve, reject) {\n",
       "        var s = document.createElement('script');\n",
       "        s.src = paths[lib];\n",
       "        s.async = true;\n",
       "        s.onload = () => resolve(paths[lib]);\n",
       "        s.onerror = () => reject(`Error loading script: ${paths[lib]}`);\n",
       "        document.getElementsByTagName(\"head\")[0].appendChild(s);\n",
       "      });\n",
       "    }\n",
       "\n",
       "    function showError(err) {\n",
       "      outputDiv.innerHTML = `<div class=\"error\" style=\"color:red;\">${err}</div>`;\n",
       "      throw err;\n",
       "    }\n",
       "\n",
       "    function displayChart(vegaEmbed) {\n",
       "      vegaEmbed(outputDiv, spec, embedOpt)\n",
       "        .catch(err => showError(`Javascript Error: ${err.message}<br>This usually means there's a typo in your chart specification. See the javascript console for the full traceback.`));\n",
       "    }\n",
       "\n",
       "    if(typeof define === \"function\" && define.amd) {\n",
       "      requirejs.config({paths});\n",
       "      require([\"vega-embed\"], displayChart, err => showError(`Error loading script: ${err.message}`));\n",
       "    } else if (typeof vegaEmbed === \"function\") {\n",
       "      displayChart(vegaEmbed);\n",
       "    } else {\n",
       "      loadScript(\"vega\")\n",
       "        .then(() => loadScript(\"vega-lite\"))\n",
       "        .then(() => loadScript(\"vega-embed\"))\n",
       "        .catch(showError)\n",
       "        .then(() => displayChart(vegaEmbed));\n",
       "    }\n",
       "  })({\"config\": {\"view\": {\"continuousWidth\": 400, \"continuousHeight\": 300}}, \"layer\": [{\"mark\": {\"type\": \"point\", \"filled\": true, \"opacity\": 1}, \"encoding\": {\"x\": {\"type\": \"quantitative\", \"axis\": {\"grid\": true, \"title\": \"time (s)\"}, \"field\": \"time\", \"scale\": {\"type\": \"log\"}}, \"y\": {\"type\": \"nominal\", \"axis\": {\"grid\": true}, \"field\": \"algorithm\", \"sort\": {\"field\": \"time\"}}}, \"transform\": [{\"filter\": \"(((datum.algorithm !== 'ours (trace 32-32)') && (datum.algorithm !== 'ours (no trace 32-32)')) && (datum.algorithm !== 'ours (trace 32-64)'))\"}]}, {\"mark\": {\"type\": \"point\", \"color\": \"red\", \"filled\": true}, \"encoding\": {\"x\": {\"type\": \"quantitative\", \"axis\": {\"grid\": true, \"title\": \"time (s)\"}, \"field\": \"time\", \"scale\": {\"type\": \"log\"}}, \"y\": {\"type\": \"nominal\", \"axis\": {\"grid\": true}, \"field\": \"algorithm\", \"sort\": {\"field\": \"time\"}}}, \"transform\": [{\"filter\": \"(((datum.algorithm === 'ours (trace 32-32)') || (datum.algorithm === 'ours (no trace 32-32)')) || (datum.algorithm === 'ours (trace 32-64)'))\"}]}], \"data\": {\"url\": \"http://localhost:20562/a24907c647f831c5368435c9eef0fe0e.json\"}, \"height\": 150, \"width\": 150, \"$schema\": \"https://vega.github.io/schema/vega-lite/v4.8.1.json\"}, {\"mode\": \"vega-lite\"});\n",
       "</script>"
      ],
      "text/plain": [
       "alt.LayerChart(...)"
      ]
     },
     "execution_count": 1,
     "metadata": {},
     "output_type": "execute_result"
    }
   ],
   "source": [
    "chart1 = alt.Chart(cleaned).mark_point(opacity = 1, filled = True).encode(\n",
    "    x = alt.X(\"time\", axis = alt.Axis(title = \"time (s)\", grid = True), scale = alt.Scale(type = \"log\")),\n",
    "    y = alt.Y(\"algorithm\", axis = alt.Axis(grid = True), sort = alt.EncodingSortField(field = \"time\"))\n",
    ").transform_filter((datum.algorithm != \"ours (trace 32-32)\") & (datum.algorithm != \"ours (no trace 32-32)\") & (datum.algorithm != \"ours (trace 32-64)\"))\n",
    "\n",
    "chart2 = alt.Chart(cleaned).mark_point(color = \"red\", filled = True).encode(\n",
    "    x = alt.X(\"time\", axis = alt.Axis(title = \"time (s)\", grid = True), scale = alt.Scale(type = \"log\")),\n",
    "    y = alt.Y(\"algorithm\", axis = alt.Axis(grid = True), sort = alt.EncodingSortField(field = \"time\"))\n",
    ").transform_filter((datum.algorithm == \"ours (trace 32-32)\") | (datum.algorithm == \"ours (no trace 32-32)\") | (datum.algorithm == \"ours (trace 32-64)\"))\n",
    "\n",
    "c = (chart1 + chart2).properties(\n",
    "    width = 150,\n",
    "    height = 150\n",
    ")\n",
    "save(c, \"nanopore_bench.pdf\")\n",
    "c"
   ]
  },
  {
   "cell_type": "markdown",
   "metadata": {},
   "source": [
    "## Sequence-to-Profile Alignment Benchmark"
   ]
  },
  {
   "cell_type": "code",
   "execution_count": 27,
   "metadata": {
    "execution": {
     "iopub.execute_input": "2023-06-07T10:14:18.616277Z",
     "iopub.status.busy": "2023-06-07T10:14:18.615893Z",
     "iopub.status.idle": "2023-06-07T10:14:29.924112Z",
     "shell.execute_reply": "2023-06-07T10:14:29.924610Z"
    }
   },
   "outputs": [
    {
     "data": {
      "text/plain": [
       "['size, time',\n",
       " '32-32, 0.149440358',\n",
       " '32-64, 0.175623995',\n",
       " '32-128, 0.205382135',\n",
       " '128-128, 0.206854299',\n",
       " 'parasail, 0.596604504',\n",
       " '# Done!']"
      ]
     },
     "execution_count": 1,
     "metadata": {},
     "output_type": "execute_result"
    }
   ],
   "source": [
    "output = !cd .. && cargo run --example pssm_bench --release --features simd_avx2 --quiet\n",
    "output"
   ]
  },
  {
   "cell_type": "code",
   "execution_count": 28,
   "metadata": {
    "execution": {
     "iopub.execute_input": "2023-06-07T10:14:29.927966Z",
     "iopub.status.busy": "2023-06-07T10:14:29.927484Z",
     "iopub.status.idle": "2023-06-07T10:14:29.934610Z",
     "shell.execute_reply": "2023-06-07T10:14:29.935174Z"
    }
   },
   "outputs": [
    {
     "data": {
      "text/html": [
       "<div>\n",
       "<style scoped>\n",
       "    .dataframe tbody tr th:only-of-type {\n",
       "        vertical-align: middle;\n",
       "    }\n",
       "\n",
       "    .dataframe tbody tr th {\n",
       "        vertical-align: top;\n",
       "    }\n",
       "\n",
       "    .dataframe thead th {\n",
       "        text-align: right;\n",
       "    }\n",
       "</style>\n",
       "<table border=\"1\" class=\"dataframe\">\n",
       "  <thead>\n",
       "    <tr style=\"text-align: right;\">\n",
       "      <th></th>\n",
       "      <th>size</th>\n",
       "      <th>time</th>\n",
       "    </tr>\n",
       "  </thead>\n",
       "  <tbody>\n",
       "    <tr>\n",
       "      <th>0</th>\n",
       "      <td>32-32</td>\n",
       "      <td>0.149440</td>\n",
       "    </tr>\n",
       "    <tr>\n",
       "      <th>1</th>\n",
       "      <td>32-64</td>\n",
       "      <td>0.175624</td>\n",
       "    </tr>\n",
       "    <tr>\n",
       "      <th>2</th>\n",
       "      <td>32-128</td>\n",
       "      <td>0.205382</td>\n",
       "    </tr>\n",
       "    <tr>\n",
       "      <th>3</th>\n",
       "      <td>128-128</td>\n",
       "      <td>0.206854</td>\n",
       "    </tr>\n",
       "    <tr>\n",
       "      <th>4</th>\n",
       "      <td>parasail</td>\n",
       "      <td>0.596605</td>\n",
       "    </tr>\n",
       "  </tbody>\n",
       "</table>\n",
       "</div>"
      ],
      "text/plain": [
       "       size      time\n",
       "0     32-32  0.149440\n",
       "1     32-64  0.175624\n",
       "2    32-128  0.205382\n",
       "3   128-128  0.206854\n",
       "4  parasail  0.596605"
      ]
     },
     "execution_count": 1,
     "metadata": {},
     "output_type": "execute_result"
    }
   ],
   "source": [
    "data = csv_to_pandas(output)\n",
    "data"
   ]
  },
  {
   "cell_type": "code",
   "execution_count": 29,
   "metadata": {
    "execution": {
     "iopub.execute_input": "2023-06-07T10:14:29.940342Z",
     "iopub.status.busy": "2023-06-07T10:14:29.939794Z",
     "iopub.status.idle": "2023-06-07T10:14:29.942493Z",
     "shell.execute_reply": "2023-06-07T10:14:29.942120Z"
    }
   },
   "outputs": [
    {
     "name": "stdout",
     "output_type": "stream",
     "text": [
      "  block size  time\n",
      "0      32-32  0.15\n",
      "1      32-64  0.18\n",
      "2     32-128  0.21\n",
      "3    128-128  0.21\n",
      "4   parasail   0.6\n"
     ]
    }
   ],
   "source": [
    "table = data.copy()\n",
    "table = table.rename(columns = {\"size\": \"block size\"})\n",
    "table[\"time\"] = table[\"time\"].map(\"{:.2}\".format)\n",
    "print(table)"
   ]
  },
  {
   "cell_type": "markdown",
   "metadata": {},
   "source": [
    "SCOP Sequence-to-Profile Alignment Benchmark (AVX2)"
   ]
  },
  {
   "cell_type": "code",
   "execution_count": 30,
   "metadata": {
    "execution": {
     "iopub.execute_input": "2023-06-07T10:14:29.963108Z",
     "iopub.status.busy": "2023-06-07T10:14:29.962650Z",
     "iopub.status.idle": "2023-06-07T10:14:30.758924Z",
     "shell.execute_reply": "2023-06-07T10:14:30.759432Z"
    },
    "scrolled": false
   },
   "outputs": [
    {
     "data": {
      "text/html": [
       "\n",
       "<div id=\"altair-viz-4c6bd78875ce4be599e6d1bcd80c616d\"></div>\n",
       "<script type=\"text/javascript\">\n",
       "  (function(spec, embedOpt){\n",
       "    let outputDiv = document.currentScript.previousElementSibling;\n",
       "    if (outputDiv.id !== \"altair-viz-4c6bd78875ce4be599e6d1bcd80c616d\") {\n",
       "      outputDiv = document.getElementById(\"altair-viz-4c6bd78875ce4be599e6d1bcd80c616d\");\n",
       "    }\n",
       "    const paths = {\n",
       "      \"vega\": \"https://cdn.jsdelivr.net/npm//vega@5?noext\",\n",
       "      \"vega-lib\": \"https://cdn.jsdelivr.net/npm//vega-lib?noext\",\n",
       "      \"vega-lite\": \"https://cdn.jsdelivr.net/npm//vega-lite@4.8.1?noext\",\n",
       "      \"vega-embed\": \"https://cdn.jsdelivr.net/npm//vega-embed@6?noext\",\n",
       "    };\n",
       "\n",
       "    function loadScript(lib) {\n",
       "      return new Promise(function(resolve, reject) {\n",
       "        var s = document.createElement('script');\n",
       "        s.src = paths[lib];\n",
       "        s.async = true;\n",
       "        s.onload = () => resolve(paths[lib]);\n",
       "        s.onerror = () => reject(`Error loading script: ${paths[lib]}`);\n",
       "        document.getElementsByTagName(\"head\")[0].appendChild(s);\n",
       "      });\n",
       "    }\n",
       "\n",
       "    function showError(err) {\n",
       "      outputDiv.innerHTML = `<div class=\"error\" style=\"color:red;\">${err}</div>`;\n",
       "      throw err;\n",
       "    }\n",
       "\n",
       "    function displayChart(vegaEmbed) {\n",
       "      vegaEmbed(outputDiv, spec, embedOpt)\n",
       "        .catch(err => showError(`Javascript Error: ${err.message}<br>This usually means there's a typo in your chart specification. See the javascript console for the full traceback.`));\n",
       "    }\n",
       "\n",
       "    if(typeof define === \"function\" && define.amd) {\n",
       "      requirejs.config({paths});\n",
       "      require([\"vega-embed\"], displayChart, err => showError(`Error loading script: ${err.message}`));\n",
       "    } else if (typeof vegaEmbed === \"function\") {\n",
       "      displayChart(vegaEmbed);\n",
       "    } else {\n",
       "      loadScript(\"vega\")\n",
       "        .then(() => loadScript(\"vega-lite\"))\n",
       "        .then(() => loadScript(\"vega-embed\"))\n",
       "        .catch(showError)\n",
       "        .then(() => displayChart(vegaEmbed));\n",
       "    }\n",
       "  })({\"config\": {\"view\": {\"continuousWidth\": 400, \"continuousHeight\": 300}}, \"layer\": [{\"mark\": \"bar\", \"encoding\": {\"color\": {\"type\": \"nominal\", \"field\": \"size\", \"legend\": null, \"sort\": [\"32-32\", \"32-64\", \"32-128\", \"128-128\", \"parasail\"]}, \"x\": {\"type\": \"nominal\", \"field\": \"size\", \"sort\": [\"32-32\", \"32-64\", \"32-128\", \"128-128\", \"parasail\"], \"title\": \"block size\"}, \"y\": {\"type\": \"quantitative\", \"axis\": {\"title\": \"time (s)\"}, \"field\": \"time\"}}, \"height\": 100, \"transform\": [{\"filter\": \"(datum.size !== '2048-2048')\"}], \"width\": 75}, {\"mark\": {\"type\": \"text\", \"dy\": -4, \"size\": 8}, \"encoding\": {\"color\": {\"value\": \"black\"}, \"text\": {\"type\": \"quantitative\", \"field\": \"time\", \"format\": \".2f\"}, \"x\": {\"type\": \"nominal\", \"field\": \"size\", \"sort\": [\"32-32\", \"32-64\", \"32-128\", \"128-128\", \"parasail\"], \"title\": \"block size\"}, \"y\": {\"type\": \"quantitative\", \"axis\": {\"title\": \"time (s)\"}, \"field\": \"time\"}}, \"height\": 100, \"transform\": [{\"filter\": \"(datum.size !== '2048-2048')\"}], \"width\": 75}], \"data\": {\"url\": \"http://localhost:20562/ecf17b1e0fdd534fc50db02ce7899dd9.json\"}, \"$schema\": \"https://vega.github.io/schema/vega-lite/v4.8.1.json\"}, {\"mode\": \"vega-lite\"});\n",
       "</script>"
      ],
      "text/plain": [
       "alt.LayerChart(...)"
      ]
     },
     "execution_count": 1,
     "metadata": {},
     "output_type": "execute_result"
    }
   ],
   "source": [
    "c = alt.Chart(data).mark_bar().encode(\n",
    "    x = alt.X(\"size\", title = \"block size\", sort = [\"32-32\", \"32-64\", \"32-128\", \"128-128\", \"parasail\"]),\n",
    "    y = alt.Y(\"time\", axis = alt.Axis(title = \"time (s)\")),\n",
    "    color = alt.Color(\"size\", sort = [\"32-32\", \"32-64\", \"32-128\", \"128-128\", \"parasail\"], legend = None)\n",
    ").transform_filter(\n",
    "    datum.size != \"2048-2048\"\n",
    ").properties(\n",
    "    width = 75,\n",
    "    height = 100\n",
    ")\n",
    "t = c.mark_text(dy = -4, size = 8).encode(text = alt.Text(\"time\", format = \".2f\"), color = alt.value(\"black\"))\n",
    "c = c + t\n",
    "save(c, \"pssm_size_bench.pdf\")\n",
    "c"
   ]
  },
  {
   "cell_type": "markdown",
   "metadata": {},
   "source": [
    "## WASM SIMD\n",
    "\n",
    "[Wasmtime](https://wasmtime.dev/) is needed to run the webassembly code."
   ]
  },
  {
   "cell_type": "code",
   "execution_count": 31,
   "metadata": {
    "execution": {
     "iopub.execute_input": "2023-06-07T10:14:30.762990Z",
     "iopub.status.busy": "2023-06-07T10:14:30.762527Z",
     "iopub.status.idle": "2023-06-07T10:15:37.846134Z",
     "shell.execute_reply": "2023-06-07T10:15:37.846639Z"
    }
   },
   "outputs": [
    {
     "data": {
      "text/plain": [
       "['warning: unused variable: `b`',\n",
       " '   --> src/simd128.rs:136:34',\n",
       " '    |',\n",
       " '136 | pub unsafe fn simd_step(a: Simd, b: Simd) -> Simd {',\n",
       " '    |                                  ^ help: if this is intentional, prefix it with an underscore: `_b`',\n",
       " '    |',\n",
       " '    = note: `#[warn(unused_variables)]` on by default',\n",
       " '',\n",
       " 'bench_rustbio_aa_100_1000\\t24,591,899',\n",
       " 'bench_rustbio_aa_10_100\\t260,176',\n",
       " 'bench_scan_aa_1000_10000\\t853,155',\n",
       " 'bench_scan_aa_1000_10000_insert\\t11,051,925',\n",
       " 'bench_scan_aa_1000_10000_small\\t597,115',\n",
       " 'bench_scan_aa_1000_10000_trace\\t1,963,569',\n",
       " 'bench_scan_aa_100_1000\\t77,247',\n",
       " 'bench_scan_aa_100_1000_insert\\t158,918',\n",
       " 'bench_scan_aa_100_1000_small\\t57,476',\n",
       " 'bench_scan_aa_100_1000_trace\\t217,913',\n",
       " 'bench_scan_aa_10_100\\t6,992',\n",
       " 'bench_scan_aa_10_100_insert\\t7,204',\n",
       " 'bench_scan_aa_10_100_small\\t5,438',\n",
       " 'bench_scan_aa_10_100_trace\\t84,637',\n",
       " 'bench_scan_nuc_1000_10000\\t561,650',\n",
       " 'bench_scan_nuc_100_1000\\t57,071']"
      ]
     },
     "execution_count": 1,
     "metadata": {},
     "output_type": "execute_result"
    }
   ],
   "source": [
    "output = !CARGO_TARGET_WASM32_WASI_RUNNER=\"wasmtime --wasm-features simd --\" cargo bench --target=wasm32-wasi --features simd_wasm --quiet -- --nocapture | grep 'bench:' | awk '{print $2\"\\t\"$5}'\n",
    "output"
   ]
  },
  {
   "cell_type": "code",
   "execution_count": 32,
   "metadata": {
    "execution": {
     "iopub.execute_input": "2023-06-07T10:15:37.851372Z",
     "iopub.status.busy": "2023-06-07T10:15:37.850894Z",
     "iopub.status.idle": "2023-06-07T10:15:37.993547Z",
     "shell.execute_reply": "2023-06-07T10:15:37.994004Z"
    }
   },
   "outputs": [
    {
     "ename": "ValueError",
     "evalue": "substring not found",
     "output_type": "error",
     "traceback": [
      "\u001b[0;31m---------------------------------------------------------------------------\u001b[0m",
      "\u001b[0;31mValueError\u001b[0m                                Traceback (most recent call last)",
      "\u001b[0;32m<ipython-input-1-efcc063e666f>\u001b[0m in \u001b[0;36m<module>\u001b[0;34m\u001b[0m\n\u001b[1;32m     11\u001b[0m             \u001b[0;32mbreak\u001b[0m\u001b[0;34m\u001b[0m\u001b[0;34m\u001b[0m\u001b[0m\n\u001b[1;32m     12\u001b[0m     \u001b[0;32mif\u001b[0m \u001b[0mlen\u001b[0m\u001b[0;34m(\u001b[0m\u001b[0mo\u001b[0m\u001b[0;34m.\u001b[0m\u001b[0msplit\u001b[0m\u001b[0;34m(\u001b[0m\u001b[0;34m\"\\t\"\u001b[0m\u001b[0;34m)\u001b[0m\u001b[0;34m)\u001b[0m \u001b[0;34m<\u001b[0m \u001b[0mlen\u001b[0m\u001b[0;34m(\u001b[0m\u001b[0mcleaned\u001b[0m\u001b[0;34m[\u001b[0m\u001b[0;36m0\u001b[0m\u001b[0;34m]\u001b[0m\u001b[0;34m.\u001b[0m\u001b[0msplit\u001b[0m\u001b[0;34m(\u001b[0m\u001b[0;34m\"\\t\"\u001b[0m\u001b[0;34m)\u001b[0m\u001b[0;34m)\u001b[0m\u001b[0;34m:\u001b[0m\u001b[0;34m\u001b[0m\u001b[0;34m\u001b[0m\u001b[0m\n\u001b[0;32m---> 13\u001b[0;31m         \u001b[0minsert_idx\u001b[0m \u001b[0;34m=\u001b[0m \u001b[0mo\u001b[0m\u001b[0;34m.\u001b[0m\u001b[0mrindex\u001b[0m\u001b[0;34m(\u001b[0m\u001b[0;34m\"\\t\"\u001b[0m\u001b[0;34m)\u001b[0m\u001b[0;34m\u001b[0m\u001b[0;34m\u001b[0m\u001b[0m\n\u001b[0m\u001b[1;32m     14\u001b[0m         \u001b[0mo\u001b[0m \u001b[0;34m=\u001b[0m \u001b[0mo\u001b[0m\u001b[0;34m[\u001b[0m\u001b[0;34m:\u001b[0m\u001b[0minsert_idx\u001b[0m\u001b[0;34m]\u001b[0m \u001b[0;34m+\u001b[0m \u001b[0;34m\"\\tdefault\"\u001b[0m \u001b[0;34m+\u001b[0m \u001b[0mo\u001b[0m\u001b[0;34m[\u001b[0m\u001b[0minsert_idx\u001b[0m\u001b[0;34m:\u001b[0m\u001b[0;34m]\u001b[0m\u001b[0;34m\u001b[0m\u001b[0;34m\u001b[0m\u001b[0m\n\u001b[1;32m     15\u001b[0m     \u001b[0mcleaned\u001b[0m\u001b[0;34m.\u001b[0m\u001b[0mappend\u001b[0m\u001b[0;34m(\u001b[0m\u001b[0mo\u001b[0m\u001b[0;34m)\u001b[0m\u001b[0;34m\u001b[0m\u001b[0;34m\u001b[0m\u001b[0m\n",
      "\u001b[0;31mValueError\u001b[0m: substring not found"
     ]
    }
   ],
   "source": [
    "cleaned = [\"algorithm\\talphabet\\tk\\tlength\\tproperty\\ttime\"]\n",
    "names = [\"rustbio_aa\", \"scan_aa\", \"scan_nuc\"]\n",
    "new_names = [\"rust bio\\tprotein\", \"ours\\tprotein\", \"ours\\tnucleotide\"]\n",
    "\n",
    "for o in output:\n",
    "    o = o[len(\"bench_\"):]\n",
    "    for n, nn in zip(names, new_names):\n",
    "        if o.startswith(n):\n",
    "            suffix = o[len(n):].replace(\"_\", \"\\t\")\n",
    "            o = nn + suffix\n",
    "            break\n",
    "    if len(o.split(\"\\t\")) < len(cleaned[0].split(\"\\t\")):\n",
    "        insert_idx = o.rindex(\"\\t\")\n",
    "        o = o[:insert_idx] + \"\\tdefault\" + o[insert_idx:]\n",
    "    cleaned.append(o)\n",
    "\n",
    "cleaned"
   ]
  },
  {
   "cell_type": "code",
   "execution_count": 33,
   "metadata": {
    "execution": {
     "iopub.execute_input": "2023-06-07T10:15:37.997106Z",
     "iopub.status.busy": "2023-06-07T10:15:37.996587Z",
     "iopub.status.idle": "2023-06-07T10:15:38.004757Z",
     "shell.execute_reply": "2023-06-07T10:15:38.005113Z"
    }
   },
   "outputs": [
    {
     "data": {
      "text/html": [
       "<div>\n",
       "<style scoped>\n",
       "    .dataframe tbody tr th:only-of-type {\n",
       "        vertical-align: middle;\n",
       "    }\n",
       "\n",
       "    .dataframe tbody tr th {\n",
       "        vertical-align: top;\n",
       "    }\n",
       "\n",
       "    .dataframe thead th {\n",
       "        text-align: right;\n",
       "    }\n",
       "</style>\n",
       "<table border=\"1\" class=\"dataframe\">\n",
       "  <thead>\n",
       "    <tr style=\"text-align: right;\">\n",
       "      <th></th>\n",
       "      <th>algorithm</th>\n",
       "      <th>alphabet</th>\n",
       "      <th>k</th>\n",
       "      <th>length</th>\n",
       "      <th>property</th>\n",
       "      <th>time</th>\n",
       "    </tr>\n",
       "  </thead>\n",
       "  <tbody>\n",
       "  </tbody>\n",
       "</table>\n",
       "</div>"
      ],
      "text/plain": [
       "Empty DataFrame\n",
       "Columns: [algorithm, alphabet, k, length, property, time]\n",
       "Index: []"
      ]
     },
     "execution_count": 1,
     "metadata": {},
     "output_type": "execute_result"
    }
   ],
   "source": [
    "data = csv_to_pandas(cleaned, d = \"\\t\", t = \",\")\n",
    "data"
   ]
  },
  {
   "cell_type": "code",
   "execution_count": 34,
   "metadata": {
    "execution": {
     "iopub.execute_input": "2023-06-07T10:15:38.009429Z",
     "iopub.status.busy": "2023-06-07T10:15:38.008939Z",
     "iopub.status.idle": "2023-06-07T10:15:38.010726Z",
     "shell.execute_reply": "2023-06-07T10:15:38.011208Z"
    }
   },
   "outputs": [],
   "source": [
    "data[\"algorithm property\"] = data[\"algorithm\"] + \" \" + data[\"property\"]\n",
    "data[\"time\"] /= 1000"
   ]
  },
  {
   "cell_type": "markdown",
   "metadata": {},
   "source": [
    "Random Protein Sequences Benchmark (WASM SIMD)"
   ]
  },
  {
   "cell_type": "code",
   "execution_count": 35,
   "metadata": {
    "execution": {
     "iopub.execute_input": "2023-06-07T10:15:38.028305Z",
     "iopub.status.busy": "2023-06-07T10:15:38.027865Z",
     "iopub.status.idle": "2023-06-07T10:15:38.784159Z",
     "shell.execute_reply": "2023-06-07T10:15:38.784568Z"
    }
   },
   "outputs": [
    {
     "name": "stderr",
     "output_type": "stream",
     "text": [
      "/usr/local/anaconda3/lib/python3.8/site-packages/altair/utils/core.py:185: UserWarning: I don't know how to infer vegalite type from 'empty'.  Defaulting to nominal.\n",
      "  warnings.warn(\n",
      "WARN FieldDef does not work with \"log\" scale. We are using \"point\" scale instead.\n"
     ]
    },
    {
     "data": {
      "text/html": [
       "\n",
       "<div id=\"altair-viz-d74658aa9906464498d41035aea518fb\"></div>\n",
       "<script type=\"text/javascript\">\n",
       "  (function(spec, embedOpt){\n",
       "    let outputDiv = document.currentScript.previousElementSibling;\n",
       "    if (outputDiv.id !== \"altair-viz-d74658aa9906464498d41035aea518fb\") {\n",
       "      outputDiv = document.getElementById(\"altair-viz-d74658aa9906464498d41035aea518fb\");\n",
       "    }\n",
       "    const paths = {\n",
       "      \"vega\": \"https://cdn.jsdelivr.net/npm//vega@5?noext\",\n",
       "      \"vega-lib\": \"https://cdn.jsdelivr.net/npm//vega-lib?noext\",\n",
       "      \"vega-lite\": \"https://cdn.jsdelivr.net/npm//vega-lite@4.8.1?noext\",\n",
       "      \"vega-embed\": \"https://cdn.jsdelivr.net/npm//vega-embed@6?noext\",\n",
       "    };\n",
       "\n",
       "    function loadScript(lib) {\n",
       "      return new Promise(function(resolve, reject) {\n",
       "        var s = document.createElement('script');\n",
       "        s.src = paths[lib];\n",
       "        s.async = true;\n",
       "        s.onload = () => resolve(paths[lib]);\n",
       "        s.onerror = () => reject(`Error loading script: ${paths[lib]}`);\n",
       "        document.getElementsByTagName(\"head\")[0].appendChild(s);\n",
       "      });\n",
       "    }\n",
       "\n",
       "    function showError(err) {\n",
       "      outputDiv.innerHTML = `<div class=\"error\" style=\"color:red;\">${err}</div>`;\n",
       "      throw err;\n",
       "    }\n",
       "\n",
       "    function displayChart(vegaEmbed) {\n",
       "      vegaEmbed(outputDiv, spec, embedOpt)\n",
       "        .catch(err => showError(`Javascript Error: ${err.message}<br>This usually means there's a typo in your chart specification. See the javascript console for the full traceback.`));\n",
       "    }\n",
       "\n",
       "    if(typeof define === \"function\" && define.amd) {\n",
       "      requirejs.config({paths});\n",
       "      require([\"vega-embed\"], displayChart, err => showError(`Error loading script: ${err.message}`));\n",
       "    } else if (typeof vegaEmbed === \"function\") {\n",
       "      displayChart(vegaEmbed);\n",
       "    } else {\n",
       "      loadScript(\"vega\")\n",
       "        .then(() => loadScript(\"vega-lite\"))\n",
       "        .then(() => loadScript(\"vega-embed\"))\n",
       "        .catch(showError)\n",
       "        .then(() => displayChart(vegaEmbed));\n",
       "    }\n",
       "  })({\"config\": {\"view\": {\"continuousWidth\": 400, \"continuousHeight\": 300}}, \"data\": {\"url\": \"http://localhost:20562/d751713988987e9331980363e24189ce.json\"}, \"mark\": {\"type\": \"point\", \"filled\": true, \"opacity\": 1}, \"encoding\": {\"color\": {\"type\": \"nominal\", \"field\": \"length\"}, \"shape\": {\"type\": \"nominal\", \"field\": \"length\"}, \"x\": {\"type\": \"nominal\", \"axis\": {\"title\": \"time (us)\"}, \"field\": \"time\", \"scale\": {\"type\": \"log\"}}, \"y\": {\"type\": \"nominal\", \"axis\": {\"grid\": true, \"title\": \"algorithm\"}, \"field\": \"algorithm property\", \"sort\": {\"field\": \"time\"}}}, \"height\": 150, \"transform\": [{\"filter\": \"(datum.alphabet === 'protein')\"}], \"width\": 200, \"$schema\": \"https://vega.github.io/schema/vega-lite/v4.8.1.json\"}, {\"mode\": \"vega-lite\"});\n",
       "</script>"
      ],
      "text/plain": [
       "alt.Chart(...)"
      ]
     },
     "execution_count": 1,
     "metadata": {},
     "output_type": "execute_result"
    }
   ],
   "source": [
    "c = alt.Chart(data).mark_point(opacity = 1, filled = True).encode(\n",
    "    x = alt.X(\"time\", axis = alt.Axis(title = \"time (us)\"), scale = alt.Scale(type = \"log\")),\n",
    "    y = alt.Y(\"algorithm property\", axis = alt.Axis(title = \"algorithm\", grid = True), sort = alt.EncodingSortField(field = \"time\")),\n",
    "    color = \"length:N\",\n",
    "    shape = \"length:N\"\n",
    ").transform_filter(\n",
    "    datum.alphabet == \"protein\"\n",
    ").properties(\n",
    "    width = 200,\n",
    "    height = 150\n",
    ")\n",
    "save(c, \"random_protein_bench_wasm.pdf\")\n",
    "c"
   ]
  }
 ],
 "metadata": {
  "kernelspec": {
   "display_name": "Python 3",
   "language": "python",
   "name": "python3"
  },
  "language_info": {
   "codemirror_mode": {
    "name": "ipython",
    "version": 3
   },
   "file_extension": ".py",
   "mimetype": "text/x-python",
   "name": "python",
   "nbconvert_exporter": "python",
   "pygments_lexer": "ipython3",
   "version": "3.8.5"
  }
 },
 "nbformat": 4,
 "nbformat_minor": 4
}
