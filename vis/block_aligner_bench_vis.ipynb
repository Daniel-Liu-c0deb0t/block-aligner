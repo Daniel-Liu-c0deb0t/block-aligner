{
 "cells": [
  {
   "cell_type": "markdown",
   "metadata": {},
   "source": [
    "# Block Aligner Benchmark Analysis and Visualizations"
   ]
  },
  {
   "cell_type": "markdown",
   "metadata": {},
   "source": [
    "This notebook contains code for collecting, cleaning, and analyzing data produced by block aligner's experiments.\n",
    "\n",
    "To run this, you will need to install all the libraries imported below, along with [altair-saver](https://github.com/altair-viz/altair_saver) and [altair-data-server](https://github.com/altair-viz/altair_data_server), which has some extra dependencies for PDF saving.\n",
    "\n",
    "Run each cell one by one to reproduce the experiments. This may take a while. For accurate benchmarking, it is recommended to run the entire notebook in the command line with `nbconvert`."
   ]
  },
  {
   "cell_type": "code",
   "execution_count": 6,
   "metadata": {
    "execution": {
     "iopub.execute_input": "2021-10-08T22:43:47.375216Z",
     "iopub.status.busy": "2021-10-08T22:43:47.374598Z",
     "iopub.status.idle": "2021-10-08T22:43:49.157735Z",
     "shell.execute_reply": "2021-10-08T22:43:49.158163Z"
    }
   },
   "outputs": [
    {
     "data": {
      "text/plain": [
       "DataTransformerRegistry.enable('data_server')"
      ]
     },
     "execution_count": 6,
     "metadata": {},
     "output_type": "execute_result"
    }
   ],
   "source": [
    "import altair as alt\n",
    "from altair_saver import save\n",
    "from altair import datum\n",
    "import pandas as pd\n",
    "from io import StringIO\n",
    "\n",
    "alt.data_transformers.enable(\"data_server\")"
   ]
  },
  {
   "cell_type": "code",
   "execution_count": 7,
   "metadata": {
    "execution": {
     "iopub.execute_input": "2021-10-08T22:43:49.161548Z",
     "iopub.status.busy": "2021-10-08T22:43:49.161096Z",
     "iopub.status.idle": "2021-10-08T22:43:49.162914Z",
     "shell.execute_reply": "2021-10-08T22:43:49.163310Z"
    }
   },
   "outputs": [],
   "source": [
    "def csv_to_pandas(csv, d = \"\\\\s*,\\\\s*\", t = None):\n",
    "    s = StringIO(\"\\n\".join(csv))\n",
    "    data = pd.read_csv(s, sep = d, thousands = t, comment = \"#\", engine = \"python\")\n",
    "    return data"
   ]
  },
  {
   "cell_type": "markdown",
   "metadata": {},
   "source": [
    "## Prefix Scan Benchmark"
   ]
  },
  {
   "cell_type": "code",
   "execution_count": 8,
   "metadata": {
    "execution": {
     "iopub.execute_input": "2021-10-08T22:47:46.718695Z",
     "iopub.status.busy": "2021-10-08T22:47:46.718294Z",
     "iopub.status.idle": "2021-10-08T22:47:56.409186Z",
     "shell.execute_reply": "2021-10-08T22:47:56.409860Z"
    }
   },
   "outputs": [
    {
     "data": {
      "text/plain": [
       "['algorithm\\ttime', 'bench_naive_prefix_scan\\t27', 'bench_opt_prefix_scan\\t10']"
      ]
     },
     "execution_count": 1,
     "metadata": {},
     "output_type": "execute_result"
    }
   ],
   "source": [
    "output = !cd .. && cargo bench --features simd_avx2 --quiet -- prefix_scan | grep 'bench:' | awk '{print $2\"\\t\"$5}'\n",
    "output.insert(0, \"algorithm\\ttime\")\n",
    "output"
   ]
  },
  {
   "cell_type": "code",
   "execution_count": 9,
   "metadata": {
    "execution": {
     "iopub.execute_input": "2021-10-08T22:47:56.414204Z",
     "iopub.status.busy": "2021-10-08T22:47:56.413659Z",
     "iopub.status.idle": "2021-10-08T22:47:56.421537Z",
     "shell.execute_reply": "2021-10-08T22:47:56.422032Z"
    },
    "scrolled": false
   },
   "outputs": [
    {
     "data": {
      "text/html": [
       "<div>\n",
       "<style scoped>\n",
       "    .dataframe tbody tr th:only-of-type {\n",
       "        vertical-align: middle;\n",
       "    }\n",
       "\n",
       "    .dataframe tbody tr th {\n",
       "        vertical-align: top;\n",
       "    }\n",
       "\n",
       "    .dataframe thead th {\n",
       "        text-align: right;\n",
       "    }\n",
       "</style>\n",
       "<table border=\"1\" class=\"dataframe\">\n",
       "  <thead>\n",
       "    <tr style=\"text-align: right;\">\n",
       "      <th></th>\n",
       "      <th>algorithm</th>\n",
       "      <th>time</th>\n",
       "    </tr>\n",
       "  </thead>\n",
       "  <tbody>\n",
       "    <tr>\n",
       "      <th>0</th>\n",
       "      <td>bench_naive_prefix_scan</td>\n",
       "      <td>27</td>\n",
       "    </tr>\n",
       "    <tr>\n",
       "      <th>1</th>\n",
       "      <td>bench_opt_prefix_scan</td>\n",
       "      <td>10</td>\n",
       "    </tr>\n",
       "  </tbody>\n",
       "</table>\n",
       "</div>"
      ],
      "text/plain": [
       "                 algorithm  time\n",
       "0  bench_naive_prefix_scan    27\n",
       "1    bench_opt_prefix_scan    10"
      ]
     },
     "execution_count": 1,
     "metadata": {},
     "output_type": "execute_result"
    }
   ],
   "source": [
    "data = csv_to_pandas(output, d = \"\\t\", t = \",\")\n",
    "data"
   ]
  },
  {
   "cell_type": "code",
   "execution_count": 10,
   "metadata": {
    "execution": {
     "iopub.execute_input": "2021-10-08T22:47:56.427624Z",
     "iopub.status.busy": "2021-10-08T22:47:56.427132Z",
     "iopub.status.idle": "2021-10-08T22:47:56.429271Z",
     "shell.execute_reply": "2021-10-08T22:47:56.429765Z"
    }
   },
   "outputs": [
    {
     "data": {
      "text/html": [
       "<div>\n",
       "<style scoped>\n",
       "    .dataframe tbody tr th:only-of-type {\n",
       "        vertical-align: middle;\n",
       "    }\n",
       "\n",
       "    .dataframe tbody tr th {\n",
       "        vertical-align: top;\n",
       "    }\n",
       "\n",
       "    .dataframe thead th {\n",
       "        text-align: right;\n",
       "    }\n",
       "</style>\n",
       "<table border=\"1\" class=\"dataframe\">\n",
       "  <thead>\n",
       "    <tr style=\"text-align: right;\">\n",
       "      <th></th>\n",
       "      <th>algorithm</th>\n",
       "      <th>time</th>\n",
       "    </tr>\n",
       "  </thead>\n",
       "  <tbody>\n",
       "    <tr>\n",
       "      <th>0</th>\n",
       "      <td>naive</td>\n",
       "      <td>27</td>\n",
       "    </tr>\n",
       "    <tr>\n",
       "      <th>1</th>\n",
       "      <td>ours</td>\n",
       "      <td>10</td>\n",
       "    </tr>\n",
       "  </tbody>\n",
       "</table>\n",
       "</div>"
      ],
      "text/plain": [
       "  algorithm  time\n",
       "0     naive    27\n",
       "1      ours    10"
      ]
     },
     "execution_count": 1,
     "metadata": {},
     "output_type": "execute_result"
    }
   ],
   "source": [
    "data[\"algorithm\"] = data[\"algorithm\"].map({\n",
    "    \"bench_naive_prefix_scan\": \"naive\",\n",
    "    \"bench_opt_prefix_scan\": \"ours\"\n",
    "})\n",
    "data"
   ]
  },
  {
   "cell_type": "markdown",
   "metadata": {},
   "source": [
    "Prefix Scan Benchmark (AVX2)"
   ]
  },
  {
   "cell_type": "code",
   "execution_count": 11,
   "metadata": {
    "execution": {
     "iopub.execute_input": "2021-10-08T22:47:56.442151Z",
     "iopub.status.busy": "2021-10-08T22:47:56.441714Z",
     "iopub.status.idle": "2021-10-08T22:47:57.166854Z",
     "shell.execute_reply": "2021-10-08T22:47:57.167308Z"
    }
   },
   "outputs": [
    {
     "data": {
      "text/html": [
       "\n",
       "<div id=\"altair-viz-6c0d9a0ba744406cb5c538d208aee792\"></div>\n",
       "<script type=\"text/javascript\">\n",
       "  (function(spec, embedOpt){\n",
       "    let outputDiv = document.currentScript.previousElementSibling;\n",
       "    if (outputDiv.id !== \"altair-viz-6c0d9a0ba744406cb5c538d208aee792\") {\n",
       "      outputDiv = document.getElementById(\"altair-viz-6c0d9a0ba744406cb5c538d208aee792\");\n",
       "    }\n",
       "    const paths = {\n",
       "      \"vega\": \"https://cdn.jsdelivr.net/npm//vega@5?noext\",\n",
       "      \"vega-lib\": \"https://cdn.jsdelivr.net/npm//vega-lib?noext\",\n",
       "      \"vega-lite\": \"https://cdn.jsdelivr.net/npm//vega-lite@4.8.1?noext\",\n",
       "      \"vega-embed\": \"https://cdn.jsdelivr.net/npm//vega-embed@6?noext\",\n",
       "    };\n",
       "\n",
       "    function loadScript(lib) {\n",
       "      return new Promise(function(resolve, reject) {\n",
       "        var s = document.createElement('script');\n",
       "        s.src = paths[lib];\n",
       "        s.async = true;\n",
       "        s.onload = () => resolve(paths[lib]);\n",
       "        s.onerror = () => reject(`Error loading script: ${paths[lib]}`);\n",
       "        document.getElementsByTagName(\"head\")[0].appendChild(s);\n",
       "      });\n",
       "    }\n",
       "\n",
       "    function showError(err) {\n",
       "      outputDiv.innerHTML = `<div class=\"error\" style=\"color:red;\">${err}</div>`;\n",
       "      throw err;\n",
       "    }\n",
       "\n",
       "    function displayChart(vegaEmbed) {\n",
       "      vegaEmbed(outputDiv, spec, embedOpt)\n",
       "        .catch(err => showError(`Javascript Error: ${err.message}<br>This usually means there's a typo in your chart specification. See the javascript console for the full traceback.`));\n",
       "    }\n",
       "\n",
       "    if(typeof define === \"function\" && define.amd) {\n",
       "      requirejs.config({paths});\n",
       "      require([\"vega-embed\"], displayChart, err => showError(`Error loading script: ${err.message}`));\n",
       "    } else if (typeof vegaEmbed === \"function\") {\n",
       "      displayChart(vegaEmbed);\n",
       "    } else {\n",
       "      loadScript(\"vega\")\n",
       "        .then(() => loadScript(\"vega-lite\"))\n",
       "        .then(() => loadScript(\"vega-embed\"))\n",
       "        .catch(showError)\n",
       "        .then(() => displayChart(vegaEmbed));\n",
       "    }\n",
       "  })({\"config\": {\"view\": {\"continuousWidth\": 400, \"continuousHeight\": 300}}, \"data\": {\"name\": \"data-9c1f7710e498aec2844a16aa2c228600\"}, \"mark\": \"bar\", \"encoding\": {\"color\": {\"type\": \"nominal\", \"field\": \"algorithm\", \"legend\": null}, \"x\": {\"type\": \"quantitative\", \"axis\": {\"title\": \"time (ns)\"}, \"field\": \"time\"}, \"y\": {\"type\": \"nominal\", \"field\": \"algorithm\"}}, \"width\": 150, \"$schema\": \"https://vega.github.io/schema/vega-lite/v4.8.1.json\", \"datasets\": {\"data-9c1f7710e498aec2844a16aa2c228600\": [{\"algorithm\": \"naive\", \"time\": 27}, {\"algorithm\": \"ours\", \"time\": 10}]}}, {\"mode\": \"vega-lite\"});\n",
       "</script>"
      ],
      "text/plain": [
       "alt.Chart(...)"
      ]
     },
     "execution_count": 1,
     "metadata": {},
     "output_type": "execute_result"
    }
   ],
   "source": [
    "c = alt.Chart(data).mark_bar().encode(\n",
    "    x = alt.X(\"time\", axis = alt.Axis(title = \"time (ns)\")),\n",
    "    y = \"algorithm\",\n",
    "    color = alt.Color(\"algorithm\", legend = None)\n",
    ").properties(\n",
    "    width = 150\n",
    ")\n",
    "save(c, \"prefix_scan_bench.pdf\")\n",
    "c"
   ]
  },
  {
   "cell_type": "markdown",
   "metadata": {},
   "source": [
    "## Random Data Benchmark"
   ]
  },
  {
   "cell_type": "code",
   "execution_count": 12,
   "metadata": {
    "execution": {
     "iopub.execute_input": "2021-10-08T22:47:57.170605Z",
     "iopub.status.busy": "2021-10-08T22:47:57.170178Z",
     "iopub.status.idle": "2021-10-08T22:48:28.908698Z",
     "shell.execute_reply": "2021-10-08T22:48:28.909144Z"
    }
   },
   "outputs": [
    {
     "data": {
      "text/plain": [
       "['bench_parasailors_aa_1000_10000\\t45,210,361',\n",
       " 'bench_parasailors_aa_100_1000\\t486,281',\n",
       " 'bench_parasailors_aa_10_100\\t17,251',\n",
       " 'bench_rustbio_aa_100_1000\\t13,950,310',\n",
       " 'bench_rustbio_aa_10_100\\t142,445',\n",
       " 'bench_scan_aa_1000_10000\\t241,951',\n",
       " 'bench_scan_aa_1000_10000_insert\\t2,044,812',\n",
       " 'bench_scan_aa_1000_10000_small\\t214,650',\n",
       " 'bench_scan_aa_1000_10000_trace\\t333,265',\n",
       " 'bench_scan_aa_100_1000\\t24,002',\n",
       " 'bench_scan_aa_100_1000_insert\\t43,690',\n",
       " 'bench_scan_aa_100_1000_small\\t22,602',\n",
       " 'bench_scan_aa_100_1000_trace\\t37,233',\n",
       " 'bench_scan_aa_10_100\\t3,716',\n",
       " 'bench_scan_aa_10_100_insert\\t3,814',\n",
       " 'bench_scan_aa_10_100_small\\t3,281',\n",
       " 'bench_scan_aa_10_100_trace\\t5,695',\n",
       " 'bench_scan_nuc_1000_10000\\t209,985',\n",
       " 'bench_scan_nuc_100_1000\\t22,294',\n",
       " 'bench_triple_accel_1000_10000\\t7,503,465',\n",
       " 'bench_triple_accel_100_1000\\t23,812']"
      ]
     },
     "execution_count": 1,
     "metadata": {},
     "output_type": "execute_result"
    }
   ],
   "source": [
    "output = !cd .. && cargo bench --features simd_avx2 --quiet -- bench_ | grep 'bench:' | grep -v 'prefix_scan' | awk '{print $2\"\\t\"$5}'\n",
    "output"
   ]
  },
  {
   "cell_type": "code",
   "execution_count": 13,
   "metadata": {
    "execution": {
     "iopub.execute_input": "2021-10-08T22:48:28.914211Z",
     "iopub.status.busy": "2021-10-08T22:48:28.913598Z",
     "iopub.status.idle": "2021-10-08T22:48:28.915837Z",
     "shell.execute_reply": "2021-10-08T22:48:28.916303Z"
    }
   },
   "outputs": [
    {
     "data": {
      "text/plain": [
       "['algorithm\\talphabet\\tk\\tlength\\tproperty\\ttime',\n",
       " 'parasailors\\tprotein\\t1000\\t10000\\tdefault\\t45,210,361',\n",
       " 'parasailors\\tprotein\\t100\\t1000\\tdefault\\t486,281',\n",
       " 'parasailors\\tprotein\\t10\\t100\\tdefault\\t17,251',\n",
       " 'rust bio\\tprotein\\t100\\t1000\\tdefault\\t13,950,310',\n",
       " 'rust bio\\tprotein\\t10\\t100\\tdefault\\t142,445',\n",
       " 'ours\\tprotein\\t1000\\t10000\\tdefault\\t241,951',\n",
       " 'ours\\tprotein\\t1000\\t10000\\tinsert\\t2,044,812',\n",
       " 'ours\\tprotein\\t1000\\t10000\\tsmall\\t214,650',\n",
       " 'ours\\tprotein\\t1000\\t10000\\ttrace\\t333,265',\n",
       " 'ours\\tprotein\\t100\\t1000\\tdefault\\t24,002',\n",
       " 'ours\\tprotein\\t100\\t1000\\tinsert\\t43,690',\n",
       " 'ours\\tprotein\\t100\\t1000\\tsmall\\t22,602',\n",
       " 'ours\\tprotein\\t100\\t1000\\ttrace\\t37,233',\n",
       " 'ours\\tprotein\\t10\\t100\\tdefault\\t3,716',\n",
       " 'ours\\tprotein\\t10\\t100\\tinsert\\t3,814',\n",
       " 'ours\\tprotein\\t10\\t100\\tsmall\\t3,281',\n",
       " 'ours\\tprotein\\t10\\t100\\ttrace\\t5,695',\n",
       " 'ours\\tnucleotide\\t1000\\t10000\\tdefault\\t209,985',\n",
       " 'ours\\tnucleotide\\t100\\t1000\\tdefault\\t22,294',\n",
       " 'triple accel\\tnucleotide\\t1000\\t10000\\tdefault\\t7,503,465',\n",
       " 'triple accel\\tnucleotide\\t100\\t1000\\tdefault\\t23,812']"
      ]
     },
     "execution_count": 1,
     "metadata": {},
     "output_type": "execute_result"
    }
   ],
   "source": [
    "cleaned = [\"algorithm\\talphabet\\tk\\tlength\\tproperty\\ttime\"]\n",
    "names = [\"parasailors_aa\", \"rustbio_aa\", \"scan_aa\", \"scan_nuc\", \"triple_accel\"]\n",
    "new_names = [\"parasailors\\tprotein\", \"rust bio\\tprotein\", \"ours\\tprotein\", \"ours\\tnucleotide\", \"triple accel\\tnucleotide\"]\n",
    "\n",
    "for o in output:\n",
    "    o = o[len(\"bench_\"):]\n",
    "    for n, nn in zip(names, new_names):\n",
    "        if o.startswith(n):\n",
    "            suffix = o[len(n):].replace(\"_\", \"\\t\")\n",
    "            o = nn + suffix\n",
    "            break\n",
    "    if len(o.split(\"\\t\")) < len(cleaned[0].split(\"\\t\")):\n",
    "        insert_idx = o.rindex(\"\\t\")\n",
    "        o = o[:insert_idx] + \"\\tdefault\" + o[insert_idx:]\n",
    "    cleaned.append(o)\n",
    "\n",
    "cleaned"
   ]
  },
  {
   "cell_type": "code",
   "execution_count": 14,
   "metadata": {
    "execution": {
     "iopub.execute_input": "2021-10-08T22:48:28.919275Z",
     "iopub.status.busy": "2021-10-08T22:48:28.918788Z",
     "iopub.status.idle": "2021-10-08T22:48:28.929137Z",
     "shell.execute_reply": "2021-10-08T22:48:28.929703Z"
    }
   },
   "outputs": [
    {
     "data": {
      "text/html": [
       "<div>\n",
       "<style scoped>\n",
       "    .dataframe tbody tr th:only-of-type {\n",
       "        vertical-align: middle;\n",
       "    }\n",
       "\n",
       "    .dataframe tbody tr th {\n",
       "        vertical-align: top;\n",
       "    }\n",
       "\n",
       "    .dataframe thead th {\n",
       "        text-align: right;\n",
       "    }\n",
       "</style>\n",
       "<table border=\"1\" class=\"dataframe\">\n",
       "  <thead>\n",
       "    <tr style=\"text-align: right;\">\n",
       "      <th></th>\n",
       "      <th>algorithm</th>\n",
       "      <th>alphabet</th>\n",
       "      <th>k</th>\n",
       "      <th>length</th>\n",
       "      <th>property</th>\n",
       "      <th>time</th>\n",
       "    </tr>\n",
       "  </thead>\n",
       "  <tbody>\n",
       "    <tr>\n",
       "      <th>0</th>\n",
       "      <td>parasailors</td>\n",
       "      <td>protein</td>\n",
       "      <td>1000</td>\n",
       "      <td>10000</td>\n",
       "      <td>default</td>\n",
       "      <td>45210361</td>\n",
       "    </tr>\n",
       "    <tr>\n",
       "      <th>1</th>\n",
       "      <td>parasailors</td>\n",
       "      <td>protein</td>\n",
       "      <td>100</td>\n",
       "      <td>1000</td>\n",
       "      <td>default</td>\n",
       "      <td>486281</td>\n",
       "    </tr>\n",
       "    <tr>\n",
       "      <th>2</th>\n",
       "      <td>parasailors</td>\n",
       "      <td>protein</td>\n",
       "      <td>10</td>\n",
       "      <td>100</td>\n",
       "      <td>default</td>\n",
       "      <td>17251</td>\n",
       "    </tr>\n",
       "    <tr>\n",
       "      <th>3</th>\n",
       "      <td>rust bio</td>\n",
       "      <td>protein</td>\n",
       "      <td>100</td>\n",
       "      <td>1000</td>\n",
       "      <td>default</td>\n",
       "      <td>13950310</td>\n",
       "    </tr>\n",
       "    <tr>\n",
       "      <th>4</th>\n",
       "      <td>rust bio</td>\n",
       "      <td>protein</td>\n",
       "      <td>10</td>\n",
       "      <td>100</td>\n",
       "      <td>default</td>\n",
       "      <td>142445</td>\n",
       "    </tr>\n",
       "    <tr>\n",
       "      <th>5</th>\n",
       "      <td>ours</td>\n",
       "      <td>protein</td>\n",
       "      <td>1000</td>\n",
       "      <td>10000</td>\n",
       "      <td>default</td>\n",
       "      <td>241951</td>\n",
       "    </tr>\n",
       "    <tr>\n",
       "      <th>6</th>\n",
       "      <td>ours</td>\n",
       "      <td>protein</td>\n",
       "      <td>1000</td>\n",
       "      <td>10000</td>\n",
       "      <td>insert</td>\n",
       "      <td>2044812</td>\n",
       "    </tr>\n",
       "    <tr>\n",
       "      <th>7</th>\n",
       "      <td>ours</td>\n",
       "      <td>protein</td>\n",
       "      <td>1000</td>\n",
       "      <td>10000</td>\n",
       "      <td>small</td>\n",
       "      <td>214650</td>\n",
       "    </tr>\n",
       "    <tr>\n",
       "      <th>8</th>\n",
       "      <td>ours</td>\n",
       "      <td>protein</td>\n",
       "      <td>1000</td>\n",
       "      <td>10000</td>\n",
       "      <td>trace</td>\n",
       "      <td>333265</td>\n",
       "    </tr>\n",
       "    <tr>\n",
       "      <th>9</th>\n",
       "      <td>ours</td>\n",
       "      <td>protein</td>\n",
       "      <td>100</td>\n",
       "      <td>1000</td>\n",
       "      <td>default</td>\n",
       "      <td>24002</td>\n",
       "    </tr>\n",
       "    <tr>\n",
       "      <th>10</th>\n",
       "      <td>ours</td>\n",
       "      <td>protein</td>\n",
       "      <td>100</td>\n",
       "      <td>1000</td>\n",
       "      <td>insert</td>\n",
       "      <td>43690</td>\n",
       "    </tr>\n",
       "    <tr>\n",
       "      <th>11</th>\n",
       "      <td>ours</td>\n",
       "      <td>protein</td>\n",
       "      <td>100</td>\n",
       "      <td>1000</td>\n",
       "      <td>small</td>\n",
       "      <td>22602</td>\n",
       "    </tr>\n",
       "    <tr>\n",
       "      <th>12</th>\n",
       "      <td>ours</td>\n",
       "      <td>protein</td>\n",
       "      <td>100</td>\n",
       "      <td>1000</td>\n",
       "      <td>trace</td>\n",
       "      <td>37233</td>\n",
       "    </tr>\n",
       "    <tr>\n",
       "      <th>13</th>\n",
       "      <td>ours</td>\n",
       "      <td>protein</td>\n",
       "      <td>10</td>\n",
       "      <td>100</td>\n",
       "      <td>default</td>\n",
       "      <td>3716</td>\n",
       "    </tr>\n",
       "    <tr>\n",
       "      <th>14</th>\n",
       "      <td>ours</td>\n",
       "      <td>protein</td>\n",
       "      <td>10</td>\n",
       "      <td>100</td>\n",
       "      <td>insert</td>\n",
       "      <td>3814</td>\n",
       "    </tr>\n",
       "    <tr>\n",
       "      <th>15</th>\n",
       "      <td>ours</td>\n",
       "      <td>protein</td>\n",
       "      <td>10</td>\n",
       "      <td>100</td>\n",
       "      <td>small</td>\n",
       "      <td>3281</td>\n",
       "    </tr>\n",
       "    <tr>\n",
       "      <th>16</th>\n",
       "      <td>ours</td>\n",
       "      <td>protein</td>\n",
       "      <td>10</td>\n",
       "      <td>100</td>\n",
       "      <td>trace</td>\n",
       "      <td>5695</td>\n",
       "    </tr>\n",
       "    <tr>\n",
       "      <th>17</th>\n",
       "      <td>ours</td>\n",
       "      <td>nucleotide</td>\n",
       "      <td>1000</td>\n",
       "      <td>10000</td>\n",
       "      <td>default</td>\n",
       "      <td>209985</td>\n",
       "    </tr>\n",
       "    <tr>\n",
       "      <th>18</th>\n",
       "      <td>ours</td>\n",
       "      <td>nucleotide</td>\n",
       "      <td>100</td>\n",
       "      <td>1000</td>\n",
       "      <td>default</td>\n",
       "      <td>22294</td>\n",
       "    </tr>\n",
       "    <tr>\n",
       "      <th>19</th>\n",
       "      <td>triple accel</td>\n",
       "      <td>nucleotide</td>\n",
       "      <td>1000</td>\n",
       "      <td>10000</td>\n",
       "      <td>default</td>\n",
       "      <td>7503465</td>\n",
       "    </tr>\n",
       "    <tr>\n",
       "      <th>20</th>\n",
       "      <td>triple accel</td>\n",
       "      <td>nucleotide</td>\n",
       "      <td>100</td>\n",
       "      <td>1000</td>\n",
       "      <td>default</td>\n",
       "      <td>23812</td>\n",
       "    </tr>\n",
       "  </tbody>\n",
       "</table>\n",
       "</div>"
      ],
      "text/plain": [
       "       algorithm    alphabet     k  length property      time\n",
       "0    parasailors     protein  1000   10000  default  45210361\n",
       "1    parasailors     protein   100    1000  default    486281\n",
       "2    parasailors     protein    10     100  default     17251\n",
       "3       rust bio     protein   100    1000  default  13950310\n",
       "4       rust bio     protein    10     100  default    142445\n",
       "5           ours     protein  1000   10000  default    241951\n",
       "6           ours     protein  1000   10000   insert   2044812\n",
       "7           ours     protein  1000   10000    small    214650\n",
       "8           ours     protein  1000   10000    trace    333265\n",
       "9           ours     protein   100    1000  default     24002\n",
       "10          ours     protein   100    1000   insert     43690\n",
       "11          ours     protein   100    1000    small     22602\n",
       "12          ours     protein   100    1000    trace     37233\n",
       "13          ours     protein    10     100  default      3716\n",
       "14          ours     protein    10     100   insert      3814\n",
       "15          ours     protein    10     100    small      3281\n",
       "16          ours     protein    10     100    trace      5695\n",
       "17          ours  nucleotide  1000   10000  default    209985\n",
       "18          ours  nucleotide   100    1000  default     22294\n",
       "19  triple accel  nucleotide  1000   10000  default   7503465\n",
       "20  triple accel  nucleotide   100    1000  default     23812"
      ]
     },
     "execution_count": 1,
     "metadata": {},
     "output_type": "execute_result"
    }
   ],
   "source": [
    "data = csv_to_pandas(cleaned, d = \"\\t\", t = \",\")\n",
    "data"
   ]
  },
  {
   "cell_type": "code",
   "execution_count": 15,
   "metadata": {
    "execution": {
     "iopub.execute_input": "2021-10-08T22:48:28.933587Z",
     "iopub.status.busy": "2021-10-08T22:48:28.933130Z",
     "iopub.status.idle": "2021-10-08T22:48:28.934813Z",
     "shell.execute_reply": "2021-10-08T22:48:28.935305Z"
    }
   },
   "outputs": [],
   "source": [
    "data[\"algorithm property\"] = data[\"algorithm\"] + \" \" + data[\"property\"]\n",
    "data[\"time\"] /= 1000"
   ]
  },
  {
   "cell_type": "markdown",
   "metadata": {},
   "source": [
    "Random Protein Sequences Benchmark (AVX2)"
   ]
  },
  {
   "cell_type": "code",
   "execution_count": 16,
   "metadata": {
    "execution": {
     "iopub.execute_input": "2021-10-08T22:48:28.954440Z",
     "iopub.status.busy": "2021-10-08T22:48:28.954043Z",
     "iopub.status.idle": "2021-10-08T22:48:29.705700Z",
     "shell.execute_reply": "2021-10-08T22:48:29.706937Z"
    }
   },
   "outputs": [
    {
     "data": {
      "text/html": [
       "\n",
       "<div id=\"altair-viz-a2254f42e94749c18a18da5f46fe2dbd\"></div>\n",
       "<script type=\"text/javascript\">\n",
       "  (function(spec, embedOpt){\n",
       "    let outputDiv = document.currentScript.previousElementSibling;\n",
       "    if (outputDiv.id !== \"altair-viz-a2254f42e94749c18a18da5f46fe2dbd\") {\n",
       "      outputDiv = document.getElementById(\"altair-viz-a2254f42e94749c18a18da5f46fe2dbd\");\n",
       "    }\n",
       "    const paths = {\n",
       "      \"vega\": \"https://cdn.jsdelivr.net/npm//vega@5?noext\",\n",
       "      \"vega-lib\": \"https://cdn.jsdelivr.net/npm//vega-lib?noext\",\n",
       "      \"vega-lite\": \"https://cdn.jsdelivr.net/npm//vega-lite@4.8.1?noext\",\n",
       "      \"vega-embed\": \"https://cdn.jsdelivr.net/npm//vega-embed@6?noext\",\n",
       "    };\n",
       "\n",
       "    function loadScript(lib) {\n",
       "      return new Promise(function(resolve, reject) {\n",
       "        var s = document.createElement('script');\n",
       "        s.src = paths[lib];\n",
       "        s.async = true;\n",
       "        s.onload = () => resolve(paths[lib]);\n",
       "        s.onerror = () => reject(`Error loading script: ${paths[lib]}`);\n",
       "        document.getElementsByTagName(\"head\")[0].appendChild(s);\n",
       "      });\n",
       "    }\n",
       "\n",
       "    function showError(err) {\n",
       "      outputDiv.innerHTML = `<div class=\"error\" style=\"color:red;\">${err}</div>`;\n",
       "      throw err;\n",
       "    }\n",
       "\n",
       "    function displayChart(vegaEmbed) {\n",
       "      vegaEmbed(outputDiv, spec, embedOpt)\n",
       "        .catch(err => showError(`Javascript Error: ${err.message}<br>This usually means there's a typo in your chart specification. See the javascript console for the full traceback.`));\n",
       "    }\n",
       "\n",
       "    if(typeof define === \"function\" && define.amd) {\n",
       "      requirejs.config({paths});\n",
       "      require([\"vega-embed\"], displayChart, err => showError(`Error loading script: ${err.message}`));\n",
       "    } else if (typeof vegaEmbed === \"function\") {\n",
       "      displayChart(vegaEmbed);\n",
       "    } else {\n",
       "      loadScript(\"vega\")\n",
       "        .then(() => loadScript(\"vega-lite\"))\n",
       "        .then(() => loadScript(\"vega-embed\"))\n",
       "        .catch(showError)\n",
       "        .then(() => displayChart(vegaEmbed));\n",
       "    }\n",
       "  })({\"config\": {\"view\": {\"continuousWidth\": 400, \"continuousHeight\": 300}}, \"data\": {\"name\": \"data-f110c0371a480f0df0bee96c8d5744a1\"}, \"mark\": {\"type\": \"point\", \"filled\": true, \"opacity\": 1}, \"encoding\": {\"color\": {\"type\": \"nominal\", \"field\": \"length\"}, \"shape\": {\"type\": \"nominal\", \"field\": \"length\"}, \"x\": {\"type\": \"quantitative\", \"axis\": {\"title\": \"time (us)\"}, \"field\": \"time\", \"scale\": {\"domain\": [1, 50000], \"type\": \"log\"}}, \"y\": {\"type\": \"nominal\", \"axis\": {\"grid\": true, \"title\": \"algorithm\"}, \"field\": \"algorithm property\", \"sort\": {\"field\": \"time\"}}}, \"height\": 150, \"transform\": [{\"filter\": \"(datum.alphabet === 'protein')\"}], \"width\": 200, \"$schema\": \"https://vega.github.io/schema/vega-lite/v4.8.1.json\", \"datasets\": {\"data-f110c0371a480f0df0bee96c8d5744a1\": [{\"algorithm\": \"parasailors\", \"alphabet\": \"protein\", \"k\": 1000, \"length\": 10000, \"property\": \"default\", \"time\": 45210.361, \"algorithm property\": \"parasailors default\"}, {\"algorithm\": \"parasailors\", \"alphabet\": \"protein\", \"k\": 100, \"length\": 1000, \"property\": \"default\", \"time\": 486.281, \"algorithm property\": \"parasailors default\"}, {\"algorithm\": \"parasailors\", \"alphabet\": \"protein\", \"k\": 10, \"length\": 100, \"property\": \"default\", \"time\": 17.251, \"algorithm property\": \"parasailors default\"}, {\"algorithm\": \"rust bio\", \"alphabet\": \"protein\", \"k\": 100, \"length\": 1000, \"property\": \"default\", \"time\": 13950.31, \"algorithm property\": \"rust bio default\"}, {\"algorithm\": \"rust bio\", \"alphabet\": \"protein\", \"k\": 10, \"length\": 100, \"property\": \"default\", \"time\": 142.445, \"algorithm property\": \"rust bio default\"}, {\"algorithm\": \"ours\", \"alphabet\": \"protein\", \"k\": 1000, \"length\": 10000, \"property\": \"default\", \"time\": 241.951, \"algorithm property\": \"ours default\"}, {\"algorithm\": \"ours\", \"alphabet\": \"protein\", \"k\": 1000, \"length\": 10000, \"property\": \"insert\", \"time\": 2044.812, \"algorithm property\": \"ours insert\"}, {\"algorithm\": \"ours\", \"alphabet\": \"protein\", \"k\": 1000, \"length\": 10000, \"property\": \"small\", \"time\": 214.65, \"algorithm property\": \"ours small\"}, {\"algorithm\": \"ours\", \"alphabet\": \"protein\", \"k\": 1000, \"length\": 10000, \"property\": \"trace\", \"time\": 333.265, \"algorithm property\": \"ours trace\"}, {\"algorithm\": \"ours\", \"alphabet\": \"protein\", \"k\": 100, \"length\": 1000, \"property\": \"default\", \"time\": 24.002, \"algorithm property\": \"ours default\"}, {\"algorithm\": \"ours\", \"alphabet\": \"protein\", \"k\": 100, \"length\": 1000, \"property\": \"insert\", \"time\": 43.69, \"algorithm property\": \"ours insert\"}, {\"algorithm\": \"ours\", \"alphabet\": \"protein\", \"k\": 100, \"length\": 1000, \"property\": \"small\", \"time\": 22.602, \"algorithm property\": \"ours small\"}, {\"algorithm\": \"ours\", \"alphabet\": \"protein\", \"k\": 100, \"length\": 1000, \"property\": \"trace\", \"time\": 37.233, \"algorithm property\": \"ours trace\"}, {\"algorithm\": \"ours\", \"alphabet\": \"protein\", \"k\": 10, \"length\": 100, \"property\": \"default\", \"time\": 3.716, \"algorithm property\": \"ours default\"}, {\"algorithm\": \"ours\", \"alphabet\": \"protein\", \"k\": 10, \"length\": 100, \"property\": \"insert\", \"time\": 3.814, \"algorithm property\": \"ours insert\"}, {\"algorithm\": \"ours\", \"alphabet\": \"protein\", \"k\": 10, \"length\": 100, \"property\": \"small\", \"time\": 3.281, \"algorithm property\": \"ours small\"}, {\"algorithm\": \"ours\", \"alphabet\": \"protein\", \"k\": 10, \"length\": 100, \"property\": \"trace\", \"time\": 5.695, \"algorithm property\": \"ours trace\"}, {\"algorithm\": \"ours\", \"alphabet\": \"nucleotide\", \"k\": 1000, \"length\": 10000, \"property\": \"default\", \"time\": 209.985, \"algorithm property\": \"ours default\"}, {\"algorithm\": \"ours\", \"alphabet\": \"nucleotide\", \"k\": 100, \"length\": 1000, \"property\": \"default\", \"time\": 22.294, \"algorithm property\": \"ours default\"}, {\"algorithm\": \"triple accel\", \"alphabet\": \"nucleotide\", \"k\": 1000, \"length\": 10000, \"property\": \"default\", \"time\": 7503.465, \"algorithm property\": \"triple accel default\"}, {\"algorithm\": \"triple accel\", \"alphabet\": \"nucleotide\", \"k\": 100, \"length\": 1000, \"property\": \"default\", \"time\": 23.812, \"algorithm property\": \"triple accel default\"}]}}, {\"mode\": \"vega-lite\"});\n",
       "</script>"
      ],
      "text/plain": [
       "alt.Chart(...)"
      ]
     },
     "execution_count": 1,
     "metadata": {},
     "output_type": "execute_result"
    }
   ],
   "source": [
    "c = alt.Chart(data).mark_point(opacity = 1, filled = True).encode(\n",
    "    x = alt.X(\"time\", axis = alt.Axis(title = \"time (us)\"), scale = alt.Scale(type = \"log\", domain = [1, 50000])),\n",
    "    y = alt.Y(\"algorithm property\", axis = alt.Axis(title = \"algorithm\", grid = True), sort = alt.EncodingSortField(field = \"time\")),\n",
    "    color = \"length:N\",\n",
    "    shape = \"length:N\"\n",
    ").transform_filter(\n",
    "    datum.alphabet == \"protein\"\n",
    ").properties(\n",
    "    width = 200,\n",
    "    height = 150\n",
    ")\n",
    "save(c, \"random_protein_bench.pdf\")\n",
    "c"
   ]
  },
  {
   "cell_type": "markdown",
   "metadata": {},
   "source": [
    "Random DNA Sequences Benchmark (AVX2)"
   ]
  },
  {
   "cell_type": "code",
   "execution_count": 17,
   "metadata": {
    "execution": {
     "iopub.execute_input": "2021-10-08T22:48:29.724086Z",
     "iopub.status.busy": "2021-10-08T22:48:29.723665Z",
     "iopub.status.idle": "2021-10-08T22:48:30.466154Z",
     "shell.execute_reply": "2021-10-08T22:48:30.466562Z"
    }
   },
   "outputs": [
    {
     "data": {
      "text/html": [
       "\n",
       "<div id=\"altair-viz-28047a5e16cf48b898769a61a96fee1d\"></div>\n",
       "<script type=\"text/javascript\">\n",
       "  (function(spec, embedOpt){\n",
       "    let outputDiv = document.currentScript.previousElementSibling;\n",
       "    if (outputDiv.id !== \"altair-viz-28047a5e16cf48b898769a61a96fee1d\") {\n",
       "      outputDiv = document.getElementById(\"altair-viz-28047a5e16cf48b898769a61a96fee1d\");\n",
       "    }\n",
       "    const paths = {\n",
       "      \"vega\": \"https://cdn.jsdelivr.net/npm//vega@5?noext\",\n",
       "      \"vega-lib\": \"https://cdn.jsdelivr.net/npm//vega-lib?noext\",\n",
       "      \"vega-lite\": \"https://cdn.jsdelivr.net/npm//vega-lite@4.8.1?noext\",\n",
       "      \"vega-embed\": \"https://cdn.jsdelivr.net/npm//vega-embed@6?noext\",\n",
       "    };\n",
       "\n",
       "    function loadScript(lib) {\n",
       "      return new Promise(function(resolve, reject) {\n",
       "        var s = document.createElement('script');\n",
       "        s.src = paths[lib];\n",
       "        s.async = true;\n",
       "        s.onload = () => resolve(paths[lib]);\n",
       "        s.onerror = () => reject(`Error loading script: ${paths[lib]}`);\n",
       "        document.getElementsByTagName(\"head\")[0].appendChild(s);\n",
       "      });\n",
       "    }\n",
       "\n",
       "    function showError(err) {\n",
       "      outputDiv.innerHTML = `<div class=\"error\" style=\"color:red;\">${err}</div>`;\n",
       "      throw err;\n",
       "    }\n",
       "\n",
       "    function displayChart(vegaEmbed) {\n",
       "      vegaEmbed(outputDiv, spec, embedOpt)\n",
       "        .catch(err => showError(`Javascript Error: ${err.message}<br>This usually means there's a typo in your chart specification. See the javascript console for the full traceback.`));\n",
       "    }\n",
       "\n",
       "    if(typeof define === \"function\" && define.amd) {\n",
       "      requirejs.config({paths});\n",
       "      require([\"vega-embed\"], displayChart, err => showError(`Error loading script: ${err.message}`));\n",
       "    } else if (typeof vegaEmbed === \"function\") {\n",
       "      displayChart(vegaEmbed);\n",
       "    } else {\n",
       "      loadScript(\"vega\")\n",
       "        .then(() => loadScript(\"vega-lite\"))\n",
       "        .then(() => loadScript(\"vega-embed\"))\n",
       "        .catch(showError)\n",
       "        .then(() => displayChart(vegaEmbed));\n",
       "    }\n",
       "  })({\"config\": {\"view\": {\"continuousWidth\": 400, \"continuousHeight\": 300}}, \"data\": {\"name\": \"data-f110c0371a480f0df0bee96c8d5744a1\"}, \"mark\": {\"type\": \"point\", \"filled\": true, \"opacity\": 1}, \"encoding\": {\"color\": {\"type\": \"nominal\", \"field\": \"length\", \"scale\": {\"domain\": [100, 1000, 10000]}}, \"shape\": {\"type\": \"nominal\", \"field\": \"length\", \"scale\": {\"domain\": [100, 1000, 10000]}}, \"x\": {\"type\": \"quantitative\", \"axis\": {\"title\": \"time (us)\"}, \"field\": \"time\", \"scale\": {\"domain\": [1, 50000], \"type\": \"log\"}}, \"y\": {\"type\": \"nominal\", \"axis\": {\"grid\": true, \"title\": \"algorithm\"}, \"field\": \"algorithm property\", \"sort\": {\"field\": \"time\"}}}, \"height\": 50, \"transform\": [{\"filter\": \"(datum.alphabet === 'nucleotide')\"}], \"width\": 200, \"$schema\": \"https://vega.github.io/schema/vega-lite/v4.8.1.json\", \"datasets\": {\"data-f110c0371a480f0df0bee96c8d5744a1\": [{\"algorithm\": \"parasailors\", \"alphabet\": \"protein\", \"k\": 1000, \"length\": 10000, \"property\": \"default\", \"time\": 45210.361, \"algorithm property\": \"parasailors default\"}, {\"algorithm\": \"parasailors\", \"alphabet\": \"protein\", \"k\": 100, \"length\": 1000, \"property\": \"default\", \"time\": 486.281, \"algorithm property\": \"parasailors default\"}, {\"algorithm\": \"parasailors\", \"alphabet\": \"protein\", \"k\": 10, \"length\": 100, \"property\": \"default\", \"time\": 17.251, \"algorithm property\": \"parasailors default\"}, {\"algorithm\": \"rust bio\", \"alphabet\": \"protein\", \"k\": 100, \"length\": 1000, \"property\": \"default\", \"time\": 13950.31, \"algorithm property\": \"rust bio default\"}, {\"algorithm\": \"rust bio\", \"alphabet\": \"protein\", \"k\": 10, \"length\": 100, \"property\": \"default\", \"time\": 142.445, \"algorithm property\": \"rust bio default\"}, {\"algorithm\": \"ours\", \"alphabet\": \"protein\", \"k\": 1000, \"length\": 10000, \"property\": \"default\", \"time\": 241.951, \"algorithm property\": \"ours default\"}, {\"algorithm\": \"ours\", \"alphabet\": \"protein\", \"k\": 1000, \"length\": 10000, \"property\": \"insert\", \"time\": 2044.812, \"algorithm property\": \"ours insert\"}, {\"algorithm\": \"ours\", \"alphabet\": \"protein\", \"k\": 1000, \"length\": 10000, \"property\": \"small\", \"time\": 214.65, \"algorithm property\": \"ours small\"}, {\"algorithm\": \"ours\", \"alphabet\": \"protein\", \"k\": 1000, \"length\": 10000, \"property\": \"trace\", \"time\": 333.265, \"algorithm property\": \"ours trace\"}, {\"algorithm\": \"ours\", \"alphabet\": \"protein\", \"k\": 100, \"length\": 1000, \"property\": \"default\", \"time\": 24.002, \"algorithm property\": \"ours default\"}, {\"algorithm\": \"ours\", \"alphabet\": \"protein\", \"k\": 100, \"length\": 1000, \"property\": \"insert\", \"time\": 43.69, \"algorithm property\": \"ours insert\"}, {\"algorithm\": \"ours\", \"alphabet\": \"protein\", \"k\": 100, \"length\": 1000, \"property\": \"small\", \"time\": 22.602, \"algorithm property\": \"ours small\"}, {\"algorithm\": \"ours\", \"alphabet\": \"protein\", \"k\": 100, \"length\": 1000, \"property\": \"trace\", \"time\": 37.233, \"algorithm property\": \"ours trace\"}, {\"algorithm\": \"ours\", \"alphabet\": \"protein\", \"k\": 10, \"length\": 100, \"property\": \"default\", \"time\": 3.716, \"algorithm property\": \"ours default\"}, {\"algorithm\": \"ours\", \"alphabet\": \"protein\", \"k\": 10, \"length\": 100, \"property\": \"insert\", \"time\": 3.814, \"algorithm property\": \"ours insert\"}, {\"algorithm\": \"ours\", \"alphabet\": \"protein\", \"k\": 10, \"length\": 100, \"property\": \"small\", \"time\": 3.281, \"algorithm property\": \"ours small\"}, {\"algorithm\": \"ours\", \"alphabet\": \"protein\", \"k\": 10, \"length\": 100, \"property\": \"trace\", \"time\": 5.695, \"algorithm property\": \"ours trace\"}, {\"algorithm\": \"ours\", \"alphabet\": \"nucleotide\", \"k\": 1000, \"length\": 10000, \"property\": \"default\", \"time\": 209.985, \"algorithm property\": \"ours default\"}, {\"algorithm\": \"ours\", \"alphabet\": \"nucleotide\", \"k\": 100, \"length\": 1000, \"property\": \"default\", \"time\": 22.294, \"algorithm property\": \"ours default\"}, {\"algorithm\": \"triple accel\", \"alphabet\": \"nucleotide\", \"k\": 1000, \"length\": 10000, \"property\": \"default\", \"time\": 7503.465, \"algorithm property\": \"triple accel default\"}, {\"algorithm\": \"triple accel\", \"alphabet\": \"nucleotide\", \"k\": 100, \"length\": 1000, \"property\": \"default\", \"time\": 23.812, \"algorithm property\": \"triple accel default\"}]}}, {\"mode\": \"vega-lite\"});\n",
       "</script>"
      ],
      "text/plain": [
       "alt.Chart(...)"
      ]
     },
     "execution_count": 1,
     "metadata": {},
     "output_type": "execute_result"
    }
   ],
   "source": [
    "c = alt.Chart(data).mark_point(opacity = 1, filled = True).encode(\n",
    "    x = alt.X(\"time\", axis = alt.Axis(title = \"time (us)\"), scale = alt.Scale(type = \"log\", domain = [1, 50000])),\n",
    "    y = alt.Y(\"algorithm property\", axis = alt.Axis(title = \"algorithm\", grid = True), sort = alt.EncodingSortField(field = \"time\")),\n",
    "    color = alt.Color(\"length:N\", scale = alt.Scale(domain = [100, 1000, 10000])),\n",
    "    shape = alt.Color(\"length:N\", scale = alt.Scale(domain = [100, 1000, 10000]))\n",
    ").transform_filter(\n",
    "    datum.alphabet == \"nucleotide\"\n",
    ").properties(\n",
    "    width = 200,\n",
    "    height = 50\n",
    ")\n",
    "save(c, \"random_dna_bench.pdf\")\n",
    "c"
   ]
  },
  {
   "cell_type": "markdown",
   "metadata": {},
   "source": [
    "## Uniclust 30 Data Benchmark"
   ]
  },
  {
   "cell_type": "code",
   "execution_count": 25,
   "metadata": {
    "execution": {
     "iopub.execute_input": "2021-10-08T22:51:18.353185Z",
     "iopub.status.busy": "2021-10-08T22:51:18.352792Z",
     "iopub.status.idle": "2021-10-08T22:51:26.160441Z",
     "shell.execute_reply": "2021-10-08T22:51:26.161001Z"
    }
   },
   "outputs": [
    {
     "data": {
      "text/plain": [
       "['# time (s)',\n",
       " 'algorithm, dataset, size, time',\n",
       " 'ours (no trace), uc30, 32-32, 0.055815687',\n",
       " 'ours (no trace), uc30 0.95, 32-32, 0.058619571',\n",
       " 'ours (no trace), uc30, 32-256, 0.10054278',\n",
       " 'ours (no trace), uc30 0.95, 32-256, 0.085375531',\n",
       " 'ours (no trace), uc30, 256-256, 0.201964079',\n",
       " 'ours (no trace), uc30 0.95, 256-256, 0.221768819',\n",
       " 'ours (trace), uc30, 32-256, 0.152252701',\n",
       " 'ours (trace), uc30 0.95, 32-256, 0.132771375',\n",
       " 'parasail, uc30, full, 0.753212736',\n",
       " 'parasail, uc30 0.95, full, 0.886418494']"
      ]
     },
     "execution_count": 1,
     "metadata": {},
     "output_type": "execute_result"
    }
   ],
   "source": [
    "output = !cd .. && cargo run --example uc_bench --release --features simd_avx2 --quiet\n",
    "output"
   ]
  },
  {
   "cell_type": "code",
   "execution_count": 26,
   "metadata": {
    "execution": {
     "iopub.execute_input": "2021-10-08T22:51:26.164291Z",
     "iopub.status.busy": "2021-10-08T22:51:26.163821Z",
     "iopub.status.idle": "2021-10-08T22:51:26.172503Z",
     "shell.execute_reply": "2021-10-08T22:51:26.173002Z"
    }
   },
   "outputs": [
    {
     "data": {
      "text/html": [
       "<div>\n",
       "<style scoped>\n",
       "    .dataframe tbody tr th:only-of-type {\n",
       "        vertical-align: middle;\n",
       "    }\n",
       "\n",
       "    .dataframe tbody tr th {\n",
       "        vertical-align: top;\n",
       "    }\n",
       "\n",
       "    .dataframe thead th {\n",
       "        text-align: right;\n",
       "    }\n",
       "</style>\n",
       "<table border=\"1\" class=\"dataframe\">\n",
       "  <thead>\n",
       "    <tr style=\"text-align: right;\">\n",
       "      <th></th>\n",
       "      <th>algorithm</th>\n",
       "      <th>dataset</th>\n",
       "      <th>size</th>\n",
       "      <th>time</th>\n",
       "    </tr>\n",
       "  </thead>\n",
       "  <tbody>\n",
       "    <tr>\n",
       "      <th>0</th>\n",
       "      <td>ours (no trace)</td>\n",
       "      <td>uc30</td>\n",
       "      <td>32-32</td>\n",
       "      <td>0.055816</td>\n",
       "    </tr>\n",
       "    <tr>\n",
       "      <th>1</th>\n",
       "      <td>ours (no trace)</td>\n",
       "      <td>uc30 0.95</td>\n",
       "      <td>32-32</td>\n",
       "      <td>0.058620</td>\n",
       "    </tr>\n",
       "    <tr>\n",
       "      <th>2</th>\n",
       "      <td>ours (no trace)</td>\n",
       "      <td>uc30</td>\n",
       "      <td>32-256</td>\n",
       "      <td>0.100543</td>\n",
       "    </tr>\n",
       "    <tr>\n",
       "      <th>3</th>\n",
       "      <td>ours (no trace)</td>\n",
       "      <td>uc30 0.95</td>\n",
       "      <td>32-256</td>\n",
       "      <td>0.085376</td>\n",
       "    </tr>\n",
       "    <tr>\n",
       "      <th>4</th>\n",
       "      <td>ours (no trace)</td>\n",
       "      <td>uc30</td>\n",
       "      <td>256-256</td>\n",
       "      <td>0.201964</td>\n",
       "    </tr>\n",
       "    <tr>\n",
       "      <th>5</th>\n",
       "      <td>ours (no trace)</td>\n",
       "      <td>uc30 0.95</td>\n",
       "      <td>256-256</td>\n",
       "      <td>0.221769</td>\n",
       "    </tr>\n",
       "    <tr>\n",
       "      <th>6</th>\n",
       "      <td>ours (trace)</td>\n",
       "      <td>uc30</td>\n",
       "      <td>32-256</td>\n",
       "      <td>0.152253</td>\n",
       "    </tr>\n",
       "    <tr>\n",
       "      <th>7</th>\n",
       "      <td>ours (trace)</td>\n",
       "      <td>uc30 0.95</td>\n",
       "      <td>32-256</td>\n",
       "      <td>0.132771</td>\n",
       "    </tr>\n",
       "    <tr>\n",
       "      <th>8</th>\n",
       "      <td>parasail</td>\n",
       "      <td>uc30</td>\n",
       "      <td>full</td>\n",
       "      <td>0.753213</td>\n",
       "    </tr>\n",
       "    <tr>\n",
       "      <th>9</th>\n",
       "      <td>parasail</td>\n",
       "      <td>uc30 0.95</td>\n",
       "      <td>full</td>\n",
       "      <td>0.886418</td>\n",
       "    </tr>\n",
       "  </tbody>\n",
       "</table>\n",
       "</div>"
      ],
      "text/plain": [
       "         algorithm    dataset     size      time\n",
       "0  ours (no trace)       uc30    32-32  0.055816\n",
       "1  ours (no trace)  uc30 0.95    32-32  0.058620\n",
       "2  ours (no trace)       uc30   32-256  0.100543\n",
       "3  ours (no trace)  uc30 0.95   32-256  0.085376\n",
       "4  ours (no trace)       uc30  256-256  0.201964\n",
       "5  ours (no trace)  uc30 0.95  256-256  0.221769\n",
       "6     ours (trace)       uc30   32-256  0.152253\n",
       "7     ours (trace)  uc30 0.95   32-256  0.132771\n",
       "8         parasail       uc30     full  0.753213\n",
       "9         parasail  uc30 0.95     full  0.886418"
      ]
     },
     "execution_count": 1,
     "metadata": {},
     "output_type": "execute_result"
    }
   ],
   "source": [
    "data = csv_to_pandas(output)\n",
    "data"
   ]
  },
  {
   "cell_type": "markdown",
   "metadata": {},
   "source": [
    "Uniclust30 Benchmark (AVX2)"
   ]
  },
  {
   "cell_type": "code",
   "execution_count": 27,
   "metadata": {
    "execution": {
     "iopub.execute_input": "2021-10-08T22:51:26.190750Z",
     "iopub.status.busy": "2021-10-08T22:51:26.190325Z",
     "iopub.status.idle": "2021-10-08T22:51:26.935767Z",
     "shell.execute_reply": "2021-10-08T22:51:26.936166Z"
    }
   },
   "outputs": [
    {
     "data": {
      "text/html": [
       "\n",
       "<div id=\"altair-viz-3196e16b2c3e425f8ef0600949b9a75d\"></div>\n",
       "<script type=\"text/javascript\">\n",
       "  (function(spec, embedOpt){\n",
       "    let outputDiv = document.currentScript.previousElementSibling;\n",
       "    if (outputDiv.id !== \"altair-viz-3196e16b2c3e425f8ef0600949b9a75d\") {\n",
       "      outputDiv = document.getElementById(\"altair-viz-3196e16b2c3e425f8ef0600949b9a75d\");\n",
       "    }\n",
       "    const paths = {\n",
       "      \"vega\": \"https://cdn.jsdelivr.net/npm//vega@5?noext\",\n",
       "      \"vega-lib\": \"https://cdn.jsdelivr.net/npm//vega-lib?noext\",\n",
       "      \"vega-lite\": \"https://cdn.jsdelivr.net/npm//vega-lite@4.8.1?noext\",\n",
       "      \"vega-embed\": \"https://cdn.jsdelivr.net/npm//vega-embed@6?noext\",\n",
       "    };\n",
       "\n",
       "    function loadScript(lib) {\n",
       "      return new Promise(function(resolve, reject) {\n",
       "        var s = document.createElement('script');\n",
       "        s.src = paths[lib];\n",
       "        s.async = true;\n",
       "        s.onload = () => resolve(paths[lib]);\n",
       "        s.onerror = () => reject(`Error loading script: ${paths[lib]}`);\n",
       "        document.getElementsByTagName(\"head\")[0].appendChild(s);\n",
       "      });\n",
       "    }\n",
       "\n",
       "    function showError(err) {\n",
       "      outputDiv.innerHTML = `<div class=\"error\" style=\"color:red;\">${err}</div>`;\n",
       "      throw err;\n",
       "    }\n",
       "\n",
       "    function displayChart(vegaEmbed) {\n",
       "      vegaEmbed(outputDiv, spec, embedOpt)\n",
       "        .catch(err => showError(`Javascript Error: ${err.message}<br>This usually means there's a typo in your chart specification. See the javascript console for the full traceback.`));\n",
       "    }\n",
       "\n",
       "    if(typeof define === \"function\" && define.amd) {\n",
       "      requirejs.config({paths});\n",
       "      require([\"vega-embed\"], displayChart, err => showError(`Error loading script: ${err.message}`));\n",
       "    } else if (typeof vegaEmbed === \"function\") {\n",
       "      displayChart(vegaEmbed);\n",
       "    } else {\n",
       "      loadScript(\"vega\")\n",
       "        .then(() => loadScript(\"vega-lite\"))\n",
       "        .then(() => loadScript(\"vega-embed\"))\n",
       "        .catch(showError)\n",
       "        .then(() => displayChart(vegaEmbed));\n",
       "    }\n",
       "  })({\"config\": {\"view\": {\"continuousWidth\": 400, \"continuousHeight\": 300}, \"range\": {\"category\": {\"scheme\": \"dark2\"}}}, \"data\": {\"name\": \"data-8cfb5be56a4bde517fc37a226cbe147f\"}, \"mark\": \"bar\", \"encoding\": {\"color\": {\"type\": \"nominal\", \"field\": \"algorithm\"}, \"column\": {\"type\": \"nominal\", \"field\": \"dataset\", \"header\": {\"orient\": \"bottom\"}}, \"x\": {\"type\": \"nominal\", \"axis\": null, \"field\": \"algorithm\"}, \"y\": {\"type\": \"quantitative\", \"axis\": {\"title\": \"time (s)\"}, \"field\": \"time\", \"scale\": {\"domain\": [0.0, 1.0]}}}, \"height\": 100, \"transform\": [{\"filter\": \"((datum.size === '32-256') || (datum.algorithm === 'parasail'))\"}], \"width\": 50, \"$schema\": \"https://vega.github.io/schema/vega-lite/v4.8.1.json\", \"datasets\": {\"data-8cfb5be56a4bde517fc37a226cbe147f\": [{\"algorithm\": \"ours (no trace)\", \"dataset\": \"uc30\", \"size\": \"32-32\", \"time\": 0.055815687}, {\"algorithm\": \"ours (no trace)\", \"dataset\": \"uc30 0.95\", \"size\": \"32-32\", \"time\": 0.058619570999999995}, {\"algorithm\": \"ours (no trace)\", \"dataset\": \"uc30\", \"size\": \"32-256\", \"time\": 0.10054278}, {\"algorithm\": \"ours (no trace)\", \"dataset\": \"uc30 0.95\", \"size\": \"32-256\", \"time\": 0.08537553099999999}, {\"algorithm\": \"ours (no trace)\", \"dataset\": \"uc30\", \"size\": \"256-256\", \"time\": 0.201964079}, {\"algorithm\": \"ours (no trace)\", \"dataset\": \"uc30 0.95\", \"size\": \"256-256\", \"time\": 0.22176881899999998}, {\"algorithm\": \"ours (trace)\", \"dataset\": \"uc30\", \"size\": \"32-256\", \"time\": 0.152252701}, {\"algorithm\": \"ours (trace)\", \"dataset\": \"uc30 0.95\", \"size\": \"32-256\", \"time\": 0.132771375}, {\"algorithm\": \"parasail\", \"dataset\": \"uc30\", \"size\": \"full\", \"time\": 0.7532127359999999}, {\"algorithm\": \"parasail\", \"dataset\": \"uc30 0.95\", \"size\": \"full\", \"time\": 0.8864184940000001}]}}, {\"mode\": \"vega-lite\"});\n",
       "</script>"
      ],
      "text/plain": [
       "alt.Chart(...)"
      ]
     },
     "execution_count": 1,
     "metadata": {},
     "output_type": "execute_result"
    }
   ],
   "source": [
    "c = alt.Chart(data).mark_bar().encode(\n",
    "    x = alt.X(\"algorithm\", axis = None),\n",
    "    y = alt.Y(\"time\", axis = alt.Axis(title = \"time (s)\"), scale = alt.Scale(domain = [0.0, 1.0])),\n",
    "    column = alt.Column(\"dataset\", header = alt.Header(orient = \"bottom\")),\n",
    "    color = \"algorithm\"\n",
    ").transform_filter(\n",
    "    (datum.size == \"32-256\") | (datum.algorithm == \"parasail\")\n",
    ").properties(\n",
    "    width = 50,\n",
    "    height = 100\n",
    ").configure_range(\n",
    "    category = {\"scheme\": \"dark2\"}\n",
    ")\n",
    "save(c, \"uniclust30_bench.pdf\")\n",
    "c"
   ]
  },
  {
   "cell_type": "markdown",
   "metadata": {},
   "source": [
    "Uniclust30 Block Size Benchmark (AVX2)"
   ]
  },
  {
   "cell_type": "code",
   "execution_count": 28,
   "metadata": {
    "execution": {
     "iopub.execute_input": "2021-10-08T22:51:26.952229Z",
     "iopub.status.busy": "2021-10-08T22:51:26.951760Z",
     "iopub.status.idle": "2021-10-08T22:51:27.692502Z",
     "shell.execute_reply": "2021-10-08T22:51:27.692904Z"
    }
   },
   "outputs": [
    {
     "data": {
      "text/html": [
       "\n",
       "<div id=\"altair-viz-0919be801801433b8d536225732e94a1\"></div>\n",
       "<script type=\"text/javascript\">\n",
       "  (function(spec, embedOpt){\n",
       "    let outputDiv = document.currentScript.previousElementSibling;\n",
       "    if (outputDiv.id !== \"altair-viz-0919be801801433b8d536225732e94a1\") {\n",
       "      outputDiv = document.getElementById(\"altair-viz-0919be801801433b8d536225732e94a1\");\n",
       "    }\n",
       "    const paths = {\n",
       "      \"vega\": \"https://cdn.jsdelivr.net/npm//vega@5?noext\",\n",
       "      \"vega-lib\": \"https://cdn.jsdelivr.net/npm//vega-lib?noext\",\n",
       "      \"vega-lite\": \"https://cdn.jsdelivr.net/npm//vega-lite@4.8.1?noext\",\n",
       "      \"vega-embed\": \"https://cdn.jsdelivr.net/npm//vega-embed@6?noext\",\n",
       "    };\n",
       "\n",
       "    function loadScript(lib) {\n",
       "      return new Promise(function(resolve, reject) {\n",
       "        var s = document.createElement('script');\n",
       "        s.src = paths[lib];\n",
       "        s.async = true;\n",
       "        s.onload = () => resolve(paths[lib]);\n",
       "        s.onerror = () => reject(`Error loading script: ${paths[lib]}`);\n",
       "        document.getElementsByTagName(\"head\")[0].appendChild(s);\n",
       "      });\n",
       "    }\n",
       "\n",
       "    function showError(err) {\n",
       "      outputDiv.innerHTML = `<div class=\"error\" style=\"color:red;\">${err}</div>`;\n",
       "      throw err;\n",
       "    }\n",
       "\n",
       "    function displayChart(vegaEmbed) {\n",
       "      vegaEmbed(outputDiv, spec, embedOpt)\n",
       "        .catch(err => showError(`Javascript Error: ${err.message}<br>This usually means there's a typo in your chart specification. See the javascript console for the full traceback.`));\n",
       "    }\n",
       "\n",
       "    if(typeof define === \"function\" && define.amd) {\n",
       "      requirejs.config({paths});\n",
       "      require([\"vega-embed\"], displayChart, err => showError(`Error loading script: ${err.message}`));\n",
       "    } else if (typeof vegaEmbed === \"function\") {\n",
       "      displayChart(vegaEmbed);\n",
       "    } else {\n",
       "      loadScript(\"vega\")\n",
       "        .then(() => loadScript(\"vega-lite\"))\n",
       "        .then(() => loadScript(\"vega-embed\"))\n",
       "        .catch(showError)\n",
       "        .then(() => displayChart(vegaEmbed));\n",
       "    }\n",
       "  })({\"config\": {\"view\": {\"continuousWidth\": 400, \"continuousHeight\": 300}}, \"data\": {\"name\": \"data-8cfb5be56a4bde517fc37a226cbe147f\"}, \"mark\": \"bar\", \"encoding\": {\"color\": {\"type\": \"nominal\", \"field\": \"size\", \"sort\": [\"32-32\", \"32-256\", \"256-256\"]}, \"column\": {\"type\": \"nominal\", \"field\": \"dataset\", \"header\": {\"orient\": \"bottom\"}}, \"x\": {\"type\": \"nominal\", \"axis\": null, \"field\": \"size\", \"sort\": [\"32-32\", \"32-256\", \"256-256\"]}, \"y\": {\"type\": \"quantitative\", \"axis\": {\"title\": \"time (s)\"}, \"field\": \"time\", \"scale\": {\"domain\": [0.0, 1.0]}}}, \"height\": 100, \"transform\": [{\"filter\": \"(datum.algorithm === 'ours (no trace)')\"}], \"width\": 50, \"$schema\": \"https://vega.github.io/schema/vega-lite/v4.8.1.json\", \"datasets\": {\"data-8cfb5be56a4bde517fc37a226cbe147f\": [{\"algorithm\": \"ours (no trace)\", \"dataset\": \"uc30\", \"size\": \"32-32\", \"time\": 0.055815687}, {\"algorithm\": \"ours (no trace)\", \"dataset\": \"uc30 0.95\", \"size\": \"32-32\", \"time\": 0.058619570999999995}, {\"algorithm\": \"ours (no trace)\", \"dataset\": \"uc30\", \"size\": \"32-256\", \"time\": 0.10054278}, {\"algorithm\": \"ours (no trace)\", \"dataset\": \"uc30 0.95\", \"size\": \"32-256\", \"time\": 0.08537553099999999}, {\"algorithm\": \"ours (no trace)\", \"dataset\": \"uc30\", \"size\": \"256-256\", \"time\": 0.201964079}, {\"algorithm\": \"ours (no trace)\", \"dataset\": \"uc30 0.95\", \"size\": \"256-256\", \"time\": 0.22176881899999998}, {\"algorithm\": \"ours (trace)\", \"dataset\": \"uc30\", \"size\": \"32-256\", \"time\": 0.152252701}, {\"algorithm\": \"ours (trace)\", \"dataset\": \"uc30 0.95\", \"size\": \"32-256\", \"time\": 0.132771375}, {\"algorithm\": \"parasail\", \"dataset\": \"uc30\", \"size\": \"full\", \"time\": 0.7532127359999999}, {\"algorithm\": \"parasail\", \"dataset\": \"uc30 0.95\", \"size\": \"full\", \"time\": 0.8864184940000001}]}}, {\"mode\": \"vega-lite\"});\n",
       "</script>"
      ],
      "text/plain": [
       "alt.Chart(...)"
      ]
     },
     "execution_count": 1,
     "metadata": {},
     "output_type": "execute_result"
    }
   ],
   "source": [
    "c = alt.Chart(data).mark_bar().encode(\n",
    "    x = alt.X(\"size\", axis = None, sort = [\"32-32\", \"32-256\", \"256-256\"]),\n",
    "    y = alt.Y(\"time\", axis = alt.Axis(title = \"time (s)\"), scale = alt.Scale(domain = [0.0, 1.0])),\n",
    "    column = alt.Column(\"dataset\", header = alt.Header(orient = \"bottom\")),\n",
    "    color = alt.Color(\"size\", sort = [\"32-32\", \"32-256\", \"256-256\"])\n",
    ").transform_filter(\n",
    "    datum.algorithm == \"ours (no trace)\"\n",
    ").properties(\n",
    "    width = 50,\n",
    "    height = 100\n",
    ")\n",
    "save(c, \"uniclust30_size_bench.pdf\")\n",
    "c"
   ]
  },
  {
   "cell_type": "markdown",
   "metadata": {},
   "source": [
    "## Nanopore Data Benchmark Setup\n",
    "\n",
    "To run the benchmarks below, you need to clone the following repos, place them in the same directory where this repo (block aligner) is located, and follow their setup instructions:\n",
    "* [diff-bench-paper](https://github.com/Daniel-Liu-c0deb0t/diff-bench-paper)\n",
    "* [adaptivebandbench](https://github.com/Daniel-Liu-c0deb0t/adaptivebandbench)"
   ]
  },
  {
   "cell_type": "markdown",
   "metadata": {},
   "source": [
    "## Nanopore Data Benchmark"
   ]
  },
  {
   "cell_type": "code",
   "execution_count": 46,
   "metadata": {
    "execution": {
     "iopub.execute_input": "2021-10-08T22:58:37.648670Z",
     "iopub.status.busy": "2021-10-08T22:58:37.648278Z",
     "iopub.status.idle": "2021-10-08T22:58:59.160339Z",
     "shell.execute_reply": "2021-10-08T22:58:59.160748Z"
    }
   },
   "outputs": [
    {
     "data": {
      "text/plain": [
       "['# time (s)',\n",
       " 'algorithm, dataset, time',\n",
       " 'ours (no trace 32-32), nanopore 25kbp, 0.944833438',\n",
       " 'ours (no trace 32-32), random, 2.3201892920000002',\n",
       " 'ours (trace 32-32), nanopore 25kbp, 1.13281743',\n",
       " 'ours (trace 32-32), random, 2.779769449',\n",
       " 'ours (trace 32-64), nanopore 25kbp, 1.9827694980000001',\n",
       " 'ours (trace 32-64), random, 2.862142031']"
      ]
     },
     "execution_count": 1,
     "metadata": {},
     "output_type": "execute_result"
    }
   ],
   "source": [
    "output = !cd .. && cargo run --example nanopore_bench --release --features simd_avx2 --quiet\n",
    "output"
   ]
  },
  {
   "cell_type": "code",
   "execution_count": 47,
   "metadata": {
    "execution": {
     "iopub.execute_input": "2021-10-08T22:58:59.164246Z",
     "iopub.status.busy": "2021-10-08T22:58:59.163729Z",
     "iopub.status.idle": "2021-10-08T22:58:59.171028Z",
     "shell.execute_reply": "2021-10-08T22:58:59.171470Z"
    }
   },
   "outputs": [
    {
     "data": {
      "text/html": [
       "<div>\n",
       "<style scoped>\n",
       "    .dataframe tbody tr th:only-of-type {\n",
       "        vertical-align: middle;\n",
       "    }\n",
       "\n",
       "    .dataframe tbody tr th {\n",
       "        vertical-align: top;\n",
       "    }\n",
       "\n",
       "    .dataframe thead th {\n",
       "        text-align: right;\n",
       "    }\n",
       "</style>\n",
       "<table border=\"1\" class=\"dataframe\">\n",
       "  <thead>\n",
       "    <tr style=\"text-align: right;\">\n",
       "      <th></th>\n",
       "      <th>algorithm</th>\n",
       "      <th>dataset</th>\n",
       "      <th>time</th>\n",
       "    </tr>\n",
       "  </thead>\n",
       "  <tbody>\n",
       "    <tr>\n",
       "      <th>0</th>\n",
       "      <td>ours (no trace 32-32)</td>\n",
       "      <td>nanopore 25kbp</td>\n",
       "      <td>0.944833</td>\n",
       "    </tr>\n",
       "    <tr>\n",
       "      <th>1</th>\n",
       "      <td>ours (no trace 32-32)</td>\n",
       "      <td>random</td>\n",
       "      <td>2.320189</td>\n",
       "    </tr>\n",
       "    <tr>\n",
       "      <th>2</th>\n",
       "      <td>ours (trace 32-32)</td>\n",
       "      <td>nanopore 25kbp</td>\n",
       "      <td>1.132817</td>\n",
       "    </tr>\n",
       "    <tr>\n",
       "      <th>3</th>\n",
       "      <td>ours (trace 32-32)</td>\n",
       "      <td>random</td>\n",
       "      <td>2.779769</td>\n",
       "    </tr>\n",
       "    <tr>\n",
       "      <th>4</th>\n",
       "      <td>ours (trace 32-64)</td>\n",
       "      <td>nanopore 25kbp</td>\n",
       "      <td>1.982769</td>\n",
       "    </tr>\n",
       "    <tr>\n",
       "      <th>5</th>\n",
       "      <td>ours (trace 32-64)</td>\n",
       "      <td>random</td>\n",
       "      <td>2.862142</td>\n",
       "    </tr>\n",
       "  </tbody>\n",
       "</table>\n",
       "</div>"
      ],
      "text/plain": [
       "               algorithm         dataset      time\n",
       "0  ours (no trace 32-32)  nanopore 25kbp  0.944833\n",
       "1  ours (no trace 32-32)          random  2.320189\n",
       "2     ours (trace 32-32)  nanopore 25kbp  1.132817\n",
       "3     ours (trace 32-32)          random  2.779769\n",
       "4     ours (trace 32-64)  nanopore 25kbp  1.982769\n",
       "5     ours (trace 32-64)          random  2.862142"
      ]
     },
     "execution_count": 1,
     "metadata": {},
     "output_type": "execute_result"
    }
   ],
   "source": [
    "data = csv_to_pandas(output)\n",
    "data"
   ]
  },
  {
   "cell_type": "code",
   "execution_count": 48,
   "metadata": {
    "execution": {
     "iopub.execute_input": "2021-10-08T22:58:59.174896Z",
     "iopub.status.busy": "2021-10-08T22:58:59.174475Z",
     "iopub.status.idle": "2021-10-08T23:02:04.577396Z",
     "shell.execute_reply": "2021-10-08T23:02:04.577862Z"
    }
   },
   "outputs": [
    {
     "data": {
      "text/plain": [
       "['algorithm\\tfill time\\ttrace time\\tconvert time\\ttotal time\\tscore\\tfail',\n",
       " 'editdist\\t470003000\\t170070000\\t66831000\\t706904000\\t6880489\\t0',\n",
       " 'non-diff\\t691593000\\t269894000\\t60201000\\t1021688000\\t27124786\\t52',\n",
       " 'diff-raw\\t609982000\\t211468000\\t62309000\\t883759000\\t27291141\\t32',\n",
       " 'libgaba\\t433162000\\t150139000\\t31460000\\t614761000\\t27121546\\t53',\n",
       " 'edlib\\t28082718000\\t19235004000\\t106382000\\t47424104000\\t37\\t0',\n",
       " 'seqan\\t90278758000\\t0\\t0\\t90278758000\\t0\\t0']"
      ]
     },
     "execution_count": 1,
     "metadata": {},
     "output_type": "execute_result"
    }
   ],
   "source": [
    "output2 = !cd ../../diff-bench-paper/supplementary_data/benchmark_codes && ./custom_bench.sh\n",
    "\n",
    "for i, o in enumerate(output2):\n",
    "    if o.startswith(\"cells(\"):\n",
    "        break\n",
    "output2 = output2[i + 1:]\n",
    "\n",
    "output2.insert(0, \"algorithm\\tfill time\\ttrace time\\tconvert time\\ttotal time\\tscore\\tfail\")\n",
    "output2"
   ]
  },
  {
   "cell_type": "code",
   "execution_count": 49,
   "metadata": {
    "execution": {
     "iopub.execute_input": "2021-10-08T23:02:04.586651Z",
     "iopub.status.busy": "2021-10-08T23:02:04.585948Z",
     "iopub.status.idle": "2021-10-08T23:02:04.588826Z",
     "shell.execute_reply": "2021-10-08T23:02:04.589106Z"
    }
   },
   "outputs": [
    {
     "data": {
      "text/html": [
       "<div>\n",
       "<style scoped>\n",
       "    .dataframe tbody tr th:only-of-type {\n",
       "        vertical-align: middle;\n",
       "    }\n",
       "\n",
       "    .dataframe tbody tr th {\n",
       "        vertical-align: top;\n",
       "    }\n",
       "\n",
       "    .dataframe thead th {\n",
       "        text-align: right;\n",
       "    }\n",
       "</style>\n",
       "<table border=\"1\" class=\"dataframe\">\n",
       "  <thead>\n",
       "    <tr style=\"text-align: right;\">\n",
       "      <th></th>\n",
       "      <th>algorithm</th>\n",
       "      <th>fill time</th>\n",
       "      <th>trace time</th>\n",
       "      <th>convert time</th>\n",
       "      <th>total time</th>\n",
       "      <th>score</th>\n",
       "      <th>fail</th>\n",
       "    </tr>\n",
       "  </thead>\n",
       "  <tbody>\n",
       "    <tr>\n",
       "      <th>0</th>\n",
       "      <td>editdist</td>\n",
       "      <td>470003000</td>\n",
       "      <td>170070000</td>\n",
       "      <td>66831000</td>\n",
       "      <td>706904000</td>\n",
       "      <td>6880489</td>\n",
       "      <td>0</td>\n",
       "    </tr>\n",
       "    <tr>\n",
       "      <th>1</th>\n",
       "      <td>non-diff</td>\n",
       "      <td>691593000</td>\n",
       "      <td>269894000</td>\n",
       "      <td>60201000</td>\n",
       "      <td>1021688000</td>\n",
       "      <td>27124786</td>\n",
       "      <td>52</td>\n",
       "    </tr>\n",
       "    <tr>\n",
       "      <th>2</th>\n",
       "      <td>diff-raw</td>\n",
       "      <td>609982000</td>\n",
       "      <td>211468000</td>\n",
       "      <td>62309000</td>\n",
       "      <td>883759000</td>\n",
       "      <td>27291141</td>\n",
       "      <td>32</td>\n",
       "    </tr>\n",
       "    <tr>\n",
       "      <th>3</th>\n",
       "      <td>libgaba</td>\n",
       "      <td>433162000</td>\n",
       "      <td>150139000</td>\n",
       "      <td>31460000</td>\n",
       "      <td>614761000</td>\n",
       "      <td>27121546</td>\n",
       "      <td>53</td>\n",
       "    </tr>\n",
       "    <tr>\n",
       "      <th>4</th>\n",
       "      <td>edlib</td>\n",
       "      <td>28082718000</td>\n",
       "      <td>19235004000</td>\n",
       "      <td>106382000</td>\n",
       "      <td>47424104000</td>\n",
       "      <td>37</td>\n",
       "      <td>0</td>\n",
       "    </tr>\n",
       "    <tr>\n",
       "      <th>5</th>\n",
       "      <td>seqan</td>\n",
       "      <td>90278758000</td>\n",
       "      <td>0</td>\n",
       "      <td>0</td>\n",
       "      <td>90278758000</td>\n",
       "      <td>0</td>\n",
       "      <td>0</td>\n",
       "    </tr>\n",
       "  </tbody>\n",
       "</table>\n",
       "</div>"
      ],
      "text/plain": [
       "  algorithm    fill time   trace time  convert time   total time     score  \\\n",
       "0  editdist    470003000    170070000      66831000    706904000   6880489   \n",
       "1  non-diff    691593000    269894000      60201000   1021688000  27124786   \n",
       "2  diff-raw    609982000    211468000      62309000    883759000  27291141   \n",
       "3   libgaba    433162000    150139000      31460000    614761000  27121546   \n",
       "4     edlib  28082718000  19235004000     106382000  47424104000        37   \n",
       "5     seqan  90278758000            0             0  90278758000         0   \n",
       "\n",
       "   fail  \n",
       "0     0  \n",
       "1    52  \n",
       "2    32  \n",
       "3    53  \n",
       "4     0  \n",
       "5     0  "
      ]
     },
     "execution_count": 1,
     "metadata": {},
     "output_type": "execute_result"
    }
   ],
   "source": [
    "data2 = csv_to_pandas(output2, d = \"\\t\")\n",
    "data2"
   ]
  },
  {
   "cell_type": "code",
   "execution_count": 50,
   "metadata": {
    "execution": {
     "iopub.execute_input": "2021-10-08T23:02:04.595528Z",
     "iopub.status.busy": "2021-10-08T23:02:04.594874Z",
     "iopub.status.idle": "2021-10-08T23:02:04.597506Z",
     "shell.execute_reply": "2021-10-08T23:02:04.597906Z"
    }
   },
   "outputs": [
    {
     "data": {
      "text/html": [
       "<div>\n",
       "<style scoped>\n",
       "    .dataframe tbody tr th:only-of-type {\n",
       "        vertical-align: middle;\n",
       "    }\n",
       "\n",
       "    .dataframe tbody tr th {\n",
       "        vertical-align: top;\n",
       "    }\n",
       "\n",
       "    .dataframe thead th {\n",
       "        text-align: right;\n",
       "    }\n",
       "</style>\n",
       "<table border=\"1\" class=\"dataframe\">\n",
       "  <thead>\n",
       "    <tr style=\"text-align: right;\">\n",
       "      <th></th>\n",
       "      <th>algorithm</th>\n",
       "      <th>time</th>\n",
       "    </tr>\n",
       "  </thead>\n",
       "  <tbody>\n",
       "    <tr>\n",
       "      <th>0</th>\n",
       "      <td>editdist</td>\n",
       "      <td>0.470003</td>\n",
       "    </tr>\n",
       "    <tr>\n",
       "      <th>1</th>\n",
       "      <td>non-diff</td>\n",
       "      <td>0.691593</td>\n",
       "    </tr>\n",
       "    <tr>\n",
       "      <th>2</th>\n",
       "      <td>diff-raw</td>\n",
       "      <td>0.609982</td>\n",
       "    </tr>\n",
       "    <tr>\n",
       "      <th>3</th>\n",
       "      <td>libgaba</td>\n",
       "      <td>0.433162</td>\n",
       "    </tr>\n",
       "    <tr>\n",
       "      <th>4</th>\n",
       "      <td>edlib</td>\n",
       "      <td>28.082718</td>\n",
       "    </tr>\n",
       "    <tr>\n",
       "      <th>5</th>\n",
       "      <td>seqan</td>\n",
       "      <td>90.278758</td>\n",
       "    </tr>\n",
       "  </tbody>\n",
       "</table>\n",
       "</div>"
      ],
      "text/plain": [
       "  algorithm       time\n",
       "0  editdist   0.470003\n",
       "1  non-diff   0.691593\n",
       "2  diff-raw   0.609982\n",
       "3   libgaba   0.433162\n",
       "4     edlib  28.082718\n",
       "5     seqan  90.278758"
      ]
     },
     "execution_count": 1,
     "metadata": {},
     "output_type": "execute_result"
    }
   ],
   "source": [
    "cleaned2 = data2.drop(columns = [\"trace time\", \"convert time\", \"total time\", \"score\", \"fail\"])\n",
    "cleaned2 = cleaned2.rename(columns = {\"fill time\": \"time\"})\n",
    "cleaned2[\"time\"] /= 1e9\n",
    "cleaned2"
   ]
  },
  {
   "cell_type": "code",
   "execution_count": 51,
   "metadata": {
    "execution": {
     "iopub.execute_input": "2021-10-08T23:02:04.604722Z",
     "iopub.status.busy": "2021-10-08T23:02:04.604161Z",
     "iopub.status.idle": "2021-10-08T23:02:04.606566Z",
     "shell.execute_reply": "2021-10-08T23:02:04.606980Z"
    }
   },
   "outputs": [
    {
     "data": {
      "text/html": [
       "<div>\n",
       "<style scoped>\n",
       "    .dataframe tbody tr th:only-of-type {\n",
       "        vertical-align: middle;\n",
       "    }\n",
       "\n",
       "    .dataframe tbody tr th {\n",
       "        vertical-align: top;\n",
       "    }\n",
       "\n",
       "    .dataframe thead th {\n",
       "        text-align: right;\n",
       "    }\n",
       "</style>\n",
       "<table border=\"1\" class=\"dataframe\">\n",
       "  <thead>\n",
       "    <tr style=\"text-align: right;\">\n",
       "      <th></th>\n",
       "      <th>algorithm</th>\n",
       "      <th>time</th>\n",
       "    </tr>\n",
       "  </thead>\n",
       "  <tbody>\n",
       "    <tr>\n",
       "      <th>0</th>\n",
       "      <td>ours (no trace 32-32)</td>\n",
       "      <td>0.944833</td>\n",
       "    </tr>\n",
       "    <tr>\n",
       "      <th>1</th>\n",
       "      <td>ours (trace 32-32)</td>\n",
       "      <td>1.132817</td>\n",
       "    </tr>\n",
       "    <tr>\n",
       "      <th>2</th>\n",
       "      <td>ours (trace 32-64)</td>\n",
       "      <td>1.982769</td>\n",
       "    </tr>\n",
       "    <tr>\n",
       "      <th>3</th>\n",
       "      <td>editdist</td>\n",
       "      <td>0.470003</td>\n",
       "    </tr>\n",
       "    <tr>\n",
       "      <th>4</th>\n",
       "      <td>non-diff</td>\n",
       "      <td>0.691593</td>\n",
       "    </tr>\n",
       "    <tr>\n",
       "      <th>5</th>\n",
       "      <td>diff-raw</td>\n",
       "      <td>0.609982</td>\n",
       "    </tr>\n",
       "    <tr>\n",
       "      <th>6</th>\n",
       "      <td>libgaba</td>\n",
       "      <td>0.433162</td>\n",
       "    </tr>\n",
       "    <tr>\n",
       "      <th>7</th>\n",
       "      <td>edlib</td>\n",
       "      <td>28.082718</td>\n",
       "    </tr>\n",
       "    <tr>\n",
       "      <th>8</th>\n",
       "      <td>seqan</td>\n",
       "      <td>90.278758</td>\n",
       "    </tr>\n",
       "  </tbody>\n",
       "</table>\n",
       "</div>"
      ],
      "text/plain": [
       "               algorithm       time\n",
       "0  ours (no trace 32-32)   0.944833\n",
       "1     ours (trace 32-32)   1.132817\n",
       "2     ours (trace 32-64)   1.982769\n",
       "3               editdist   0.470003\n",
       "4               non-diff   0.691593\n",
       "5               diff-raw   0.609982\n",
       "6                libgaba   0.433162\n",
       "7                  edlib  28.082718\n",
       "8                  seqan  90.278758"
      ]
     },
     "execution_count": 1,
     "metadata": {},
     "output_type": "execute_result"
    }
   ],
   "source": [
    "cleaned = data.drop(index = [1, 3, 5])\n",
    "cleaned = cleaned.drop(columns = [\"dataset\"])\n",
    "cleaned = cleaned.append(cleaned2, ignore_index = True)\n",
    "cleaned"
   ]
  },
  {
   "cell_type": "markdown",
   "metadata": {},
   "source": [
    "25kbp Nanopore Reads Benchmark (AVX2)"
   ]
  },
  {
   "cell_type": "code",
   "execution_count": 52,
   "metadata": {
    "execution": {
     "iopub.execute_input": "2021-10-08T23:02:04.624330Z",
     "iopub.status.busy": "2021-10-08T23:02:04.623924Z",
     "iopub.status.idle": "2021-10-08T23:02:05.354397Z",
     "shell.execute_reply": "2021-10-08T23:02:05.354837Z"
    }
   },
   "outputs": [
    {
     "data": {
      "text/html": [
       "\n",
       "<div id=\"altair-viz-75f5c4fd5ed54f5080ea4a9d58a135bc\"></div>\n",
       "<script type=\"text/javascript\">\n",
       "  (function(spec, embedOpt){\n",
       "    let outputDiv = document.currentScript.previousElementSibling;\n",
       "    if (outputDiv.id !== \"altair-viz-75f5c4fd5ed54f5080ea4a9d58a135bc\") {\n",
       "      outputDiv = document.getElementById(\"altair-viz-75f5c4fd5ed54f5080ea4a9d58a135bc\");\n",
       "    }\n",
       "    const paths = {\n",
       "      \"vega\": \"https://cdn.jsdelivr.net/npm//vega@5?noext\",\n",
       "      \"vega-lib\": \"https://cdn.jsdelivr.net/npm//vega-lib?noext\",\n",
       "      \"vega-lite\": \"https://cdn.jsdelivr.net/npm//vega-lite@4.8.1?noext\",\n",
       "      \"vega-embed\": \"https://cdn.jsdelivr.net/npm//vega-embed@6?noext\",\n",
       "    };\n",
       "\n",
       "    function loadScript(lib) {\n",
       "      return new Promise(function(resolve, reject) {\n",
       "        var s = document.createElement('script');\n",
       "        s.src = paths[lib];\n",
       "        s.async = true;\n",
       "        s.onload = () => resolve(paths[lib]);\n",
       "        s.onerror = () => reject(`Error loading script: ${paths[lib]}`);\n",
       "        document.getElementsByTagName(\"head\")[0].appendChild(s);\n",
       "      });\n",
       "    }\n",
       "\n",
       "    function showError(err) {\n",
       "      outputDiv.innerHTML = `<div class=\"error\" style=\"color:red;\">${err}</div>`;\n",
       "      throw err;\n",
       "    }\n",
       "\n",
       "    function displayChart(vegaEmbed) {\n",
       "      vegaEmbed(outputDiv, spec, embedOpt)\n",
       "        .catch(err => showError(`Javascript Error: ${err.message}<br>This usually means there's a typo in your chart specification. See the javascript console for the full traceback.`));\n",
       "    }\n",
       "\n",
       "    if(typeof define === \"function\" && define.amd) {\n",
       "      requirejs.config({paths});\n",
       "      require([\"vega-embed\"], displayChart, err => showError(`Error loading script: ${err.message}`));\n",
       "    } else if (typeof vegaEmbed === \"function\") {\n",
       "      displayChart(vegaEmbed);\n",
       "    } else {\n",
       "      loadScript(\"vega\")\n",
       "        .then(() => loadScript(\"vega-lite\"))\n",
       "        .then(() => loadScript(\"vega-embed\"))\n",
       "        .catch(showError)\n",
       "        .then(() => displayChart(vegaEmbed));\n",
       "    }\n",
       "  })({\"config\": {\"view\": {\"continuousWidth\": 400, \"continuousHeight\": 300}}, \"layer\": [{\"mark\": {\"type\": \"point\", \"filled\": true, \"opacity\": 1}, \"encoding\": {\"x\": {\"type\": \"quantitative\", \"axis\": {\"grid\": true, \"title\": \"time (s)\"}, \"field\": \"time\", \"scale\": {\"type\": \"log\"}}, \"y\": {\"type\": \"nominal\", \"axis\": {\"grid\": true}, \"field\": \"algorithm\", \"sort\": {\"field\": \"time\"}}}, \"transform\": [{\"filter\": \"(((datum.algorithm !== 'ours (trace 32-32)') && (datum.algorithm !== 'ours (no trace 32-32)')) && (datum.algorithm !== 'ours (trace 32-64)'))\"}]}, {\"mark\": {\"type\": \"point\", \"color\": \"red\", \"filled\": true}, \"encoding\": {\"x\": {\"type\": \"quantitative\", \"axis\": {\"grid\": true, \"title\": \"time (s)\"}, \"field\": \"time\", \"scale\": {\"type\": \"log\"}}, \"y\": {\"type\": \"nominal\", \"axis\": {\"grid\": true}, \"field\": \"algorithm\", \"sort\": {\"field\": \"time\"}}}, \"transform\": [{\"filter\": \"(((datum.algorithm === 'ours (trace 32-32)') || (datum.algorithm === 'ours (no trace 32-32)')) || (datum.algorithm === 'ours (trace 32-64)'))\"}]}], \"data\": {\"name\": \"data-f0e574ae15eaa1388e9e2c40c2fd24a8\"}, \"height\": 150, \"width\": 150, \"$schema\": \"https://vega.github.io/schema/vega-lite/v4.8.1.json\", \"datasets\": {\"data-f0e574ae15eaa1388e9e2c40c2fd24a8\": [{\"algorithm\": \"ours (no trace 32-32)\", \"time\": 0.944833438}, {\"algorithm\": \"ours (trace 32-32)\", \"time\": 1.13281743}, {\"algorithm\": \"ours (trace 32-64)\", \"time\": 1.982769498}, {\"algorithm\": \"editdist\", \"time\": 0.470003}, {\"algorithm\": \"non-diff\", \"time\": 0.691593}, {\"algorithm\": \"diff-raw\", \"time\": 0.609982}, {\"algorithm\": \"libgaba\", \"time\": 0.433162}, {\"algorithm\": \"edlib\", \"time\": 28.082718}, {\"algorithm\": \"seqan\", \"time\": 90.278758}]}}, {\"mode\": \"vega-lite\"});\n",
       "</script>"
      ],
      "text/plain": [
       "alt.LayerChart(...)"
      ]
     },
     "execution_count": 1,
     "metadata": {},
     "output_type": "execute_result"
    }
   ],
   "source": [
    "chart1 = alt.Chart(cleaned).mark_point(opacity = 1, filled = True).encode(\n",
    "    x = alt.X(\"time\", axis = alt.Axis(title = \"time (s)\", grid = True), scale = alt.Scale(type = \"log\")),\n",
    "    y = alt.Y(\"algorithm\", axis = alt.Axis(grid = True), sort = alt.EncodingSortField(field = \"time\"))\n",
    ").transform_filter((datum.algorithm != \"ours (trace 32-32)\") & (datum.algorithm != \"ours (no trace 32-32)\") & (datum.algorithm != \"ours (trace 32-64)\"))\n",
    "\n",
    "chart2 = alt.Chart(cleaned).mark_point(color = \"red\", filled = True).encode(\n",
    "    x = alt.X(\"time\", axis = alt.Axis(title = \"time (s)\", grid = True), scale = alt.Scale(type = \"log\")),\n",
    "    y = alt.Y(\"algorithm\", axis = alt.Axis(grid = True), sort = alt.EncodingSortField(field = \"time\"))\n",
    ").transform_filter((datum.algorithm == \"ours (trace 32-32)\") | (datum.algorithm == \"ours (no trace 32-32)\") | (datum.algorithm == \"ours (trace 32-64)\"))\n",
    "\n",
    "c = (chart1 + chart2).properties(\n",
    "    width = 150,\n",
    "    height = 150\n",
    ")\n",
    "save(c, \"nanopore_bench.pdf\")\n",
    "c"
   ]
  },
  {
   "cell_type": "markdown",
   "metadata": {},
   "source": [
    "## Sequence-to-Profile Alignment Benchmark"
   ]
  },
  {
   "cell_type": "code",
   "execution_count": 3,
   "metadata": {},
   "outputs": [
    {
     "data": {
      "text/plain": [
       "['size, time',\n",
       " '32-32, 0.16301056',\n",
       " '32-64, 0.184093758',\n",
       " '32-128, 0.216618957',\n",
       " '2048-2048, 4.707142767',\n",
       " '# Done!']"
      ]
     },
     "execution_count": 3,
     "metadata": {},
     "output_type": "execute_result"
    }
   ],
   "source": [
    "output = !cd .. && cargo run --example pssm_bench --release --features simd_avx2 --quiet\n",
    "output"
   ]
  },
  {
   "cell_type": "code",
   "execution_count": 4,
   "metadata": {},
   "outputs": [
    {
     "data": {
      "text/html": [
       "<div>\n",
       "<style scoped>\n",
       "    .dataframe tbody tr th:only-of-type {\n",
       "        vertical-align: middle;\n",
       "    }\n",
       "\n",
       "    .dataframe tbody tr th {\n",
       "        vertical-align: top;\n",
       "    }\n",
       "\n",
       "    .dataframe thead th {\n",
       "        text-align: right;\n",
       "    }\n",
       "</style>\n",
       "<table border=\"1\" class=\"dataframe\">\n",
       "  <thead>\n",
       "    <tr style=\"text-align: right;\">\n",
       "      <th></th>\n",
       "      <th>size</th>\n",
       "      <th>time</th>\n",
       "    </tr>\n",
       "  </thead>\n",
       "  <tbody>\n",
       "    <tr>\n",
       "      <th>0</th>\n",
       "      <td>32-32</td>\n",
       "      <td>0.163011</td>\n",
       "    </tr>\n",
       "    <tr>\n",
       "      <th>1</th>\n",
       "      <td>32-64</td>\n",
       "      <td>0.184094</td>\n",
       "    </tr>\n",
       "    <tr>\n",
       "      <th>2</th>\n",
       "      <td>32-128</td>\n",
       "      <td>0.216619</td>\n",
       "    </tr>\n",
       "    <tr>\n",
       "      <th>3</th>\n",
       "      <td>2048-2048</td>\n",
       "      <td>4.707143</td>\n",
       "    </tr>\n",
       "  </tbody>\n",
       "</table>\n",
       "</div>"
      ],
      "text/plain": [
       "        size      time\n",
       "0      32-32  0.163011\n",
       "1      32-64  0.184094\n",
       "2     32-128  0.216619\n",
       "3  2048-2048  4.707143"
      ]
     },
     "execution_count": 4,
     "metadata": {},
     "output_type": "execute_result"
    }
   ],
   "source": [
    "data = csv_to_pandas(output)\n",
    "data"
   ]
  },
  {
   "cell_type": "markdown",
   "metadata": {},
   "source": [
    "SCOP Sequence-to-Profile Alignment Benchmark (AVX2)"
   ]
  },
  {
   "cell_type": "code",
   "execution_count": 5,
   "metadata": {
    "scrolled": false
   },
   "outputs": [
    {
     "data": {
      "text/html": [
       "\n",
       "<div id=\"altair-viz-05e736f2924b4566bd486eec528a38fe\"></div>\n",
       "<script type=\"text/javascript\">\n",
       "  (function(spec, embedOpt){\n",
       "    let outputDiv = document.currentScript.previousElementSibling;\n",
       "    if (outputDiv.id !== \"altair-viz-05e736f2924b4566bd486eec528a38fe\") {\n",
       "      outputDiv = document.getElementById(\"altair-viz-05e736f2924b4566bd486eec528a38fe\");\n",
       "    }\n",
       "    const paths = {\n",
       "      \"vega\": \"https://cdn.jsdelivr.net/npm//vega@5?noext\",\n",
       "      \"vega-lib\": \"https://cdn.jsdelivr.net/npm//vega-lib?noext\",\n",
       "      \"vega-lite\": \"https://cdn.jsdelivr.net/npm//vega-lite@4.8.1?noext\",\n",
       "      \"vega-embed\": \"https://cdn.jsdelivr.net/npm//vega-embed@6?noext\",\n",
       "    };\n",
       "\n",
       "    function loadScript(lib) {\n",
       "      return new Promise(function(resolve, reject) {\n",
       "        var s = document.createElement('script');\n",
       "        s.src = paths[lib];\n",
       "        s.async = true;\n",
       "        s.onload = () => resolve(paths[lib]);\n",
       "        s.onerror = () => reject(`Error loading script: ${paths[lib]}`);\n",
       "        document.getElementsByTagName(\"head\")[0].appendChild(s);\n",
       "      });\n",
       "    }\n",
       "\n",
       "    function showError(err) {\n",
       "      outputDiv.innerHTML = `<div class=\"error\" style=\"color:red;\">${err}</div>`;\n",
       "      throw err;\n",
       "    }\n",
       "\n",
       "    function displayChart(vegaEmbed) {\n",
       "      vegaEmbed(outputDiv, spec, embedOpt)\n",
       "        .catch(err => showError(`Javascript Error: ${err.message}<br>This usually means there's a typo in your chart specification. See the javascript console for the full traceback.`));\n",
       "    }\n",
       "\n",
       "    if(typeof define === \"function\" && define.amd) {\n",
       "      requirejs.config({paths});\n",
       "      require([\"vega-embed\"], displayChart, err => showError(`Error loading script: ${err.message}`));\n",
       "    } else if (typeof vegaEmbed === \"function\") {\n",
       "      displayChart(vegaEmbed);\n",
       "    } else {\n",
       "      loadScript(\"vega\")\n",
       "        .then(() => loadScript(\"vega-lite\"))\n",
       "        .then(() => loadScript(\"vega-embed\"))\n",
       "        .catch(showError)\n",
       "        .then(() => displayChart(vegaEmbed));\n",
       "    }\n",
       "  })({\"config\": {\"view\": {\"continuousWidth\": 400, \"continuousHeight\": 300}}, \"data\": {\"name\": \"data-5380e94a97cf51407e736f83415a4855\"}, \"mark\": \"bar\", \"encoding\": {\"color\": {\"type\": \"nominal\", \"field\": \"size\", \"legend\": null, \"sort\": [\"32-32\", \"32-64\", \"32-128\", \"2048-2048\"]}, \"x\": {\"type\": \"nominal\", \"field\": \"size\", \"sort\": [\"32-32\", \"32-64\", \"32-128\", \"2048-2048\"]}, \"y\": {\"type\": \"quantitative\", \"axis\": {\"title\": \"time (s)\"}, \"field\": \"time\"}}, \"height\": 100, \"width\": 60, \"$schema\": \"https://vega.github.io/schema/vega-lite/v4.8.1.json\", \"datasets\": {\"data-5380e94a97cf51407e736f83415a4855\": [{\"size\": \"32-32\", \"time\": 0.16301056}, {\"size\": \"32-64\", \"time\": 0.184093758}, {\"size\": \"32-128\", \"time\": 0.216618957}, {\"size\": \"2048-2048\", \"time\": 4.707142767}]}}, {\"mode\": \"vega-lite\"});\n",
       "</script>"
      ],
      "text/plain": [
       "alt.Chart(...)"
      ]
     },
     "execution_count": 5,
     "metadata": {},
     "output_type": "execute_result"
    }
   ],
   "source": [
    "c = alt.Chart(data).mark_bar().encode(\n",
    "    x = alt.X(\"size\", sort = [\"32-32\", \"32-64\", \"32-128\", \"2048-2048\"]),\n",
    "    y = alt.Y(\"time\", axis = alt.Axis(title = \"time (s)\")),\n",
    "    color = alt.Color(\"size\", sort = [\"32-32\", \"32-64\", \"32-128\", \"2048-2048\"], legend = None)\n",
    ").properties(\n",
    "    width = 60,\n",
    "    height = 100\n",
    ")\n",
    "save(c, \"pssm_size_bench.pdf\")\n",
    "c"
   ]
  },
  {
   "cell_type": "markdown",
   "metadata": {},
   "source": [
    "## WASM SIMD\n",
    "\n",
    "[Wasmtime](https://wasmtime.dev/) is needed to run the webassembly code."
   ]
  },
  {
   "cell_type": "code",
   "execution_count": 53,
   "metadata": {
    "execution": {
     "iopub.execute_input": "2021-10-08T23:02:05.358610Z",
     "iopub.status.busy": "2021-10-08T23:02:05.358167Z",
     "iopub.status.idle": "2021-10-08T23:02:39.217827Z",
     "shell.execute_reply": "2021-10-08T23:02:39.218328Z"
    }
   },
   "outputs": [
    {
     "data": {
      "text/plain": [
       "['bench_rustbio_aa_100_1000\\t22,736,334',\n",
       " 'bench_rustbio_aa_10_100\\t234,868',\n",
       " 'bench_scan_aa_1000_10000\\t1,758,351',\n",
       " 'bench_scan_aa_1000_10000_insert\\t20,722,116',\n",
       " 'bench_scan_aa_1000_10000_small\\t664,311',\n",
       " 'bench_scan_aa_1000_10000_trace\\t2,313,101',\n",
       " 'bench_scan_aa_100_1000\\t108,170',\n",
       " 'bench_scan_aa_100_1000_insert\\t244,786',\n",
       " 'bench_scan_aa_100_1000_small\\t66,446',\n",
       " 'bench_scan_aa_100_1000_trace\\t145,701',\n",
       " 'bench_scan_aa_10_100\\t8,089',\n",
       " 'bench_scan_aa_10_100_insert\\t8,571',\n",
       " 'bench_scan_aa_10_100_small\\t5,874',\n",
       " 'bench_scan_aa_10_100_trace\\t10,429',\n",
       " 'bench_scan_nuc_1000_10000\\t619,599',\n",
       " 'bench_scan_nuc_100_1000\\t62,778']"
      ]
     },
     "execution_count": 1,
     "metadata": {},
     "output_type": "execute_result"
    }
   ],
   "source": [
    "output = !CARGO_TARGET_WASM32_WASI_RUNNER=\"wasmtime --wasm-features simd --\" cargo bench --target=wasm32-wasi --features simd_wasm --quiet -- --nocapture | grep 'bench:' | awk '{print $2\"\\t\"$5}'\n",
    "output"
   ]
  },
  {
   "cell_type": "code",
   "execution_count": 54,
   "metadata": {
    "execution": {
     "iopub.execute_input": "2021-10-08T23:02:39.223218Z",
     "iopub.status.busy": "2021-10-08T23:02:39.222718Z",
     "iopub.status.idle": "2021-10-08T23:02:39.225279Z",
     "shell.execute_reply": "2021-10-08T23:02:39.224943Z"
    }
   },
   "outputs": [
    {
     "data": {
      "text/plain": [
       "['algorithm\\talphabet\\tk\\tlength\\tproperty\\ttime',\n",
       " 'rust bio\\tprotein\\t100\\t1000\\tdefault\\t22,736,334',\n",
       " 'rust bio\\tprotein\\t10\\t100\\tdefault\\t234,868',\n",
       " 'ours\\tprotein\\t1000\\t10000\\tdefault\\t1,758,351',\n",
       " 'ours\\tprotein\\t1000\\t10000\\tinsert\\t20,722,116',\n",
       " 'ours\\tprotein\\t1000\\t10000\\tsmall\\t664,311',\n",
       " 'ours\\tprotein\\t1000\\t10000\\ttrace\\t2,313,101',\n",
       " 'ours\\tprotein\\t100\\t1000\\tdefault\\t108,170',\n",
       " 'ours\\tprotein\\t100\\t1000\\tinsert\\t244,786',\n",
       " 'ours\\tprotein\\t100\\t1000\\tsmall\\t66,446',\n",
       " 'ours\\tprotein\\t100\\t1000\\ttrace\\t145,701',\n",
       " 'ours\\tprotein\\t10\\t100\\tdefault\\t8,089',\n",
       " 'ours\\tprotein\\t10\\t100\\tinsert\\t8,571',\n",
       " 'ours\\tprotein\\t10\\t100\\tsmall\\t5,874',\n",
       " 'ours\\tprotein\\t10\\t100\\ttrace\\t10,429',\n",
       " 'ours\\tnucleotide\\t1000\\t10000\\tdefault\\t619,599',\n",
       " 'ours\\tnucleotide\\t100\\t1000\\tdefault\\t62,778']"
      ]
     },
     "execution_count": 1,
     "metadata": {},
     "output_type": "execute_result"
    }
   ],
   "source": [
    "cleaned = [\"algorithm\\talphabet\\tk\\tlength\\tproperty\\ttime\"]\n",
    "names = [\"rustbio_aa\", \"scan_aa\", \"scan_nuc\"]\n",
    "new_names = [\"rust bio\\tprotein\", \"ours\\tprotein\", \"ours\\tnucleotide\"]\n",
    "\n",
    "for o in output:\n",
    "    o = o[len(\"bench_\"):]\n",
    "    for n, nn in zip(names, new_names):\n",
    "        if o.startswith(n):\n",
    "            suffix = o[len(n):].replace(\"_\", \"\\t\")\n",
    "            o = nn + suffix\n",
    "            break\n",
    "    if len(o.split(\"\\t\")) < len(cleaned[0].split(\"\\t\")):\n",
    "        insert_idx = o.rindex(\"\\t\")\n",
    "        o = o[:insert_idx] + \"\\tdefault\" + o[insert_idx:]\n",
    "    cleaned.append(o)\n",
    "\n",
    "cleaned"
   ]
  },
  {
   "cell_type": "code",
   "execution_count": 55,
   "metadata": {
    "execution": {
     "iopub.execute_input": "2021-10-08T23:02:39.227953Z",
     "iopub.status.busy": "2021-10-08T23:02:39.227517Z",
     "iopub.status.idle": "2021-10-08T23:02:39.237237Z",
     "shell.execute_reply": "2021-10-08T23:02:39.237685Z"
    }
   },
   "outputs": [
    {
     "data": {
      "text/html": [
       "<div>\n",
       "<style scoped>\n",
       "    .dataframe tbody tr th:only-of-type {\n",
       "        vertical-align: middle;\n",
       "    }\n",
       "\n",
       "    .dataframe tbody tr th {\n",
       "        vertical-align: top;\n",
       "    }\n",
       "\n",
       "    .dataframe thead th {\n",
       "        text-align: right;\n",
       "    }\n",
       "</style>\n",
       "<table border=\"1\" class=\"dataframe\">\n",
       "  <thead>\n",
       "    <tr style=\"text-align: right;\">\n",
       "      <th></th>\n",
       "      <th>algorithm</th>\n",
       "      <th>alphabet</th>\n",
       "      <th>k</th>\n",
       "      <th>length</th>\n",
       "      <th>property</th>\n",
       "      <th>time</th>\n",
       "    </tr>\n",
       "  </thead>\n",
       "  <tbody>\n",
       "    <tr>\n",
       "      <th>0</th>\n",
       "      <td>rust bio</td>\n",
       "      <td>protein</td>\n",
       "      <td>100</td>\n",
       "      <td>1000</td>\n",
       "      <td>default</td>\n",
       "      <td>22736334</td>\n",
       "    </tr>\n",
       "    <tr>\n",
       "      <th>1</th>\n",
       "      <td>rust bio</td>\n",
       "      <td>protein</td>\n",
       "      <td>10</td>\n",
       "      <td>100</td>\n",
       "      <td>default</td>\n",
       "      <td>234868</td>\n",
       "    </tr>\n",
       "    <tr>\n",
       "      <th>2</th>\n",
       "      <td>ours</td>\n",
       "      <td>protein</td>\n",
       "      <td>1000</td>\n",
       "      <td>10000</td>\n",
       "      <td>default</td>\n",
       "      <td>1758351</td>\n",
       "    </tr>\n",
       "    <tr>\n",
       "      <th>3</th>\n",
       "      <td>ours</td>\n",
       "      <td>protein</td>\n",
       "      <td>1000</td>\n",
       "      <td>10000</td>\n",
       "      <td>insert</td>\n",
       "      <td>20722116</td>\n",
       "    </tr>\n",
       "    <tr>\n",
       "      <th>4</th>\n",
       "      <td>ours</td>\n",
       "      <td>protein</td>\n",
       "      <td>1000</td>\n",
       "      <td>10000</td>\n",
       "      <td>small</td>\n",
       "      <td>664311</td>\n",
       "    </tr>\n",
       "    <tr>\n",
       "      <th>5</th>\n",
       "      <td>ours</td>\n",
       "      <td>protein</td>\n",
       "      <td>1000</td>\n",
       "      <td>10000</td>\n",
       "      <td>trace</td>\n",
       "      <td>2313101</td>\n",
       "    </tr>\n",
       "    <tr>\n",
       "      <th>6</th>\n",
       "      <td>ours</td>\n",
       "      <td>protein</td>\n",
       "      <td>100</td>\n",
       "      <td>1000</td>\n",
       "      <td>default</td>\n",
       "      <td>108170</td>\n",
       "    </tr>\n",
       "    <tr>\n",
       "      <th>7</th>\n",
       "      <td>ours</td>\n",
       "      <td>protein</td>\n",
       "      <td>100</td>\n",
       "      <td>1000</td>\n",
       "      <td>insert</td>\n",
       "      <td>244786</td>\n",
       "    </tr>\n",
       "    <tr>\n",
       "      <th>8</th>\n",
       "      <td>ours</td>\n",
       "      <td>protein</td>\n",
       "      <td>100</td>\n",
       "      <td>1000</td>\n",
       "      <td>small</td>\n",
       "      <td>66446</td>\n",
       "    </tr>\n",
       "    <tr>\n",
       "      <th>9</th>\n",
       "      <td>ours</td>\n",
       "      <td>protein</td>\n",
       "      <td>100</td>\n",
       "      <td>1000</td>\n",
       "      <td>trace</td>\n",
       "      <td>145701</td>\n",
       "    </tr>\n",
       "    <tr>\n",
       "      <th>10</th>\n",
       "      <td>ours</td>\n",
       "      <td>protein</td>\n",
       "      <td>10</td>\n",
       "      <td>100</td>\n",
       "      <td>default</td>\n",
       "      <td>8089</td>\n",
       "    </tr>\n",
       "    <tr>\n",
       "      <th>11</th>\n",
       "      <td>ours</td>\n",
       "      <td>protein</td>\n",
       "      <td>10</td>\n",
       "      <td>100</td>\n",
       "      <td>insert</td>\n",
       "      <td>8571</td>\n",
       "    </tr>\n",
       "    <tr>\n",
       "      <th>12</th>\n",
       "      <td>ours</td>\n",
       "      <td>protein</td>\n",
       "      <td>10</td>\n",
       "      <td>100</td>\n",
       "      <td>small</td>\n",
       "      <td>5874</td>\n",
       "    </tr>\n",
       "    <tr>\n",
       "      <th>13</th>\n",
       "      <td>ours</td>\n",
       "      <td>protein</td>\n",
       "      <td>10</td>\n",
       "      <td>100</td>\n",
       "      <td>trace</td>\n",
       "      <td>10429</td>\n",
       "    </tr>\n",
       "    <tr>\n",
       "      <th>14</th>\n",
       "      <td>ours</td>\n",
       "      <td>nucleotide</td>\n",
       "      <td>1000</td>\n",
       "      <td>10000</td>\n",
       "      <td>default</td>\n",
       "      <td>619599</td>\n",
       "    </tr>\n",
       "    <tr>\n",
       "      <th>15</th>\n",
       "      <td>ours</td>\n",
       "      <td>nucleotide</td>\n",
       "      <td>100</td>\n",
       "      <td>1000</td>\n",
       "      <td>default</td>\n",
       "      <td>62778</td>\n",
       "    </tr>\n",
       "  </tbody>\n",
       "</table>\n",
       "</div>"
      ],
      "text/plain": [
       "   algorithm    alphabet     k  length property      time\n",
       "0   rust bio     protein   100    1000  default  22736334\n",
       "1   rust bio     protein    10     100  default    234868\n",
       "2       ours     protein  1000   10000  default   1758351\n",
       "3       ours     protein  1000   10000   insert  20722116\n",
       "4       ours     protein  1000   10000    small    664311\n",
       "5       ours     protein  1000   10000    trace   2313101\n",
       "6       ours     protein   100    1000  default    108170\n",
       "7       ours     protein   100    1000   insert    244786\n",
       "8       ours     protein   100    1000    small     66446\n",
       "9       ours     protein   100    1000    trace    145701\n",
       "10      ours     protein    10     100  default      8089\n",
       "11      ours     protein    10     100   insert      8571\n",
       "12      ours     protein    10     100    small      5874\n",
       "13      ours     protein    10     100    trace     10429\n",
       "14      ours  nucleotide  1000   10000  default    619599\n",
       "15      ours  nucleotide   100    1000  default     62778"
      ]
     },
     "execution_count": 1,
     "metadata": {},
     "output_type": "execute_result"
    }
   ],
   "source": [
    "data = csv_to_pandas(cleaned, d = \"\\t\", t = \",\")\n",
    "data"
   ]
  },
  {
   "cell_type": "code",
   "execution_count": 56,
   "metadata": {
    "execution": {
     "iopub.execute_input": "2021-10-08T23:02:39.241581Z",
     "iopub.status.busy": "2021-10-08T23:02:39.241132Z",
     "iopub.status.idle": "2021-10-08T23:02:39.242869Z",
     "shell.execute_reply": "2021-10-08T23:02:39.243282Z"
    }
   },
   "outputs": [],
   "source": [
    "data[\"algorithm property\"] = data[\"algorithm\"] + \" \" + data[\"property\"]\n",
    "data[\"time\"] /= 1000"
   ]
  },
  {
   "cell_type": "markdown",
   "metadata": {},
   "source": [
    "Random Protein Sequences Benchmark (WASM SIMD)"
   ]
  },
  {
   "cell_type": "code",
   "execution_count": 57,
   "metadata": {
    "execution": {
     "iopub.execute_input": "2021-10-08T23:02:39.261333Z",
     "iopub.status.busy": "2021-10-08T23:02:39.260928Z",
     "iopub.status.idle": "2021-10-08T23:02:40.016167Z",
     "shell.execute_reply": "2021-10-08T23:02:40.016581Z"
    }
   },
   "outputs": [
    {
     "data": {
      "text/html": [
       "\n",
       "<div id=\"altair-viz-e5bb66cac694430cb5ba992459f94287\"></div>\n",
       "<script type=\"text/javascript\">\n",
       "  (function(spec, embedOpt){\n",
       "    let outputDiv = document.currentScript.previousElementSibling;\n",
       "    if (outputDiv.id !== \"altair-viz-e5bb66cac694430cb5ba992459f94287\") {\n",
       "      outputDiv = document.getElementById(\"altair-viz-e5bb66cac694430cb5ba992459f94287\");\n",
       "    }\n",
       "    const paths = {\n",
       "      \"vega\": \"https://cdn.jsdelivr.net/npm//vega@5?noext\",\n",
       "      \"vega-lib\": \"https://cdn.jsdelivr.net/npm//vega-lib?noext\",\n",
       "      \"vega-lite\": \"https://cdn.jsdelivr.net/npm//vega-lite@4.8.1?noext\",\n",
       "      \"vega-embed\": \"https://cdn.jsdelivr.net/npm//vega-embed@6?noext\",\n",
       "    };\n",
       "\n",
       "    function loadScript(lib) {\n",
       "      return new Promise(function(resolve, reject) {\n",
       "        var s = document.createElement('script');\n",
       "        s.src = paths[lib];\n",
       "        s.async = true;\n",
       "        s.onload = () => resolve(paths[lib]);\n",
       "        s.onerror = () => reject(`Error loading script: ${paths[lib]}`);\n",
       "        document.getElementsByTagName(\"head\")[0].appendChild(s);\n",
       "      });\n",
       "    }\n",
       "\n",
       "    function showError(err) {\n",
       "      outputDiv.innerHTML = `<div class=\"error\" style=\"color:red;\">${err}</div>`;\n",
       "      throw err;\n",
       "    }\n",
       "\n",
       "    function displayChart(vegaEmbed) {\n",
       "      vegaEmbed(outputDiv, spec, embedOpt)\n",
       "        .catch(err => showError(`Javascript Error: ${err.message}<br>This usually means there's a typo in your chart specification. See the javascript console for the full traceback.`));\n",
       "    }\n",
       "\n",
       "    if(typeof define === \"function\" && define.amd) {\n",
       "      requirejs.config({paths});\n",
       "      require([\"vega-embed\"], displayChart, err => showError(`Error loading script: ${err.message}`));\n",
       "    } else if (typeof vegaEmbed === \"function\") {\n",
       "      displayChart(vegaEmbed);\n",
       "    } else {\n",
       "      loadScript(\"vega\")\n",
       "        .then(() => loadScript(\"vega-lite\"))\n",
       "        .then(() => loadScript(\"vega-embed\"))\n",
       "        .catch(showError)\n",
       "        .then(() => displayChart(vegaEmbed));\n",
       "    }\n",
       "  })({\"config\": {\"view\": {\"continuousWidth\": 400, \"continuousHeight\": 300}}, \"data\": {\"name\": \"data-5aa97925f7df01ae7e7fa368cbae44fa\"}, \"mark\": {\"type\": \"point\", \"filled\": true, \"opacity\": 1}, \"encoding\": {\"color\": {\"type\": \"nominal\", \"field\": \"length\"}, \"shape\": {\"type\": \"nominal\", \"field\": \"length\"}, \"x\": {\"type\": \"quantitative\", \"axis\": {\"title\": \"time (us)\"}, \"field\": \"time\", \"scale\": {\"type\": \"log\"}}, \"y\": {\"type\": \"nominal\", \"axis\": {\"grid\": true, \"title\": \"algorithm\"}, \"field\": \"algorithm property\", \"sort\": {\"field\": \"time\"}}}, \"height\": 150, \"transform\": [{\"filter\": \"(datum.alphabet === 'protein')\"}], \"width\": 200, \"$schema\": \"https://vega.github.io/schema/vega-lite/v4.8.1.json\", \"datasets\": {\"data-5aa97925f7df01ae7e7fa368cbae44fa\": [{\"algorithm\": \"rust bio\", \"alphabet\": \"protein\", \"k\": 100, \"length\": 1000, \"property\": \"default\", \"time\": 22736.334, \"algorithm property\": \"rust bio default\"}, {\"algorithm\": \"rust bio\", \"alphabet\": \"protein\", \"k\": 10, \"length\": 100, \"property\": \"default\", \"time\": 234.868, \"algorithm property\": \"rust bio default\"}, {\"algorithm\": \"ours\", \"alphabet\": \"protein\", \"k\": 1000, \"length\": 10000, \"property\": \"default\", \"time\": 1758.351, \"algorithm property\": \"ours default\"}, {\"algorithm\": \"ours\", \"alphabet\": \"protein\", \"k\": 1000, \"length\": 10000, \"property\": \"insert\", \"time\": 20722.116, \"algorithm property\": \"ours insert\"}, {\"algorithm\": \"ours\", \"alphabet\": \"protein\", \"k\": 1000, \"length\": 10000, \"property\": \"small\", \"time\": 664.311, \"algorithm property\": \"ours small\"}, {\"algorithm\": \"ours\", \"alphabet\": \"protein\", \"k\": 1000, \"length\": 10000, \"property\": \"trace\", \"time\": 2313.101, \"algorithm property\": \"ours trace\"}, {\"algorithm\": \"ours\", \"alphabet\": \"protein\", \"k\": 100, \"length\": 1000, \"property\": \"default\", \"time\": 108.17, \"algorithm property\": \"ours default\"}, {\"algorithm\": \"ours\", \"alphabet\": \"protein\", \"k\": 100, \"length\": 1000, \"property\": \"insert\", \"time\": 244.786, \"algorithm property\": \"ours insert\"}, {\"algorithm\": \"ours\", \"alphabet\": \"protein\", \"k\": 100, \"length\": 1000, \"property\": \"small\", \"time\": 66.446, \"algorithm property\": \"ours small\"}, {\"algorithm\": \"ours\", \"alphabet\": \"protein\", \"k\": 100, \"length\": 1000, \"property\": \"trace\", \"time\": 145.701, \"algorithm property\": \"ours trace\"}, {\"algorithm\": \"ours\", \"alphabet\": \"protein\", \"k\": 10, \"length\": 100, \"property\": \"default\", \"time\": 8.089, \"algorithm property\": \"ours default\"}, {\"algorithm\": \"ours\", \"alphabet\": \"protein\", \"k\": 10, \"length\": 100, \"property\": \"insert\", \"time\": 8.571, \"algorithm property\": \"ours insert\"}, {\"algorithm\": \"ours\", \"alphabet\": \"protein\", \"k\": 10, \"length\": 100, \"property\": \"small\", \"time\": 5.874, \"algorithm property\": \"ours small\"}, {\"algorithm\": \"ours\", \"alphabet\": \"protein\", \"k\": 10, \"length\": 100, \"property\": \"trace\", \"time\": 10.429, \"algorithm property\": \"ours trace\"}, {\"algorithm\": \"ours\", \"alphabet\": \"nucleotide\", \"k\": 1000, \"length\": 10000, \"property\": \"default\", \"time\": 619.599, \"algorithm property\": \"ours default\"}, {\"algorithm\": \"ours\", \"alphabet\": \"nucleotide\", \"k\": 100, \"length\": 1000, \"property\": \"default\", \"time\": 62.778, \"algorithm property\": \"ours default\"}]}}, {\"mode\": \"vega-lite\"});\n",
       "</script>"
      ],
      "text/plain": [
       "alt.Chart(...)"
      ]
     },
     "execution_count": 1,
     "metadata": {},
     "output_type": "execute_result"
    }
   ],
   "source": [
    "c = alt.Chart(data).mark_point(opacity = 1, filled = True).encode(\n",
    "    x = alt.X(\"time\", axis = alt.Axis(title = \"time (us)\"), scale = alt.Scale(type = \"log\")),\n",
    "    y = alt.Y(\"algorithm property\", axis = alt.Axis(title = \"algorithm\", grid = True), sort = alt.EncodingSortField(field = \"time\")),\n",
    "    color = \"length:N\",\n",
    "    shape = \"length:N\"\n",
    ").transform_filter(\n",
    "    datum.alphabet == \"protein\"\n",
    ").properties(\n",
    "    width = 200,\n",
    "    height = 150\n",
    ")\n",
    "save(c, \"random_protein_bench_wasm.pdf\")\n",
    "c"
   ]
  }
 ],
 "metadata": {
  "kernelspec": {
   "display_name": "Python 3",
   "language": "python",
   "name": "python3"
  },
  "language_info": {
   "codemirror_mode": {
    "name": "ipython",
    "version": 3
   },
   "file_extension": ".py",
   "mimetype": "text/x-python",
   "name": "python",
   "nbconvert_exporter": "python",
   "pygments_lexer": "ipython3",
   "version": "3.8.5"
  }
 },
 "nbformat": 4,
 "nbformat_minor": 4
}
